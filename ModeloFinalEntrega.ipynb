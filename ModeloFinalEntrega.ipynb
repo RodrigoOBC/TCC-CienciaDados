{
  "nbformat": 4,
  "nbformat_minor": 0,
  "metadata": {
    "colab": {
      "name": "ModeloFinalEntrega.ipynb",
      "provenance": [],
      "collapsed_sections": [
        "joc-rJNbAqzl",
        "xoiMGEgsCmKC",
        "1oDUvdO8GE1h",
        "YulCMj-tG3af",
        "x3dJF6k_G_4n",
        "Fs5TG2xuJe0z",
        "d4L54uYZeh7C",
        "dG9qQrpEewtK",
        "QdIMjyqDfIJ9",
        "Z18qHoFJ3wfw",
        "7Co73QRF92Vy",
        "pgAch1pt_gEh",
        "tRR8rt6xoaPi",
        "f53qdkjkstTf",
        "RlvQMhH06QzK",
        "lZz6jhfjCzhJ",
        "ReGgmuJ_nWyB",
        "8BZDutOrvxUV",
        "dW84VapiyHo8",
        "WnKqeD0czlck",
        "kE0m3W8gy9N2",
        "FLjp8joRJq6m"
      ],
      "mount_file_id": "1I0TfqrSGhfxYp4L-4z9CWM6OmshQBHBK",
      "authorship_tag": "ABX9TyPElkkab3+IM9E+DfDHTDzN",
      "include_colab_link": true
    },
    "kernelspec": {
      "name": "python3",
      "display_name": "Python 3"
    },
    "language_info": {
      "name": "python"
    }
  },
  "cells": [
    {
      "cell_type": "markdown",
      "metadata": {
        "id": "view-in-github",
        "colab_type": "text"
      },
      "source": [
        "<a href=\"https://colab.research.google.com/github/RodrigoOBC/TCC-CienciaDados/blob/Modelo_Final/ModeloFinalEntrega.ipynb\" target=\"_parent\"><img src=\"https://colab.research.google.com/assets/colab-badge.svg\" alt=\"Open In Colab\"/></a>"
      ]
    },
    {
      "cell_type": "markdown",
      "metadata": {
        "id": "pZfhpjxA8bnu"
      },
      "source": [
        "#Fluxo Independente\n",
        "\n",
        "\n",
        "Inicialmente, importaremos as Bibliotecas necessárias para a criação do modelo.A principais bibliotecas serão\"TensorFlow\"para criação das estruturas da \"RedeNeural\"e\"Pandas\"para criação e manipulação dos\"DataFremes\""
      ]
    },
    {
      "cell_type": "markdown",
      "metadata": {
        "id": "sY8ZjlSNHTIf"
      },
      "source": [
        "## Importa Bibliotecas"
      ]
    },
    {
      "cell_type": "code",
      "metadata": {
        "id": "jgqaKK1X8X2w"
      },
      "source": [
        "import re\n",
        "from tensorflow.keras.layers import *\n",
        "from tensorflow.keras.optimizers import *\n",
        "import seaborn as sns\n",
        "from tensorflow.keras.models import *\n",
        "from tensorflow.keras.preprocessing.image import *\n",
        "from tensorflow.keras.callbacks import *\n",
        "from tensorflow.keras import layers, models, metrics\n",
        "from tensorflow.keras.applications.efficientnet import *\n",
        "from sklearn.metrics import confusion_matrix, classification_report, accuracy_score\n",
        "from sklearn.model_selection import train_test_split\n",
        "from tensorflow.keras.applications.inception_v3 import InceptionV3\n",
        "from tensorflow.keras.applications.vgg19 import VGG19 \n",
        "from tensorflow.keras.applications.resnet50 import ResNet50\n",
        "import matplotlib.pyplot as plt\n",
        "from sklearn.model_selection import train_test_split, StratifiedKFold\n",
        "from sklearn.metrics import precision_score, recall_score,f1_score \n",
        "import cv2\n",
        "from glob import glob\n",
        "from random import shuffle\n",
        "import tensorflow as tf \n",
        "import numpy as np\n",
        "import pandas as pd\n",
        "from pathlib import Path\n",
        "import os.path"
      ],
      "execution_count": null,
      "outputs": []
    },
    {
      "cell_type": "markdown",
      "metadata": {
        "id": "Z0YLEesr-R4I"
      },
      "source": [
        "##Declaração de constantes\n",
        "\n",
        "Declaração de algumas constantes, como: caminho principal dos dados, tamanho das imagens, o \"BatchSize\" e o número de \"Epocas\" padrão no treinamento. Usamos por padrão \"25 épocas\" e formos aumentando conforme o necessário"
      ]
    },
    {
      "cell_type": "code",
      "metadata": {
        "id": "qBRKgvOz-RhK"
      },
      "source": [
        "AUTOTUNE = tf.data.experimental.AUTOTUNE\n",
        "GCS_PATH = r'/content/drive/MyDrive/TCC'\n",
        "BATCH_SIZE = 32\n",
        "IMAGE_SIZE = [224, 224]\n",
        "EPOCHS = 25"
      ],
      "execution_count": null,
      "outputs": []
    },
    {
      "cell_type": "markdown",
      "metadata": {
        "id": "joc-rJNbAqzl"
      },
      "source": [
        "## Criação dos DataFremes\n",
        "\n"
      ]
    },
    {
      "cell_type": "code",
      "metadata": {
        "id": "mgNOuJwPApwo"
      },
      "source": [
        "def montar_nome(path):\n",
        "    nome_file = []\n",
        "    file_path = []\n",
        "    x = 0\n",
        "    for p, _, files in os.walk(os.path.abspath(path)):\n",
        "        for file_name in files:\n",
        "            if 'ResNet'  in file_name or \"VGG19\" in file_name or \"Interception\" in file_name or \"RESNET\" in file_name:\n",
        "              continue\n",
        "            else:\n",
        "              nome_file.append(file_name)\n",
        "              file_path.append(p+'//'+file_name)\n",
        "    return nome_file, file_path\n",
        "\n",
        "def selecionar_classe(nomes):\n",
        "    classe = []\n",
        "    for nome in nomes:\n",
        "        nome = ''.join([i for i in nome if not i.isdigit()])\n",
        "        nome = nome.split('.')[0]\n",
        "        if \"TA\" == nome:\n",
        "            classe.append('TA')\n",
        "        elif \"DCI\" == nome:\n",
        "            classe.append('DCI')\n",
        "        elif \"F\" == nome:\n",
        "            classe.append('F')\n",
        "        elif \"PT\" == nome:\n",
        "            classe.append('PT')\n",
        "        elif \"DC\" == nome:\n",
        "            classe.append('DC')\n",
        "        elif \"LC\" == nome:\n",
        "            classe.append('LC')\n",
        "        elif \"MC\" == nome:\n",
        "            classe.append('MC')\n",
        "        elif \"PC\" == nome:\n",
        "            classe.append('PC')\n",
        "        elif 'A' == nome:\n",
        "            classe.append('A')\n",
        "    return classe\n",
        "\n",
        "def pegar_tipos(file_path):\n",
        "    tipo = []\n",
        "    for path in file_path:\n",
        "        path = path.split('/')[7]\n",
        "        if 'B' in path:\n",
        "            tipo.append('B')\n",
        "        if 'M' in path:\n",
        "            tipo.append('M')\n",
        "    return tipo\n",
        "\n",
        "def pegar_ampliacao(file_path):\n",
        "    ampliacao = []\n",
        "    for path in file_path:\n",
        "        if '40x' in path:\n",
        "            ampliacao.append('40x')\n",
        "        elif '100x' in path:\n",
        "            ampliacao.append('100x')\n",
        "        elif '200x' in path:\n",
        "            ampliacao.append('200x')\n",
        "        elif '400x' in path:\n",
        "            ampliacao.append('400x')\n",
        "    return ampliacao\n",
        "\n",
        "def pegar_origem(file_path):\n",
        "    origem = []\n",
        "    for path in file_path:\n",
        "        if 'treino' in path:\n",
        "            origem.append('Te')\n",
        "        elif 'Teste' in path:\n",
        "            origem.append('Tr')\n",
        "    return origem\n",
        "\n",
        "def montar_data_frame(path):\n",
        "    nome_file, file_path = montar_nome(path)\n",
        "    classes = selecionar_classe(nome_file)\n",
        "    tipos = pegar_tipos(file_path)\n",
        "    ampliacaos = pegar_ampliacao(file_path)\n",
        "    origem = pegar_origem(file_path)\n",
        "    data = {'FikePath': file_path, 'Type': tipos, 'classes':classes,'Magnification':ampliacaos, 'DataSet':origem}\n",
        "    df = pd.DataFrame.from_dict(data, orient='index')\n",
        "    df = df.transpose()\n",
        "    return df"
      ],
      "execution_count": null,
      "outputs": []
    },
    {
      "cell_type": "code",
      "metadata": {
        "id": "bSVBTMtSCaiG"
      },
      "source": [
        "df_geral =  montar_data_frame(r'/content/drive/MyDrive/TCC/')\n",
        "df_treino = df_geral[df_geral['DataSet'] == 'Tr']\n",
        "df_teste = df_geral[df_geral['DataSet'] == 'Te']"
      ],
      "execution_count": null,
      "outputs": []
    },
    {
      "cell_type": "code",
      "metadata": {
        "id": "QSZaGVFvCb5W",
        "colab": {
          "base_uri": "https://localhost:8080/"
        },
        "outputId": "386cbb3f-9a7e-4fe7-8bc5-e4cec5ced8a9"
      },
      "source": [
        "df_treino.head()"
      ],
      "execution_count": null,
      "outputs": [
        {
          "output_type": "execute_result",
          "data": {
            "text/html": [
              "<div>\n",
              "<style scoped>\n",
              "    .dataframe tbody tr th:only-of-type {\n",
              "        vertical-align: middle;\n",
              "    }\n",
              "\n",
              "    .dataframe tbody tr th {\n",
              "        vertical-align: top;\n",
              "    }\n",
              "\n",
              "    .dataframe thead th {\n",
              "        text-align: right;\n",
              "    }\n",
              "</style>\n",
              "<table border=\"1\" class=\"dataframe\">\n",
              "  <thead>\n",
              "    <tr style=\"text-align: right;\">\n",
              "      <th></th>\n",
              "      <th>FikePath</th>\n",
              "      <th>Type</th>\n",
              "      <th>classes</th>\n",
              "      <th>Magnification</th>\n",
              "      <th>DataSet</th>\n",
              "    </tr>\n",
              "  </thead>\n",
              "  <tbody>\n",
              "    <tr>\n",
              "      <th>0</th>\n",
              "      <td>/content/drive/MyDrive/TCC/400x/400x_Teste/M//...</td>\n",
              "      <td>M</td>\n",
              "      <td>DC</td>\n",
              "      <td>400x</td>\n",
              "      <td>Tr</td>\n",
              "    </tr>\n",
              "    <tr>\n",
              "      <th>1</th>\n",
              "      <td>/content/drive/MyDrive/TCC/400x/400x_Teste/M//...</td>\n",
              "      <td>M</td>\n",
              "      <td>DC</td>\n",
              "      <td>400x</td>\n",
              "      <td>Tr</td>\n",
              "    </tr>\n",
              "    <tr>\n",
              "      <th>2</th>\n",
              "      <td>/content/drive/MyDrive/TCC/400x/400x_Teste/M//...</td>\n",
              "      <td>M</td>\n",
              "      <td>DC</td>\n",
              "      <td>400x</td>\n",
              "      <td>Tr</td>\n",
              "    </tr>\n",
              "    <tr>\n",
              "      <th>3</th>\n",
              "      <td>/content/drive/MyDrive/TCC/400x/400x_Teste/M//...</td>\n",
              "      <td>M</td>\n",
              "      <td>DC</td>\n",
              "      <td>400x</td>\n",
              "      <td>Tr</td>\n",
              "    </tr>\n",
              "    <tr>\n",
              "      <th>4</th>\n",
              "      <td>/content/drive/MyDrive/TCC/400x/400x_Teste/M//...</td>\n",
              "      <td>M</td>\n",
              "      <td>DC</td>\n",
              "      <td>400x</td>\n",
              "      <td>Tr</td>\n",
              "    </tr>\n",
              "  </tbody>\n",
              "</table>\n",
              "</div>"
            ],
            "text/plain": [
              "                                            FikePath Type  ... Magnification DataSet\n",
              "0  /content/drive/MyDrive/TCC/400x/400x_Teste/M//...    M  ...          400x      Tr\n",
              "1  /content/drive/MyDrive/TCC/400x/400x_Teste/M//...    M  ...          400x      Tr\n",
              "2  /content/drive/MyDrive/TCC/400x/400x_Teste/M//...    M  ...          400x      Tr\n",
              "3  /content/drive/MyDrive/TCC/400x/400x_Teste/M//...    M  ...          400x      Tr\n",
              "4  /content/drive/MyDrive/TCC/400x/400x_Teste/M//...    M  ...          400x      Tr\n",
              "\n",
              "[5 rows x 5 columns]"
            ]
          },
          "metadata": {},
          "execution_count": 5
        }
      ]
    },
    {
      "cell_type": "code",
      "metadata": {
        "id": "hT2r3KQCCkhW",
        "colab": {
          "base_uri": "https://localhost:8080/"
        },
        "outputId": "58526393-5b64-4365-d24f-ac2cb7172485"
      },
      "source": [
        "df_teste.head()"
      ],
      "execution_count": null,
      "outputs": [
        {
          "output_type": "execute_result",
          "data": {
            "text/html": [
              "<div>\n",
              "<style scoped>\n",
              "    .dataframe tbody tr th:only-of-type {\n",
              "        vertical-align: middle;\n",
              "    }\n",
              "\n",
              "    .dataframe tbody tr th {\n",
              "        vertical-align: top;\n",
              "    }\n",
              "\n",
              "    .dataframe thead th {\n",
              "        text-align: right;\n",
              "    }\n",
              "</style>\n",
              "<table border=\"1\" class=\"dataframe\">\n",
              "  <thead>\n",
              "    <tr style=\"text-align: right;\">\n",
              "      <th></th>\n",
              "      <th>FikePath</th>\n",
              "      <th>Type</th>\n",
              "      <th>classes</th>\n",
              "      <th>Magnification</th>\n",
              "      <th>DataSet</th>\n",
              "    </tr>\n",
              "  </thead>\n",
              "  <tbody>\n",
              "    <tr>\n",
              "      <th>786</th>\n",
              "      <td>/content/drive/MyDrive/TCC/400x/400x_treino/M/...</td>\n",
              "      <td>M</td>\n",
              "      <td>DC</td>\n",
              "      <td>400x</td>\n",
              "      <td>Te</td>\n",
              "    </tr>\n",
              "    <tr>\n",
              "      <th>787</th>\n",
              "      <td>/content/drive/MyDrive/TCC/400x/400x_treino/M/...</td>\n",
              "      <td>M</td>\n",
              "      <td>DC</td>\n",
              "      <td>400x</td>\n",
              "      <td>Te</td>\n",
              "    </tr>\n",
              "    <tr>\n",
              "      <th>788</th>\n",
              "      <td>/content/drive/MyDrive/TCC/400x/400x_treino/M/...</td>\n",
              "      <td>M</td>\n",
              "      <td>DC</td>\n",
              "      <td>400x</td>\n",
              "      <td>Te</td>\n",
              "    </tr>\n",
              "    <tr>\n",
              "      <th>789</th>\n",
              "      <td>/content/drive/MyDrive/TCC/400x/400x_treino/M/...</td>\n",
              "      <td>M</td>\n",
              "      <td>DC</td>\n",
              "      <td>400x</td>\n",
              "      <td>Te</td>\n",
              "    </tr>\n",
              "    <tr>\n",
              "      <th>790</th>\n",
              "      <td>/content/drive/MyDrive/TCC/400x/400x_treino/M/...</td>\n",
              "      <td>M</td>\n",
              "      <td>DC</td>\n",
              "      <td>400x</td>\n",
              "      <td>Te</td>\n",
              "    </tr>\n",
              "  </tbody>\n",
              "</table>\n",
              "</div>"
            ],
            "text/plain": [
              "                                              FikePath  ... DataSet\n",
              "786  /content/drive/MyDrive/TCC/400x/400x_treino/M/...  ...      Te\n",
              "787  /content/drive/MyDrive/TCC/400x/400x_treino/M/...  ...      Te\n",
              "788  /content/drive/MyDrive/TCC/400x/400x_treino/M/...  ...      Te\n",
              "789  /content/drive/MyDrive/TCC/400x/400x_treino/M/...  ...      Te\n",
              "790  /content/drive/MyDrive/TCC/400x/400x_treino/M/...  ...      Te\n",
              "\n",
              "[5 rows x 5 columns]"
            ]
          },
          "metadata": {},
          "execution_count": 6
        }
      ]
    },
    {
      "cell_type": "markdown",
      "metadata": {
        "id": "xoiMGEgsCmKC"
      },
      "source": [
        "## Segmentação do Dataframe\n",
        "\n",
        "Com o *\"dataframe\"* conseguiremos segmentar os dados de acordo com sua *\"Magnification\"*. \n",
        "\n",
        "Separando para 200x e para 400x"
      ]
    },
    {
      "cell_type": "code",
      "metadata": {
        "id": "DYw-UuSwEdyE"
      },
      "source": [
        "df_treino_400 = df_treino[df_treino['Magnification'] == '400x']\n",
        "df_treino_400 = df_treino_400.drop(columns=['Magnification'])\n",
        "\n",
        "df_teste_400 = df_teste[df_teste['Magnification'] == '400x']\n",
        "df_teste_400 = df_teste_400.drop(columns=['Magnification'])\n",
        "\n",
        "\n",
        "\n",
        "df_treino_200 = df_treino[df_treino['Magnification'] == '200x']\n",
        "df_treino_200 = df_treino_200.drop(columns=['Magnification'])\n",
        "\n",
        "df_teste_200 = df_teste[df_teste['Magnification'] == '200x']\n",
        "df_teste_200 = df_teste_200.drop(columns=['Magnification'])"
      ],
      "execution_count": null,
      "outputs": []
    },
    {
      "cell_type": "code",
      "metadata": {
        "colab": {
          "base_uri": "https://localhost:8080/"
        },
        "id": "NVhHtLvY0TLS",
        "outputId": "bcb6091d-817a-43a1-f71e-bbae48b2ba58"
      },
      "source": [
        "df_treino_400_classe = df_treino[df_treino['Magnification'] == '400x'][df_treino['Type'] == 'M']\n",
        "df_treino_400_classe = df_treino_400_classe.drop(columns=['Magnification'])\n",
        "\n",
        "df_teste_400_classe = df_teste[df_teste['Magnification'] == '400x'][df_teste['Type'] == 'M']\n",
        "df_teste_400_classe = df_teste_400_classe.drop(columns=['Magnification'])\n",
        "\n",
        "\n",
        "\n",
        "df_treino_200_classe = df_treino[df_treino['Magnification'] == '200x'][df_treino['Type'] == 'M']\n",
        "df_treino_200_classe = df_treino_200_classe.drop(columns=['Magnification'])\n",
        "\n",
        "df_teste_200_classe  = df_teste[df_teste['Magnification'] == '200x'][df_teste['Type'] == 'M']\n",
        "df_teste_200_classe = df_teste_200_classe.drop(columns=['Magnification'])"
      ],
      "execution_count": null,
      "outputs": [
        {
          "output_type": "stream",
          "name": "stderr",
          "text": [
            "/usr/local/lib/python3.7/dist-packages/ipykernel_launcher.py:1: UserWarning: Boolean Series key will be reindexed to match DataFrame index.\n",
            "  \"\"\"Entry point for launching an IPython kernel.\n",
            "/usr/local/lib/python3.7/dist-packages/ipykernel_launcher.py:4: UserWarning: Boolean Series key will be reindexed to match DataFrame index.\n",
            "  after removing the cwd from sys.path.\n",
            "/usr/local/lib/python3.7/dist-packages/ipykernel_launcher.py:9: UserWarning: Boolean Series key will be reindexed to match DataFrame index.\n",
            "  if __name__ == '__main__':\n",
            "/usr/local/lib/python3.7/dist-packages/ipykernel_launcher.py:12: UserWarning: Boolean Series key will be reindexed to match DataFrame index.\n",
            "  if sys.path[0] == '':\n"
          ]
        }
      ]
    },
    {
      "cell_type": "markdown",
      "metadata": {
        "id": "d3lkK8iRFdOq"
      },
      "source": [
        "# Criação dos datas Generatos\n",
        "\n",
        "Todos os 3 ImageDataGenerator terão em comum as adiçoes de rotação em 10%, a de adição de zoom em 20%. No caso de validação será sempre 20% do dado de treinamento"
      ]
    },
    {
      "cell_type": "markdown",
      "metadata": {
        "id": "1oDUvdO8GE1h"
      },
      "source": [
        "### ImageDataGenerator para VGG19"
      ]
    },
    {
      "cell_type": "code",
      "metadata": {
        "id": "MmcDcnuLFhoK"
      },
      "source": [
        "train_generator_VGG19 = tf.keras.preprocessing.image.ImageDataGenerator(\n",
        "    preprocessing_function=tf.keras.applications.vgg19.preprocess_input,\n",
        "    rotation_range=0.1,\n",
        "    zoom_range=0.2,\n",
        "    validation_split=0.2\n",
        ")\n",
        "test_generator_VGG19= tf.keras.preprocessing.image.ImageDataGenerator(\n",
        "    preprocessing_function=tf.keras.applications.vgg19.preprocess_input\n",
        ")"
      ],
      "execution_count": null,
      "outputs": []
    },
    {
      "cell_type": "markdown",
      "metadata": {
        "id": "YulCMj-tG3af"
      },
      "source": [
        "### ImageDataGenerator para GoogleNet"
      ]
    },
    {
      "cell_type": "code",
      "metadata": {
        "id": "8v36mM19G6IW"
      },
      "source": [
        "train_generator_googleNet = tf.keras.preprocessing.image.ImageDataGenerator(\n",
        "    preprocessing_function=tf.keras.applications.inception_v3.preprocess_input,\n",
        "    rotation_range=0.1,\n",
        "    zoom_range=0.2,\n",
        "    validation_split=0.2\n",
        ")\n",
        "\n",
        "test_generator_googleNet = tf.keras.preprocessing.image.ImageDataGenerator(\n",
        "    preprocessing_function=tf.keras.applications.inception_v3.preprocess_input,\n",
        ")"
      ],
      "execution_count": null,
      "outputs": []
    },
    {
      "cell_type": "markdown",
      "metadata": {
        "id": "x3dJF6k_G_4n"
      },
      "source": [
        "### ImageDataGenerator para ResNet50\n"
      ]
    },
    {
      "cell_type": "code",
      "metadata": {
        "id": "OjCZ-VqrHEI3"
      },
      "source": [
        "train_generator_ResNet = tf.keras.preprocessing.image.ImageDataGenerator(\n",
        "    preprocessing_function=tf.keras.applications.resnet50.preprocess_input,\n",
        "    rotation_range=0.1,\n",
        "    zoom_range=0.2,\n",
        "    validation_split=0.2\n",
        ")\n",
        "\n",
        "test_generator_ResNet  = tf.keras.preprocessing.image.ImageDataGenerator(\n",
        "    preprocessing_function=tf.keras.applications.resnet50.preprocess_input,\n",
        ")"
      ],
      "execution_count": null,
      "outputs": []
    },
    {
      "cell_type": "markdown",
      "metadata": {
        "id": "cwT8Q2bzHysc"
      },
      "source": [
        "# Execução dos Modelos\n",
        "\n",
        "\n",
        "Nessa seção apresentarei o \"passo a passo\" da execução dos modelos. Começare-mos apresentando como foi realizado a criação do modelo *VGG19*, logo em seguidaserá apresentado a criação do modelo *InceptionV3* e por fim a utilização da arquitetura *RESNET50*."
      ]
    },
    {
      "cell_type": "markdown",
      "metadata": {
        "id": "Fs5TG2xuJe0z"
      },
      "source": [
        "## Modelo Tipo de Cancer\n",
        "\n",
        "\n",
        "Na primeira sessão de treinamento como falado antes, prepararemos a nossa redeneural para identificar um câncer maligno. Seguiremos o seguinte passo-a-passo para esse treinamento.\n",
        "\n"
      ]
    },
    {
      "cell_type": "code",
      "metadata": {
        "id": "jz0vxbbWh_GI"
      },
      "source": [
        "def build_model(Tipo_modelo):\n",
        "  if Tipo_modelo == \"VGG19\":\n",
        "    base_VGG19 = tf.keras.applications.VGG19(weights = 'imagenet', include_top = False)\n",
        "    x = base_VGG19.output\n",
        "    x = tf.keras.layers.GlobalAveragePooling2D()(x)\n",
        "    x = tf.keras.layers.Dense(1024, activation='relu')(x)\n",
        "    x = tf.keras.layers.Dense(512, activation='relu')(x)\n",
        "    preds = tf.keras.layers.Dense(2, activation='softmax')(x)\n",
        "    model = tf.keras.models.Model(inputs = base_VGG19.input, outputs = preds)\n",
        "  elif Tipo_modelo == \"GoogleNet\":\n",
        "    base_Interception = InceptionV3(weights = 'imagenet', include_top = False)\n",
        "    x = base_Interception.output\n",
        "    x = tf.keras.layers.GlobalAveragePooling2D()(x)\n",
        "    x = tf.keras.layers.Dense(1024, activation='relu')(x)\n",
        "    x = tf.keras.layers.Dropout(0.2)(x)\n",
        "    x = tf.keras.layers.Dense(512, activation='relu')(x)\n",
        "    preds = tf.keras.layers.Dense(2, activation='softmax')(x)\n",
        "    model = tf.keras.models.Model(inputs = base_Interception.input, outputs = preds)\n",
        "  elif Tipo_modelo == \"Resnet\":\n",
        "    base_RESNET = tf.keras.applications.ResNet50(weights = 'imagenet', include_top = False)\n",
        "    x = base_RESNET.output\n",
        "    x = tf.keras.layers.GlobalAveragePooling2D()(x)\n",
        "    x = tf.keras.layers.Dense(1024, activation='relu')(x)\n",
        "    x = tf.keras.layers.Dropout(0.2)(x)\n",
        "    x = tf.keras.layers.Dense(1024, activation='relu')(x)\n",
        "    x = tf.keras.layers.Dense(512, activation='relu')(x)\n",
        "    preds = tf.keras.layers.Dense(2, activation='softmax')(x)\n",
        "    model = tf.keras.models.Model(inputs = base_RESNET.input, outputs = preds)\n",
        "  \n",
        "  return model"
      ],
      "execution_count": null,
      "outputs": []
    },
    {
      "cell_type": "markdown",
      "metadata": {
        "id": "d4L54uYZeh7C"
      },
      "source": [
        "### Modelo VGG19 Para grau de ampliação 400"
      ]
    },
    {
      "cell_type": "code",
      "metadata": {
        "id": "ockVAl7pJZur",
        "colab": {
          "base_uri": "https://localhost:8080/"
        },
        "outputId": "9f828e5b-f8ca-44c8-c193-2781ab29e170"
      },
      "source": [
        "train_images_VGG19_MB = train_generator_VGG19.flow_from_dataframe(\n",
        "    dataframe=df_treino_400,\n",
        "    x_col='FikePath',\n",
        "    y_col='Type',\n",
        "    target_size=(224, 224),\n",
        "    color_mode='rgb',\n",
        "    class_mode='categorical',\n",
        "    batch_size=16,\n",
        "    shuffle=True,\n",
        "    seed=42,\n",
        "    subset='training'\n",
        ")\n",
        "\n",
        "val_images_VGG19_MB = train_generator_VGG19.flow_from_dataframe(\n",
        "    dataframe=df_treino_400,\n",
        "    x_col='FikePath',\n",
        "    y_col='Type',\n",
        "    target_size=(224, 224),\n",
        "    color_mode='rgb',\n",
        "    class_mode='categorical',\n",
        "    batch_size=16,\n",
        "    shuffle=True,\n",
        "    seed=42,\n",
        "    subset='validation'\n",
        ")\n",
        "\n",
        "test_images_VGG19_MB = test_generator_VGG19.flow_from_dataframe(\n",
        "    dataframe=df_teste_400,\n",
        "    x_col='FikePath',\n",
        "    y_col='Type',\n",
        "    target_size=(224, 224),\n",
        "    color_mode='rgb',\n",
        "    class_mode='categorical',\n",
        "    batch_size=16,\n",
        "    shuffle=False\n",
        ")"
      ],
      "execution_count": null,
      "outputs": [
        {
          "output_type": "stream",
          "name": "stdout",
          "text": [
            "Found 629 validated image filenames belonging to 2 classes.\n",
            "Found 157 validated image filenames belonging to 2 classes.\n",
            "Found 978 validated image filenames belonging to 2 classes.\n"
          ]
        }
      ]
    },
    {
      "cell_type": "code",
      "metadata": {
        "id": "4Ji-ppbGeAVr"
      },
      "source": [
        "VGG19 = build_model(\"VGG19\")\n",
        "VGG19.load_weights('/content/drive/MyDrive/TCC/VGG19_MB_TESTE.h5')"
      ],
      "execution_count": null,
      "outputs": []
    },
    {
      "cell_type": "code",
      "metadata": {
        "id": "ZwA_ETLteEUR"
      },
      "source": [
        "opt = Adam(learning_rate=0.0001)\n",
        "VGG19.compile(loss='categorical_crossentropy', optimizer=opt, metrics = ['accuracy'])"
      ],
      "execution_count": null,
      "outputs": []
    },
    {
      "cell_type": "code",
      "metadata": {
        "id": "vI9cfD0xeHvy"
      },
      "source": [
        "pred = VGG19.predict(test_images_VGG19_MB)\n",
        "pred=np.argmax(pred,axis=1)"
      ],
      "execution_count": null,
      "outputs": []
    },
    {
      "cell_type": "code",
      "metadata": {
        "id": "9ieSmcGReYRi"
      },
      "source": [
        "pred_df_400=df_teste_400.copy()\n",
        "labels={}\n",
        "for l,v in test_images_VGG19_MB.class_indices.items():\n",
        "    labels.update({v:l})\n",
        "pred_df_400['pred']=pred\n",
        "pred_df_400['pred']=pred_df_400['pred'].apply(lambda x: labels[x])"
      ],
      "execution_count": null,
      "outputs": []
    },
    {
      "cell_type": "code",
      "source": [
        "print(f\"Metrics Score: {classification_report(pred_df_400['Type'],pred_df_400['pred'])}\")"
      ],
      "metadata": {
        "colab": {
          "base_uri": "https://localhost:8080/"
        },
        "id": "c5x4rzXBTJX3",
        "outputId": "728d9c27-4e50-484d-c610-769b2194fb91"
      },
      "execution_count": null,
      "outputs": [
        {
          "output_type": "stream",
          "name": "stdout",
          "text": [
            "Metrics Score:               precision    recall  f1-score   support\n",
            "\n",
            "           B       1.00      0.89      0.94       560\n",
            "           M       0.87      1.00      0.93       418\n",
            "\n",
            "    accuracy                           0.94       978\n",
            "   macro avg       0.93      0.94      0.94       978\n",
            "weighted avg       0.94      0.94      0.94       978\n",
            "\n"
          ]
        }
      ]
    },
    {
      "cell_type": "code",
      "metadata": {
        "colab": {
          "base_uri": "https://localhost:8080/"
        },
        "id": "q_rCULQGWlKf",
        "outputId": "dc056d98-dd98-4cc9-879f-ccea0df8152c"
      },
      "source": [
        "print(f\"Accuracy Score: {accuracy_score(pred_df_400['Type'],pred_df_400['pred'])}\")"
      ],
      "execution_count": null,
      "outputs": [
        {
          "output_type": "stream",
          "name": "stdout",
          "text": [
            "Accuracy Score: 0.9355828220858896\n"
          ]
        }
      ]
    },
    {
      "cell_type": "code",
      "metadata": {
        "colab": {
          "base_uri": "https://localhost:8080/",
          "height": 265
        },
        "id": "gHa80T6NfDFb",
        "outputId": "91b9d76e-0810-41e0-d348-3e92b8f740ac"
      },
      "source": [
        "\n",
        "sns.heatmap(confusion_matrix(pred_df_400['Type'],pred_df_400['pred']), annot=True, fmt='2d',  cmap=\"Blues\");\n"
      ],
      "execution_count": null,
      "outputs": [
        {
          "output_type": "display_data",
          "data": {
            "image/png": "[encoded data removed]",
            "text/plain": [
              "<Figure size 432x288 with 2 Axes>"
            ]
          },
          "metadata": {
            "needs_background": "light"
          }
        }
      ]
    },
    {
      "cell_type": "markdown",
      "metadata": {
        "id": "dG9qQrpEewtK"
      },
      "source": [
        "### Modelo VGG19 Para grau de ampliação 200"
      ]
    },
    {
      "cell_type": "code",
      "metadata": {
        "colab": {
          "base_uri": "https://localhost:8080/"
        },
        "id": "3bfgj_B2eyc8",
        "outputId": "00d2927e-feb5-40d8-bb23-512524e8b55a"
      },
      "source": [
        "train_images_VGG19_MB = train_generator_VGG19.flow_from_dataframe(\n",
        "    dataframe=df_treino_200,\n",
        "    x_col='FikePath',\n",
        "    y_col='Type',\n",
        "    target_size=(224, 224),\n",
        "    color_mode='rgb',\n",
        "    class_mode='categorical',\n",
        "    batch_size=16,\n",
        "    shuffle=True,\n",
        "    seed=42,\n",
        "    subset='training'\n",
        ")\n",
        "\n",
        "val_images_VGG19_MB = train_generator_VGG19.flow_from_dataframe(\n",
        "    dataframe=df_treino_200,\n",
        "    x_col='FikePath',\n",
        "    y_col='Type',\n",
        "    target_size=(224, 224),\n",
        "    color_mode='rgb',\n",
        "    class_mode='categorical',\n",
        "    batch_size=16,\n",
        "    shuffle=True,\n",
        "    seed=42,\n",
        "    subset='validation'\n",
        ")\n",
        "\n",
        "test_images_VGG19_MB = test_generator_VGG19.flow_from_dataframe(\n",
        "    dataframe=df_teste_200,\n",
        "    x_col='FikePath',\n",
        "    y_col='Type',\n",
        "    target_size=(224, 224),\n",
        "    color_mode='rgb',\n",
        "    class_mode='categorical',\n",
        "    batch_size=16,\n",
        "    shuffle=False\n",
        ")"
      ],
      "execution_count": null,
      "outputs": [
        {
          "output_type": "stream",
          "name": "stdout",
          "text": [
            "Found 630 validated image filenames belonging to 2 classes.\n",
            "Found 157 validated image filenames belonging to 2 classes.\n",
            "Found 856 validated image filenames belonging to 2 classes.\n"
          ]
        }
      ]
    },
    {
      "cell_type": "code",
      "metadata": {
        "id": "AvQ_5c80_CNT"
      },
      "source": [
        "VGG19 = build_model(\"VGG19\")\n",
        "VGG19.load_weights('/content/drive/MyDrive/TCC/VGG19_MB_TESTE.h5')\n",
        "opt = Adam(learning_rate=0.0001)\n",
        "VGG19.compile(loss='categorical_crossentropy', optimizer=opt, metrics = ['accuracy'])"
      ],
      "execution_count": null,
      "outputs": []
    },
    {
      "cell_type": "code",
      "metadata": {
        "id": "bog9i7K2e8fK"
      },
      "source": [
        "pred = VGG19.predict(test_images_VGG19_MB)\n",
        "pred=np.argmax(pred,axis=1)"
      ],
      "execution_count": null,
      "outputs": []
    },
    {
      "cell_type": "code",
      "metadata": {
        "id": "2qzRBfjXe8_6"
      },
      "source": [
        "pred_df_200=df_teste_200.copy()\n",
        "labels={}\n",
        "for l,v in test_images_VGG19_MB.class_indices.items():\n",
        "    labels.update({v:l})\n",
        "pred_df_200['pred']=pred\n",
        "pred_df_200['pred']=pred_df_200['pred'].apply(lambda x: labels[x])"
      ],
      "execution_count": null,
      "outputs": []
    },
    {
      "cell_type": "code",
      "source": [
        "print(f\"Metrics Score: {classification_report(pred_df_200['Type'],pred_df_200['pred'])}\")"
      ],
      "metadata": {
        "colab": {
          "base_uri": "https://localhost:8080/"
        },
        "id": "6GYc2UJCW8M8",
        "outputId": "bd35914c-1ae3-4e41-9ac3-fee7834e5f4f"
      },
      "execution_count": null,
      "outputs": [
        {
          "output_type": "stream",
          "name": "stdout",
          "text": [
            "Metrics Score:               precision    recall  f1-score   support\n",
            "\n",
            "           B       0.95      0.83      0.89       367\n",
            "           M       0.88      0.97      0.92       489\n",
            "\n",
            "    accuracy                           0.91       856\n",
            "   macro avg       0.92      0.90      0.90       856\n",
            "weighted avg       0.91      0.91      0.91       856\n",
            "\n"
          ]
        }
      ]
    },
    {
      "cell_type": "code",
      "metadata": {
        "colab": {
          "base_uri": "https://localhost:8080/"
        },
        "id": "POHkrwa-Xf3n",
        "outputId": "1aef54fe-6024-480f-94ec-4ad80bd30610"
      },
      "source": [
        "print(f\"Accuracy Score: {accuracy_score(pred_df_200['Type'],pred_df_200['pred'])}\")"
      ],
      "execution_count": null,
      "outputs": [
        {
          "output_type": "stream",
          "name": "stdout",
          "text": [
            "Accuracy Score: 0.9077102803738317\n"
          ]
        }
      ]
    },
    {
      "cell_type": "code",
      "metadata": {
        "colab": {
          "base_uri": "https://localhost:8080/"
        },
        "id": "wo_YVk9TfBY5",
        "outputId": "a8fb7ad2-a57a-434a-ae16-1b1300e9525b"
      },
      "source": [
        "\n",
        "sns.heatmap(confusion_matrix(pred_df_200['Type'],pred_df_200['pred']), annot=True, fmt='2d',  cmap=\"Blues\");\n"
      ],
      "execution_count": null,
      "outputs": [
        {
          "output_type": "display_data",
          "data": {
            "image/png": "[encoded data removed]",
            "text/plain": [
              "<Figure size 432x288 with 2 Axes>"
            ]
          },
          "metadata": {
            "needs_background": "light"
          }
        }
      ]
    },
    {
      "cell_type": "markdown",
      "metadata": {
        "id": "QdIMjyqDfIJ9"
      },
      "source": [
        "### Modelo VGG19 Validação final"
      ]
    },
    {
      "cell_type": "code",
      "metadata": {
        "id": "1uCLXykX-yor"
      },
      "source": [
        "df_geral =  montar_data_frame(r'/content/drive/MyDrive/TCC')\n",
        "df_treino = df_geral[df_geral['DataSet'] == 'Tr']\n",
        "df_teste = df_geral[df_geral['DataSet'] == 'Te']"
      ],
      "execution_count": null,
      "outputs": []
    },
    {
      "cell_type": "code",
      "metadata": {
        "colab": {
          "base_uri": "https://localhost:8080/"
        },
        "id": "xMwXrDolkAY5",
        "outputId": "6cbc8c63-6453-48a9-e45d-6d2b8508a109"
      },
      "source": [
        "print(f'quantidade de dados na base de Teste {df_teste.shape[0]}')\n",
        "print(f'quantidade de dados na base de Treino {df_treino.shape[0]}')"
      ],
      "execution_count": null,
      "outputs": [
        {
          "output_type": "stream",
          "name": "stdout",
          "text": [
            "quantidade de dados na base de Teste 2707\n",
            "quantidade de dados na base de Treino 2373\n"
          ]
        }
      ]
    },
    {
      "cell_type": "code",
      "metadata": {
        "id": "sFJ0m8SlkCH_"
      },
      "source": [
        "test_generator = tf.keras.preprocessing.image.ImageDataGenerator(\n",
        "    preprocessing_function=tf.keras.applications.vgg19.preprocess_input\n",
        ")"
      ],
      "execution_count": null,
      "outputs": []
    },
    {
      "cell_type": "code",
      "metadata": {
        "colab": {
          "base_uri": "https://localhost:8080/"
        },
        "id": "4A8t8AaikEd5",
        "outputId": "fc55ba7c-9736-41c9-a1d1-e29e162bb357"
      },
      "source": [
        "test_images = test_generator.flow_from_dataframe(\n",
        "    dataframe=df_teste,\n",
        "    x_col='FikePath',\n",
        "    y_col='Type',\n",
        "    target_size=(224, 224),\n",
        "    color_mode='rgb',\n",
        "    class_mode='categorical',\n",
        "    batch_size=16,\n",
        "    shuffle=False\n",
        ")"
      ],
      "execution_count": null,
      "outputs": [
        {
          "output_type": "stream",
          "name": "stdout",
          "text": [
            "Found 2707 validated image filenames belonging to 2 classes.\n"
          ]
        }
      ]
    },
    {
      "cell_type": "code",
      "metadata": {
        "id": "6Qg0d8o9kF-g"
      },
      "source": [
        "opt = Adam(learning_rate=0.0001)\n",
        "VGG19_rede_Geral = build_model('VGG19')\n",
        "checkpoint_path = r'/content/drive/MyDrive/TCC/VGG19_MB_TESTE.h5'\n",
        "VGG19_rede_Geral.load_weights(checkpoint_path)\n",
        "VGG19_rede_Geral.compile(loss='categorical_crossentropy', optimizer=opt, metrics = ['accuracy'])"
      ],
      "execution_count": null,
      "outputs": []
    },
    {
      "cell_type": "code",
      "metadata": {
        "id": "NWpk0OSTkNou"
      },
      "source": [
        "pred = VGG19_rede_Geral.predict(test_images)\n",
        "pred=np.argmax(pred,axis=1)"
      ],
      "execution_count": null,
      "outputs": []
    },
    {
      "cell_type": "code",
      "metadata": {
        "id": "6n5ynV-dkPu4"
      },
      "source": [
        "pred_df=df_teste.copy()\n",
        "labels={}\n",
        "for l,v in test_images.class_indices.items():\n",
        "    labels.update({v:l})\n",
        "pred_df['pred']=pred\n",
        "pred_df['pred']=pred_df['pred'].apply(lambda x: labels[x])"
      ],
      "execution_count": null,
      "outputs": []
    },
    {
      "cell_type": "code",
      "source": [
        "print(f\"Metrics Score: {classification_report(pred_df['Type'],pred_df['pred'])}\")"
      ],
      "metadata": {
        "colab": {
          "base_uri": "https://localhost:8080/"
        },
        "id": "9jqE_L9aW_h0",
        "outputId": "bda85687-afa2-4d09-a5f6-d5c5a1289b96"
      },
      "execution_count": null,
      "outputs": [
        {
          "output_type": "stream",
          "name": "stdout",
          "text": [
            "Metrics Score:               precision    recall  f1-score   support\n",
            "\n",
            "           B       0.89      0.89      0.89      1301\n",
            "           M       0.90      0.90      0.90      1406\n",
            "\n",
            "    accuracy                           0.89      2707\n",
            "   macro avg       0.89      0.89      0.89      2707\n",
            "weighted avg       0.89      0.89      0.89      2707\n",
            "\n"
          ]
        }
      ]
    },
    {
      "cell_type": "code",
      "source": [
        "print(f\"Accuracy Score: {accuracy_score(pred_df['Type'],pred_df['pred'])}\")"
      ],
      "metadata": {
        "colab": {
          "base_uri": "https://localhost:8080/"
        },
        "id": "3ieuDLLoXAN0",
        "outputId": "28371abb-3bc3-46cc-84f6-52e3db223930"
      },
      "execution_count": null,
      "outputs": [
        {
          "output_type": "stream",
          "name": "stdout",
          "text": [
            "Accuracy Score: 0.8913926856298485\n"
          ]
        }
      ]
    },
    {
      "cell_type": "code",
      "metadata": {
        "colab": {
          "base_uri": "https://localhost:8080/"
        },
        "id": "yM_O_B7ZnQM_",
        "outputId": "d6a63051-d0b4-491d-e82d-de23b38aa21d"
      },
      "source": [
        "print(f\"Accuracy Score: {accuracy_score(pred_df['Type'],pred_df['pred'])}\")\n",
        "sns.heatmap(confusion_matrix(pred_df['Type'],pred_df['pred']), annot=True, fmt='2d',  cmap=\"Blues\")"
      ],
      "execution_count": null,
      "outputs": [
        {
          "output_type": "stream",
          "name": "stdout",
          "text": [
            "Accuracy Score: 0.8913926856298485\n"
          ]
        },
        {
          "output_type": "execute_result",
          "data": {
            "text/plain": [
              "<matplotlib.axes._subplots.AxesSubplot at 0x7f6ededa3c90>"
            ]
          },
          "metadata": {},
          "execution_count": 64
        },
        {
          "output_type": "display_data",
          "data": {
            "image/png": "[encoded data removed]",
            "text/plain": [
              "<Figure size 432x288 with 2 Axes>"
            ]
          },
          "metadata": {
            "needs_background": "light"
          }
        }
      ]
    },
    {
      "cell_type": "code",
      "metadata": {
        "id": "Y-Gy-S1ZnTaR"
      },
      "source": [
        ""
      ],
      "execution_count": null,
      "outputs": []
    },
    {
      "cell_type": "markdown",
      "metadata": {
        "id": "Z18qHoFJ3wfw"
      },
      "source": [
        "### Modelo GoogleNet Para grau de ampliação 400"
      ]
    },
    {
      "cell_type": "code",
      "metadata": {
        "colab": {
          "base_uri": "https://localhost:8080/"
        },
        "id": "MAqxUzYr33uX",
        "outputId": "c3615992-67de-46e1-c49e-468d69f9e7d6"
      },
      "source": [
        "train_images_googlent_MB = train_generator_googleNet.flow_from_dataframe(\n",
        "    dataframe=df_treino_400,\n",
        "    x_col='FikePath',\n",
        "    y_col='Type',\n",
        "    target_size=(224, 224),\n",
        "    color_mode='rgb',\n",
        "    class_mode='categorical',\n",
        "    batch_size=BATCH_SIZE,\n",
        "    shuffle=True,\n",
        "    seed=42,\n",
        "    subset='training'\n",
        ")\n",
        "\n",
        "val_images_googlent_MB = train_generator_googleNet.flow_from_dataframe(\n",
        "    dataframe=df_treino_400,\n",
        "    x_col='FikePath',\n",
        "    y_col='Type',\n",
        "    target_size=(224, 224),\n",
        "    color_mode='rgb',\n",
        "    class_mode='categorical',\n",
        "    batch_size=BATCH_SIZE,\n",
        "    shuffle=True,\n",
        "    seed=42,\n",
        "    subset='validation'\n",
        ")\n",
        "\n",
        "test_images_googlent_MB = test_generator_googleNet.flow_from_dataframe(\n",
        "    dataframe=df_teste_400,\n",
        "    x_col='FikePath',\n",
        "    y_col='Type',\n",
        "    target_size=(224, 224),\n",
        "    color_mode='rgb',\n",
        "    class_mode='categorical',\n",
        "    batch_size=BATCH_SIZE,\n",
        "    shuffle=False\n",
        ")"
      ],
      "execution_count": null,
      "outputs": [
        {
          "output_type": "stream",
          "name": "stdout",
          "text": [
            "Found 629 validated image filenames belonging to 2 classes.\n",
            "Found 157 validated image filenames belonging to 2 classes.\n",
            "Found 978 validated image filenames belonging to 2 classes.\n"
          ]
        }
      ]
    },
    {
      "cell_type": "code",
      "metadata": {
        "id": "xRdt3jJr40Yx",
        "colab": {
          "base_uri": "https://localhost:8080/"
        },
        "outputId": "75ee1797-b189-4b10-8cef-a470260567d3"
      },
      "source": [
        "Interception = build_model(\"GoogleNet\")\n",
        "Interception.load_weights(filepath=r'/content/drive/MyDrive/TCC/Interception_MB_teste.h5')\n",
        "Interception.summary()"
      ],
      "execution_count": null,
      "outputs": [
        {
          "output_type": "stream",
          "name": "stdout",
          "text": [
            "Model: \"model_1\"\n",
            "__________________________________________________________________________________________________\n",
            " Layer (type)                   Output Shape         Param #     Connected to                     \n",
            "==================================================================================================\n",
            " input_2 (InputLayer)           [(None, None, None,  0           []                               \n",
            "                                 3)]                                                              \n",
            "                                                                                                  \n",
            " conv2d_94 (Conv2D)             (None, None, None,   864         ['input_2[0][0]']                \n",
            "                                32)                                                               \n",
            "                                                                                                  \n",
            " batch_normalization_94 (BatchN  (None, None, None,   96         ['conv2d_94[0][0]']              \n",
            " ormalization)                  32)                                                               \n",
            "                                                                                                  \n",
            " activation_94 (Activation)     (None, None, None,   0           ['batch_normalization_94[0][0]'] \n",
            "                                32)                                                               \n",
            "                                                                                                  \n",
            " conv2d_95 (Conv2D)             (None, None, None,   9216        ['activation_94[0][0]']          \n",
            "                                32)                                                               \n",
            "                                                                                                  \n",
            " batch_normalization_95 (BatchN  (None, None, None,   96         ['conv2d_95[0][0]']              \n",
            " ormalization)                  32)                                                               \n",
            "                                                                                                  \n",
            " activation_95 (Activation)     (None, None, None,   0           ['batch_normalization_95[0][0]'] \n",
            "                                32)                                                               \n",
            "                                                                                                  \n",
            " conv2d_96 (Conv2D)             (None, None, None,   18432       ['activation_95[0][0]']          \n",
            "                                64)                                                               \n",
            "                                                                                                  \n",
            " batch_normalization_96 (BatchN  (None, None, None,   192        ['conv2d_96[0][0]']              \n",
            " ormalization)                  64)                                                               \n",
            "                                                                                                  \n",
            " activation_96 (Activation)     (None, None, None,   0           ['batch_normalization_96[0][0]'] \n",
            "                                64)                                                               \n",
            "                                                                                                  \n",
            " max_pooling2d_4 (MaxPooling2D)  (None, None, None,   0          ['activation_96[0][0]']          \n",
            "                                64)                                                               \n",
            "                                                                                                  \n",
            " conv2d_97 (Conv2D)             (None, None, None,   5120        ['max_pooling2d_4[0][0]']        \n",
            "                                80)                                                               \n",
            "                                                                                                  \n",
            " batch_normalization_97 (BatchN  (None, None, None,   240        ['conv2d_97[0][0]']              \n",
            " ormalization)                  80)                                                               \n",
            "                                                                                                  \n",
            " activation_97 (Activation)     (None, None, None,   0           ['batch_normalization_97[0][0]'] \n",
            "                                80)                                                               \n",
            "                                                                                                  \n",
            " conv2d_98 (Conv2D)             (None, None, None,   138240      ['activation_97[0][0]']          \n",
            "                                192)                                                              \n",
            "                                                                                                  \n",
            " batch_normalization_98 (BatchN  (None, None, None,   576        ['conv2d_98[0][0]']              \n",
            " ormalization)                  192)                                                              \n",
            "                                                                                                  \n",
            " activation_98 (Activation)     (None, None, None,   0           ['batch_normalization_98[0][0]'] \n",
            "                                192)                                                              \n",
            "                                                                                                  \n",
            " max_pooling2d_5 (MaxPooling2D)  (None, None, None,   0          ['activation_98[0][0]']          \n",
            "                                192)                                                              \n",
            "                                                                                                  \n",
            " conv2d_102 (Conv2D)            (None, None, None,   12288       ['max_pooling2d_5[0][0]']        \n",
            "                                64)                                                               \n",
            "                                                                                                  \n",
            " batch_normalization_102 (Batch  (None, None, None,   192        ['conv2d_102[0][0]']             \n",
            " Normalization)                 64)                                                               \n",
            "                                                                                                  \n",
            " activation_102 (Activation)    (None, None, None,   0           ['batch_normalization_102[0][0]']\n",
            "                                64)                                                               \n",
            "                                                                                                  \n",
            " conv2d_100 (Conv2D)            (None, None, None,   9216        ['max_pooling2d_5[0][0]']        \n",
            "                                48)                                                               \n",
            "                                                                                                  \n",
            " conv2d_103 (Conv2D)            (None, None, None,   55296       ['activation_102[0][0]']         \n",
            "                                96)                                                               \n",
            "                                                                                                  \n",
            " batch_normalization_100 (Batch  (None, None, None,   144        ['conv2d_100[0][0]']             \n",
            " Normalization)                 48)                                                               \n",
            "                                                                                                  \n",
            " batch_normalization_103 (Batch  (None, None, None,   288        ['conv2d_103[0][0]']             \n",
            " Normalization)                 96)                                                               \n",
            "                                                                                                  \n",
            " activation_100 (Activation)    (None, None, None,   0           ['batch_normalization_100[0][0]']\n",
            "                                48)                                                               \n",
            "                                                                                                  \n",
            " activation_103 (Activation)    (None, None, None,   0           ['batch_normalization_103[0][0]']\n",
            "                                96)                                                               \n",
            "                                                                                                  \n",
            " average_pooling2d_9 (AveragePo  (None, None, None,   0          ['max_pooling2d_5[0][0]']        \n",
            " oling2D)                       192)                                                              \n",
            "                                                                                                  \n",
            " conv2d_99 (Conv2D)             (None, None, None,   12288       ['max_pooling2d_5[0][0]']        \n",
            "                                64)                                                               \n",
            "                                                                                                  \n",
            " conv2d_101 (Conv2D)            (None, None, None,   76800       ['activation_100[0][0]']         \n",
            "                                64)                                                               \n",
            "                                                                                                  \n",
            " conv2d_104 (Conv2D)            (None, None, None,   82944       ['activation_103[0][0]']         \n",
            "                                96)                                                               \n",
            "                                                                                                  \n",
            " conv2d_105 (Conv2D)            (None, None, None,   6144        ['average_pooling2d_9[0][0]']    \n",
            "                                32)                                                               \n",
            "                                                                                                  \n",
            " batch_normalization_99 (BatchN  (None, None, None,   192        ['conv2d_99[0][0]']              \n",
            " ormalization)                  64)                                                               \n",
            "                                                                                                  \n",
            " batch_normalization_101 (Batch  (None, None, None,   192        ['conv2d_101[0][0]']             \n",
            " Normalization)                 64)                                                               \n",
            "                                                                                                  \n",
            " batch_normalization_104 (Batch  (None, None, None,   288        ['conv2d_104[0][0]']             \n",
            " Normalization)                 96)                                                               \n",
            "                                                                                                  \n",
            " batch_normalization_105 (Batch  (None, None, None,   96         ['conv2d_105[0][0]']             \n",
            " Normalization)                 32)                                                               \n",
            "                                                                                                  \n",
            " activation_99 (Activation)     (None, None, None,   0           ['batch_normalization_99[0][0]'] \n",
            "                                64)                                                               \n",
            "                                                                                                  \n",
            " activation_101 (Activation)    (None, None, None,   0           ['batch_normalization_101[0][0]']\n",
            "                                64)                                                               \n",
            "                                                                                                  \n",
            " activation_104 (Activation)    (None, None, None,   0           ['batch_normalization_104[0][0]']\n",
            "                                96)                                                               \n",
            "                                                                                                  \n",
            " activation_105 (Activation)    (None, None, None,   0           ['batch_normalization_105[0][0]']\n",
            "                                32)                                                               \n",
            "                                                                                                  \n",
            " mixed0 (Concatenate)           (None, None, None,   0           ['activation_99[0][0]',          \n",
            "                                256)                              'activation_101[0][0]',         \n",
            "                                                                  'activation_104[0][0]',         \n",
            "                                                                  'activation_105[0][0]']         \n",
            "                                                                                                  \n",
            " conv2d_109 (Conv2D)            (None, None, None,   16384       ['mixed0[0][0]']                 \n",
            "                                64)                                                               \n",
            "                                                                                                  \n",
            " batch_normalization_109 (Batch  (None, None, None,   192        ['conv2d_109[0][0]']             \n",
            " Normalization)                 64)                                                               \n",
            "                                                                                                  \n",
            " activation_109 (Activation)    (None, None, None,   0           ['batch_normalization_109[0][0]']\n",
            "                                64)                                                               \n",
            "                                                                                                  \n",
            " conv2d_107 (Conv2D)            (None, None, None,   12288       ['mixed0[0][0]']                 \n",
            "                                48)                                                               \n",
            "                                                                                                  \n",
            " conv2d_110 (Conv2D)            (None, None, None,   55296       ['activation_109[0][0]']         \n",
            "                                96)                                                               \n",
            "                                                                                                  \n",
            " batch_normalization_107 (Batch  (None, None, None,   144        ['conv2d_107[0][0]']             \n",
            " Normalization)                 48)                                                               \n",
            "                                                                                                  \n",
            " batch_normalization_110 (Batch  (None, None, None,   288        ['conv2d_110[0][0]']             \n",
            " Normalization)                 96)                                                               \n",
            "                                                                                                  \n",
            " activation_107 (Activation)    (None, None, None,   0           ['batch_normalization_107[0][0]']\n",
            "                                48)                                                               \n",
            "                                                                                                  \n",
            " activation_110 (Activation)    (None, None, None,   0           ['batch_normalization_110[0][0]']\n",
            "                                96)                                                               \n",
            "                                                                                                  \n",
            " average_pooling2d_10 (AverageP  (None, None, None,   0          ['mixed0[0][0]']                 \n",
            " ooling2D)                      256)                                                              \n",
            "                                                                                                  \n",
            " conv2d_106 (Conv2D)            (None, None, None,   16384       ['mixed0[0][0]']                 \n",
            "                                64)                                                               \n",
            "                                                                                                  \n",
            " conv2d_108 (Conv2D)            (None, None, None,   76800       ['activation_107[0][0]']         \n",
            "                                64)                                                               \n",
            "                                                                                                  \n",
            " conv2d_111 (Conv2D)            (None, None, None,   82944       ['activation_110[0][0]']         \n",
            "                                96)                                                               \n",
            "                                                                                                  \n",
            " conv2d_112 (Conv2D)            (None, None, None,   16384       ['average_pooling2d_10[0][0]']   \n",
            "                                64)                                                               \n",
            "                                                                                                  \n",
            " batch_normalization_106 (Batch  (None, None, None,   192        ['conv2d_106[0][0]']             \n",
            " Normalization)                 64)                                                               \n",
            "                                                                                                  \n",
            " batch_normalization_108 (Batch  (None, None, None,   192        ['conv2d_108[0][0]']             \n",
            " Normalization)                 64)                                                               \n",
            "                                                                                                  \n",
            " batch_normalization_111 (Batch  (None, None, None,   288        ['conv2d_111[0][0]']             \n",
            " Normalization)                 96)                                                               \n",
            "                                                                                                  \n",
            " batch_normalization_112 (Batch  (None, None, None,   192        ['conv2d_112[0][0]']             \n",
            " Normalization)                 64)                                                               \n",
            "                                                                                                  \n",
            " activation_106 (Activation)    (None, None, None,   0           ['batch_normalization_106[0][0]']\n",
            "                                64)                                                               \n",
            "                                                                                                  \n",
            " activation_108 (Activation)    (None, None, None,   0           ['batch_normalization_108[0][0]']\n",
            "                                64)                                                               \n",
            "                                                                                                  \n",
            " activation_111 (Activation)    (None, None, None,   0           ['batch_normalization_111[0][0]']\n",
            "                                96)                                                               \n",
            "                                                                                                  \n",
            " activation_112 (Activation)    (None, None, None,   0           ['batch_normalization_112[0][0]']\n",
            "                                64)                                                               \n",
            "                                                                                                  \n",
            " mixed1 (Concatenate)           (None, None, None,   0           ['activation_106[0][0]',         \n",
            "                                288)                              'activation_108[0][0]',         \n",
            "                                                                  'activation_111[0][0]',         \n",
            "                                                                  'activation_112[0][0]']         \n",
            "                                                                                                  \n",
            " conv2d_116 (Conv2D)            (None, None, None,   18432       ['mixed1[0][0]']                 \n",
            "                                64)                                                               \n",
            "                                                                                                  \n",
            " batch_normalization_116 (Batch  (None, None, None,   192        ['conv2d_116[0][0]']             \n",
            " Normalization)                 64)                                                               \n",
            "                                                                                                  \n",
            " activation_116 (Activation)    (None, None, None,   0           ['batch_normalization_116[0][0]']\n",
            "                                64)                                                               \n",
            "                                                                                                  \n",
            " conv2d_114 (Conv2D)            (None, None, None,   13824       ['mixed1[0][0]']                 \n",
            "                                48)                                                               \n",
            "                                                                                                  \n",
            " conv2d_117 (Conv2D)            (None, None, None,   55296       ['activation_116[0][0]']         \n",
            "                                96)                                                               \n",
            "                                                                                                  \n",
            " batch_normalization_114 (Batch  (None, None, None,   144        ['conv2d_114[0][0]']             \n",
            " Normalization)                 48)                                                               \n",
            "                                                                                                  \n",
            " batch_normalization_117 (Batch  (None, None, None,   288        ['conv2d_117[0][0]']             \n",
            " Normalization)                 96)                                                               \n",
            "                                                                                                  \n",
            " activation_114 (Activation)    (None, None, None,   0           ['batch_normalization_114[0][0]']\n",
            "                                48)                                                               \n",
            "                                                                                                  \n",
            " activation_117 (Activation)    (None, None, None,   0           ['batch_normalization_117[0][0]']\n",
            "                                96)                                                               \n",
            "                                                                                                  \n",
            " average_pooling2d_11 (AverageP  (None, None, None,   0          ['mixed1[0][0]']                 \n",
            " ooling2D)                      288)                                                              \n",
            "                                                                                                  \n",
            " conv2d_113 (Conv2D)            (None, None, None,   18432       ['mixed1[0][0]']                 \n",
            "                                64)                                                               \n",
            "                                                                                                  \n",
            " conv2d_115 (Conv2D)            (None, None, None,   76800       ['activation_114[0][0]']         \n",
            "                                64)                                                               \n",
            "                                                                                                  \n",
            " conv2d_118 (Conv2D)            (None, None, None,   82944       ['activation_117[0][0]']         \n",
            "                                96)                                                               \n",
            "                                                                                                  \n",
            " conv2d_119 (Conv2D)            (None, None, None,   18432       ['average_pooling2d_11[0][0]']   \n",
            "                                64)                                                               \n",
            "                                                                                                  \n",
            " batch_normalization_113 (Batch  (None, None, None,   192        ['conv2d_113[0][0]']             \n",
            " Normalization)                 64)                                                               \n",
            "                                                                                                  \n",
            " batch_normalization_115 (Batch  (None, None, None,   192        ['conv2d_115[0][0]']             \n",
            " Normalization)                 64)                                                               \n",
            "                                                                                                  \n",
            " batch_normalization_118 (Batch  (None, None, None,   288        ['conv2d_118[0][0]']             \n",
            " Normalization)                 96)                                                               \n",
            "                                                                                                  \n",
            " batch_normalization_119 (Batch  (None, None, None,   192        ['conv2d_119[0][0]']             \n",
            " Normalization)                 64)                                                               \n",
            "                                                                                                  \n",
            " activation_113 (Activation)    (None, None, None,   0           ['batch_normalization_113[0][0]']\n",
            "                                64)                                                               \n",
            "                                                                                                  \n",
            " activation_115 (Activation)    (None, None, None,   0           ['batch_normalization_115[0][0]']\n",
            "                                64)                                                               \n",
            "                                                                                                  \n",
            " activation_118 (Activation)    (None, None, None,   0           ['batch_normalization_118[0][0]']\n",
            "                                96)                                                               \n",
            "                                                                                                  \n",
            " activation_119 (Activation)    (None, None, None,   0           ['batch_normalization_119[0][0]']\n",
            "                                64)                                                               \n",
            "                                                                                                  \n",
            " mixed2 (Concatenate)           (None, None, None,   0           ['activation_113[0][0]',         \n",
            "                                288)                              'activation_115[0][0]',         \n",
            "                                                                  'activation_118[0][0]',         \n",
            "                                                                  'activation_119[0][0]']         \n",
            "                                                                                                  \n",
            " conv2d_121 (Conv2D)            (None, None, None,   18432       ['mixed2[0][0]']                 \n",
            "                                64)                                                               \n",
            "                                                                                                  \n",
            " batch_normalization_121 (Batch  (None, None, None,   192        ['conv2d_121[0][0]']             \n",
            " Normalization)                 64)                                                               \n",
            "                                                                                                  \n",
            " activation_121 (Activation)    (None, None, None,   0           ['batch_normalization_121[0][0]']\n",
            "                                64)                                                               \n",
            "                                                                                                  \n",
            " conv2d_122 (Conv2D)            (None, None, None,   55296       ['activation_121[0][0]']         \n",
            "                                96)                                                               \n",
            "                                                                                                  \n",
            " batch_normalization_122 (Batch  (None, None, None,   288        ['conv2d_122[0][0]']             \n",
            " Normalization)                 96)                                                               \n",
            "                                                                                                  \n",
            " activation_122 (Activation)    (None, None, None,   0           ['batch_normalization_122[0][0]']\n",
            "                                96)                                                               \n",
            "                                                                                                  \n",
            " conv2d_120 (Conv2D)            (None, None, None,   995328      ['mixed2[0][0]']                 \n",
            "                                384)                                                              \n",
            "                                                                                                  \n",
            " conv2d_123 (Conv2D)            (None, None, None,   82944       ['activation_122[0][0]']         \n",
            "                                96)                                                               \n",
            "                                                                                                  \n",
            " batch_normalization_120 (Batch  (None, None, None,   1152       ['conv2d_120[0][0]']             \n",
            " Normalization)                 384)                                                              \n",
            "                                                                                                  \n",
            " batch_normalization_123 (Batch  (None, None, None,   288        ['conv2d_123[0][0]']             \n",
            " Normalization)                 96)                                                               \n",
            "                                                                                                  \n",
            " activation_120 (Activation)    (None, None, None,   0           ['batch_normalization_120[0][0]']\n",
            "                                384)                                                              \n",
            "                                                                                                  \n",
            " activation_123 (Activation)    (None, None, None,   0           ['batch_normalization_123[0][0]']\n",
            "                                96)                                                               \n",
            "                                                                                                  \n",
            " max_pooling2d_6 (MaxPooling2D)  (None, None, None,   0          ['mixed2[0][0]']                 \n",
            "                                288)                                                              \n",
            "                                                                                                  \n",
            " mixed3 (Concatenate)           (None, None, None,   0           ['activation_120[0][0]',         \n",
            "                                768)                              'activation_123[0][0]',         \n",
            "                                                                  'max_pooling2d_6[0][0]']        \n",
            "                                                                                                  \n",
            " conv2d_128 (Conv2D)            (None, None, None,   98304       ['mixed3[0][0]']                 \n",
            "                                128)                                                              \n",
            "                                                                                                  \n",
            " batch_normalization_128 (Batch  (None, None, None,   384        ['conv2d_128[0][0]']             \n",
            " Normalization)                 128)                                                              \n",
            "                                                                                                  \n",
            " activation_128 (Activation)    (None, None, None,   0           ['batch_normalization_128[0][0]']\n",
            "                                128)                                                              \n",
            "                                                                                                  \n",
            " conv2d_129 (Conv2D)            (None, None, None,   114688      ['activation_128[0][0]']         \n",
            "                                128)                                                              \n",
            "                                                                                                  \n",
            " batch_normalization_129 (Batch  (None, None, None,   384        ['conv2d_129[0][0]']             \n",
            " Normalization)                 128)                                                              \n",
            "                                                                                                  \n",
            " activation_129 (Activation)    (None, None, None,   0           ['batch_normalization_129[0][0]']\n",
            "                                128)                                                              \n",
            "                                                                                                  \n",
            " conv2d_125 (Conv2D)            (None, None, None,   98304       ['mixed3[0][0]']                 \n",
            "                                128)                                                              \n",
            "                                                                                                  \n",
            " conv2d_130 (Conv2D)            (None, None, None,   114688      ['activation_129[0][0]']         \n",
            "                                128)                                                              \n",
            "                                                                                                  \n",
            " batch_normalization_125 (Batch  (None, None, None,   384        ['conv2d_125[0][0]']             \n",
            " Normalization)                 128)                                                              \n",
            "                                                                                                  \n",
            " batch_normalization_130 (Batch  (None, None, None,   384        ['conv2d_130[0][0]']             \n",
            " Normalization)                 128)                                                              \n",
            "                                                                                                  \n",
            " activation_125 (Activation)    (None, None, None,   0           ['batch_normalization_125[0][0]']\n",
            "                                128)                                                              \n",
            "                                                                                                  \n",
            " activation_130 (Activation)    (None, None, None,   0           ['batch_normalization_130[0][0]']\n",
            "                                128)                                                              \n",
            "                                                                                                  \n",
            " conv2d_126 (Conv2D)            (None, None, None,   114688      ['activation_125[0][0]']         \n",
            "                                128)                                                              \n",
            "                                                                                                  \n",
            " conv2d_131 (Conv2D)            (None, None, None,   114688      ['activation_130[0][0]']         \n",
            "                                128)                                                              \n",
            "                                                                                                  \n",
            " batch_normalization_126 (Batch  (None, None, None,   384        ['conv2d_126[0][0]']             \n",
            " Normalization)                 128)                                                              \n",
            "                                                                                                  \n",
            " batch_normalization_131 (Batch  (None, None, None,   384        ['conv2d_131[0][0]']             \n",
            " Normalization)                 128)                                                              \n",
            "                                                                                                  \n",
            " activation_126 (Activation)    (None, None, None,   0           ['batch_normalization_126[0][0]']\n",
            "                                128)                                                              \n",
            "                                                                                                  \n",
            " activation_131 (Activation)    (None, None, None,   0           ['batch_normalization_131[0][0]']\n",
            "                                128)                                                              \n",
            "                                                                                                  \n",
            " average_pooling2d_12 (AverageP  (None, None, None,   0          ['mixed3[0][0]']                 \n",
            " ooling2D)                      768)                                                              \n",
            "                                                                                                  \n",
            " conv2d_124 (Conv2D)            (None, None, None,   147456      ['mixed3[0][0]']                 \n",
            "                                192)                                                              \n",
            "                                                                                                  \n",
            " conv2d_127 (Conv2D)            (None, None, None,   172032      ['activation_126[0][0]']         \n",
            "                                192)                                                              \n",
            "                                                                                                  \n",
            " conv2d_132 (Conv2D)            (None, None, None,   172032      ['activation_131[0][0]']         \n",
            "                                192)                                                              \n",
            "                                                                                                  \n",
            " conv2d_133 (Conv2D)            (None, None, None,   147456      ['average_pooling2d_12[0][0]']   \n",
            "                                192)                                                              \n",
            "                                                                                                  \n",
            " batch_normalization_124 (Batch  (None, None, None,   576        ['conv2d_124[0][0]']             \n",
            " Normalization)                 192)                                                              \n",
            "                                                                                                  \n",
            " batch_normalization_127 (Batch  (None, None, None,   576        ['conv2d_127[0][0]']             \n",
            " Normalization)                 192)                                                              \n",
            "                                                                                                  \n",
            " batch_normalization_132 (Batch  (None, None, None,   576        ['conv2d_132[0][0]']             \n",
            " Normalization)                 192)                                                              \n",
            "                                                                                                  \n",
            " batch_normalization_133 (Batch  (None, None, None,   576        ['conv2d_133[0][0]']             \n",
            " Normalization)                 192)                                                              \n",
            "                                                                                                  \n",
            " activation_124 (Activation)    (None, None, None,   0           ['batch_normalization_124[0][0]']\n",
            "                                192)                                                              \n",
            "                                                                                                  \n",
            " activation_127 (Activation)    (None, None, None,   0           ['batch_normalization_127[0][0]']\n",
            "                                192)                                                              \n",
            "                                                                                                  \n",
            " activation_132 (Activation)    (None, None, None,   0           ['batch_normalization_132[0][0]']\n",
            "                                192)                                                              \n",
            "                                                                                                  \n",
            " activation_133 (Activation)    (None, None, None,   0           ['batch_normalization_133[0][0]']\n",
            "                                192)                                                              \n",
            "                                                                                                  \n",
            " mixed4 (Concatenate)           (None, None, None,   0           ['activation_124[0][0]',         \n",
            "                                768)                              'activation_127[0][0]',         \n",
            "                                                                  'activation_132[0][0]',         \n",
            "                                                                  'activation_133[0][0]']         \n",
            "                                                                                                  \n",
            " conv2d_138 (Conv2D)            (None, None, None,   122880      ['mixed4[0][0]']                 \n",
            "                                160)                                                              \n",
            "                                                                                                  \n",
            " batch_normalization_138 (Batch  (None, None, None,   480        ['conv2d_138[0][0]']             \n",
            " Normalization)                 160)                                                              \n",
            "                                                                                                  \n",
            " activation_138 (Activation)    (None, None, None,   0           ['batch_normalization_138[0][0]']\n",
            "                                160)                                                              \n",
            "                                                                                                  \n",
            " conv2d_139 (Conv2D)            (None, None, None,   179200      ['activation_138[0][0]']         \n",
            "                                160)                                                              \n",
            "                                                                                                  \n",
            " batch_normalization_139 (Batch  (None, None, None,   480        ['conv2d_139[0][0]']             \n",
            " Normalization)                 160)                                                              \n",
            "                                                                                                  \n",
            " activation_139 (Activation)    (None, None, None,   0           ['batch_normalization_139[0][0]']\n",
            "                                160)                                                              \n",
            "                                                                                                  \n",
            " conv2d_135 (Conv2D)            (None, None, None,   122880      ['mixed4[0][0]']                 \n",
            "                                160)                                                              \n",
            "                                                                                                  \n",
            " conv2d_140 (Conv2D)            (None, None, None,   179200      ['activation_139[0][0]']         \n",
            "                                160)                                                              \n",
            "                                                                                                  \n",
            " batch_normalization_135 (Batch  (None, None, None,   480        ['conv2d_135[0][0]']             \n",
            " Normalization)                 160)                                                              \n",
            "                                                                                                  \n",
            " batch_normalization_140 (Batch  (None, None, None,   480        ['conv2d_140[0][0]']             \n",
            " Normalization)                 160)                                                              \n",
            "                                                                                                  \n",
            " activation_135 (Activation)    (None, None, None,   0           ['batch_normalization_135[0][0]']\n",
            "                                160)                                                              \n",
            "                                                                                                  \n",
            " activation_140 (Activation)    (None, None, None,   0           ['batch_normalization_140[0][0]']\n",
            "                                160)                                                              \n",
            "                                                                                                  \n",
            " conv2d_136 (Conv2D)            (None, None, None,   179200      ['activation_135[0][0]']         \n",
            "                                160)                                                              \n",
            "                                                                                                  \n",
            " conv2d_141 (Conv2D)            (None, None, None,   179200      ['activation_140[0][0]']         \n",
            "                                160)                                                              \n",
            "                                                                                                  \n",
            " batch_normalization_136 (Batch  (None, None, None,   480        ['conv2d_136[0][0]']             \n",
            " Normalization)                 160)                                                              \n",
            "                                                                                                  \n",
            " batch_normalization_141 (Batch  (None, None, None,   480        ['conv2d_141[0][0]']             \n",
            " Normalization)                 160)                                                              \n",
            "                                                                                                  \n",
            " activation_136 (Activation)    (None, None, None,   0           ['batch_normalization_136[0][0]']\n",
            "                                160)                                                              \n",
            "                                                                                                  \n",
            " activation_141 (Activation)    (None, None, None,   0           ['batch_normalization_141[0][0]']\n",
            "                                160)                                                              \n",
            "                                                                                                  \n",
            " average_pooling2d_13 (AverageP  (None, None, None,   0          ['mixed4[0][0]']                 \n",
            " ooling2D)                      768)                                                              \n",
            "                                                                                                  \n",
            " conv2d_134 (Conv2D)            (None, None, None,   147456      ['mixed4[0][0]']                 \n",
            "                                192)                                                              \n",
            "                                                                                                  \n",
            " conv2d_137 (Conv2D)            (None, None, None,   215040      ['activation_136[0][0]']         \n",
            "                                192)                                                              \n",
            "                                                                                                  \n",
            " conv2d_142 (Conv2D)            (None, None, None,   215040      ['activation_141[0][0]']         \n",
            "                                192)                                                              \n",
            "                                                                                                  \n",
            " conv2d_143 (Conv2D)            (None, None, None,   147456      ['average_pooling2d_13[0][0]']   \n",
            "                                192)                                                              \n",
            "                                                                                                  \n",
            " batch_normalization_134 (Batch  (None, None, None,   576        ['conv2d_134[0][0]']             \n",
            " Normalization)                 192)                                                              \n",
            "                                                                                                  \n",
            " batch_normalization_137 (Batch  (None, None, None,   576        ['conv2d_137[0][0]']             \n",
            " Normalization)                 192)                                                              \n",
            "                                                                                                  \n",
            " batch_normalization_142 (Batch  (None, None, None,   576        ['conv2d_142[0][0]']             \n",
            " Normalization)                 192)                                                              \n",
            "                                                                                                  \n",
            " batch_normalization_143 (Batch  (None, None, None,   576        ['conv2d_143[0][0]']             \n",
            " Normalization)                 192)                                                              \n",
            "                                                                                                  \n",
            " activation_134 (Activation)    (None, None, None,   0           ['batch_normalization_134[0][0]']\n",
            "                                192)                                                              \n",
            "                                                                                                  \n",
            " activation_137 (Activation)    (None, None, None,   0           ['batch_normalization_137[0][0]']\n",
            "                                192)                                                              \n",
            "                                                                                                  \n",
            " activation_142 (Activation)    (None, None, None,   0           ['batch_normalization_142[0][0]']\n",
            "                                192)                                                              \n",
            "                                                                                                  \n",
            " activation_143 (Activation)    (None, None, None,   0           ['batch_normalization_143[0][0]']\n",
            "                                192)                                                              \n",
            "                                                                                                  \n",
            " mixed5 (Concatenate)           (None, None, None,   0           ['activation_134[0][0]',         \n",
            "                                768)                              'activation_137[0][0]',         \n",
            "                                                                  'activation_142[0][0]',         \n",
            "                                                                  'activation_143[0][0]']         \n",
            "                                                                                                  \n",
            " conv2d_148 (Conv2D)            (None, None, None,   122880      ['mixed5[0][0]']                 \n",
            "                                160)                                                              \n",
            "                                                                                                  \n",
            " batch_normalization_148 (Batch  (None, None, None,   480        ['conv2d_148[0][0]']             \n",
            " Normalization)                 160)                                                              \n",
            "                                                                                                  \n",
            " activation_148 (Activation)    (None, None, None,   0           ['batch_normalization_148[0][0]']\n",
            "                                160)                                                              \n",
            "                                                                                                  \n",
            " conv2d_149 (Conv2D)            (None, None, None,   179200      ['activation_148[0][0]']         \n",
            "                                160)                                                              \n",
            "                                                                                                  \n",
            " batch_normalization_149 (Batch  (None, None, None,   480        ['conv2d_149[0][0]']             \n",
            " Normalization)                 160)                                                              \n",
            "                                                                                                  \n",
            " activation_149 (Activation)    (None, None, None,   0           ['batch_normalization_149[0][0]']\n",
            "                                160)                                                              \n",
            "                                                                                                  \n",
            " conv2d_145 (Conv2D)            (None, None, None,   122880      ['mixed5[0][0]']                 \n",
            "                                160)                                                              \n",
            "                                                                                                  \n",
            " conv2d_150 (Conv2D)            (None, None, None,   179200      ['activation_149[0][0]']         \n",
            "                                160)                                                              \n",
            "                                                                                                  \n",
            " batch_normalization_145 (Batch  (None, None, None,   480        ['conv2d_145[0][0]']             \n",
            " Normalization)                 160)                                                              \n",
            "                                                                                                  \n",
            " batch_normalization_150 (Batch  (None, None, None,   480        ['conv2d_150[0][0]']             \n",
            " Normalization)                 160)                                                              \n",
            "                                                                                                  \n",
            " activation_145 (Activation)    (None, None, None,   0           ['batch_normalization_145[0][0]']\n",
            "                                160)                                                              \n",
            "                                                                                                  \n",
            " activation_150 (Activation)    (None, None, None,   0           ['batch_normalization_150[0][0]']\n",
            "                                160)                                                              \n",
            "                                                                                                  \n",
            " conv2d_146 (Conv2D)            (None, None, None,   179200      ['activation_145[0][0]']         \n",
            "                                160)                                                              \n",
            "                                                                                                  \n",
            " conv2d_151 (Conv2D)            (None, None, None,   179200      ['activation_150[0][0]']         \n",
            "                                160)                                                              \n",
            "                                                                                                  \n",
            " batch_normalization_146 (Batch  (None, None, None,   480        ['conv2d_146[0][0]']             \n",
            " Normalization)                 160)                                                              \n",
            "                                                                                                  \n",
            " batch_normalization_151 (Batch  (None, None, None,   480        ['conv2d_151[0][0]']             \n",
            " Normalization)                 160)                                                              \n",
            "                                                                                                  \n",
            " activation_146 (Activation)    (None, None, None,   0           ['batch_normalization_146[0][0]']\n",
            "                                160)                                                              \n",
            "                                                                                                  \n",
            " activation_151 (Activation)    (None, None, None,   0           ['batch_normalization_151[0][0]']\n",
            "                                160)                                                              \n",
            "                                                                                                  \n",
            " average_pooling2d_14 (AverageP  (None, None, None,   0          ['mixed5[0][0]']                 \n",
            " ooling2D)                      768)                                                              \n",
            "                                                                                                  \n",
            " conv2d_144 (Conv2D)            (None, None, None,   147456      ['mixed5[0][0]']                 \n",
            "                                192)                                                              \n",
            "                                                                                                  \n",
            " conv2d_147 (Conv2D)            (None, None, None,   215040      ['activation_146[0][0]']         \n",
            "                                192)                                                              \n",
            "                                                                                                  \n",
            " conv2d_152 (Conv2D)            (None, None, None,   215040      ['activation_151[0][0]']         \n",
            "                                192)                                                              \n",
            "                                                                                                  \n",
            " conv2d_153 (Conv2D)            (None, None, None,   147456      ['average_pooling2d_14[0][0]']   \n",
            "                                192)                                                              \n",
            "                                                                                                  \n",
            " batch_normalization_144 (Batch  (None, None, None,   576        ['conv2d_144[0][0]']             \n",
            " Normalization)                 192)                                                              \n",
            "                                                                                                  \n",
            " batch_normalization_147 (Batch  (None, None, None,   576        ['conv2d_147[0][0]']             \n",
            " Normalization)                 192)                                                              \n",
            "                                                                                                  \n",
            " batch_normalization_152 (Batch  (None, None, None,   576        ['conv2d_152[0][0]']             \n",
            " Normalization)                 192)                                                              \n",
            "                                                                                                  \n",
            " batch_normalization_153 (Batch  (None, None, None,   576        ['conv2d_153[0][0]']             \n",
            " Normalization)                 192)                                                              \n",
            "                                                                                                  \n",
            " activation_144 (Activation)    (None, None, None,   0           ['batch_normalization_144[0][0]']\n",
            "                                192)                                                              \n",
            "                                                                                                  \n",
            " activation_147 (Activation)    (None, None, None,   0           ['batch_normalization_147[0][0]']\n",
            "                                192)                                                              \n",
            "                                                                                                  \n",
            " activation_152 (Activation)    (None, None, None,   0           ['batch_normalization_152[0][0]']\n",
            "                                192)                                                              \n",
            "                                                                                                  \n",
            " activation_153 (Activation)    (None, None, None,   0           ['batch_normalization_153[0][0]']\n",
            "                                192)                                                              \n",
            "                                                                                                  \n",
            " mixed6 (Concatenate)           (None, None, None,   0           ['activation_144[0][0]',         \n",
            "                                768)                              'activation_147[0][0]',         \n",
            "                                                                  'activation_152[0][0]',         \n",
            "                                                                  'activation_153[0][0]']         \n",
            "                                                                                                  \n",
            " conv2d_158 (Conv2D)            (None, None, None,   147456      ['mixed6[0][0]']                 \n",
            "                                192)                                                              \n",
            "                                                                                                  \n",
            " batch_normalization_158 (Batch  (None, None, None,   576        ['conv2d_158[0][0]']             \n",
            " Normalization)                 192)                                                              \n",
            "                                                                                                  \n",
            " activation_158 (Activation)    (None, None, None,   0           ['batch_normalization_158[0][0]']\n",
            "                                192)                                                              \n",
            "                                                                                                  \n",
            " conv2d_159 (Conv2D)            (None, None, None,   258048      ['activation_158[0][0]']         \n",
            "                                192)                                                              \n",
            "                                                                                                  \n",
            " batch_normalization_159 (Batch  (None, None, None,   576        ['conv2d_159[0][0]']             \n",
            " Normalization)                 192)                                                              \n",
            "                                                                                                  \n",
            " activation_159 (Activation)    (None, None, None,   0           ['batch_normalization_159[0][0]']\n",
            "                                192)                                                              \n",
            "                                                                                                  \n",
            " conv2d_155 (Conv2D)            (None, None, None,   147456      ['mixed6[0][0]']                 \n",
            "                                192)                                                              \n",
            "                                                                                                  \n",
            " conv2d_160 (Conv2D)            (None, None, None,   258048      ['activation_159[0][0]']         \n",
            "                                192)                                                              \n",
            "                                                                                                  \n",
            " batch_normalization_155 (Batch  (None, None, None,   576        ['conv2d_155[0][0]']             \n",
            " Normalization)                 192)                                                              \n",
            "                                                                                                  \n",
            " batch_normalization_160 (Batch  (None, None, None,   576        ['conv2d_160[0][0]']             \n",
            " Normalization)                 192)                                                              \n",
            "                                                                                                  \n",
            " activation_155 (Activation)    (None, None, None,   0           ['batch_normalization_155[0][0]']\n",
            "                                192)                                                              \n",
            "                                                                                                  \n",
            " activation_160 (Activation)    (None, None, None,   0           ['batch_normalization_160[0][0]']\n",
            "                                192)                                                              \n",
            "                                                                                                  \n",
            " conv2d_156 (Conv2D)            (None, None, None,   258048      ['activation_155[0][0]']         \n",
            "                                192)                                                              \n",
            "                                                                                                  \n",
            " conv2d_161 (Conv2D)            (None, None, None,   258048      ['activation_160[0][0]']         \n",
            "                                192)                                                              \n",
            "                                                                                                  \n",
            " batch_normalization_156 (Batch  (None, None, None,   576        ['conv2d_156[0][0]']             \n",
            " Normalization)                 192)                                                              \n",
            "                                                                                                  \n",
            " batch_normalization_161 (Batch  (None, None, None,   576        ['conv2d_161[0][0]']             \n",
            " Normalization)                 192)                                                              \n",
            "                                                                                                  \n",
            " activation_156 (Activation)    (None, None, None,   0           ['batch_normalization_156[0][0]']\n",
            "                                192)                                                              \n",
            "                                                                                                  \n",
            " activation_161 (Activation)    (None, None, None,   0           ['batch_normalization_161[0][0]']\n",
            "                                192)                                                              \n",
            "                                                                                                  \n",
            " average_pooling2d_15 (AverageP  (None, None, None,   0          ['mixed6[0][0]']                 \n",
            " ooling2D)                      768)                                                              \n",
            "                                                                                                  \n",
            " conv2d_154 (Conv2D)            (None, None, None,   147456      ['mixed6[0][0]']                 \n",
            "                                192)                                                              \n",
            "                                                                                                  \n",
            " conv2d_157 (Conv2D)            (None, None, None,   258048      ['activation_156[0][0]']         \n",
            "                                192)                                                              \n",
            "                                                                                                  \n",
            " conv2d_162 (Conv2D)            (None, None, None,   258048      ['activation_161[0][0]']         \n",
            "                                192)                                                              \n",
            "                                                                                                  \n",
            " conv2d_163 (Conv2D)            (None, None, None,   147456      ['average_pooling2d_15[0][0]']   \n",
            "                                192)                                                              \n",
            "                                                                                                  \n",
            " batch_normalization_154 (Batch  (None, None, None,   576        ['conv2d_154[0][0]']             \n",
            " Normalization)                 192)                                                              \n",
            "                                                                                                  \n",
            " batch_normalization_157 (Batch  (None, None, None,   576        ['conv2d_157[0][0]']             \n",
            " Normalization)                 192)                                                              \n",
            "                                                                                                  \n",
            " batch_normalization_162 (Batch  (None, None, None,   576        ['conv2d_162[0][0]']             \n",
            " Normalization)                 192)                                                              \n",
            "                                                                                                  \n",
            " batch_normalization_163 (Batch  (None, None, None,   576        ['conv2d_163[0][0]']             \n",
            " Normalization)                 192)                                                              \n",
            "                                                                                                  \n",
            " activation_154 (Activation)    (None, None, None,   0           ['batch_normalization_154[0][0]']\n",
            "                                192)                                                              \n",
            "                                                                                                  \n",
            " activation_157 (Activation)    (None, None, None,   0           ['batch_normalization_157[0][0]']\n",
            "                                192)                                                              \n",
            "                                                                                                  \n",
            " activation_162 (Activation)    (None, None, None,   0           ['batch_normalization_162[0][0]']\n",
            "                                192)                                                              \n",
            "                                                                                                  \n",
            " activation_163 (Activation)    (None, None, None,   0           ['batch_normalization_163[0][0]']\n",
            "                                192)                                                              \n",
            "                                                                                                  \n",
            " mixed7 (Concatenate)           (None, None, None,   0           ['activation_154[0][0]',         \n",
            "                                768)                              'activation_157[0][0]',         \n",
            "                                                                  'activation_162[0][0]',         \n",
            "                                                                  'activation_163[0][0]']         \n",
            "                                                                                                  \n",
            " conv2d_166 (Conv2D)            (None, None, None,   147456      ['mixed7[0][0]']                 \n",
            "                                192)                                                              \n",
            "                                                                                                  \n",
            " batch_normalization_166 (Batch  (None, None, None,   576        ['conv2d_166[0][0]']             \n",
            " Normalization)                 192)                                                              \n",
            "                                                                                                  \n",
            " activation_166 (Activation)    (None, None, None,   0           ['batch_normalization_166[0][0]']\n",
            "                                192)                                                              \n",
            "                                                                                                  \n",
            " conv2d_167 (Conv2D)            (None, None, None,   258048      ['activation_166[0][0]']         \n",
            "                                192)                                                              \n",
            "                                                                                                  \n",
            " batch_normalization_167 (Batch  (None, None, None,   576        ['conv2d_167[0][0]']             \n",
            " Normalization)                 192)                                                              \n",
            "                                                                                                  \n",
            " activation_167 (Activation)    (None, None, None,   0           ['batch_normalization_167[0][0]']\n",
            "                                192)                                                              \n",
            "                                                                                                  \n",
            " conv2d_164 (Conv2D)            (None, None, None,   147456      ['mixed7[0][0]']                 \n",
            "                                192)                                                              \n",
            "                                                                                                  \n",
            " conv2d_168 (Conv2D)            (None, None, None,   258048      ['activation_167[0][0]']         \n",
            "                                192)                                                              \n",
            "                                                                                                  \n",
            " batch_normalization_164 (Batch  (None, None, None,   576        ['conv2d_164[0][0]']             \n",
            " Normalization)                 192)                                                              \n",
            "                                                                                                  \n",
            " batch_normalization_168 (Batch  (None, None, None,   576        ['conv2d_168[0][0]']             \n",
            " Normalization)                 192)                                                              \n",
            "                                                                                                  \n",
            " activation_164 (Activation)    (None, None, None,   0           ['batch_normalization_164[0][0]']\n",
            "                                192)                                                              \n",
            "                                                                                                  \n",
            " activation_168 (Activation)    (None, None, None,   0           ['batch_normalization_168[0][0]']\n",
            "                                192)                                                              \n",
            "                                                                                                  \n",
            " conv2d_165 (Conv2D)            (None, None, None,   552960      ['activation_164[0][0]']         \n",
            "                                320)                                                              \n",
            "                                                                                                  \n",
            " conv2d_169 (Conv2D)            (None, None, None,   331776      ['activation_168[0][0]']         \n",
            "                                192)                                                              \n",
            "                                                                                                  \n",
            " batch_normalization_165 (Batch  (None, None, None,   960        ['conv2d_165[0][0]']             \n",
            " Normalization)                 320)                                                              \n",
            "                                                                                                  \n",
            " batch_normalization_169 (Batch  (None, None, None,   576        ['conv2d_169[0][0]']             \n",
            " Normalization)                 192)                                                              \n",
            "                                                                                                  \n",
            " activation_165 (Activation)    (None, None, None,   0           ['batch_normalization_165[0][0]']\n",
            "                                320)                                                              \n",
            "                                                                                                  \n",
            " activation_169 (Activation)    (None, None, None,   0           ['batch_normalization_169[0][0]']\n",
            "                                192)                                                              \n",
            "                                                                                                  \n",
            " max_pooling2d_7 (MaxPooling2D)  (None, None, None,   0          ['mixed7[0][0]']                 \n",
            "                                768)                                                              \n",
            "                                                                                                  \n",
            " mixed8 (Concatenate)           (None, None, None,   0           ['activation_165[0][0]',         \n",
            "                                1280)                             'activation_169[0][0]',         \n",
            "                                                                  'max_pooling2d_7[0][0]']        \n",
            "                                                                                                  \n",
            " conv2d_174 (Conv2D)            (None, None, None,   573440      ['mixed8[0][0]']                 \n",
            "                                448)                                                              \n",
            "                                                                                                  \n",
            " batch_normalization_174 (Batch  (None, None, None,   1344       ['conv2d_174[0][0]']             \n",
            " Normalization)                 448)                                                              \n",
            "                                                                                                  \n",
            " activation_174 (Activation)    (None, None, None,   0           ['batch_normalization_174[0][0]']\n",
            "                                448)                                                              \n",
            "                                                                                                  \n",
            " conv2d_171 (Conv2D)            (None, None, None,   491520      ['mixed8[0][0]']                 \n",
            "                                384)                                                              \n",
            "                                                                                                  \n",
            " conv2d_175 (Conv2D)            (None, None, None,   1548288     ['activation_174[0][0]']         \n",
            "                                384)                                                              \n",
            "                                                                                                  \n",
            " batch_normalization_171 (Batch  (None, None, None,   1152       ['conv2d_171[0][0]']             \n",
            " Normalization)                 384)                                                              \n",
            "                                                                                                  \n",
            " batch_normalization_175 (Batch  (None, None, None,   1152       ['conv2d_175[0][0]']             \n",
            " Normalization)                 384)                                                              \n",
            "                                                                                                  \n",
            " activation_171 (Activation)    (None, None, None,   0           ['batch_normalization_171[0][0]']\n",
            "                                384)                                                              \n",
            "                                                                                                  \n",
            " activation_175 (Activation)    (None, None, None,   0           ['batch_normalization_175[0][0]']\n",
            "                                384)                                                              \n",
            "                                                                                                  \n",
            " conv2d_172 (Conv2D)            (None, None, None,   442368      ['activation_171[0][0]']         \n",
            "                                384)                                                              \n",
            "                                                                                                  \n",
            " conv2d_173 (Conv2D)            (None, None, None,   442368      ['activation_171[0][0]']         \n",
            "                                384)                                                              \n",
            "                                                                                                  \n",
            " conv2d_176 (Conv2D)            (None, None, None,   442368      ['activation_175[0][0]']         \n",
            "                                384)                                                              \n",
            "                                                                                                  \n",
            " conv2d_177 (Conv2D)            (None, None, None,   442368      ['activation_175[0][0]']         \n",
            "                                384)                                                              \n",
            "                                                                                                  \n",
            " average_pooling2d_16 (AverageP  (None, None, None,   0          ['mixed8[0][0]']                 \n",
            " ooling2D)                      1280)                                                             \n",
            "                                                                                                  \n",
            " conv2d_170 (Conv2D)            (None, None, None,   409600      ['mixed8[0][0]']                 \n",
            "                                320)                                                              \n",
            "                                                                                                  \n",
            " batch_normalization_172 (Batch  (None, None, None,   1152       ['conv2d_172[0][0]']             \n",
            " Normalization)                 384)                                                              \n",
            "                                                                                                  \n",
            " batch_normalization_173 (Batch  (None, None, None,   1152       ['conv2d_173[0][0]']             \n",
            " Normalization)                 384)                                                              \n",
            "                                                                                                  \n",
            " batch_normalization_176 (Batch  (None, None, None,   1152       ['conv2d_176[0][0]']             \n",
            " Normalization)                 384)                                                              \n",
            "                                                                                                  \n",
            " batch_normalization_177 (Batch  (None, None, None,   1152       ['conv2d_177[0][0]']             \n",
            " Normalization)                 384)                                                              \n",
            "                                                                                                  \n",
            " conv2d_178 (Conv2D)            (None, None, None,   245760      ['average_pooling2d_16[0][0]']   \n",
            "                                192)                                                              \n",
            "                                                                                                  \n",
            " batch_normalization_170 (Batch  (None, None, None,   960        ['conv2d_170[0][0]']             \n",
            " Normalization)                 320)                                                              \n",
            "                                                                                                  \n",
            " activation_172 (Activation)    (None, None, None,   0           ['batch_normalization_172[0][0]']\n",
            "                                384)                                                              \n",
            "                                                                                                  \n",
            " activation_173 (Activation)    (None, None, None,   0           ['batch_normalization_173[0][0]']\n",
            "                                384)                                                              \n",
            "                                                                                                  \n",
            " activation_176 (Activation)    (None, None, None,   0           ['batch_normalization_176[0][0]']\n",
            "                                384)                                                              \n",
            "                                                                                                  \n",
            " activation_177 (Activation)    (None, None, None,   0           ['batch_normalization_177[0][0]']\n",
            "                                384)                                                              \n",
            "                                                                                                  \n",
            " batch_normalization_178 (Batch  (None, None, None,   576        ['conv2d_178[0][0]']             \n",
            " Normalization)                 192)                                                              \n",
            "                                                                                                  \n",
            " activation_170 (Activation)    (None, None, None,   0           ['batch_normalization_170[0][0]']\n",
            "                                320)                                                              \n",
            "                                                                                                  \n",
            " mixed9_0 (Concatenate)         (None, None, None,   0           ['activation_172[0][0]',         \n",
            "                                768)                              'activation_173[0][0]']         \n",
            "                                                                                                  \n",
            " concatenate_2 (Concatenate)    (None, None, None,   0           ['activation_176[0][0]',         \n",
            "                                768)                              'activation_177[0][0]']         \n",
            "                                                                                                  \n",
            " activation_178 (Activation)    (None, None, None,   0           ['batch_normalization_178[0][0]']\n",
            "                                192)                                                              \n",
            "                                                                                                  \n",
            " mixed9 (Concatenate)           (None, None, None,   0           ['activation_170[0][0]',         \n",
            "                                2048)                             'mixed9_0[0][0]',               \n",
            "                                                                  'concatenate_2[0][0]',          \n",
            "                                                                  'activation_178[0][0]']         \n",
            "                                                                                                  \n",
            " conv2d_183 (Conv2D)            (None, None, None,   917504      ['mixed9[0][0]']                 \n",
            "                                448)                                                              \n",
            "                                                                                                  \n",
            " batch_normalization_183 (Batch  (None, None, None,   1344       ['conv2d_183[0][0]']             \n",
            " Normalization)                 448)                                                              \n",
            "                                                                                                  \n",
            " activation_183 (Activation)    (None, None, None,   0           ['batch_normalization_183[0][0]']\n",
            "                                448)                                                              \n",
            "                                                                                                  \n",
            " conv2d_180 (Conv2D)            (None, None, None,   786432      ['mixed9[0][0]']                 \n",
            "                                384)                                                              \n",
            "                                                                                                  \n",
            " conv2d_184 (Conv2D)            (None, None, None,   1548288     ['activation_183[0][0]']         \n",
            "                                384)                                                              \n",
            "                                                                                                  \n",
            " batch_normalization_180 (Batch  (None, None, None,   1152       ['conv2d_180[0][0]']             \n",
            " Normalization)                 384)                                                              \n",
            "                                                                                                  \n",
            " batch_normalization_184 (Batch  (None, None, None,   1152       ['conv2d_184[0][0]']             \n",
            " Normalization)                 384)                                                              \n",
            "                                                                                                  \n",
            " activation_180 (Activation)    (None, None, None,   0           ['batch_normalization_180[0][0]']\n",
            "                                384)                                                              \n",
            "                                                                                                  \n",
            " activation_184 (Activation)    (None, None, None,   0           ['batch_normalization_184[0][0]']\n",
            "                                384)                                                              \n",
            "                                                                                                  \n",
            " conv2d_181 (Conv2D)            (None, None, None,   442368      ['activation_180[0][0]']         \n",
            "                                384)                                                              \n",
            "                                                                                                  \n",
            " conv2d_182 (Conv2D)            (None, None, None,   442368      ['activation_180[0][0]']         \n",
            "                                384)                                                              \n",
            "                                                                                                  \n",
            " conv2d_185 (Conv2D)            (None, None, None,   442368      ['activation_184[0][0]']         \n",
            "                                384)                                                              \n",
            "                                                                                                  \n",
            " conv2d_186 (Conv2D)            (None, None, None,   442368      ['activation_184[0][0]']         \n",
            "                                384)                                                              \n",
            "                                                                                                  \n",
            " average_pooling2d_17 (AverageP  (None, None, None,   0          ['mixed9[0][0]']                 \n",
            " ooling2D)                      2048)                                                             \n",
            "                                                                                                  \n",
            " conv2d_179 (Conv2D)            (None, None, None,   655360      ['mixed9[0][0]']                 \n",
            "                                320)                                                              \n",
            "                                                                                                  \n",
            " batch_normalization_181 (Batch  (None, None, None,   1152       ['conv2d_181[0][0]']             \n",
            " Normalization)                 384)                                                              \n",
            "                                                                                                  \n",
            " batch_normalization_182 (Batch  (None, None, None,   1152       ['conv2d_182[0][0]']             \n",
            " Normalization)                 384)                                                              \n",
            "                                                                                                  \n",
            " batch_normalization_185 (Batch  (None, None, None,   1152       ['conv2d_185[0][0]']             \n",
            " Normalization)                 384)                                                              \n",
            "                                                                                                  \n",
            " batch_normalization_186 (Batch  (None, None, None,   1152       ['conv2d_186[0][0]']             \n",
            " Normalization)                 384)                                                              \n",
            "                                                                                                  \n",
            " conv2d_187 (Conv2D)            (None, None, None,   393216      ['average_pooling2d_17[0][0]']   \n",
            "                                192)                                                              \n",
            "                                                                                                  \n",
            " batch_normalization_179 (Batch  (None, None, None,   960        ['conv2d_179[0][0]']             \n",
            " Normalization)                 320)                                                              \n",
            "                                                                                                  \n",
            " activation_181 (Activation)    (None, None, None,   0           ['batch_normalization_181[0][0]']\n",
            "                                384)                                                              \n",
            "                                                                                                  \n",
            " activation_182 (Activation)    (None, None, None,   0           ['batch_normalization_182[0][0]']\n",
            "                                384)                                                              \n",
            "                                                                                                  \n",
            " activation_185 (Activation)    (None, None, None,   0           ['batch_normalization_185[0][0]']\n",
            "                                384)                                                              \n",
            "                                                                                                  \n",
            " activation_186 (Activation)    (None, None, None,   0           ['batch_normalization_186[0][0]']\n",
            "                                384)                                                              \n",
            "                                                                                                  \n",
            " batch_normalization_187 (Batch  (None, None, None,   576        ['conv2d_187[0][0]']             \n",
            " Normalization)                 192)                                                              \n",
            "                                                                                                  \n",
            " activation_179 (Activation)    (None, None, None,   0           ['batch_normalization_179[0][0]']\n",
            "                                320)                                                              \n",
            "                                                                                                  \n",
            " mixed9_1 (Concatenate)         (None, None, None,   0           ['activation_181[0][0]',         \n",
            "                                768)                              'activation_182[0][0]']         \n",
            "                                                                                                  \n",
            " concatenate_3 (Concatenate)    (None, None, None,   0           ['activation_185[0][0]',         \n",
            "                                768)                              'activation_186[0][0]']         \n",
            "                                                                                                  \n",
            " activation_187 (Activation)    (None, None, None,   0           ['batch_normalization_187[0][0]']\n",
            "                                192)                                                              \n",
            "                                                                                                  \n",
            " mixed10 (Concatenate)          (None, None, None,   0           ['activation_179[0][0]',         \n",
            "                                2048)                             'mixed9_1[0][0]',               \n",
            "                                                                  'concatenate_3[0][0]',          \n",
            "                                                                  'activation_187[0][0]']         \n",
            "                                                                                                  \n",
            " global_average_pooling2d_1 (Gl  (None, 2048)        0           ['mixed10[0][0]']                \n",
            " obalAveragePooling2D)                                                                            \n",
            "                                                                                                  \n",
            " dense_3 (Dense)                (None, 1024)         2098176     ['global_average_pooling2d_1[0][0\n",
            "                                                                 ]']                              \n",
            "                                                                                                  \n",
            " dropout_1 (Dropout)            (None, 1024)         0           ['dense_3[0][0]']                \n",
            "                                                                                                  \n",
            " dense_4 (Dense)                (None, 512)          524800      ['dropout_1[0][0]']              \n",
            "                                                                                                  \n",
            " dense_5 (Dense)                (None, 2)            1026        ['dense_4[0][0]']                \n",
            "                                                                                                  \n",
            "==================================================================================================\n",
            "Total params: 24,426,786\n",
            "Trainable params: 24,392,354\n",
            "Non-trainable params: 34,432\n",
            "__________________________________________________________________________________________________\n"
          ]
        }
      ]
    },
    {
      "cell_type": "code",
      "metadata": {
        "id": "kOPIzI-r8N2b"
      },
      "source": [
        "opt = Adam(learning_rate=0.0001)\n",
        "Interception.compile(loss='categorical_crossentropy', optimizer=opt, metrics = ['accuracy'])"
      ],
      "execution_count": null,
      "outputs": []
    },
    {
      "cell_type": "code",
      "metadata": {
        "id": "q1kWPeGI8ZB7"
      },
      "source": [
        "pred = Interception.predict(test_images_googlent_MB)\n",
        "pred=np.argmax(pred,axis=1)"
      ],
      "execution_count": null,
      "outputs": []
    },
    {
      "cell_type": "code",
      "metadata": {
        "id": "Umq-YEt_8dbK"
      },
      "source": [
        "pred_df=df_teste_400.copy()\n",
        "labels={}\n",
        "for l,v in test_images_googlent_MB.class_indices.items():\n",
        "    labels.update({v:l})\n",
        "pred_df['pred']=pred\n",
        "pred_df['pred']=pred_df['pred'].apply(lambda x: labels[x])"
      ],
      "execution_count": null,
      "outputs": []
    },
    {
      "cell_type": "code",
      "source": [
        "print(f\"Metrics Score: {classification_report(pred_df['Type'],pred_df['pred'])}\")"
      ],
      "metadata": {
        "colab": {
          "base_uri": "https://localhost:8080/"
        },
        "id": "m_1Oi3dGUkuJ",
        "outputId": "3f41346d-7228-4d77-aeb7-eea429ca444a"
      },
      "execution_count": null,
      "outputs": [
        {
          "output_type": "stream",
          "name": "stdout",
          "text": [
            "Metrics Score:               precision    recall  f1-score   support\n",
            "\n",
            "           B       0.99      0.97      0.98       560\n",
            "           M       0.97      0.99      0.98       418\n",
            "\n",
            "    accuracy                           0.98       978\n",
            "   macro avg       0.98      0.98      0.98       978\n",
            "weighted avg       0.98      0.98      0.98       978\n",
            "\n"
          ]
        }
      ]
    },
    {
      "cell_type": "code",
      "metadata": {
        "colab": {
          "base_uri": "https://localhost:8080/",
          "height": 282
        },
        "id": "B1C-Mht48lH2",
        "outputId": "6738a003-5f12-4955-8328-38640cbc9fed"
      },
      "source": [
        "print(f\"Accuracy Score: {accuracy_score(pred_df['Type'],pred_df['pred'])}\")\n",
        "sns.heatmap(confusion_matrix(pred_df['Type'],pred_df['pred']), annot=True, fmt='2d',   cmap=\"Greens\");"
      ],
      "execution_count": null,
      "outputs": [
        {
          "output_type": "stream",
          "name": "stdout",
          "text": [
            "Accuracy Score: 0.9805725971370143\n"
          ]
        },
        {
          "output_type": "display_data",
          "data": {
            "image/png": "[encoded data removed]",
            "text/plain": [
              "<Figure size 432x288 with 2 Axes>"
            ]
          },
          "metadata": {
            "needs_background": "light"
          }
        }
      ]
    },
    {
      "cell_type": "code",
      "metadata": {
        "id": "UOYi3qu48m5h"
      },
      "source": [
        ""
      ],
      "execution_count": null,
      "outputs": []
    },
    {
      "cell_type": "markdown",
      "metadata": {
        "id": "7Co73QRF92Vy"
      },
      "source": [
        "###  Modelo GoogleNet Para grau de ampliação 200"
      ]
    },
    {
      "cell_type": "code",
      "metadata": {
        "colab": {
          "base_uri": "https://localhost:8080/"
        },
        "id": "lHpbVhit94tK",
        "outputId": "458da1b0-b344-4a7d-b125-3421ab7d21ef"
      },
      "source": [
        "train_images_googlent_MB = train_generator_googleNet.flow_from_dataframe(\n",
        "    dataframe=df_treino_200,\n",
        "    x_col='FikePath',\n",
        "    y_col='Type',\n",
        "    target_size=(224, 224),\n",
        "    color_mode='rgb',\n",
        "    class_mode='categorical',\n",
        "    batch_size=BATCH_SIZE,\n",
        "    shuffle=True,\n",
        "    seed=42,\n",
        "    subset='training'\n",
        ")\n",
        "\n",
        "val_images_googlent_MB = train_generator_googleNet.flow_from_dataframe(\n",
        "    dataframe=df_treino_200,\n",
        "    x_col='FikePath',\n",
        "    y_col='Type',\n",
        "    target_size=(224, 224),\n",
        "    color_mode='rgb',\n",
        "    class_mode='categorical',\n",
        "    batch_size=BATCH_SIZE,\n",
        "    shuffle=True,\n",
        "    seed=42,\n",
        "    subset='validation'\n",
        ")\n",
        "\n",
        "test_images_googlent_MB = test_generator_googleNet.flow_from_dataframe(\n",
        "    dataframe=df_teste_200,\n",
        "    x_col='FikePath',\n",
        "    y_col='Type',\n",
        "    target_size=(224, 224),\n",
        "    color_mode='rgb',\n",
        "    class_mode='categorical',\n",
        "    batch_size=BATCH_SIZE,\n",
        "    shuffle=False\n",
        ")"
      ],
      "execution_count": null,
      "outputs": [
        {
          "output_type": "stream",
          "name": "stdout",
          "text": [
            "Found 630 validated image filenames belonging to 2 classes.\n",
            "Found 157 validated image filenames belonging to 2 classes.\n",
            "Found 856 validated image filenames belonging to 2 classes.\n"
          ]
        }
      ]
    },
    {
      "cell_type": "code",
      "metadata": {
        "id": "w4tXubrE98MW"
      },
      "source": [
        "pred = Interception.predict(test_images_googlent_MB)\n",
        "pred=np.argmax(pred,axis=1)"
      ],
      "execution_count": null,
      "outputs": []
    },
    {
      "cell_type": "code",
      "metadata": {
        "id": "6HFOr8UP9_-6"
      },
      "source": [
        "pred_df=df_teste_200.copy()\n",
        "labels={}\n",
        "for l,v in test_images_googlent_MB.class_indices.items():\n",
        "    labels.update({v:l})\n",
        "pred_df['pred']=pred\n",
        "pred_df['pred']=pred_df['pred'].apply(lambda x: labels[x])"
      ],
      "execution_count": null,
      "outputs": []
    },
    {
      "cell_type": "code",
      "source": [
        "print(f\"Metrics Score: {classification_report(pred_df['Type'],pred_df['pred'])}\")"
      ],
      "metadata": {
        "colab": {
          "base_uri": "https://localhost:8080/"
        },
        "id": "eJ2O6zOtUssR",
        "outputId": "f620d436-c9c7-481b-9939-e9c77aa0b3da"
      },
      "execution_count": null,
      "outputs": [
        {
          "output_type": "stream",
          "name": "stdout",
          "text": [
            "Metrics Score:               precision    recall  f1-score   support\n",
            "\n",
            "           B       1.00      0.95      0.97       367\n",
            "           M       0.96      1.00      0.98       489\n",
            "\n",
            "    accuracy                           0.98       856\n",
            "   macro avg       0.98      0.97      0.98       856\n",
            "weighted avg       0.98      0.98      0.98       856\n",
            "\n"
          ]
        }
      ]
    },
    {
      "cell_type": "code",
      "metadata": {
        "colab": {
          "base_uri": "https://localhost:8080/",
          "height": 282
        },
        "id": "yDhL90bO-Bu7",
        "outputId": "41d9e7f3-499e-4228-f880-e775e2e83813"
      },
      "source": [
        "print(f\"Accuracy Score: {accuracy_score(pred_df['Type'],pred_df['pred'])}\")\n",
        "sns.heatmap(confusion_matrix(pred_df['Type'],pred_df['pred']), annot=True, fmt='2d',   cmap=\"Greens\");"
      ],
      "execution_count": null,
      "outputs": [
        {
          "output_type": "stream",
          "name": "stdout",
          "text": [
            "Accuracy Score: 0.977803738317757\n"
          ]
        },
        {
          "output_type": "display_data",
          "data": {
            "image/png": "[encoded data removed]",
            "text/plain": [
              "<Figure size 432x288 with 2 Axes>"
            ]
          },
          "metadata": {
            "needs_background": "light"
          }
        }
      ]
    },
    {
      "cell_type": "code",
      "metadata": {
        "id": "ExxOFNlH-DVq"
      },
      "source": [
        ""
      ],
      "execution_count": null,
      "outputs": []
    },
    {
      "cell_type": "markdown",
      "metadata": {
        "id": "pgAch1pt_gEh"
      },
      "source": [
        "### Modelo GoogleNet validação geral"
      ]
    },
    {
      "cell_type": "code",
      "metadata": {
        "id": "pmtyqjwM_laK"
      },
      "source": [
        "df_geral =  montar_data_frame(r'/content/drive/MyDrive/TCC')\n",
        "df_treino = df_geral[df_geral['DataSet'] == 'Tr']\n",
        "df_teste = df_geral[df_geral['DataSet'] == 'Te']"
      ],
      "execution_count": null,
      "outputs": []
    },
    {
      "cell_type": "code",
      "metadata": {
        "colab": {
          "base_uri": "https://localhost:8080/"
        },
        "id": "v5jUhjLcAOAc",
        "outputId": "8752f112-ef4d-4a80-df1c-92d8e768f3ba"
      },
      "source": [
        "train_images = train_generator_googleNet.flow_from_dataframe(\n",
        "    dataframe=df_treino,\n",
        "    x_col='FikePath',\n",
        "    y_col='Type',\n",
        "    target_size=(224, 224),\n",
        "    color_mode='rgb',\n",
        "    class_mode='categorical',\n",
        "    batch_size=16,\n",
        "    shuffle=True,\n",
        "    seed=42,\n",
        "    subset='training'\n",
        ")\n",
        "\n",
        "val_images = train_generator_googleNet.flow_from_dataframe(\n",
        "    dataframe=df_treino,\n",
        "    x_col='FikePath',\n",
        "    y_col='Type',\n",
        "    target_size=(224, 224),\n",
        "    color_mode='rgb',\n",
        "    class_mode='categorical',\n",
        "    batch_size=16,\n",
        "    shuffle=True,\n",
        "    seed=42,\n",
        "    subset='validation'\n",
        ")\n",
        "\n",
        "test_images = test_generator_googleNet.flow_from_dataframe(\n",
        "    dataframe=df_teste,\n",
        "    x_col='FikePath',\n",
        "    y_col='Type',\n",
        "    target_size=(224, 224),\n",
        "    color_mode='rgb',\n",
        "    class_mode='categorical',\n",
        "    batch_size=16,\n",
        "    shuffle=False\n",
        ")"
      ],
      "execution_count": null,
      "outputs": [
        {
          "output_type": "stream",
          "name": "stdout",
          "text": [
            "Found 1899 validated image filenames belonging to 2 classes.\n",
            "Found 474 validated image filenames belonging to 2 classes.\n",
            "Found 2707 validated image filenames belonging to 2 classes.\n"
          ]
        }
      ]
    },
    {
      "cell_type": "code",
      "metadata": {
        "id": "3Rs7vTLsARJS"
      },
      "source": [
        "pred = Interception.predict(test_images)\n",
        "pred=np.argmax(pred,axis=1)"
      ],
      "execution_count": null,
      "outputs": []
    },
    {
      "cell_type": "code",
      "metadata": {
        "id": "nYJZ2EUEAZrt"
      },
      "source": [
        "pred_df=df_teste.copy()\n",
        "labels={}\n",
        "for l,v in test_images.class_indices.items():\n",
        "    labels.update({v:l})\n",
        "pred_df['pred']=pred\n",
        "pred_df['pred']=pred_df['pred'].apply(lambda x: labels[x])"
      ],
      "execution_count": null,
      "outputs": []
    },
    {
      "cell_type": "code",
      "source": [
        "print(f\"Metrics Score: {classification_report(pred_df['Type'],pred_df['pred'])}\")"
      ],
      "metadata": {
        "colab": {
          "base_uri": "https://localhost:8080/"
        },
        "id": "2D4GNbweUvJ5",
        "outputId": "39123ddb-7a3a-47cc-b2a6-3101d541270c"
      },
      "execution_count": null,
      "outputs": [
        {
          "output_type": "stream",
          "name": "stdout",
          "text": [
            "Metrics Score:               precision    recall  f1-score   support\n",
            "\n",
            "           B       0.97      0.94      0.96      1301\n",
            "           M       0.95      0.97      0.96      1406\n",
            "\n",
            "    accuracy                           0.96      2707\n",
            "   macro avg       0.96      0.96      0.96      2707\n",
            "weighted avg       0.96      0.96      0.96      2707\n",
            "\n"
          ]
        }
      ]
    },
    {
      "cell_type": "code",
      "metadata": {
        "colab": {
          "base_uri": "https://localhost:8080/",
          "height": 282
        },
        "id": "J1IvT6VzAaz9",
        "outputId": "fa60c06a-2153-4123-b2e9-6f732c0a982f"
      },
      "source": [
        "print(f\"Accuracy Score: {accuracy_score(pred_df['Type'],pred_df['pred'])}\")\n",
        "sns.heatmap(confusion_matrix(pred_df['Type'],pred_df['pred']), annot=True, fmt='2d',  cmap=\"Greens\");"
      ],
      "execution_count": null,
      "outputs": [
        {
          "output_type": "stream",
          "name": "stdout",
          "text": [
            "Accuracy Score: 0.958625785001847\n"
          ]
        },
        {
          "output_type": "display_data",
          "data": {
            "image/png": "[encoded data removed]",
            "text/plain": [
              "<Figure size 432x288 with 2 Axes>"
            ]
          },
          "metadata": {
            "needs_background": "light"
          }
        }
      ]
    },
    {
      "cell_type": "code",
      "metadata": {
        "id": "Nk6vdCCuAb3y"
      },
      "source": [
        ""
      ],
      "execution_count": null,
      "outputs": []
    },
    {
      "cell_type": "markdown",
      "metadata": {
        "id": "tRR8rt6xoaPi"
      },
      "source": [
        "### Modelo ResNet50 Para grau de ampliação 400"
      ]
    },
    {
      "cell_type": "code",
      "metadata": {
        "colab": {
          "base_uri": "https://localhost:8080/"
        },
        "id": "0672Rh5Bojs7",
        "outputId": "d1a15f87-ff15-4912-d16b-b964358d494e"
      },
      "source": [
        "train_images_ResNet_MB = train_generator_ResNet.flow_from_dataframe(\n",
        "    dataframe=df_treino_400,\n",
        "    x_col='FikePath',\n",
        "    y_col='Type',\n",
        "    target_size=(224, 224),\n",
        "    color_mode='rgb',\n",
        "    class_mode='categorical',\n",
        "    batch_size=BATCH_SIZE,\n",
        "    shuffle=True,\n",
        "    seed=42,\n",
        "    subset='training'\n",
        ")\n",
        "\n",
        "val_images_ResNet_MB = train_generator_ResNet.flow_from_dataframe(\n",
        "    dataframe=df_treino_400,\n",
        "    x_col='FikePath',\n",
        "    y_col='Type',\n",
        "    target_size=(224, 224),\n",
        "    color_mode='rgb',\n",
        "    class_mode='categorical',\n",
        "    batch_size=BATCH_SIZE,\n",
        "    shuffle=True,\n",
        "    seed=42,\n",
        "    subset='validation'\n",
        ")\n",
        "\n",
        "test_images_ResNet_MB = test_generator_ResNet.flow_from_dataframe(\n",
        "    dataframe=df_teste_400,\n",
        "    x_col='FikePath',\n",
        "    y_col='Type',\n",
        "    target_size=(224, 224),\n",
        "    color_mode='rgb',\n",
        "    class_mode='categorical',\n",
        "    batch_size=BATCH_SIZE,\n",
        "    shuffle=False\n",
        ")"
      ],
      "execution_count": null,
      "outputs": [
        {
          "output_type": "stream",
          "name": "stdout",
          "text": [
            "Found 629 validated image filenames belonging to 2 classes.\n",
            "Found 157 validated image filenames belonging to 2 classes.\n",
            "Found 978 validated image filenames belonging to 2 classes.\n"
          ]
        }
      ]
    },
    {
      "cell_type": "code",
      "metadata": {
        "id": "KOLB2Vj8ow5r"
      },
      "source": [
        "ResNet = build_model(\"Resnet\")\n",
        "ResNet.load_weights('/content/drive/MyDrive/TCC/RESNET_MB_teste.h5')"
      ],
      "execution_count": null,
      "outputs": []
    },
    {
      "cell_type": "code",
      "metadata": {
        "id": "V9CdA08CpD_L"
      },
      "source": [
        "opt = Adam(learning_rate=0.0001)\n",
        "ResNet.compile(loss='categorical_crossentropy', optimizer=opt, metrics = ['accuracy'])"
      ],
      "execution_count": null,
      "outputs": []
    },
    {
      "cell_type": "code",
      "metadata": {
        "id": "Xm5sE_o1pJya"
      },
      "source": [
        "pred = ResNet.predict(test_images_ResNet_MB)\n",
        "pred=np.argmax(pred,axis=1)"
      ],
      "execution_count": null,
      "outputs": []
    },
    {
      "cell_type": "code",
      "metadata": {
        "id": "ku6S4osspONZ"
      },
      "source": [
        "pred_df=df_teste_400.copy()\n",
        "labels={}\n",
        "for l,v in test_images_ResNet_MB.class_indices.items():\n",
        "    labels.update({v:l})\n",
        "pred_df['pred']=pred\n",
        "pred_df['pred']=pred_df['pred'].apply(lambda x: labels[x])"
      ],
      "execution_count": null,
      "outputs": []
    },
    {
      "cell_type": "code",
      "source": [
        "print(f\"Metrics Score: {classification_report(pred_df['Type'],pred_df['pred'])}\")"
      ],
      "metadata": {
        "colab": {
          "base_uri": "https://localhost:8080/"
        },
        "id": "MvS9JnvJjx4b",
        "outputId": "8f6b076f-c547-4d2b-9433-fd5fcc677b84"
      },
      "execution_count": null,
      "outputs": [
        {
          "output_type": "stream",
          "name": "stdout",
          "text": [
            "Metrics Score:               precision    recall  f1-score   support\n",
            "\n",
            "           B       0.99      0.93      0.96       560\n",
            "           M       0.91      0.99      0.95       418\n",
            "\n",
            "    accuracy                           0.95       978\n",
            "   macro avg       0.95      0.96      0.95       978\n",
            "weighted avg       0.96      0.95      0.95       978\n",
            "\n"
          ]
        }
      ]
    },
    {
      "cell_type": "code",
      "metadata": {
        "colab": {
          "base_uri": "https://localhost:8080/",
          "height": 282
        },
        "id": "MM18tH8RpQMC",
        "outputId": "02581f2c-d79f-4175-b387-0f7752a7e113"
      },
      "source": [
        "print(f\"Accuracy Score: {accuracy_score(pred_df['Type'],pred_df['pred'])}\")\n",
        "sns.heatmap(confusion_matrix(pred_df['Type'],pred_df['pred']), annot=True, fmt='2d',  cmap=\"Reds\");"
      ],
      "execution_count": null,
      "outputs": [
        {
          "output_type": "stream",
          "name": "stdout",
          "text": [
            "Accuracy Score: 0.9529652351738241\n"
          ]
        },
        {
          "output_type": "display_data",
          "data": {
            "image/png": "[encoded data removed]",
            "text/plain": [
              "<Figure size 432x288 with 2 Axes>"
            ]
          },
          "metadata": {
            "needs_background": "light"
          }
        }
      ]
    },
    {
      "cell_type": "markdown",
      "metadata": {
        "id": "f53qdkjkstTf"
      },
      "source": [
        "### Modelo ResNet50 Para grau de ampliação 200\n"
      ]
    },
    {
      "cell_type": "code",
      "metadata": {
        "colab": {
          "base_uri": "https://localhost:8080/"
        },
        "id": "LxKeICT2s0JY",
        "outputId": "ee581025-f214-49a6-a1b3-396ef56a5d77"
      },
      "source": [
        "\n",
        "\n",
        "test_images_ResNet_MB = test_generator_ResNet.flow_from_dataframe(\n",
        "    dataframe=df_teste_200,\n",
        "    x_col='FikePath',\n",
        "    y_col='Type',\n",
        "    target_size=(224, 224),\n",
        "    color_mode='rgb',\n",
        "    class_mode='categorical',\n",
        "    batch_size=BATCH_SIZE,\n",
        "    shuffle=False\n",
        ")"
      ],
      "execution_count": null,
      "outputs": [
        {
          "output_type": "stream",
          "name": "stdout",
          "text": [
            "Found 856 validated image filenames belonging to 2 classes.\n"
          ]
        }
      ]
    },
    {
      "cell_type": "code",
      "metadata": {
        "id": "sFN8W7ogs0Y-"
      },
      "source": [
        "opt = Adam(learning_rate=0.0001)\n",
        "ResNet.compile(loss='categorical_crossentropy', optimizer=opt, metrics = ['accuracy'])"
      ],
      "execution_count": null,
      "outputs": []
    },
    {
      "cell_type": "code",
      "metadata": {
        "id": "wH677Ulus0jJ"
      },
      "source": [
        "pred = ResNet.predict(test_images_ResNet_MB)\n",
        "pred=np.argmax(pred,axis=1)"
      ],
      "execution_count": null,
      "outputs": []
    },
    {
      "cell_type": "code",
      "metadata": {
        "id": "I4wwqUyWs0yn"
      },
      "source": [
        "pred_df=df_teste_200.copy()\n",
        "labels={}\n",
        "for l,v in test_images_ResNet_MB.class_indices.items():\n",
        "    labels.update({v:l})\n",
        "pred_df['pred']=pred\n",
        "pred_df['pred']=pred_df['pred'].apply(lambda x: labels[x])"
      ],
      "execution_count": null,
      "outputs": []
    },
    {
      "cell_type": "code",
      "source": [
        "print(f\"Metrics Score: {classification_report(pred_df['Type'],pred_df['pred'])}\")"
      ],
      "metadata": {
        "colab": {
          "base_uri": "https://localhost:8080/"
        },
        "id": "YhbXFMWElHGD",
        "outputId": "5d2908db-f7b1-4bdd-940f-3ec5ae9eba1b"
      },
      "execution_count": null,
      "outputs": [
        {
          "output_type": "stream",
          "name": "stdout",
          "text": [
            "Metrics Score:               precision    recall  f1-score   support\n",
            "\n",
            "           B       1.00      0.90      0.95       367\n",
            "           M       0.93      1.00      0.96       489\n",
            "\n",
            "    accuracy                           0.96       856\n",
            "   macro avg       0.97      0.95      0.96       856\n",
            "weighted avg       0.96      0.96      0.96       856\n",
            "\n"
          ]
        }
      ]
    },
    {
      "cell_type": "code",
      "metadata": {
        "colab": {
          "base_uri": "https://localhost:8080/"
        },
        "id": "gW0IqgEJs1Kv",
        "outputId": "eccd8327-b2d7-4857-9703-70fa39fef374"
      },
      "source": [
        "print(f\"Accuracy Score: {accuracy_score(pred_df['Type'],pred_df['pred'])}\")\n",
        "sns.heatmap(confusion_matrix(pred_df['Type'],pred_df['pred']), annot=True, fmt='2d',  cmap=\"Reds\");"
      ],
      "execution_count": null,
      "outputs": [
        {
          "output_type": "stream",
          "name": "stdout",
          "text": [
            "Accuracy Score: 0.9579439252336449\n"
          ]
        },
        {
          "output_type": "display_data",
          "data": {
            "image/png": "[encoded data removed]",
            "text/plain": [
              "<Figure size 432x288 with 2 Axes>"
            ]
          },
          "metadata": {
            "needs_background": "light"
          }
        }
      ]
    },
    {
      "cell_type": "code",
      "metadata": {
        "id": "LWbfmC-Ys1gg"
      },
      "source": [
        ""
      ],
      "execution_count": null,
      "outputs": []
    },
    {
      "cell_type": "markdown",
      "metadata": {
        "id": "RlvQMhH06QzK"
      },
      "source": [
        "### Modelo ResNet50 validação geral"
      ]
    },
    {
      "cell_type": "code",
      "metadata": {
        "colab": {
          "base_uri": "https://localhost:8080/"
        },
        "id": "uBrIwQyO6TnT",
        "outputId": "517e969d-5f36-4c46-b383-aef7f6693328"
      },
      "source": [
        ""
      ],
      "execution_count": null,
      "outputs": [
        {
          "output_type": "stream",
          "name": "stdout",
          "text": [
            "Found 1406 validated image filenames belonging to 1 classes.\n"
          ]
        }
      ]
    },
    {
      "cell_type": "code",
      "source": [
        "df_geral =  montar_data_frame(r'/content/drive/MyDrive/TCC')\n",
        "df_treino = df_geral[df_geral['DataSet'] == 'Tr']\n",
        "df_teste = df_geral[df_geral['DataSet'] == 'Te']"
      ],
      "metadata": {
        "id": "D0ufmOXLp7i8"
      },
      "execution_count": null,
      "outputs": []
    },
    {
      "cell_type": "code",
      "source": [
        "test_images_ResNet_MB = test_generator_ResNet.flow_from_dataframe(\n",
        "    dataframe=df_teste,\n",
        "    x_col='FikePath',\n",
        "    y_col='Type',\n",
        "    target_size=(224, 224),\n",
        "    color_mode='rgb',\n",
        "    class_mode='categorical',\n",
        "    batch_size=BATCH_SIZE,\n",
        "    shuffle=False\n",
        ")"
      ],
      "metadata": {
        "colab": {
          "base_uri": "https://localhost:8080/"
        },
        "id": "F_tNee-ssCuD",
        "outputId": "76051d98-91d8-41b6-d6da-367ba04a8539"
      },
      "execution_count": null,
      "outputs": [
        {
          "output_type": "stream",
          "name": "stdout",
          "text": [
            "Found 2707 validated image filenames belonging to 2 classes.\n"
          ]
        }
      ]
    },
    {
      "cell_type": "code",
      "metadata": {
        "id": "8KgcyTYm7r7Z"
      },
      "source": [
        "opt = Adam(learning_rate=0.0001)\n",
        "ResNet.compile(loss='categorical_crossentropy', optimizer=opt, metrics = ['accuracy'])"
      ],
      "execution_count": null,
      "outputs": []
    },
    {
      "cell_type": "code",
      "metadata": {
        "id": "5giKkIln7vuJ"
      },
      "source": [
        "pred = ResNet.predict(test_images_ResNet_MB)\n",
        "pred=np.argmax(pred,axis=1)"
      ],
      "execution_count": null,
      "outputs": []
    },
    {
      "cell_type": "code",
      "source": [
        "pred_df=df_teste.copy()\n",
        "labels={}\n",
        "for l,v in test_images_ResNet_MB.class_indices.items():\n",
        "    labels.update({v:l})\n",
        "pred_df['pred']=pred\n",
        "pred_df['pred']=pred_df['pred'].apply(lambda x: labels[x])"
      ],
      "metadata": {
        "id": "toi9ELQIr27U"
      },
      "execution_count": null,
      "outputs": []
    },
    {
      "cell_type": "code",
      "source": [
        "print(f\"Metrics Score: {classification_report(pred_df['Type'],pred_df['pred'])}\")"
      ],
      "metadata": {
        "colab": {
          "base_uri": "https://localhost:8080/"
        },
        "id": "Jc6fIHx7e-LD",
        "outputId": "8aaf87ee-3e7a-4e82-abd7-687b8e69e05a"
      },
      "execution_count": null,
      "outputs": [
        {
          "output_type": "stream",
          "name": "stdout",
          "text": [
            "Metrics Score:               precision    recall  f1-score   support\n",
            "\n",
            "           B       0.95      0.88      0.92      1301\n",
            "           M       0.90      0.96      0.93      1406\n",
            "\n",
            "    accuracy                           0.92      2707\n",
            "   macro avg       0.93      0.92      0.92      2707\n",
            "weighted avg       0.92      0.92      0.92      2707\n",
            "\n"
          ]
        }
      ]
    },
    {
      "cell_type": "code",
      "metadata": {
        "colab": {
          "base_uri": "https://localhost:8080/",
          "height": 282
        },
        "id": "prN77nmB70fw",
        "outputId": "a56dfd86-c1a7-4d2e-ba3b-d5a3ff5c2113"
      },
      "source": [
        "print(f\"Accuracy Score: {accuracy_score(pred_df['Type'],pred_df['pred'])}\")\n",
        "sns.heatmap(confusion_matrix(pred_df['Type'],pred_df['pred']), annot=True, fmt='2d', cmap=\"Reds\");"
      ],
      "execution_count": null,
      "outputs": [
        {
          "output_type": "stream",
          "name": "stdout",
          "text": [
            "Accuracy Score: 0.9227927595123753\n"
          ]
        },
        {
          "output_type": "display_data",
          "data": {
            "image/png": "[encoded data removed]",
            "text/plain": [
              "<Figure size 432x288 with 2 Axes>"
            ]
          },
          "metadata": {
            "needs_background": "light"
          }
        }
      ]
    },
    {
      "cell_type": "markdown",
      "metadata": {
        "id": "U-AObAkLBur5"
      },
      "source": [
        "## Modelo Classe do Cancer\n",
        "\n",
        "\n",
        "Apos o primeiro processo de treinamento. Será feita a segunda etapa onde classificaremos os canceres. Já tendo realizado a primeira etapade treinamento e validação realizaremos as novas etapas de treino."
      ]
    },
    {
      "cell_type": "code",
      "metadata": {
        "id": "AnuB15mcByzE"
      },
      "source": [
        "def build_model_classe(Tipo_modelo):\n",
        "  if Tipo_modelo == \"VGG19\":\n",
        "    base_VGG19 = tf.keras.applications.VGG19(weights = 'imagenet', include_top = False)\n",
        "    x = base_VGG19.output\n",
        "    x = tf.keras.layers.GlobalAveragePooling2D()(x)\n",
        "    x = tf.keras.layers.Dense(1024, activation='relu')(x)\n",
        "    x = tf.keras.layers.Dense(512, activation='relu')(x)\n",
        "    preds = tf.keras.layers.Dense(4, activation='softmax')(x)\n",
        "    model = tf.keras.models.Model(inputs = base_VGG19.input, outputs = preds)\n",
        "  elif Tipo_modelo == \"GoogleNet\":\n",
        "    base_Interception = InceptionV3(weights = 'imagenet', include_top = False)\n",
        "    x = base_Interception.output\n",
        "    x = tf.keras.layers.GlobalAveragePooling2D()(x)\n",
        "    x = tf.keras.layers.Dense(1024, activation='relu')(x)\n",
        "    x = tf.keras.layers.Dropout(0.2)(x)\n",
        "    x = tf.keras.layers.Dense(1024, activation='relu')(x)\n",
        "    x = tf.keras.layers.Dense(512, activation='relu')(x)\n",
        "    preds = tf.keras.layers.Dense(4, activation='softmax')(x)\n",
        "    model = tf.keras.models.Model(inputs = base_Interception.input, outputs = preds)\n",
        "  elif Tipo_modelo == \"Resnet\":\n",
        "    base_Interception = ResNet50(weights = 'imagenet', include_top = False)\n",
        "    x = base_Interception.output\n",
        "    x = tf.keras.layers.GlobalAveragePooling2D()(x)\n",
        "    x = tf.keras.layers.Dense(1024, activation='relu')(x)\n",
        "    x = tf.keras.layers.Dropout(0.2)(x)\n",
        "    x = tf.keras.layers.Dense(1024, activation='relu')(x)\n",
        "    x = tf.keras.layers.Dense(512, activation='relu')(x)\n",
        "    preds = tf.keras.layers.Dense(4, activation='softmax')(x)\n",
        "    model = tf.keras.models.Model(inputs = base_Interception.input, outputs = preds)\n",
        "  \n",
        "  return model "
      ],
      "execution_count": null,
      "outputs": []
    },
    {
      "cell_type": "markdown",
      "metadata": {
        "id": "DW12XtJhH_L6"
      },
      "source": [
        "### Modelo VGG19 Para grau de ampliação 400"
      ]
    },
    {
      "cell_type": "code",
      "metadata": {
        "id": "U1_fduTOH711",
        "colab": {
          "base_uri": "https://localhost:8080/"
        },
        "outputId": "1c6231c2-1a86-4bf8-c1bb-1b190c43a405"
      },
      "source": [
        "test_images_VGG19_Classes_400 = test_generator_VGG19.flow_from_dataframe(\n",
        "    dataframe=df_teste_400_classe,\n",
        "    x_col='FikePath',\n",
        "    y_col='classes',\n",
        "    target_size=(224, 224),\n",
        "    color_mode='rgb',\n",
        "    class_mode='categorical',\n",
        "    batch_size=16,\n",
        "    shuffle=False\n",
        ")"
      ],
      "execution_count": null,
      "outputs": [
        {
          "output_type": "stream",
          "name": "stdout",
          "text": [
            "Found 418 validated image filenames belonging to 4 classes.\n"
          ]
        }
      ]
    },
    {
      "cell_type": "code",
      "metadata": {
        "id": "H7K26AkeKDFH",
        "colab": {
          "base_uri": "https://localhost:8080/"
        },
        "outputId": "ad46b4bc-83e5-48e2-f8d7-042608209105"
      },
      "source": [
        "VGG19_classes = build_model_classe(\"VGG19\")\n",
        "VGG19_classes.load_weights('/content/drive/MyDrive/TCC/VGG19_class_teste.h5')\n",
        "opt = Adam(learning_rate=0.0001)\n",
        "VGG19_classes.compile(loss='categorical_crossentropy', optimizer=opt, metrics = ['accuracy'])"
      ],
      "execution_count": null,
      "outputs": [
        {
          "output_type": "stream",
          "name": "stdout",
          "text": [
            "Downloading data from https://storage.googleapis.com/tensorflow/keras-applications/vgg19/vgg19_weights_tf_dim_ordering_tf_kernels_notop.h5\n",
            "80142336/80134624 [==============================] - 1s 0us/step\n",
            "80150528/80134624 [==============================] - 1s 0us/step\n"
          ]
        }
      ]
    },
    {
      "cell_type": "code",
      "metadata": {
        "id": "ipm6jGwyzLqk"
      },
      "source": [
        "pred = VGG19_classes.predict(test_images_VGG19_Classes_400)\n",
        "pred=np.argmax(pred,axis=1)"
      ],
      "execution_count": null,
      "outputs": []
    },
    {
      "cell_type": "code",
      "metadata": {
        "id": "ARplLHda0Lxy"
      },
      "source": [
        "pred_df=df_teste_400_classe.copy()\n",
        "labels={}\n",
        "for l,v in test_images_VGG19_Classes_400.class_indices.items():\n",
        "    labels.update({v:l})\n",
        "pred_df['pred']=pred\n",
        "pred_df['pred']=pred_df['pred'].apply(lambda x: labels[x])"
      ],
      "execution_count": null,
      "outputs": []
    },
    {
      "cell_type": "code",
      "source": [
        "from sklearn.metrics import classification_report"
      ],
      "metadata": {
        "id": "8BEwma7pKInw"
      },
      "execution_count": null,
      "outputs": []
    },
    {
      "cell_type": "code",
      "source": [
        "print(f\"Metrics Score: {classification_report(pred_df['classes'],pred_df['pred'])}\")"
      ],
      "metadata": {
        "colab": {
          "base_uri": "https://localhost:8080/"
        },
        "id": "U5q6O9EUKJkO",
        "outputId": "12a6a92c-f56f-4439-a95a-d97c877f5df7"
      },
      "execution_count": null,
      "outputs": [
        {
          "output_type": "stream",
          "name": "stdout",
          "text": [
            "Accuracy Score:               precision    recall  f1-score   support\n",
            "\n",
            "          DC       0.87      0.61      0.72       244\n",
            "          LC       0.55      0.94      0.70        67\n",
            "          MC       0.58      0.67      0.62        57\n",
            "          PC       0.77      1.00      0.87        50\n",
            "\n",
            "    accuracy                           0.72       418\n",
            "   macro avg       0.69      0.81      0.73       418\n",
            "weighted avg       0.77      0.72      0.72       418\n",
            "\n"
          ]
        }
      ]
    },
    {
      "cell_type": "code",
      "metadata": {
        "colab": {
          "base_uri": "https://localhost:8080/",
          "height": 265
        },
        "id": "XA6oCCwA1ddV",
        "outputId": "309e2622-21bb-4e09-b425-52e6237f9921"
      },
      "source": [
        "sns.heatmap(confusion_matrix(pred_df['classes'],pred_df['pred']), annot=True, fmt='2d', cmap=\"Blues\");"
      ],
      "execution_count": null,
      "outputs": [
        {
          "output_type": "display_data",
          "data": {
            "image/png": "[encoded data removed]",
            "text/plain": [
              "<Figure size 432x288 with 2 Axes>"
            ]
          },
          "metadata": {
            "needs_background": "light"
          }
        }
      ]
    },
    {
      "cell_type": "markdown",
      "metadata": {
        "id": "lZz6jhfjCzhJ"
      },
      "source": [
        "### Modelo VGG19 Para grau de ampliação 200"
      ]
    },
    {
      "cell_type": "code",
      "metadata": {
        "colab": {
          "base_uri": "https://localhost:8080/"
        },
        "id": "u6_jpT4qC0IO",
        "outputId": "4ebd2683-7afe-404d-9960-eef11ce13bf0"
      },
      "source": [
        "test_images_VGG19_Classes_200 = test_generator_VGG19.flow_from_dataframe(\n",
        "    dataframe=df_teste_200_classe,\n",
        "    x_col='FikePath',\n",
        "    y_col='classes',\n",
        "    target_size=(224, 224),\n",
        "    color_mode='rgb',\n",
        "    class_mode='categorical',\n",
        "    batch_size=16,\n",
        "    shuffle=False\n",
        ")"
      ],
      "execution_count": null,
      "outputs": [
        {
          "output_type": "stream",
          "name": "stdout",
          "text": [
            "Found 489 validated image filenames belonging to 4 classes.\n"
          ]
        }
      ]
    },
    {
      "cell_type": "code",
      "metadata": {
        "id": "JyPURFaHFu_p"
      },
      "source": [
        "pred = VGG19_classes.predict(test_images_VGG19_Classes_200)\n",
        "pred=np.argmax(pred,axis=1)"
      ],
      "execution_count": null,
      "outputs": []
    },
    {
      "cell_type": "code",
      "metadata": {
        "id": "saW_SO1YF09e"
      },
      "source": [
        "pred_df=df_teste_200_classe.copy()\n",
        "labels={}\n",
        "for l,v in test_images_VGG19_Classes_200.class_indices.items():\n",
        "    labels.update({v:l})\n",
        "pred_df['pred']=pred\n",
        "pred_df['pred']=pred_df['pred'].apply(lambda x: labels[x])"
      ],
      "execution_count": null,
      "outputs": []
    },
    {
      "cell_type": "code",
      "source": [
        "print(f\"Metrics Score: {classification_report(pred_df['classes'],pred_df['pred'])}\")"
      ],
      "metadata": {
        "colab": {
          "base_uri": "https://localhost:8080/"
        },
        "id": "oqHHh1YMLS9k",
        "outputId": "5296499d-aecf-4610-841e-2a510c1aab82"
      },
      "execution_count": null,
      "outputs": [
        {
          "output_type": "stream",
          "name": "stdout",
          "text": [
            "Metrics Score:               precision    recall  f1-score   support\n",
            "\n",
            "          DC       1.00      0.69      0.82       300\n",
            "          LC       0.56      1.00      0.72        87\n",
            "          MC       0.87      0.98      0.92        55\n",
            "          PC       0.72      1.00      0.84        47\n",
            "\n",
            "    accuracy                           0.81       489\n",
            "   macro avg       0.79      0.92      0.82       489\n",
            "weighted avg       0.88      0.81      0.81       489\n",
            "\n"
          ]
        }
      ]
    },
    {
      "cell_type": "code",
      "metadata": {
        "colab": {
          "base_uri": "https://localhost:8080/",
          "height": 265
        },
        "id": "WAqZfs2NF74A",
        "outputId": "48ffa253-2e72-4f29-b2a9-9a24caf07754"
      },
      "source": [
        "\n",
        "sns.heatmap(confusion_matrix(pred_df['classes'],pred_df['pred']), annot=True, fmt='2d', cmap=\"Blues\");"
      ],
      "execution_count": null,
      "outputs": [
        {
          "output_type": "display_data",
          "data": {
            "image/png": "[encoded data removed]",
            "text/plain": [
              "<Figure size 432x288 with 2 Axes>"
            ]
          },
          "metadata": {
            "needs_background": "light"
          }
        }
      ]
    },
    {
      "cell_type": "markdown",
      "metadata": {
        "id": "ReGgmuJ_nWyB"
      },
      "source": [
        "### Modelo VGG19 Validação geral"
      ]
    },
    {
      "cell_type": "code",
      "metadata": {
        "id": "4qDhW3V0rW-A"
      },
      "source": [
        "VGG19_classes = build_model_classe(\"VGG19\")\n",
        "VGG19_classes.load_weights('/content/drive/MyDrive/TCC/VGG19_class_teste.h5')\n",
        "opt = Adam(learning_rate=0.0001)\n",
        "VGG19_classes.compile(loss='categorical_crossentropy', optimizer=opt, metrics = ['accuracy'])"
      ],
      "execution_count": null,
      "outputs": []
    },
    {
      "cell_type": "code",
      "metadata": {
        "colab": {
          "base_uri": "https://localhost:8080/"
        },
        "id": "5jJTo2S6qw7q",
        "outputId": "c4f81b58-2a76-466b-bd4f-1ac8857ccfa4"
      },
      "source": [
        "df_geral =  montar_data_frame(r'/content/drive/MyDrive/TCC')\n",
        "df_treino = df_geral[df_geral['DataSet'] == 'Tr']\n",
        "df_teste = df_geral[df_geral['DataSet'] == 'Te'][df_geral['Type'] == 'M']"
      ],
      "execution_count": null,
      "outputs": [
        {
          "output_type": "stream",
          "name": "stderr",
          "text": [
            "/usr/local/lib/python3.7/dist-packages/ipykernel_launcher.py:3: UserWarning: Boolean Series key will be reindexed to match DataFrame index.\n",
            "  This is separate from the ipykernel package so we can avoid doing imports until\n"
          ]
        }
      ]
    },
    {
      "cell_type": "code",
      "metadata": {
        "id": "gsG1xbPLqx3i"
      },
      "source": [
        "test_images_VGG19_Classes = tf.keras.preprocessing.image.ImageDataGenerator(\n",
        "    preprocessing_function=tf.keras.applications.vgg19.preprocess_input\n",
        ")"
      ],
      "execution_count": null,
      "outputs": []
    },
    {
      "cell_type": "code",
      "metadata": {
        "id": "AoV1pmetGKuG",
        "colab": {
          "base_uri": "https://localhost:8080/"
        },
        "outputId": "ca3bc938-fb55-4715-c2f3-3aafd0798838"
      },
      "source": [
        "test_images_VGG19 = test_images_VGG19_Classes.flow_from_dataframe(\n",
        "    dataframe=df_teste,\n",
        "    x_col='FikePath',\n",
        "    y_col='classes',\n",
        "    target_size=(224, 224),\n",
        "    color_mode='rgb',\n",
        "    class_mode='categorical',\n",
        "    batch_size=16,\n",
        "    shuffle=False\n",
        ")"
      ],
      "execution_count": null,
      "outputs": [
        {
          "output_type": "stream",
          "name": "stdout",
          "text": [
            "Found 1406 validated image filenames belonging to 4 classes.\n"
          ]
        }
      ]
    },
    {
      "cell_type": "code",
      "metadata": {
        "id": "GAleT9enq3hc"
      },
      "source": [
        "pred = VGG19_classes.predict(test_images_VGG19)\n",
        "pred=np.argmax(pred,axis=1)"
      ],
      "execution_count": null,
      "outputs": []
    },
    {
      "cell_type": "code",
      "metadata": {
        "id": "WfGf-YsgrSOC"
      },
      "source": [
        "pred_df=df_teste.copy()\n",
        "labels={}\n",
        "for l,v in test_images_VGG19.class_indices.items():\n",
        "    labels.update({v:l})\n",
        "pred_df['pred']=pred\n",
        "pred_df['pred']=pred_df['pred'].apply(lambda x: labels[x])"
      ],
      "execution_count": null,
      "outputs": []
    },
    {
      "cell_type": "code",
      "source": [
        "print(f\"Accuracy Score: {classification_report(pred_df['classes'],pred_df['pred'])}\")"
      ],
      "metadata": {
        "colab": {
          "base_uri": "https://localhost:8080/"
        },
        "id": "LS5WhhJ-LarT",
        "outputId": "1c45fadd-1451-47ed-d2af-f4f41b1daa68"
      },
      "execution_count": null,
      "outputs": [
        {
          "output_type": "stream",
          "name": "stdout",
          "text": [
            "Accuracy Score:               precision    recall  f1-score   support\n",
            "\n",
            "          DC       0.93      0.63      0.75       840\n",
            "          LC       0.53      0.86      0.66       241\n",
            "          MC       0.71      0.74      0.73       183\n",
            "          PC       0.56      1.00      0.72       142\n",
            "\n",
            "    accuracy                           0.72      1406\n",
            "   macro avg       0.68      0.81      0.71      1406\n",
            "weighted avg       0.80      0.72      0.73      1406\n",
            "\n"
          ]
        }
      ]
    },
    {
      "cell_type": "code",
      "metadata": {
        "colab": {
          "base_uri": "https://localhost:8080/",
          "height": 282
        },
        "id": "LDkZ0A00rkzw",
        "outputId": "dc6fc3eb-79f2-46ee-9b81-3b394020ad11"
      },
      "source": [
        "\n",
        "sns.heatmap(confusion_matrix(pred_df['classes'],pred_df['pred']), annot=True, fmt='2d', cmap=\"Blues\")"
      ],
      "execution_count": null,
      "outputs": [
        {
          "output_type": "execute_result",
          "data": {
            "text/plain": [
              "<matplotlib.axes._subplots.AxesSubplot at 0x7f6ee7cfab50>"
            ]
          },
          "metadata": {},
          "execution_count": 35
        },
        {
          "output_type": "display_data",
          "data": {
            "image/png": "[encoded data removed]",
            "text/plain": [
              "<Figure size 432x288 with 2 Axes>"
            ]
          },
          "metadata": {
            "needs_background": "light"
          }
        }
      ]
    },
    {
      "cell_type": "markdown",
      "metadata": {
        "id": "8BZDutOrvxUV"
      },
      "source": [
        "### Modelo GoogleNet Para grau de ampliação 400"
      ]
    },
    {
      "cell_type": "code",
      "metadata": {
        "colab": {
          "base_uri": "https://localhost:8080/"
        },
        "id": "SzoPJhihvzEW",
        "outputId": "5c478c2a-68f6-4466-9544-56463d498d88"
      },
      "source": [
        "test_images_googleNet_Classes_400 = test_generator_googleNet.flow_from_dataframe(\n",
        "    dataframe=df_teste_400_classe,\n",
        "    x_col='FikePath',\n",
        "    y_col='classes',\n",
        "    target_size=(224, 224),\n",
        "    color_mode='rgb',\n",
        "    class_mode='categorical',\n",
        "    batch_size=16,\n",
        "    shuffle=False\n",
        ")"
      ],
      "execution_count": null,
      "outputs": [
        {
          "output_type": "stream",
          "name": "stdout",
          "text": [
            "Found 418 validated image filenames belonging to 4 classes.\n"
          ]
        }
      ]
    },
    {
      "cell_type": "code",
      "metadata": {
        "id": "F856jBObwGG8"
      },
      "source": [
        "interception_classes = build_model_classe(\"GoogleNet\")\n",
        "interception_classes.load_weights('/content/drive/MyDrive/TCC/Interception_class_teste.h5')\n",
        "opt = Adam(learning_rate=0.0001)\n",
        "interception_classes.compile(loss='categorical_crossentropy', optimizer=opt, metrics = ['accuracy'])"
      ],
      "execution_count": null,
      "outputs": []
    },
    {
      "cell_type": "code",
      "metadata": {
        "id": "WjaVlp5YwaBl"
      },
      "source": [
        "pred = interception_classes.predict(test_images_googleNet_Classes_400)\n",
        "pred=np.argmax(pred,axis=1)"
      ],
      "execution_count": null,
      "outputs": []
    },
    {
      "cell_type": "code",
      "metadata": {
        "id": "H66hpvRzwqP1"
      },
      "source": [
        "pred_df=df_teste_400_classe.copy()\n",
        "labels={}\n",
        "for l,v in test_images_googleNet_Classes_400.class_indices.items():\n",
        "    labels.update({v:l})\n",
        "pred_df['pred']=pred\n",
        "pred_df['pred']=pred_df['pred'].apply(lambda x: labels[x])"
      ],
      "execution_count": null,
      "outputs": []
    },
    {
      "cell_type": "code",
      "source": [
        "print(f\"Metrics Score: {classification_report(pred_df['classes'],pred_df['pred'])}\")"
      ],
      "metadata": {
        "colab": {
          "base_uri": "https://localhost:8080/"
        },
        "id": "iun5-QKMJXJh",
        "outputId": "ca8bd5e0-be57-4951-b2a7-168e8c867623"
      },
      "execution_count": null,
      "outputs": [
        {
          "output_type": "stream",
          "name": "stdout",
          "text": [
            "Metrics Score:               precision    recall  f1-score   support\n",
            "\n",
            "          DC       1.00      0.84      0.91       244\n",
            "          LC       0.83      0.97      0.90        67\n",
            "          MC       0.90      0.98      0.94        57\n",
            "          PC       0.68      1.00      0.81        50\n",
            "\n",
            "    accuracy                           0.90       418\n",
            "   macro avg       0.85      0.95      0.89       418\n",
            "weighted avg       0.92      0.90      0.90       418\n",
            "\n"
          ]
        }
      ]
    },
    {
      "cell_type": "code",
      "metadata": {
        "colab": {
          "base_uri": "https://localhost:8080/",
          "height": 282
        },
        "id": "u4dOWLZwwx6Y",
        "outputId": "0cddb8ed-f712-41f8-d1d4-371b03d7cae2"
      },
      "source": [
        "print(f\"Accuracy Score: {accuracy_score(pred_df['classes'],pred_df['pred'])}\")\n",
        "sns.heatmap(confusion_matrix(pred_df['classes'],pred_df['pred']), annot=True, fmt='2d', cmap='Greens');"
      ],
      "execution_count": null,
      "outputs": [
        {
          "output_type": "stream",
          "name": "stdout",
          "text": [
            "Accuracy Score: 0.8971291866028708\n"
          ]
        },
        {
          "output_type": "display_data",
          "data": {
            "image/png": "[encoded data removed]",
            "text/plain": [
              "<Figure size 432x288 with 2 Axes>"
            ]
          },
          "metadata": {
            "needs_background": "light"
          }
        }
      ]
    },
    {
      "cell_type": "code",
      "metadata": {
        "id": "mHrRLbGew708"
      },
      "source": [
        ""
      ],
      "execution_count": null,
      "outputs": []
    },
    {
      "cell_type": "markdown",
      "metadata": {
        "id": "dW84VapiyHo8"
      },
      "source": [
        "### Modelo GoogleNet Para grau de ampliação 200"
      ]
    },
    {
      "cell_type": "code",
      "metadata": {
        "colab": {
          "base_uri": "https://localhost:8080/"
        },
        "id": "LlodXOl-yiDF",
        "outputId": "2b63019e-68b5-4a71-cdd3-b9b6869078c4"
      },
      "source": [
        "test_images_googleNet_Classes_200 = test_generator_googleNet.flow_from_dataframe(\n",
        "    dataframe=df_teste_200_classe,\n",
        "    x_col='FikePath',\n",
        "    y_col='classes',\n",
        "    target_size=(224, 224),\n",
        "    color_mode='rgb',\n",
        "    class_mode='categorical',\n",
        "    batch_size=16,\n",
        "      shuffle=False\n",
        ")"
      ],
      "execution_count": null,
      "outputs": [
        {
          "output_type": "stream",
          "name": "stdout",
          "text": [
            "Found 489 validated image filenames belonging to 4 classes.\n"
          ]
        }
      ]
    },
    {
      "cell_type": "code",
      "metadata": {
        "id": "3qBJOXRnymNs"
      },
      "source": [
        "pred = interception_classes.predict(test_images_googleNet_Classes_200)\n",
        "pred=np.argmax(pred,axis=1)"
      ],
      "execution_count": null,
      "outputs": []
    },
    {
      "cell_type": "code",
      "metadata": {
        "id": "_BjbGUFvytju"
      },
      "source": [
        "pred_df=df_teste_200_classe.copy()\n",
        "labels={}\n",
        "for l,v in test_images_googleNet_Classes_200.class_indices.items():\n",
        "    labels.update({v:l})\n",
        "pred_df['pred']=pred\n",
        "pred_df['pred']=pred_df['pred'].apply(lambda x: labels[x])"
      ],
      "execution_count": null,
      "outputs": []
    },
    {
      "cell_type": "code",
      "source": [
        "print(f\"Metrics Score: {classification_report(pred_df['classes'],pred_df['pred'])}\")"
      ],
      "metadata": {
        "colab": {
          "base_uri": "https://localhost:8080/"
        },
        "id": "etgd6gM9JoAx",
        "outputId": "4d00e501-414d-47c2-f04e-e88bec92af95"
      },
      "execution_count": null,
      "outputs": [
        {
          "output_type": "stream",
          "name": "stdout",
          "text": [
            "Metrics Score:               precision    recall  f1-score   support\n",
            "\n",
            "          DC       1.00      0.90      0.95       300\n",
            "          LC       0.86      1.00      0.93        87\n",
            "          MC       0.93      0.98      0.96        55\n",
            "          PC       0.81      1.00      0.90        47\n",
            "\n",
            "    accuracy                           0.94       489\n",
            "   macro avg       0.90      0.97      0.93       489\n",
            "weighted avg       0.95      0.94      0.94       489\n",
            "\n"
          ]
        }
      ]
    },
    {
      "cell_type": "code",
      "metadata": {
        "colab": {
          "base_uri": "https://localhost:8080/",
          "height": 282
        },
        "id": "EP3IEma-yyas",
        "outputId": "a7be7491-2a2f-40c9-fd9c-cfb52926bd8d"
      },
      "source": [
        "print(f\"Accuracy Score: {accuracy_score(pred_df['classes'],pred_df['pred'])}\")\n",
        "sns.heatmap(confusion_matrix(pred_df['classes'],pred_df['pred']), annot=True, fmt='2d', cmap='Greens');"
      ],
      "execution_count": null,
      "outputs": [
        {
          "output_type": "stream",
          "name": "stdout",
          "text": [
            "Accuracy Score: 0.9386503067484663\n"
          ]
        },
        {
          "output_type": "display_data",
          "data": {
            "image/png": "[encoded data removed]",
            "text/plain": [
              "<Figure size 432x288 with 2 Axes>"
            ]
          },
          "metadata": {
            "needs_background": "light"
          }
        }
      ]
    },
    {
      "cell_type": "code",
      "metadata": {
        "id": "L21TA2L2y0v1"
      },
      "source": [
        ""
      ],
      "execution_count": null,
      "outputs": []
    },
    {
      "cell_type": "markdown",
      "metadata": {
        "id": "WnKqeD0czlck"
      },
      "source": [
        "### Modelo GoogleNet Validação geral"
      ]
    },
    {
      "cell_type": "code",
      "metadata": {
        "colab": {
          "base_uri": "https://localhost:8080/"
        },
        "id": "N8SKh87Yzm_T",
        "outputId": "d7de3479-c848-47c9-815b-a6823ba157ca"
      },
      "source": [
        "df_geral =  montar_data_frame(r'/content/drive/MyDrive/TCC')\n",
        "df_treino = df_geral[df_geral['DataSet'] == 'Tr']\n",
        "df_teste = df_geral[df_geral['DataSet'] == 'Te'][df_geral['Type'] == 'M']"
      ],
      "execution_count": null,
      "outputs": [
        {
          "output_type": "stream",
          "name": "stderr",
          "text": [
            "/usr/local/lib/python3.7/dist-packages/ipykernel_launcher.py:3: UserWarning: Boolean Series key will be reindexed to match DataFrame index.\n",
            "  This is separate from the ipykernel package so we can avoid doing imports until\n"
          ]
        }
      ]
    },
    {
      "cell_type": "code",
      "metadata": {
        "colab": {
          "base_uri": "https://localhost:8080/"
        },
        "id": "tf_pKGGY0BL1",
        "outputId": "7af84c57-22b2-41e2-ae37-7a3f6ab3dd10"
      },
      "source": [
        "test_images_googleNet = test_generator_googleNet.flow_from_dataframe(\n",
        "    dataframe=df_teste,\n",
        "    x_col='FikePath',\n",
        "    y_col='classes',\n",
        "    target_size=(224, 224),\n",
        "    color_mode='rgb',\n",
        "    class_mode='categorical',\n",
        "    batch_size=16,\n",
        "    shuffle=False\n",
        ")"
      ],
      "execution_count": null,
      "outputs": [
        {
          "output_type": "stream",
          "name": "stdout",
          "text": [
            "Found 1406 validated image filenames belonging to 4 classes.\n"
          ]
        }
      ]
    },
    {
      "cell_type": "code",
      "metadata": {
        "id": "wCdIU6Ce0fJF"
      },
      "source": [
        "pred = interception_classes.predict(test_images_googleNet)\n",
        "pred=np.argmax(pred,axis=1)"
      ],
      "execution_count": null,
      "outputs": []
    },
    {
      "cell_type": "code",
      "metadata": {
        "id": "H5ntLtEZ0_DN"
      },
      "source": [
        "pred_df=df_teste.copy()\n",
        "labels={}\n",
        "for l,v in test_images_googleNet.class_indices.items():\n",
        "    labels.update({v:l})\n",
        "pred_df['pred']=pred\n",
        "pred_df['pred']=pred_df['pred'].apply(lambda x: labels[x])"
      ],
      "execution_count": null,
      "outputs": []
    },
    {
      "cell_type": "code",
      "source": [
        "print(f\"Metrics Score: {classification_report(pred_df['classes'],pred_df['pred'])}\")"
      ],
      "metadata": {
        "colab": {
          "base_uri": "https://localhost:8080/"
        },
        "id": "L9Qz2p21JknY",
        "outputId": "b342a934-af75-4310-e162-3dc7435834e7"
      },
      "execution_count": null,
      "outputs": [
        {
          "output_type": "stream",
          "name": "stdout",
          "text": [
            "Metrics Score:               precision    recall  f1-score   support\n",
            "\n",
            "          DC       0.88      0.89      0.89       840\n",
            "          LC       0.84      0.74      0.78       241\n",
            "          MC       0.85      0.76      0.80       183\n",
            "          PC       0.72      0.91      0.81       142\n",
            "\n",
            "    accuracy                           0.85      1406\n",
            "   macro avg       0.82      0.82      0.82      1406\n",
            "weighted avg       0.85      0.85      0.85      1406\n",
            "\n"
          ]
        }
      ]
    },
    {
      "cell_type": "code",
      "metadata": {
        "colab": {
          "base_uri": "https://localhost:8080/",
          "height": 282
        },
        "id": "Lc1mMalU1DEr",
        "outputId": "32a86211-efa9-4739-be67-07cc9b6d8be0"
      },
      "source": [
        "print(f\"Accuracy Score: {accuracy_score(pred_df['classes'],pred_df['pred'])}\")\n",
        "sns.heatmap(confusion_matrix(pred_df['classes'],pred_df['pred']), annot=True, fmt='2d', cmap='Greens');"
      ],
      "execution_count": null,
      "outputs": [
        {
          "output_type": "stream",
          "name": "stdout",
          "text": [
            "Accuracy Score: 0.8499288762446657\n"
          ]
        },
        {
          "output_type": "display_data",
          "data": {
            "image/png": "[encoded data removed]",
            "text/plain": [
              "<Figure size 432x288 with 2 Axes>"
            ]
          },
          "metadata": {
            "needs_background": "light"
          }
        }
      ]
    },
    {
      "cell_type": "code",
      "metadata": {
        "id": "OjwE4xjP1FBN"
      },
      "source": [
        ""
      ],
      "execution_count": null,
      "outputs": []
    },
    {
      "cell_type": "markdown",
      "metadata": {
        "id": "kE0m3W8gy9N2"
      },
      "source": [
        "### Modelo ResNet Para grau de ampliação 400\n",
        "\n",
        "\n"
      ]
    },
    {
      "cell_type": "code",
      "metadata": {
        "colab": {
          "base_uri": "https://localhost:8080/"
        },
        "id": "O7W01gpPzDVV",
        "outputId": "ef0770e6-c70a-43f5-e406-4af962395f1e"
      },
      "source": [
        "test_images_Resnet_Classes_400 = test_generator_ResNet.flow_from_dataframe(\n",
        "    dataframe=df_teste_400_classe,\n",
        "    x_col='FikePath',\n",
        "    y_col='classes',\n",
        "    target_size=(224, 224),\n",
        "    color_mode='rgb',\n",
        "    class_mode='categorical',\n",
        "    batch_size=16,\n",
        "    shuffle=False\n",
        ")"
      ],
      "execution_count": null,
      "outputs": [
        {
          "output_type": "stream",
          "name": "stdout",
          "text": [
            "Found 418 validated image filenames belonging to 4 classes.\n"
          ]
        }
      ]
    },
    {
      "cell_type": "code",
      "metadata": {
        "id": "we59694PzrGk"
      },
      "source": [
        "ResNet_classes = build_model_classe(\"Resnet\")\n",
        "ResNet_classes.load_weights('/content/drive/MyDrive/TCC/RESNET_classe_teste2.h5')\n",
        "opt = Adam(learning_rate=0.0001)\n",
        "ResNet_classes.compile(loss='categorical_crossentropy', optimizer=opt, metrics = ['accuracy'])"
      ],
      "execution_count": null,
      "outputs": []
    },
    {
      "cell_type": "code",
      "metadata": {
        "id": "6q1_8QyBz6-d"
      },
      "source": [
        "pred = ResNet_classes.predict(test_images_Resnet_Classes_400)\n",
        "pred=np.argmax(pred,axis=1)"
      ],
      "execution_count": null,
      "outputs": []
    },
    {
      "cell_type": "code",
      "metadata": {
        "id": "8ycQ4JBW0LNl"
      },
      "source": [
        "pred_df=df_teste_400_classe.copy()\n",
        "labels={}\n",
        "for l,v in test_images_Resnet_Classes_400.class_indices.items():\n",
        "    labels.update({v:l})\n",
        "pred_df['pred']=pred\n",
        "pred_df['pred']=pred_df['pred'].apply(lambda x: labels[x])"
      ],
      "execution_count": null,
      "outputs": []
    },
    {
      "cell_type": "code",
      "source": [
        "print(f\"Metrics Score: {classification_report(pred_df['classes'],pred_df['pred'])}\")"
      ],
      "metadata": {
        "colab": {
          "base_uri": "https://localhost:8080/"
        },
        "id": "Am5lafivhreH",
        "outputId": "052f6e33-4134-408f-b2ca-a0430fe57be7"
      },
      "execution_count": null,
      "outputs": [
        {
          "output_type": "stream",
          "name": "stdout",
          "text": [
            "Metrics Score:               precision    recall  f1-score   support\n",
            "\n",
            "          DC       0.87      0.88      0.88       244\n",
            "          LC       0.98      0.60      0.74        67\n",
            "          MC       1.00      0.98      0.99        57\n",
            "          PC       0.62      0.92      0.74        50\n",
            "\n",
            "    accuracy                           0.85       418\n",
            "   macro avg       0.87      0.85      0.84       418\n",
            "weighted avg       0.88      0.85      0.85       418\n",
            "\n"
          ]
        }
      ]
    },
    {
      "cell_type": "code",
      "metadata": {
        "colab": {
          "base_uri": "https://localhost:8080/",
          "height": 282
        },
        "id": "vnf90GMn0d_u",
        "outputId": "cce41997-2a9f-4630-e658-77e5dea0a920"
      },
      "source": [
        "print(f\"Accuracy Score: {accuracy_score(pred_df['classes'],pred_df['pred'])}\")\n",
        "sns.heatmap(confusion_matrix(pred_df['classes'],pred_df['pred']), annot=True, fmt='2d', cmap='Reds');"
      ],
      "execution_count": null,
      "outputs": [
        {
          "output_type": "stream",
          "name": "stdout",
          "text": [
            "Accuracy Score: 0.854066985645933\n"
          ]
        },
        {
          "output_type": "display_data",
          "data": {
            "image/png": "[encoded data removed]",
            "text/plain": [
              "<Figure size 432x288 with 2 Axes>"
            ]
          },
          "metadata": {
            "needs_background": "light"
          }
        }
      ]
    },
    {
      "cell_type": "code",
      "metadata": {
        "id": "7qchj1M-0fxs"
      },
      "source": [
        ""
      ],
      "execution_count": null,
      "outputs": []
    },
    {
      "cell_type": "markdown",
      "metadata": {
        "id": "FLjp8joRJq6m"
      },
      "source": [
        "### Modelo ResNet Para grau de ampliação 200"
      ]
    },
    {
      "cell_type": "code",
      "metadata": {
        "id": "VmfjqQ3HJu7k",
        "colab": {
          "base_uri": "https://localhost:8080/"
        },
        "outputId": "c381145f-7dca-4700-928b-8e575239d8e7"
      },
      "source": [
        "test_images_Resnet_Classes_200 = test_generator_ResNet.flow_from_dataframe(\n",
        "    dataframe=df_teste_200_classe,\n",
        "    x_col='FikePath',\n",
        "    y_col='classes',\n",
        "    target_size=(224, 224),\n",
        "    color_mode='rgb',\n",
        "    class_mode='categorical',\n",
        "    batch_size=16,\n",
        "    shuffle=False\n",
        ")"
      ],
      "execution_count": null,
      "outputs": [
        {
          "output_type": "stream",
          "name": "stdout",
          "text": [
            "Found 489 validated image filenames belonging to 4 classes.\n"
          ]
        }
      ]
    },
    {
      "cell_type": "code",
      "metadata": {
        "id": "kW7V1NPHJzwc"
      },
      "source": [
        "ResNet_classes = build_model_classe(\"Resnet\")\n",
        "ResNet_classes.load_weights('/content/drive/MyDrive/TCC/RESNET_classe_teste2.h5')\n",
        "opt = Adam(learning_rate=0.0001)\n",
        "ResNet_classes.compile(loss='categorical_crossentropy', optimizer=opt, metrics = ['accuracy'])"
      ],
      "execution_count": null,
      "outputs": []
    },
    {
      "cell_type": "code",
      "metadata": {
        "id": "Pmbz4TduJ3u8"
      },
      "source": [
        "pred = ResNet_classes.predict(test_images_Resnet_Classes_200)\n",
        "pred=np.argmax(pred,axis=1)"
      ],
      "execution_count": null,
      "outputs": []
    },
    {
      "cell_type": "code",
      "metadata": {
        "id": "ADti9PG1J7Kr"
      },
      "source": [
        "pred_df=df_teste_200_classe.copy()\n",
        "labels={}\n",
        "for l,v in test_images_Resnet_Classes_200.class_indices.items():\n",
        "    labels.update({v:l})\n",
        "pred_df['pred']=pred\n",
        "pred_df['pred']=pred_df['pred'].apply(lambda x: labels[x])"
      ],
      "execution_count": null,
      "outputs": []
    },
    {
      "cell_type": "code",
      "source": [
        "print(f\"Metrics Score: {classification_report(pred_df['classes'],pred_df['pred'])}\")"
      ],
      "metadata": {
        "colab": {
          "base_uri": "https://localhost:8080/"
        },
        "id": "d79T9YM-atxR",
        "outputId": "b694c7ea-fc98-4606-e35c-6abb52380159"
      },
      "execution_count": null,
      "outputs": [
        {
          "output_type": "stream",
          "name": "stdout",
          "text": [
            "Metrics Score:               precision    recall  f1-score   support\n",
            "\n",
            "          DC       0.96      0.87      0.91       300\n",
            "          LC       0.93      0.89      0.91        87\n",
            "          MC       0.95      0.98      0.96        55\n",
            "          PC       0.61      1.00      0.76        47\n",
            "\n",
            "    accuracy                           0.90       489\n",
            "   macro avg       0.86      0.93      0.89       489\n",
            "weighted avg       0.92      0.90      0.90       489\n",
            "\n"
          ]
        }
      ]
    },
    {
      "cell_type": "code",
      "metadata": {
        "id": "DzbiU2pdJ__8",
        "colab": {
          "base_uri": "https://localhost:8080/",
          "height": 282
        },
        "outputId": "0fbcb89d-0357-451f-cce9-fc6f0f54698b"
      },
      "source": [
        "print(f\"Accuracy Score: {accuracy_score(pred_df['classes'],pred_df['pred'])}\")\n",
        "sns.heatmap(confusion_matrix(pred_df['classes'],pred_df['pred']), annot=True, fmt='2d', cmap='Reds');"
      ],
      "execution_count": null,
      "outputs": [
        {
          "output_type": "stream",
          "name": "stdout",
          "text": [
            "Accuracy Score: 0.8977505112474438\n"
          ]
        },
        {
          "output_type": "display_data",
          "data": {
            "image/png": "[encoded data removed]",
            "text/plain": [
              "<Figure size 432x288 with 2 Axes>"
            ]
          },
          "metadata": {
            "needs_background": "light"
          }
        }
      ]
    },
    {
      "cell_type": "code",
      "source": [
        ""
      ],
      "metadata": {
        "id": "B9h2swOgiC2n"
      },
      "execution_count": null,
      "outputs": []
    },
    {
      "cell_type": "markdown",
      "source": [
        "### Modelo ResNet Validação geral\n",
        "\n"
      ],
      "metadata": {
        "id": "ZV0x_eI1Pa-7"
      }
    },
    {
      "cell_type": "code",
      "source": [
        "df_geral =  montar_data_frame(r'/content/drive/MyDrive/TCC')\n",
        "df_treino = df_geral[df_geral['DataSet'] == 'Tr']\n",
        "df_teste = df_geral[df_geral['DataSet'] == 'Te'][df_geral['Type'] == 'M']"
      ],
      "metadata": {
        "colab": {
          "base_uri": "https://localhost:8080/"
        },
        "id": "7OZfEfz7Ph9a",
        "outputId": "67e50d72-cb25-47a7-b4c0-998e6ee6254b"
      },
      "execution_count": null,
      "outputs": [
        {
          "output_type": "stream",
          "name": "stderr",
          "text": [
            "/usr/local/lib/python3.7/dist-packages/ipykernel_launcher.py:3: UserWarning: Boolean Series key will be reindexed to match DataFrame index.\n",
            "  This is separate from the ipykernel package so we can avoid doing imports until\n"
          ]
        }
      ]
    },
    {
      "cell_type": "code",
      "source": [
        "test_images_ResNet = test_generator_ResNet.flow_from_dataframe(\n",
        "    dataframe=df_teste,\n",
        "    x_col='FikePath',\n",
        "    y_col='classes',\n",
        "    target_size=(224, 224),\n",
        "    color_mode='rgb',\n",
        "    class_mode='categorical',\n",
        "    batch_size=16,\n",
        "    shuffle=False\n",
        ")"
      ],
      "metadata": {
        "colab": {
          "base_uri": "https://localhost:8080/"
        },
        "id": "ALUITOMGPliu",
        "outputId": "44d71aef-e6a9-487b-a021-561da1e2d3ae"
      },
      "execution_count": null,
      "outputs": [
        {
          "output_type": "stream",
          "name": "stdout",
          "text": [
            "Found 1406 validated image filenames belonging to 4 classes.\n"
          ]
        }
      ]
    },
    {
      "cell_type": "code",
      "source": [
        "ResNet_classes = build_model_classe(\"Resnet\")\n",
        "ResNet_classes.load_weights('/content/drive/MyDrive/TCC/RESNET_classe_teste2.h5')\n",
        "opt = Adam(learning_rate=0.0001)\n",
        "ResNet_classes.compile(loss='categorical_crossentropy', optimizer=opt, metrics = ['accuracy'])"
      ],
      "metadata": {
        "colab": {
          "base_uri": "https://localhost:8080/"
        },
        "id": "7_enKxhVPr_z",
        "outputId": "ee22c7f5-cdb1-424b-964a-e58f8206b218"
      },
      "execution_count": null,
      "outputs": [
        {
          "output_type": "stream",
          "name": "stdout",
          "text": [
            "Downloading data from https://storage.googleapis.com/tensorflow/keras-applications/resnet/resnet50_weights_tf_dim_ordering_tf_kernels_notop.h5\n",
            "94773248/94765736 [==============================] - 1s 0us/step\n",
            "94781440/94765736 [==============================] - 1s 0us/step\n"
          ]
        }
      ]
    },
    {
      "cell_type": "code",
      "source": [
        "pred = ResNet_classes.predict(test_images_ResNet)\n",
        "pred=np.argmax(pred,axis=1)"
      ],
      "metadata": {
        "id": "s0_d9_ahPuoc"
      },
      "execution_count": null,
      "outputs": []
    },
    {
      "cell_type": "code",
      "source": [
        ""
      ],
      "metadata": {
        "id": "wfRxQnEZQZuN"
      },
      "execution_count": null,
      "outputs": []
    },
    {
      "cell_type": "code",
      "source": [
        "pred_df=df_teste.copy()\n",
        "labels={}\n",
        "for l,v in test_images_ResNet.class_indices.items():\n",
        "    labels.update({v:l})\n",
        "pred_df['pred']=pred\n",
        "pred_df['pred']=pred_df['pred'].apply(lambda x: labels[x])"
      ],
      "metadata": {
        "id": "eQ3kifybQc4O"
      },
      "execution_count": null,
      "outputs": []
    },
    {
      "cell_type": "code",
      "source": [
        "print(f\"Metrics Score: {classification_report(pred_df['classes'],pred_df['pred'])}\")"
      ],
      "metadata": {
        "colab": {
          "base_uri": "https://localhost:8080/"
        },
        "id": "Gd6xeYyXQrc1",
        "outputId": "422893dc-4e89-4c1d-9003-49cd32ba7de3"
      },
      "execution_count": null,
      "outputs": [
        {
          "output_type": "stream",
          "name": "stdout",
          "text": [
            "Metrics Score:               precision    recall  f1-score   support\n",
            "\n",
            "          DC       0.88      0.86      0.87       840\n",
            "          LC       0.93      0.67      0.78       241\n",
            "          MC       0.98      0.83      0.90       183\n",
            "          PC       0.53      0.97      0.69       142\n",
            "\n",
            "    accuracy                           0.84      1406\n",
            "   macro avg       0.83      0.83      0.81      1406\n",
            "weighted avg       0.87      0.84      0.84      1406\n",
            "\n"
          ]
        }
      ]
    },
    {
      "cell_type": "code",
      "source": [
        "print(f\"Accuracy Score: {accuracy_score(pred_df['classes'],pred_df['pred'])}\")\n",
        "sns.heatmap(confusion_matrix(pred_df['classes'],pred_df['pred']), annot=True, fmt='2d', cmap='Reds');"
      ],
      "metadata": {
        "colab": {
          "base_uri": "https://localhost:8080/",
          "height": 72
        },
        "id": "asZz-ATxQvPi",
        "outputId": "92e9994e-0da9-48c3-f60e-552317122f9e"
      },
      "execution_count": null,
      "outputs": [
        {
          "output_type": "stream",
          "name": "stdout",
          "text": [
            "Accuracy Score: 0.8357041251778093\n"
          ]
        },
        {
          "output_type": "display_data",
          "data": {
            "image/png": "[encoded data removed]",
            "text/plain": [
              "<Figure size 432x288 with 2 Axes>"
            ]
          },
          "metadata": {
            "needs_background": "light"
          }
        }
      ]
    },
    {
      "cell_type": "code",
      "source": [
        ""
      ],
      "metadata": {
        "id": "JssgaUArQzuU"
      },
      "execution_count": null,
      "outputs": []
    }
  ]
}