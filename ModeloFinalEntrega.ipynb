{
  "nbformat": 4,
  "nbformat_minor": 0,
  "metadata": {
    "colab": {
      "name": "ModeloFinalEntrega.ipynb",
      "provenance": [],
      "collapsed_sections": [
        "pZfhpjxA8bnu",
        "sY8ZjlSNHTIf",
        "Z0YLEesr-R4I",
        "joc-rJNbAqzl",
        "xoiMGEgsCmKC",
        "d3lkK8iRFdOq",
        "1oDUvdO8GE1h",
        "YulCMj-tG3af",
        "x3dJF6k_G_4n",
        "cwT8Q2bzHysc",
        "Fs5TG2xuJe0z",
        "d4L54uYZeh7C",
        "dG9qQrpEewtK",
        "QdIMjyqDfIJ9",
        "tRR8rt6xoaPi",
        "f53qdkjkstTf",
        "RlvQMhH06QzK",
        "DW12XtJhH_L6",
        "lZz6jhfjCzhJ",
        "ReGgmuJ_nWyB",
        "8BZDutOrvxUV",
        "dW84VapiyHo8",
        "kE0m3W8gy9N2",
        "FLjp8joRJq6m",
        "ZV0x_eI1Pa-7",
        "9QHNo_I_0Sif",
        "KeIoNUSXxn8e",
        "_IB-FHLFyM0t",
        "l6QXrYZ3z4i2",
        "fxFhb0vy0wHu"
      ],
      "mount_file_id": "1I0TfqrSGhfxYp4L-4z9CWM6OmshQBHBK",
      "authorship_tag": "ABX9TyM3XGXj3DoUhSMbfepCQG46",
      "include_colab_link": true
    },
    "kernelspec": {
      "name": "python3",
      "display_name": "Python 3"
    },
    "language_info": {
      "name": "python"
    }
  },
  "cells": [
    {
      "cell_type": "markdown",
      "metadata": {
        "id": "view-in-github",
        "colab_type": "text"
      },
      "source": [
        "<a href=\"https://colab.research.google.com/github/RodrigoOBC/TCC-CienciaDados/blob/Modelo_local/ModeloFinalEntrega.ipynb\" target=\"_parent\"><img src=\"https://colab.research.google.com/assets/colab-badge.svg\" alt=\"Open In Colab\"/></a>"
      ]
    },
    {
      "cell_type": "markdown",
      "metadata": {
        "id": "pZfhpjxA8bnu"
      },
      "source": [
        "#Fluxo Independente\n",
        "\n",
        "Para realizar o download da base de dados é só entrar no seguinte link:\n",
        "\n",
        "https://drive.google.com/drive/folders/1VQpWhlzK__2EUfd4CMeUWQ8-wAHaWGeT?usp=sharing\n",
        "\n",
        "\n",
        "Inicialmente, importaremos as Bibliotecas necessárias para a criação do modelo.A principais bibliotecas serão\"TensorFlow\"para criação das estruturas da \"RedeNeural\"e\"Pandas\"para criação e manipulação dos\"DataFremes\""
      ]
    },
    {
      "cell_type": "markdown",
      "metadata": {
        "id": "sY8ZjlSNHTIf"
      },
      "source": [
        "## Importa Bibliotecas"
      ]
    },
    {
      "cell_type": "code",
      "metadata": {
        "id": "jgqaKK1X8X2w"
      },
      "source": [
        "import re\n",
        "from tensorflow.keras.layers import *\n",
        "from tensorflow.keras.optimizers import *\n",
        "import seaborn as sns\n",
        "from tensorflow.keras.models import *\n",
        "from tensorflow.keras.preprocessing.image import *\n",
        "from tensorflow.keras.callbacks import *\n",
        "from tensorflow.keras import layers, models, metrics\n",
        "from tensorflow.keras.applications.efficientnet import *\n",
        "from sklearn.metrics import confusion_matrix, classification_report, accuracy_score\n",
        "from sklearn.model_selection import train_test_split\n",
        "from tensorflow.keras.applications.inception_v3 import InceptionV3\n",
        "from tensorflow.keras.applications.vgg19 import VGG19 \n",
        "from tensorflow.keras.applications.resnet50 import ResNet50\n",
        "import matplotlib.pyplot as plt\n",
        "from sklearn.model_selection import train_test_split, StratifiedKFold\n",
        "from sklearn.metrics import precision_score, recall_score,f1_score \n",
        "import cv2\n",
        "from glob import glob\n",
        "from random import shuffle\n",
        "import tensorflow as tf \n",
        "import numpy as np\n",
        "import pandas as pd\n",
        "from pathlib import Path\n",
        "import os.path"
      ],
      "execution_count": null,
      "outputs": []
    },
    {
      "cell_type": "markdown",
      "metadata": {
        "id": "Z0YLEesr-R4I"
      },
      "source": [
        "##Declaração de constantes\n",
        "\n",
        "Declaração de algumas constantes, como: caminho principal dos dados, tamanho das imagens, o \"BatchSize\" e o número de \"Epocas\" padrão no treinamento. Usamos por padrão \"25 épocas\" e formos aumentando conforme o necessário"
      ]
    },
    {
      "cell_type": "code",
      "metadata": {
        "id": "qBRKgvOz-RhK"
      },
      "source": [
        "AUTOTUNE = tf.data.experimental.AUTOTUNE\n",
        "GCS_PATH = r'/content/drive/MyDrive/TCC'\n",
        "BATCH_SIZE = 32\n",
        "IMAGE_SIZE = [224, 224]\n",
        "EPOCHS = 25"
      ],
      "execution_count": null,
      "outputs": []
    },
    {
      "cell_type": "markdown",
      "metadata": {
        "id": "joc-rJNbAqzl"
      },
      "source": [
        "## Criação dos DataFremes\n",
        "\n"
      ]
    },
    {
      "cell_type": "code",
      "metadata": {
        "id": "mgNOuJwPApwo"
      },
      "source": [
        "def montar_nome(path):\n",
        "    nome_file = []\n",
        "    file_path = []\n",
        "    x = 0\n",
        "    for p, _, files in os.walk(os.path.abspath(path)):\n",
        "        for file_name in files:\n",
        "            nome_file.append(file_name)\n",
        "            file_path.append(p+'//'+file_name)\n",
        "    return nome_file, file_path\n",
        "    \n",
        "def selecionar_classe(nomes):\n",
        "    classe = []\n",
        "    for nome in nomes:\n",
        "        nome = ''.join([i for i in nome if not i.isdigit()])\n",
        "        nome = nome.split('.')[0]\n",
        "        if \"TA\" == nome:\n",
        "            classe.append('TA')\n",
        "        elif \"DCI\" == nome:\n",
        "            classe.append('DCI')\n",
        "        elif \"F\" == nome:\n",
        "            classe.append('F')\n",
        "        elif \"PT\" == nome:\n",
        "            classe.append('PT')\n",
        "        elif \"DC\" == nome:\n",
        "            classe.append('DC')\n",
        "        elif \"LC\" == nome:\n",
        "            classe.append('LC')\n",
        "        elif \"MC\" == nome:\n",
        "            classe.append('MC')\n",
        "        elif \"PC\" == nome:\n",
        "            classe.append('PC')\n",
        "        elif 'A' == nome:\n",
        "            classe.append('A')\n",
        "    return classe\n",
        "\n",
        "def pegar_tipos(file_path):\n",
        "    tipo = []\n",
        "    for path in file_path:\n",
        "        path = path.split('/')[8]\n",
        "        if 'B' in path:\n",
        "            tipo.append('B')\n",
        "        if 'M' in path:\n",
        "            tipo.append('M')\n",
        "    return tipo\n",
        "\n",
        "def pegar_ampliacao(file_path):\n",
        "    ampliacao = []\n",
        "    for path in file_path:\n",
        "        if '40x' in path:\n",
        "            ampliacao.append('40x')\n",
        "        elif '100x' in path:\n",
        "            ampliacao.append('100x')\n",
        "        elif '200x' in path:\n",
        "            ampliacao.append('200x')\n",
        "        elif '400x' in path:\n",
        "            ampliacao.append('400x')\n",
        "    return ampliacao\n",
        "\n",
        "def pegar_origem(file_path):\n",
        "    origem = []\n",
        "    for path in file_path:\n",
        "        if 'treino' in path:\n",
        "            origem.append('Te')\n",
        "        elif 'Teste' in path:\n",
        "            origem.append('Tr')\n",
        "    return origem\n",
        "\n",
        "def montar_data_frame(path):\n",
        "    nome_file, file_path = montar_nome(path)\n",
        "    classes = selecionar_classe(nome_file)\n",
        "    tipos = pegar_tipos(file_path)\n",
        "    ampliacaos = pegar_ampliacao(file_path)\n",
        "    origem = pegar_origem(file_path)\n",
        "    data = {'FikePath': file_path, 'Type': tipos, 'classes':classes,'Magnification':ampliacaos, 'DataSet':origem}\n",
        "    df = pd.DataFrame.from_dict(data, orient='index')\n",
        "    df = df.transpose()\n",
        "    return df"
      ],
      "execution_count": null,
      "outputs": []
    },
    {
      "cell_type": "code",
      "metadata": {
        "id": "bSVBTMtSCaiG"
      },
      "source": [
        "df_geral =  montar_data_frame(r'/content/drive/MyDrive/TCC/Imagens')\n",
        "df_treino = df_geral[df_geral['DataSet'] == 'Tr']\n",
        "df_teste = df_geral[df_geral['DataSet'] == 'Te']"
      ],
      "execution_count": null,
      "outputs": []
    },
    {
      "cell_type": "code",
      "metadata": {
        "id": "QSZaGVFvCb5W",
        "colab": {
          "base_uri": "https://localhost:8080/"
        },
        "outputId": "f8cfd0b6-1a7b-4188-cd01-46366af94ff2"
      },
      "source": [
        "df_treino.head()"
      ],
      "execution_count": null,
      "outputs": [
        {
          "output_type": "execute_result",
          "data": {
            "text/html": [
              "\n",
              "  <div id=\"df-d0840d02-64a8-4fa6-bdc9-1fbd1eadb2d2\">\n",
              "    <div class=\"colab-df-container\">\n",
              "      <div>\n",
              "<style scoped>\n",
              "    .dataframe tbody tr th:only-of-type {\n",
              "        vertical-align: middle;\n",
              "    }\n",
              "\n",
              "    .dataframe tbody tr th {\n",
              "        vertical-align: top;\n",
              "    }\n",
              "\n",
              "    .dataframe thead th {\n",
              "        text-align: right;\n",
              "    }\n",
              "</style>\n",
              "<table border=\"1\" class=\"dataframe\">\n",
              "  <thead>\n",
              "    <tr style=\"text-align: right;\">\n",
              "      <th></th>\n",
              "      <th>FikePath</th>\n",
              "      <th>Type</th>\n",
              "      <th>classes</th>\n",
              "      <th>Magnification</th>\n",
              "      <th>DataSet</th>\n",
              "    </tr>\n",
              "  </thead>\n",
              "  <tbody>\n",
              "    <tr>\n",
              "      <th>0</th>\n",
              "      <td>/content/drive/MyDrive/TCC/Imagens/400x/400x_T...</td>\n",
              "      <td>M</td>\n",
              "      <td>DC</td>\n",
              "      <td>400x</td>\n",
              "      <td>Tr</td>\n",
              "    </tr>\n",
              "    <tr>\n",
              "      <th>1</th>\n",
              "      <td>/content/drive/MyDrive/TCC/Imagens/400x/400x_T...</td>\n",
              "      <td>M</td>\n",
              "      <td>DC</td>\n",
              "      <td>400x</td>\n",
              "      <td>Tr</td>\n",
              "    </tr>\n",
              "    <tr>\n",
              "      <th>2</th>\n",
              "      <td>/content/drive/MyDrive/TCC/Imagens/400x/400x_T...</td>\n",
              "      <td>M</td>\n",
              "      <td>DC</td>\n",
              "      <td>400x</td>\n",
              "      <td>Tr</td>\n",
              "    </tr>\n",
              "    <tr>\n",
              "      <th>3</th>\n",
              "      <td>/content/drive/MyDrive/TCC/Imagens/400x/400x_T...</td>\n",
              "      <td>M</td>\n",
              "      <td>DC</td>\n",
              "      <td>400x</td>\n",
              "      <td>Tr</td>\n",
              "    </tr>\n",
              "    <tr>\n",
              "      <th>4</th>\n",
              "      <td>/content/drive/MyDrive/TCC/Imagens/400x/400x_T...</td>\n",
              "      <td>M</td>\n",
              "      <td>DC</td>\n",
              "      <td>400x</td>\n",
              "      <td>Tr</td>\n",
              "    </tr>\n",
              "  </tbody>\n",
              "</table>\n",
              "</div>\n",
              "      <button class=\"colab-df-convert\" onclick=\"convertToInteractive('df-d0840d02-64a8-4fa6-bdc9-1fbd1eadb2d2')\"\n",
              "              title=\"Convert this dataframe to an interactive table.\"\n",
              "              style=\"display:none;\">\n",
              "        \n",
              "  <svg xmlns=\"http://www.w3.org/2000/svg\" height=\"24px\"viewBox=\"0 0 24 24\"\n",
              "       width=\"24px\">\n",
              "    <path d=\"M0 0h24v24H0V0z\" fill=\"none\"/>\n",
              "    <path d=\"M18.56 5.44l.94 2.06.94-2.06 2.06-.94-2.06-.94-.94-2.06-.94 2.06-2.06.94zm-11 1L8.5 8.5l.94-2.06 2.06-.94-2.06-.94L8.5 2.5l-.94 2.06-2.06.94zm10 10l.94 2.06.94-2.06 2.06-.94-2.06-.94-.94-2.06-.94 2.06-2.06.94z\"/><path d=\"M17.41 7.96l-1.37-1.37c-.4-.4-.92-.59-1.43-.59-.52 0-1.04.2-1.43.59L10.3 9.45l-7.72 7.72c-.78.78-.78 2.05 0 2.83L4 21.41c.39.39.9.59 1.41.59.51 0 1.02-.2 1.41-.59l7.78-7.78 2.81-2.81c.8-.78.8-2.07 0-2.86zM5.41 20L4 18.59l7.72-7.72 1.47 1.35L5.41 20z\"/>\n",
              "  </svg>\n",
              "      </button>\n",
              "      \n",
              "  <style>\n",
              "    .colab-df-container {\n",
              "      display:flex;\n",
              "      flex-wrap:wrap;\n",
              "      gap: 12px;\n",
              "    }\n",
              "\n",
              "    .colab-df-convert {\n",
              "      background-color: #E8F0FE;\n",
              "      border: none;\n",
              "      border-radius: 50%;\n",
              "      cursor: pointer;\n",
              "      display: none;\n",
              "      fill: #1967D2;\n",
              "      height: 32px;\n",
              "      padding: 0 0 0 0;\n",
              "      width: 32px;\n",
              "    }\n",
              "\n",
              "    .colab-df-convert:hover {\n",
              "      background-color: #E2EBFA;\n",
              "      box-shadow: 0px 1px 2px rgba(60, 64, 67, 0.3), 0px 1px 3px 1px rgba(60, 64, 67, 0.15);\n",
              "      fill: #174EA6;\n",
              "    }\n",
              "\n",
              "    [theme=dark] .colab-df-convert {\n",
              "      background-color: #3B4455;\n",
              "      fill: #D2E3FC;\n",
              "    }\n",
              "\n",
              "    [theme=dark] .colab-df-convert:hover {\n",
              "      background-color: #434B5C;\n",
              "      box-shadow: 0px 1px 3px 1px rgba(0, 0, 0, 0.15);\n",
              "      filter: drop-shadow(0px 1px 2px rgba(0, 0, 0, 0.3));\n",
              "      fill: #FFFFFF;\n",
              "    }\n",
              "  </style>\n",
              "\n",
              "      <script>\n",
              "        const buttonEl =\n",
              "          document.querySelector('#df-d0840d02-64a8-4fa6-bdc9-1fbd1eadb2d2 button.colab-df-convert');\n",
              "        buttonEl.style.display =\n",
              "          google.colab.kernel.accessAllowed ? 'block' : 'none';\n",
              "\n",
              "        async function convertToInteractive(key) {\n",
              "          const element = document.querySelector('#df-d0840d02-64a8-4fa6-bdc9-1fbd1eadb2d2');\n",
              "          const dataTable =\n",
              "            await google.colab.kernel.invokeFunction('convertToInteractive',\n",
              "                                                     [key], {});\n",
              "          if (!dataTable) return;\n",
              "\n",
              "          const docLinkHtml = 'Like what you see? Visit the ' +\n",
              "            '<a target=\"_blank\" href=https://colab.research.google.com/notebooks/data_table.ipynb>data table notebook</a>'\n",
              "            + ' to learn more about interactive tables.';\n",
              "          element.innerHTML = '';\n",
              "          dataTable['output_type'] = 'display_data';\n",
              "          await google.colab.output.renderOutput(dataTable, element);\n",
              "          const docLink = document.createElement('div');\n",
              "          docLink.innerHTML = docLinkHtml;\n",
              "          element.appendChild(docLink);\n",
              "        }\n",
              "      </script>\n",
              "    </div>\n",
              "  </div>\n",
              "  "
            ],
            "text/plain": [
              "                                            FikePath Type  ... Magnification DataSet\n",
              "0  /content/drive/MyDrive/TCC/Imagens/400x/400x_T...    M  ...          400x      Tr\n",
              "1  /content/drive/MyDrive/TCC/Imagens/400x/400x_T...    M  ...          400x      Tr\n",
              "2  /content/drive/MyDrive/TCC/Imagens/400x/400x_T...    M  ...          400x      Tr\n",
              "3  /content/drive/MyDrive/TCC/Imagens/400x/400x_T...    M  ...          400x      Tr\n",
              "4  /content/drive/MyDrive/TCC/Imagens/400x/400x_T...    M  ...          400x      Tr\n",
              "\n",
              "[5 rows x 5 columns]"
            ]
          },
          "metadata": {},
          "execution_count": 12
        }
      ]
    },
    {
      "cell_type": "code",
      "metadata": {
        "id": "hT2r3KQCCkhW",
        "colab": {
          "base_uri": "https://localhost:8080/"
        },
        "outputId": "f1159ecf-6fda-49ed-d4e9-ca5bea221d04"
      },
      "source": [
        "df_teste.head()"
      ],
      "execution_count": null,
      "outputs": [
        {
          "output_type": "execute_result",
          "data": {
            "text/html": [
              "\n",
              "  <div id=\"df-1ba2fb49-e400-490c-8753-355517e572b5\">\n",
              "    <div class=\"colab-df-container\">\n",
              "      <div>\n",
              "<style scoped>\n",
              "    .dataframe tbody tr th:only-of-type {\n",
              "        vertical-align: middle;\n",
              "    }\n",
              "\n",
              "    .dataframe tbody tr th {\n",
              "        vertical-align: top;\n",
              "    }\n",
              "\n",
              "    .dataframe thead th {\n",
              "        text-align: right;\n",
              "    }\n",
              "</style>\n",
              "<table border=\"1\" class=\"dataframe\">\n",
              "  <thead>\n",
              "    <tr style=\"text-align: right;\">\n",
              "      <th></th>\n",
              "      <th>FikePath</th>\n",
              "      <th>Type</th>\n",
              "      <th>classes</th>\n",
              "      <th>Magnification</th>\n",
              "      <th>DataSet</th>\n",
              "    </tr>\n",
              "  </thead>\n",
              "  <tbody>\n",
              "    <tr>\n",
              "      <th>786</th>\n",
              "      <td>/content/drive/MyDrive/TCC/Imagens/400x/400x_t...</td>\n",
              "      <td>M</td>\n",
              "      <td>DC</td>\n",
              "      <td>400x</td>\n",
              "      <td>Te</td>\n",
              "    </tr>\n",
              "    <tr>\n",
              "      <th>787</th>\n",
              "      <td>/content/drive/MyDrive/TCC/Imagens/400x/400x_t...</td>\n",
              "      <td>M</td>\n",
              "      <td>DC</td>\n",
              "      <td>400x</td>\n",
              "      <td>Te</td>\n",
              "    </tr>\n",
              "    <tr>\n",
              "      <th>788</th>\n",
              "      <td>/content/drive/MyDrive/TCC/Imagens/400x/400x_t...</td>\n",
              "      <td>M</td>\n",
              "      <td>DC</td>\n",
              "      <td>400x</td>\n",
              "      <td>Te</td>\n",
              "    </tr>\n",
              "    <tr>\n",
              "      <th>789</th>\n",
              "      <td>/content/drive/MyDrive/TCC/Imagens/400x/400x_t...</td>\n",
              "      <td>M</td>\n",
              "      <td>DC</td>\n",
              "      <td>400x</td>\n",
              "      <td>Te</td>\n",
              "    </tr>\n",
              "    <tr>\n",
              "      <th>790</th>\n",
              "      <td>/content/drive/MyDrive/TCC/Imagens/400x/400x_t...</td>\n",
              "      <td>M</td>\n",
              "      <td>DC</td>\n",
              "      <td>400x</td>\n",
              "      <td>Te</td>\n",
              "    </tr>\n",
              "  </tbody>\n",
              "</table>\n",
              "</div>\n",
              "      <button class=\"colab-df-convert\" onclick=\"convertToInteractive('df-1ba2fb49-e400-490c-8753-355517e572b5')\"\n",
              "              title=\"Convert this dataframe to an interactive table.\"\n",
              "              style=\"display:none;\">\n",
              "        \n",
              "  <svg xmlns=\"http://www.w3.org/2000/svg\" height=\"24px\"viewBox=\"0 0 24 24\"\n",
              "       width=\"24px\">\n",
              "    <path d=\"M0 0h24v24H0V0z\" fill=\"none\"/>\n",
              "    <path d=\"M18.56 5.44l.94 2.06.94-2.06 2.06-.94-2.06-.94-.94-2.06-.94 2.06-2.06.94zm-11 1L8.5 8.5l.94-2.06 2.06-.94-2.06-.94L8.5 2.5l-.94 2.06-2.06.94zm10 10l.94 2.06.94-2.06 2.06-.94-2.06-.94-.94-2.06-.94 2.06-2.06.94z\"/><path d=\"M17.41 7.96l-1.37-1.37c-.4-.4-.92-.59-1.43-.59-.52 0-1.04.2-1.43.59L10.3 9.45l-7.72 7.72c-.78.78-.78 2.05 0 2.83L4 21.41c.39.39.9.59 1.41.59.51 0 1.02-.2 1.41-.59l7.78-7.78 2.81-2.81c.8-.78.8-2.07 0-2.86zM5.41 20L4 18.59l7.72-7.72 1.47 1.35L5.41 20z\"/>\n",
              "  </svg>\n",
              "      </button>\n",
              "      \n",
              "  <style>\n",
              "    .colab-df-container {\n",
              "      display:flex;\n",
              "      flex-wrap:wrap;\n",
              "      gap: 12px;\n",
              "    }\n",
              "\n",
              "    .colab-df-convert {\n",
              "      background-color: #E8F0FE;\n",
              "      border: none;\n",
              "      border-radius: 50%;\n",
              "      cursor: pointer;\n",
              "      display: none;\n",
              "      fill: #1967D2;\n",
              "      height: 32px;\n",
              "      padding: 0 0 0 0;\n",
              "      width: 32px;\n",
              "    }\n",
              "\n",
              "    .colab-df-convert:hover {\n",
              "      background-color: #E2EBFA;\n",
              "      box-shadow: 0px 1px 2px rgba(60, 64, 67, 0.3), 0px 1px 3px 1px rgba(60, 64, 67, 0.15);\n",
              "      fill: #174EA6;\n",
              "    }\n",
              "\n",
              "    [theme=dark] .colab-df-convert {\n",
              "      background-color: #3B4455;\n",
              "      fill: #D2E3FC;\n",
              "    }\n",
              "\n",
              "    [theme=dark] .colab-df-convert:hover {\n",
              "      background-color: #434B5C;\n",
              "      box-shadow: 0px 1px 3px 1px rgba(0, 0, 0, 0.15);\n",
              "      filter: drop-shadow(0px 1px 2px rgba(0, 0, 0, 0.3));\n",
              "      fill: #FFFFFF;\n",
              "    }\n",
              "  </style>\n",
              "\n",
              "      <script>\n",
              "        const buttonEl =\n",
              "          document.querySelector('#df-1ba2fb49-e400-490c-8753-355517e572b5 button.colab-df-convert');\n",
              "        buttonEl.style.display =\n",
              "          google.colab.kernel.accessAllowed ? 'block' : 'none';\n",
              "\n",
              "        async function convertToInteractive(key) {\n",
              "          const element = document.querySelector('#df-1ba2fb49-e400-490c-8753-355517e572b5');\n",
              "          const dataTable =\n",
              "            await google.colab.kernel.invokeFunction('convertToInteractive',\n",
              "                                                     [key], {});\n",
              "          if (!dataTable) return;\n",
              "\n",
              "          const docLinkHtml = 'Like what you see? Visit the ' +\n",
              "            '<a target=\"_blank\" href=https://colab.research.google.com/notebooks/data_table.ipynb>data table notebook</a>'\n",
              "            + ' to learn more about interactive tables.';\n",
              "          element.innerHTML = '';\n",
              "          dataTable['output_type'] = 'display_data';\n",
              "          await google.colab.output.renderOutput(dataTable, element);\n",
              "          const docLink = document.createElement('div');\n",
              "          docLink.innerHTML = docLinkHtml;\n",
              "          element.appendChild(docLink);\n",
              "        }\n",
              "      </script>\n",
              "    </div>\n",
              "  </div>\n",
              "  "
            ],
            "text/plain": [
              "                                              FikePath  ... DataSet\n",
              "786  /content/drive/MyDrive/TCC/Imagens/400x/400x_t...  ...      Te\n",
              "787  /content/drive/MyDrive/TCC/Imagens/400x/400x_t...  ...      Te\n",
              "788  /content/drive/MyDrive/TCC/Imagens/400x/400x_t...  ...      Te\n",
              "789  /content/drive/MyDrive/TCC/Imagens/400x/400x_t...  ...      Te\n",
              "790  /content/drive/MyDrive/TCC/Imagens/400x/400x_t...  ...      Te\n",
              "\n",
              "[5 rows x 5 columns]"
            ]
          },
          "metadata": {},
          "execution_count": 13
        }
      ]
    },
    {
      "cell_type": "markdown",
      "metadata": {
        "id": "xoiMGEgsCmKC"
      },
      "source": [
        "## Segmentação do Dataframe\n",
        "\n",
        "Com o *\"dataframe\"* conseguiremos segmentar os dados de acordo com sua *\"Magnification\"*. \n",
        "\n",
        "Separando para 200x e para 400x"
      ]
    },
    {
      "cell_type": "code",
      "metadata": {
        "id": "DYw-UuSwEdyE"
      },
      "source": [
        "df_treino_400 = df_treino[df_treino['Magnification'] == '400x']\n",
        "df_treino_400 = df_treino_400.drop(columns=['Magnification'])\n",
        "\n",
        "df_teste_400 = df_teste[df_teste['Magnification'] == '400x']\n",
        "df_teste_400 = df_teste_400.drop(columns=['Magnification'])\n",
        "\n",
        "\n",
        "\n",
        "df_treino_200 = df_treino[df_treino['Magnification'] == '200x']\n",
        "df_treino_200 = df_treino_200.drop(columns=['Magnification'])\n",
        "\n",
        "df_teste_200 = df_teste[df_teste['Magnification'] == '200x']\n",
        "df_teste_200 = df_teste_200.drop(columns=['Magnification'])"
      ],
      "execution_count": null,
      "outputs": []
    },
    {
      "cell_type": "code",
      "metadata": {
        "colab": {
          "base_uri": "https://localhost:8080/"
        },
        "id": "NVhHtLvY0TLS",
        "outputId": "130f32f3-2ad6-401a-e870-9129e44a0783"
      },
      "source": [
        "df_treino_400_classe = df_treino[df_treino['Magnification'] == '400x'][df_treino['Type'] == 'M']\n",
        "df_treino_400_classe = df_treino_400_classe.drop(columns=['Magnification'])\n",
        "\n",
        "df_teste_400_classe = df_teste[df_teste['Magnification'] == '400x'][df_teste['Type'] == 'M']\n",
        "df_teste_400_classe = df_teste_400_classe.drop(columns=['Magnification'])\n",
        "\n",
        "\n",
        "\n",
        "df_treino_200_classe = df_treino[df_treino['Magnification'] == '200x'][df_treino['Type'] == 'M']\n",
        "df_treino_200_classe = df_treino_200_classe.drop(columns=['Magnification'])\n",
        "\n",
        "df_teste_200_classe  = df_teste[df_teste['Magnification'] == '200x'][df_teste['Type'] == 'M']\n",
        "df_teste_200_classe = df_teste_200_classe.drop(columns=['Magnification'])"
      ],
      "execution_count": null,
      "outputs": [
        {
          "output_type": "stream",
          "name": "stderr",
          "text": [
            "/usr/local/lib/python3.7/dist-packages/ipykernel_launcher.py:1: UserWarning: Boolean Series key will be reindexed to match DataFrame index.\n",
            "  \"\"\"Entry point for launching an IPython kernel.\n",
            "/usr/local/lib/python3.7/dist-packages/ipykernel_launcher.py:4: UserWarning: Boolean Series key will be reindexed to match DataFrame index.\n",
            "  after removing the cwd from sys.path.\n",
            "/usr/local/lib/python3.7/dist-packages/ipykernel_launcher.py:9: UserWarning: Boolean Series key will be reindexed to match DataFrame index.\n",
            "  if __name__ == '__main__':\n",
            "/usr/local/lib/python3.7/dist-packages/ipykernel_launcher.py:12: UserWarning: Boolean Series key will be reindexed to match DataFrame index.\n",
            "  if sys.path[0] == '':\n"
          ]
        }
      ]
    },
    {
      "cell_type": "markdown",
      "metadata": {
        "id": "d3lkK8iRFdOq"
      },
      "source": [
        "# Criação dos datas Generatos\n",
        "\n",
        "Todos os 3 ImageDataGenerator terão em comum as adiçoes de rotação em 10%, a de adição de zoom em 20%. No caso de validação será sempre 20% do dado de treinamento"
      ]
    },
    {
      "cell_type": "markdown",
      "metadata": {
        "id": "1oDUvdO8GE1h"
      },
      "source": [
        "### ImageDataGenerator para VGG19"
      ]
    },
    {
      "cell_type": "code",
      "metadata": {
        "id": "MmcDcnuLFhoK"
      },
      "source": [
        "train_generator_VGG19 = tf.keras.preprocessing.image.ImageDataGenerator(\n",
        "    preprocessing_function=tf.keras.applications.vgg19.preprocess_input,\n",
        "    rotation_range=0.1,\n",
        "    zoom_range=0.2,\n",
        "    validation_split=0.2\n",
        ")\n",
        "test_generator_VGG19= tf.keras.preprocessing.image.ImageDataGenerator(\n",
        "    preprocessing_function=tf.keras.applications.vgg19.preprocess_input\n",
        ")"
      ],
      "execution_count": null,
      "outputs": []
    },
    {
      "cell_type": "markdown",
      "metadata": {
        "id": "YulCMj-tG3af"
      },
      "source": [
        "### ImageDataGenerator para GoogleNet"
      ]
    },
    {
      "cell_type": "code",
      "metadata": {
        "id": "8v36mM19G6IW"
      },
      "source": [
        "train_generator_googleNet = tf.keras.preprocessing.image.ImageDataGenerator(\n",
        "    preprocessing_function=tf.keras.applications.inception_v3.preprocess_input,\n",
        "    rotation_range=0.1,\n",
        "    zoom_range=0.2,\n",
        "    validation_split=0.2\n",
        ")\n",
        "\n",
        "test_generator_googleNet = tf.keras.preprocessing.image.ImageDataGenerator(\n",
        "    preprocessing_function=tf.keras.applications.inception_v3.preprocess_input,\n",
        ")"
      ],
      "execution_count": null,
      "outputs": []
    },
    {
      "cell_type": "markdown",
      "metadata": {
        "id": "x3dJF6k_G_4n"
      },
      "source": [
        "### ImageDataGenerator para ResNet50\n"
      ]
    },
    {
      "cell_type": "code",
      "metadata": {
        "id": "OjCZ-VqrHEI3"
      },
      "source": [
        "train_generator_ResNet = tf.keras.preprocessing.image.ImageDataGenerator(\n",
        "    preprocessing_function=tf.keras.applications.resnet50.preprocess_input,\n",
        "    rotation_range=0.1,\n",
        "    zoom_range=0.2,\n",
        "    validation_split=0.2\n",
        ")\n",
        "\n",
        "test_generator_ResNet  = tf.keras.preprocessing.image.ImageDataGenerator(\n",
        "    preprocessing_function=tf.keras.applications.resnet50.preprocess_input,\n",
        ")"
      ],
      "execution_count": null,
      "outputs": []
    },
    {
      "cell_type": "markdown",
      "metadata": {
        "id": "cwT8Q2bzHysc"
      },
      "source": [
        "# Execução dos Modelos\n",
        "\n",
        "\n",
        "Nessa seção apresentarei o \"passo a passo\" da execução dos modelos. Começare-mos apresentando como foi realizado a criação do modelo *VGG19*, logo em seguidaserá apresentado a criação do modelo *InceptionV3* e por fim a utilização da arquitetura *RESNET50*."
      ]
    },
    {
      "cell_type": "markdown",
      "metadata": {
        "id": "Fs5TG2xuJe0z"
      },
      "source": [
        "## Modelo Tipo de Cancer\n",
        "\n",
        "\n",
        "Na primeira sessão de treinamento como falado antes, prepararemos a nossa redeneural para identificar um câncer maligno. Seguiremos o seguinte passo-a-passo para esse treinamento.\n",
        "\n"
      ]
    },
    {
      "cell_type": "code",
      "metadata": {
        "id": "jz0vxbbWh_GI"
      },
      "source": [
        "def build_model(Tipo_modelo):\n",
        "  if Tipo_modelo == \"VGG19\":\n",
        "    base_VGG19 = tf.keras.applications.VGG19(weights = 'imagenet', include_top = False)\n",
        "    x = base_VGG19.output\n",
        "    x = tf.keras.layers.GlobalAveragePooling2D()(x)\n",
        "    x = tf.keras.layers.Dense(1024, activation='relu', kernel_initializer='he_normal')(x)\n",
        "    x = tf.keras.layers.Dense(1024, activation='relu')(x)\n",
        "    x = tf.keras.layers.Dropout(0.2)(x)\n",
        "    x = tf.keras.layers.Dense(512, activation='relu')(x)\n",
        "    preds = tf.keras.layers.Dense(2, activation='softmax')(x)\n",
        "    model = tf.keras.models.Model(inputs = base_VGG19.input, outputs = preds)\n",
        "  elif Tipo_modelo == \"GoogleNet\":\n",
        "    base_Interception = InceptionV3(weights = 'imagenet', include_top = False)\n",
        "    x = base_Interception.output\n",
        "    x = tf.keras.layers.GlobalAveragePooling2D()(x)\n",
        "    x = tf.keras.layers.Dense(1024, activation='relu', kernel_initializer='he_normal')(x)\n",
        "    x = tf.keras.layers.Dense(1024, activation='relu')(x)\n",
        "    x = tf.keras.layers.Dropout(0.2)(x)\n",
        "    x = tf.keras.layers.Dense(512, activation='relu')(x)\n",
        "    preds = tf.keras.layers.Dense(2, activation='softmax')(x)\n",
        "    model = tf.keras.models.Model(inputs = base_Interception.input, outputs = preds)\n",
        "  elif Tipo_modelo == \"Resnet\":\n",
        "    base_RESNET = tf.keras.applications.ResNet50(weights = 'imagenet', include_top = False)\n",
        "    x = base_RESNET.output\n",
        "    x = tf.keras.layers.GlobalAveragePooling2D()(x)\n",
        "    x = tf.keras.layers.Dense(1024, activation='relu', kernel_initializer='he_normal')(x)\n",
        "    x = tf.keras.layers.Dense(1024, activation='relu')(x)\n",
        "    x = tf.keras.layers.Dropout(0.2)(x)\n",
        "    x = tf.keras.layers.Dense(512, activation='relu')(x)\n",
        "    preds = tf.keras.layers.Dense(2, activation='softmax')(x)\n",
        "    model = tf.keras.models.Model(inputs = base_RESNET.input, outputs = preds)\n",
        "  \n",
        "  return model"
      ],
      "execution_count": null,
      "outputs": []
    },
    {
      "cell_type": "markdown",
      "metadata": {
        "id": "d4L54uYZeh7C"
      },
      "source": [
        "### Modelo VGG19 Para grau de ampliação 400"
      ]
    },
    {
      "cell_type": "code",
      "metadata": {
        "id": "ockVAl7pJZur",
        "colab": {
          "base_uri": "https://localhost:8080/"
        },
        "outputId": "5ccbc0ca-be55-4940-90b2-ab22d980de32"
      },
      "source": [
        "train_images_VGG19_MB = train_generator_VGG19.flow_from_dataframe(\n",
        "    dataframe=df_treino_400,\n",
        "    x_col='FikePath',\n",
        "    y_col='Type',\n",
        "    target_size=(224, 224),\n",
        "    color_mode='rgb',\n",
        "    class_mode='categorical',\n",
        "    batch_size=16,\n",
        "    shuffle=True,\n",
        "    seed=42,\n",
        "    subset='training'\n",
        ")\n",
        "\n",
        "val_images_VGG19_MB = train_generator_VGG19.flow_from_dataframe(\n",
        "    dataframe=df_treino_400,\n",
        "    x_col='FikePath',\n",
        "    y_col='Type',\n",
        "    target_size=(224, 224),\n",
        "    color_mode='rgb',\n",
        "    class_mode='categorical',\n",
        "    batch_size=16,\n",
        "    shuffle=True,\n",
        "    seed=42,\n",
        "    subset='validation'\n",
        ")\n",
        "\n",
        "test_images_VGG19_MB = test_generator_VGG19.flow_from_dataframe(\n",
        "    dataframe=df_teste_400,\n",
        "    x_col='FikePath',\n",
        "    y_col='Type',\n",
        "    target_size=(224, 224),\n",
        "    color_mode='rgb',\n",
        "    class_mode='categorical',\n",
        "    batch_size=16,\n",
        "    shuffle=False\n",
        ")"
      ],
      "execution_count": null,
      "outputs": [
        {
          "output_type": "stream",
          "name": "stdout",
          "text": [
            "Found 629 validated image filenames belonging to 2 classes.\n",
            "Found 157 validated image filenames belonging to 2 classes.\n",
            "Found 978 validated image filenames belonging to 2 classes.\n"
          ]
        }
      ]
    },
    {
      "cell_type": "code",
      "metadata": {
        "id": "4Ji-ppbGeAVr",
        "colab": {
          "base_uri": "https://localhost:8080/"
        },
        "outputId": "32111a6e-c783-41b7-d475-0a107cdd8d49"
      },
      "source": [
        "VGG19 = build_model(\"VGG19\")\n",
        "VGG19.load_weights('/content/drive/MyDrive/TCC/weights/VGG19/VGG_MB_com_pesos.h5')"
      ],
      "execution_count": null,
      "outputs": [
        {
          "output_type": "stream",
          "name": "stdout",
          "text": [
            "Downloading data from https://storage.googleapis.com/tensorflow/keras-applications/vgg19/vgg19_weights_tf_dim_ordering_tf_kernels_notop.h5\n",
            "80142336/80134624 [==============================] - 0s 0us/step\n",
            "80150528/80134624 [==============================] - 0s 0us/step\n"
          ]
        }
      ]
    },
    {
      "cell_type": "code",
      "metadata": {
        "id": "ZwA_ETLteEUR"
      },
      "source": [
        "opt = Adam(learning_rate=0.0001)\n",
        "VGG19.compile(loss='categorical_crossentropy', optimizer=opt, metrics = ['accuracy'])"
      ],
      "execution_count": null,
      "outputs": []
    },
    {
      "cell_type": "code",
      "metadata": {
        "id": "vI9cfD0xeHvy"
      },
      "source": [
        "pred = VGG19.predict(test_images_VGG19_MB)\n",
        "pred=np.argmax(pred,axis=1)"
      ],
      "execution_count": null,
      "outputs": []
    },
    {
      "cell_type": "code",
      "metadata": {
        "id": "9ieSmcGReYRi"
      },
      "source": [
        "pred_df_400=df_teste_400.copy()\n",
        "labels={}\n",
        "for l,v in test_images_VGG19_MB.class_indices.items():\n",
        "    labels.update({v:l})\n",
        "pred_df_400['pred']=pred\n",
        "pred_df_400['pred']=pred_df_400['pred'].apply(lambda x: labels[x])"
      ],
      "execution_count": null,
      "outputs": []
    },
    {
      "cell_type": "code",
      "source": [
        "print(f\"Metrics Score: {classification_report(pred_df_400['Type'],pred_df_400['pred'])}\")"
      ],
      "metadata": {
        "colab": {
          "base_uri": "https://localhost:8080/"
        },
        "id": "c5x4rzXBTJX3",
        "outputId": "9ff5d315-0e60-44e1-c14d-317a764fa5cc"
      },
      "execution_count": null,
      "outputs": [
        {
          "output_type": "stream",
          "name": "stdout",
          "text": [
            "Metrics Score:               precision    recall  f1-score   support\n",
            "\n",
            "           B       0.98      0.95      0.96       560\n",
            "           M       0.93      0.97      0.95       418\n",
            "\n",
            "    accuracy                           0.96       978\n",
            "   macro avg       0.96      0.96      0.96       978\n",
            "weighted avg       0.96      0.96      0.96       978\n",
            "\n"
          ]
        }
      ]
    },
    {
      "cell_type": "code",
      "metadata": {
        "colab": {
          "base_uri": "https://localhost:8080/"
        },
        "id": "q_rCULQGWlKf",
        "outputId": "8c7b3c24-b294-4bfa-fec6-ce11ce520824"
      },
      "source": [
        "print(f\"Accuracy Score: {accuracy_score(pred_df_400['Type'],pred_df_400['pred'])}\")"
      ],
      "execution_count": null,
      "outputs": [
        {
          "output_type": "stream",
          "name": "stdout",
          "text": [
            "Accuracy Score: 0.9580777096114519\n"
          ]
        }
      ]
    },
    {
      "cell_type": "code",
      "metadata": {
        "colab": {
          "base_uri": "https://localhost:8080/",
          "height": 265
        },
        "id": "gHa80T6NfDFb",
        "outputId": "42aad955-7a44-48fb-bd75-6948ef52a12d"
      },
      "source": [
        "\n",
        "sns.heatmap(confusion_matrix(pred_df_400['Type'],pred_df_400['pred']), annot=True, fmt='2d',  cmap=\"Blues\");\n"
      ],
      "execution_count": null,
      "outputs": [
        {
          "output_type": "display_data",
          "data": {
            "image/png": "[encoded data removed]",
            "text/plain": [
              "<Figure size 432x288 with 2 Axes>"
            ]
          },
          "metadata": {
            "needs_background": "light"
          }
        }
      ]
    },
    {
      "cell_type": "markdown",
      "metadata": {
        "id": "dG9qQrpEewtK"
      },
      "source": [
        "### Modelo VGG19 Para grau de ampliação 200"
      ]
    },
    {
      "cell_type": "code",
      "metadata": {
        "colab": {
          "base_uri": "https://localhost:8080/"
        },
        "id": "3bfgj_B2eyc8",
        "outputId": "69c17479-38e5-4dcc-ab52-85df7f32fdf2"
      },
      "source": [
        "train_images_VGG19_MB = train_generator_VGG19.flow_from_dataframe(\n",
        "    dataframe=df_treino_200,\n",
        "    x_col='FikePath',\n",
        "    y_col='Type',\n",
        "    target_size=(224, 224),\n",
        "    color_mode='rgb',\n",
        "    class_mode='categorical',\n",
        "    batch_size=16,\n",
        "    shuffle=True,\n",
        "    seed=42,\n",
        "    subset='training'\n",
        ")\n",
        "\n",
        "val_images_VGG19_MB = train_generator_VGG19.flow_from_dataframe(\n",
        "    dataframe=df_treino_200,\n",
        "    x_col='FikePath',\n",
        "    y_col='Type',\n",
        "    target_size=(224, 224),\n",
        "    color_mode='rgb',\n",
        "    class_mode='categorical',\n",
        "    batch_size=16,\n",
        "    shuffle=True,\n",
        "    seed=42,\n",
        "    subset='validation'\n",
        ")\n",
        "\n",
        "test_images_VGG19_MB = test_generator_VGG19.flow_from_dataframe(\n",
        "    dataframe=df_teste_200,\n",
        "    x_col='FikePath',\n",
        "    y_col='Type',\n",
        "    target_size=(224, 224),\n",
        "    color_mode='rgb',\n",
        "    class_mode='categorical',\n",
        "    batch_size=16,\n",
        "    shuffle=False\n",
        ")"
      ],
      "execution_count": null,
      "outputs": [
        {
          "output_type": "stream",
          "name": "stdout",
          "text": [
            "Found 630 validated image filenames belonging to 2 classes.\n",
            "Found 157 validated image filenames belonging to 2 classes.\n",
            "Found 856 validated image filenames belonging to 2 classes.\n"
          ]
        }
      ]
    },
    {
      "cell_type": "code",
      "metadata": {
        "id": "AvQ_5c80_CNT"
      },
      "source": [
        "VGG19 = build_model(\"VGG19\")\n",
        "VGG19.load_weights('/content/drive/MyDrive/TCC/weights/VGG19/VGG_MB_com_pesos.h5')\n",
        "opt = Adam(learning_rate=0.0001)\n",
        "VGG19.compile(loss='categorical_crossentropy', optimizer=opt, metrics = ['accuracy'])"
      ],
      "execution_count": null,
      "outputs": []
    },
    {
      "cell_type": "code",
      "metadata": {
        "id": "bog9i7K2e8fK"
      },
      "source": [
        "pred = VGG19.predict(test_images_VGG19_MB)\n",
        "pred=np.argmax(pred,axis=1)"
      ],
      "execution_count": null,
      "outputs": []
    },
    {
      "cell_type": "code",
      "metadata": {
        "id": "2qzRBfjXe8_6"
      },
      "source": [
        "pred_df_200=df_teste_200.copy()\n",
        "labels={}\n",
        "for l,v in test_images_VGG19_MB.class_indices.items():\n",
        "    labels.update({v:l})\n",
        "pred_df_200['pred']=pred\n",
        "pred_df_200['pred']=pred_df_200['pred'].apply(lambda x: labels[x])"
      ],
      "execution_count": null,
      "outputs": []
    },
    {
      "cell_type": "code",
      "source": [
        "print(f\"Metrics Score: {classification_report(pred_df_200['Type'],pred_df_200['pred'])}\")"
      ],
      "metadata": {
        "colab": {
          "base_uri": "https://localhost:8080/"
        },
        "id": "6GYc2UJCW8M8",
        "outputId": "290ecff1-6bf2-4be6-b25a-47e1c4e19f05"
      },
      "execution_count": null,
      "outputs": [
        {
          "output_type": "stream",
          "name": "stdout",
          "text": [
            "Metrics Score:               precision    recall  f1-score   support\n",
            "\n",
            "           B       1.00      0.87      0.93       367\n",
            "           M       0.91      1.00      0.95       489\n",
            "\n",
            "    accuracy                           0.94       856\n",
            "   macro avg       0.95      0.93      0.94       856\n",
            "weighted avg       0.95      0.94      0.94       856\n",
            "\n"
          ]
        }
      ]
    },
    {
      "cell_type": "code",
      "metadata": {
        "colab": {
          "base_uri": "https://localhost:8080/"
        },
        "id": "POHkrwa-Xf3n",
        "outputId": "485bd04a-8a2b-4ea5-9362-9ebd45650db2"
      },
      "source": [
        "print(f\"Accuracy Score: {accuracy_score(pred_df_200['Type'],pred_df_200['pred'])}\")"
      ],
      "execution_count": null,
      "outputs": [
        {
          "output_type": "stream",
          "name": "stdout",
          "text": [
            "Accuracy Score: 0.9427570093457944\n"
          ]
        }
      ]
    },
    {
      "cell_type": "code",
      "metadata": {
        "colab": {
          "base_uri": "https://localhost:8080/",
          "height": 265
        },
        "id": "wo_YVk9TfBY5",
        "outputId": "5c2709c6-448b-4dfd-f681-0805abcb868b"
      },
      "source": [
        "\n",
        "sns.heatmap(confusion_matrix(pred_df_200['Type'],pred_df_200['pred']), annot=True, fmt='2d',  cmap=\"Blues\");\n"
      ],
      "execution_count": null,
      "outputs": [
        {
          "output_type": "display_data",
          "data": {
            "image/png": "[encoded data removed]",
            "text/plain": [
              "<Figure size 432x288 with 2 Axes>"
            ]
          },
          "metadata": {
            "needs_background": "light"
          }
        }
      ]
    },
    {
      "cell_type": "markdown",
      "metadata": {
        "id": "QdIMjyqDfIJ9"
      },
      "source": [
        "### Modelo VGG19 Validação final"
      ]
    },
    {
      "cell_type": "code",
      "metadata": {
        "id": "1uCLXykX-yor"
      },
      "source": [
        "df_geral =  montar_data_frame(r'/content/drive/MyDrive/TCC/Imagens')\n",
        "df_treino = df_geral[df_geral['DataSet'] == 'Tr']\n",
        "df_teste = df_geral[df_geral['DataSet'] == 'Te']"
      ],
      "execution_count": null,
      "outputs": []
    },
    {
      "cell_type": "code",
      "metadata": {
        "colab": {
          "base_uri": "https://localhost:8080/"
        },
        "id": "xMwXrDolkAY5",
        "outputId": "5de66741-381a-498a-9915-94f77a56a2f0"
      },
      "source": [
        "print(f'quantidade de dados na base de Teste {df_teste.shape[0]}')\n",
        "print(f'quantidade de dados na base de Treino {df_treino.shape[0]}')"
      ],
      "execution_count": null,
      "outputs": [
        {
          "output_type": "stream",
          "name": "stdout",
          "text": [
            "quantidade de dados na base de Teste 1834\n",
            "quantidade de dados na base de Treino 1573\n"
          ]
        }
      ]
    },
    {
      "cell_type": "code",
      "metadata": {
        "id": "sFJ0m8SlkCH_"
      },
      "source": [
        "test_generator = tf.keras.preprocessing.image.ImageDataGenerator(\n",
        "    preprocessing_function=tf.keras.applications.vgg19.preprocess_input\n",
        ")"
      ],
      "execution_count": null,
      "outputs": []
    },
    {
      "cell_type": "code",
      "metadata": {
        "colab": {
          "base_uri": "https://localhost:8080/"
        },
        "id": "4A8t8AaikEd5",
        "outputId": "3c26780b-632a-4bb3-c73c-a359c6ee2a48"
      },
      "source": [
        "test_images = test_generator.flow_from_dataframe(\n",
        "    dataframe=df_teste,\n",
        "    x_col='FikePath',\n",
        "    y_col='Type',\n",
        "    target_size=(224, 224),\n",
        "    color_mode='rgb',\n",
        "    class_mode='categorical',\n",
        "    batch_size=16,\n",
        "    shuffle=False\n",
        ")"
      ],
      "execution_count": null,
      "outputs": [
        {
          "output_type": "stream",
          "name": "stdout",
          "text": [
            "Found 1834 validated image filenames belonging to 2 classes.\n"
          ]
        }
      ]
    },
    {
      "cell_type": "code",
      "metadata": {
        "id": "6Qg0d8o9kF-g"
      },
      "source": [
        "opt = Adam(learning_rate=0.0001)\n",
        "VGG19_rede_Geral = build_model('VGG19')\n",
        "checkpoint_path = r'/content/drive/MyDrive/TCC/weights/VGG19/VGG_MB_com_pesos.h5'\n",
        "VGG19_rede_Geral.load_weights(checkpoint_path)\n",
        "VGG19_rede_Geral.compile(loss='categorical_crossentropy', optimizer=opt, metrics = ['accuracy'])"
      ],
      "execution_count": null,
      "outputs": []
    },
    {
      "cell_type": "code",
      "metadata": {
        "id": "NWpk0OSTkNou"
      },
      "source": [
        "pred = VGG19_rede_Geral.predict(test_images)\n",
        "pred=np.argmax(pred,axis=1)"
      ],
      "execution_count": null,
      "outputs": []
    },
    {
      "cell_type": "code",
      "metadata": {
        "id": "6n5ynV-dkPu4"
      },
      "source": [
        "pred_df=df_teste.copy()\n",
        "labels={}\n",
        "for l,v in test_images.class_indices.items():\n",
        "    labels.update({v:l})\n",
        "pred_df['pred']=pred\n",
        "pred_df['pred']=pred_df['pred'].apply(lambda x: labels[x])"
      ],
      "execution_count": null,
      "outputs": []
    },
    {
      "cell_type": "code",
      "source": [
        "print(f\"Metrics Score: {classification_report(pred_df['Type'],pred_df['pred'])}\")"
      ],
      "metadata": {
        "colab": {
          "base_uri": "https://localhost:8080/"
        },
        "id": "9jqE_L9aW_h0",
        "outputId": "3f08db85-05e0-4450-db03-ec73a22d6bcc"
      },
      "execution_count": null,
      "outputs": [
        {
          "output_type": "stream",
          "name": "stdout",
          "text": [
            "Metrics Score:               precision    recall  f1-score   support\n",
            "\n",
            "           B       0.99      0.91      0.95       927\n",
            "           M       0.92      0.99      0.95       907\n",
            "\n",
            "    accuracy                           0.95      1834\n",
            "   macro avg       0.95      0.95      0.95      1834\n",
            "weighted avg       0.95      0.95      0.95      1834\n",
            "\n"
          ]
        }
      ]
    },
    {
      "cell_type": "code",
      "source": [
        "print(f\"Accuracy Score: {accuracy_score(pred_df['Type'],pred_df['pred'])}\")"
      ],
      "metadata": {
        "colab": {
          "base_uri": "https://localhost:8080/"
        },
        "id": "3ieuDLLoXAN0",
        "outputId": "d7c3fcaa-524b-42aa-bacf-f2c9be11f19b"
      },
      "execution_count": null,
      "outputs": [
        {
          "output_type": "stream",
          "name": "stdout",
          "text": [
            "Accuracy Score: 0.95092693565976\n"
          ]
        }
      ]
    },
    {
      "cell_type": "code",
      "metadata": {
        "colab": {
          "base_uri": "https://localhost:8080/",
          "height": 282
        },
        "id": "yM_O_B7ZnQM_",
        "outputId": "4468f7f9-e3f6-45b5-aa02-5b52cb266176"
      },
      "source": [
        "print(f\"Accuracy Score: {accuracy_score(pred_df['Type'],pred_df['pred'])}\")\n",
        "sns.heatmap(confusion_matrix(pred_df['Type'],pred_df['pred']), annot=True, fmt='2d',  cmap=\"Blues\");"
      ],
      "execution_count": null,
      "outputs": [
        {
          "output_type": "stream",
          "name": "stdout",
          "text": [
            "Accuracy Score: 0.95092693565976\n"
          ]
        },
        {
          "output_type": "display_data",
          "data": {
            "image/png": "[encoded data removed]",
            "text/plain": [
              "<Figure size 432x288 with 2 Axes>"
            ]
          },
          "metadata": {
            "needs_background": "light"
          }
        }
      ]
    },
    {
      "cell_type": "code",
      "metadata": {
        "id": "Y-Gy-S1ZnTaR"
      },
      "source": [
        ""
      ],
      "execution_count": null,
      "outputs": []
    },
    {
      "cell_type": "markdown",
      "metadata": {
        "id": "Z18qHoFJ3wfw"
      },
      "source": [
        "### Modelo GoogleNet Para grau de ampliação 400"
      ]
    },
    {
      "cell_type": "code",
      "metadata": {
        "colab": {
          "base_uri": "https://localhost:8080/"
        },
        "id": "MAqxUzYr33uX",
        "outputId": "f9e0dcef-0dad-4fda-ab1c-559c1ebd84e8"
      },
      "source": [
        "train_images_googlent_MB = train_generator_googleNet.flow_from_dataframe(\n",
        "    dataframe=df_treino_400,\n",
        "    x_col='FikePath',\n",
        "    y_col='Type',\n",
        "    target_size=(224, 224),\n",
        "    color_mode='rgb',\n",
        "    class_mode='categorical',\n",
        "    batch_size=BATCH_SIZE,\n",
        "    shuffle=True,\n",
        "    seed=42,\n",
        "    subset='training'\n",
        ")\n",
        "\n",
        "val_images_googlent_MB = train_generator_googleNet.flow_from_dataframe(\n",
        "    dataframe=df_treino_400,\n",
        "    x_col='FikePath',\n",
        "    y_col='Type',\n",
        "    target_size=(224, 224),\n",
        "    color_mode='rgb',\n",
        "    class_mode='categorical',\n",
        "    batch_size=BATCH_SIZE,\n",
        "    shuffle=True,\n",
        "    seed=42,\n",
        "    subset='validation'\n",
        ")\n",
        "\n",
        "test_images_googlent_MB = test_generator_googleNet.flow_from_dataframe(\n",
        "    dataframe=df_teste_400,\n",
        "    x_col='FikePath',\n",
        "    y_col='Type',\n",
        "    target_size=(224, 224),\n",
        "    color_mode='rgb',\n",
        "    class_mode='categorical',\n",
        "    batch_size=BATCH_SIZE,\n",
        "    shuffle=False\n",
        ")"
      ],
      "execution_count": null,
      "outputs": [
        {
          "output_type": "stream",
          "name": "stdout",
          "text": [
            "Found 629 validated image filenames belonging to 2 classes.\n",
            "Found 157 validated image filenames belonging to 2 classes.\n",
            "Found 978 validated image filenames belonging to 2 classes.\n"
          ]
        }
      ]
    },
    {
      "cell_type": "code",
      "metadata": {
        "id": "xRdt3jJr40Yx",
        "colab": {
          "base_uri": "https://localhost:8080/"
        },
        "outputId": "e2a2692f-51d7-4018-be7d-738b18df7b8a"
      },
      "source": [
        "Interception = build_model(\"GoogleNet\")\n",
        "Interception.load_weights(filepath=r'/content/drive/MyDrive/TCC/weights/Interception/Interception_MB_com_pesos.h5')\n",
        "Interception.summary()"
      ],
      "execution_count": null,
      "outputs": [
        {
          "output_type": "stream",
          "name": "stdout",
          "text": [
            "Downloading data from https://storage.googleapis.com/tensorflow/keras-applications/inception_v3/inception_v3_weights_tf_dim_ordering_tf_kernels_notop.h5\n",
            "87916544/87910968 [==============================] - 1s 0us/step\n",
            "87924736/87910968 [==============================] - 1s 0us/step\n",
            "Model: \"model_3\"\n",
            "__________________________________________________________________________________________________\n",
            " Layer (type)                   Output Shape         Param #     Connected to                     \n",
            "==================================================================================================\n",
            " input_4 (InputLayer)           [(None, None, None,  0           []                               \n",
            "                                 3)]                                                              \n",
            "                                                                                                  \n",
            " conv2d (Conv2D)                (None, None, None,   864         ['input_4[0][0]']                \n",
            "                                32)                                                               \n",
            "                                                                                                  \n",
            " batch_normalization (BatchNorm  (None, None, None,   96         ['conv2d[0][0]']                 \n",
            " alization)                     32)                                                               \n",
            "                                                                                                  \n",
            " activation (Activation)        (None, None, None,   0           ['batch_normalization[0][0]']    \n",
            "                                32)                                                               \n",
            "                                                                                                  \n",
            " conv2d_1 (Conv2D)              (None, None, None,   9216        ['activation[0][0]']             \n",
            "                                32)                                                               \n",
            "                                                                                                  \n",
            " batch_normalization_1 (BatchNo  (None, None, None,   96         ['conv2d_1[0][0]']               \n",
            " rmalization)                   32)                                                               \n",
            "                                                                                                  \n",
            " activation_1 (Activation)      (None, None, None,   0           ['batch_normalization_1[0][0]']  \n",
            "                                32)                                                               \n",
            "                                                                                                  \n",
            " conv2d_2 (Conv2D)              (None, None, None,   18432       ['activation_1[0][0]']           \n",
            "                                64)                                                               \n",
            "                                                                                                  \n",
            " batch_normalization_2 (BatchNo  (None, None, None,   192        ['conv2d_2[0][0]']               \n",
            " rmalization)                   64)                                                               \n",
            "                                                                                                  \n",
            " activation_2 (Activation)      (None, None, None,   0           ['batch_normalization_2[0][0]']  \n",
            "                                64)                                                               \n",
            "                                                                                                  \n",
            " max_pooling2d (MaxPooling2D)   (None, None, None,   0           ['activation_2[0][0]']           \n",
            "                                64)                                                               \n",
            "                                                                                                  \n",
            " conv2d_3 (Conv2D)              (None, None, None,   5120        ['max_pooling2d[0][0]']          \n",
            "                                80)                                                               \n",
            "                                                                                                  \n",
            " batch_normalization_3 (BatchNo  (None, None, None,   240        ['conv2d_3[0][0]']               \n",
            " rmalization)                   80)                                                               \n",
            "                                                                                                  \n",
            " activation_3 (Activation)      (None, None, None,   0           ['batch_normalization_3[0][0]']  \n",
            "                                80)                                                               \n",
            "                                                                                                  \n",
            " conv2d_4 (Conv2D)              (None, None, None,   138240      ['activation_3[0][0]']           \n",
            "                                192)                                                              \n",
            "                                                                                                  \n",
            " batch_normalization_4 (BatchNo  (None, None, None,   576        ['conv2d_4[0][0]']               \n",
            " rmalization)                   192)                                                              \n",
            "                                                                                                  \n",
            " activation_4 (Activation)      (None, None, None,   0           ['batch_normalization_4[0][0]']  \n",
            "                                192)                                                              \n",
            "                                                                                                  \n",
            " max_pooling2d_1 (MaxPooling2D)  (None, None, None,   0          ['activation_4[0][0]']           \n",
            "                                192)                                                              \n",
            "                                                                                                  \n",
            " conv2d_8 (Conv2D)              (None, None, None,   12288       ['max_pooling2d_1[0][0]']        \n",
            "                                64)                                                               \n",
            "                                                                                                  \n",
            " batch_normalization_8 (BatchNo  (None, None, None,   192        ['conv2d_8[0][0]']               \n",
            " rmalization)                   64)                                                               \n",
            "                                                                                                  \n",
            " activation_8 (Activation)      (None, None, None,   0           ['batch_normalization_8[0][0]']  \n",
            "                                64)                                                               \n",
            "                                                                                                  \n",
            " conv2d_6 (Conv2D)              (None, None, None,   9216        ['max_pooling2d_1[0][0]']        \n",
            "                                48)                                                               \n",
            "                                                                                                  \n",
            " conv2d_9 (Conv2D)              (None, None, None,   55296       ['activation_8[0][0]']           \n",
            "                                96)                                                               \n",
            "                                                                                                  \n",
            " batch_normalization_6 (BatchNo  (None, None, None,   144        ['conv2d_6[0][0]']               \n",
            " rmalization)                   48)                                                               \n",
            "                                                                                                  \n",
            " batch_normalization_9 (BatchNo  (None, None, None,   288        ['conv2d_9[0][0]']               \n",
            " rmalization)                   96)                                                               \n",
            "                                                                                                  \n",
            " activation_6 (Activation)      (None, None, None,   0           ['batch_normalization_6[0][0]']  \n",
            "                                48)                                                               \n",
            "                                                                                                  \n",
            " activation_9 (Activation)      (None, None, None,   0           ['batch_normalization_9[0][0]']  \n",
            "                                96)                                                               \n",
            "                                                                                                  \n",
            " average_pooling2d (AveragePool  (None, None, None,   0          ['max_pooling2d_1[0][0]']        \n",
            " ing2D)                         192)                                                              \n",
            "                                                                                                  \n",
            " conv2d_5 (Conv2D)              (None, None, None,   12288       ['max_pooling2d_1[0][0]']        \n",
            "                                64)                                                               \n",
            "                                                                                                  \n",
            " conv2d_7 (Conv2D)              (None, None, None,   76800       ['activation_6[0][0]']           \n",
            "                                64)                                                               \n",
            "                                                                                                  \n",
            " conv2d_10 (Conv2D)             (None, None, None,   82944       ['activation_9[0][0]']           \n",
            "                                96)                                                               \n",
            "                                                                                                  \n",
            " conv2d_11 (Conv2D)             (None, None, None,   6144        ['average_pooling2d[0][0]']      \n",
            "                                32)                                                               \n",
            "                                                                                                  \n",
            " batch_normalization_5 (BatchNo  (None, None, None,   192        ['conv2d_5[0][0]']               \n",
            " rmalization)                   64)                                                               \n",
            "                                                                                                  \n",
            " batch_normalization_7 (BatchNo  (None, None, None,   192        ['conv2d_7[0][0]']               \n",
            " rmalization)                   64)                                                               \n",
            "                                                                                                  \n",
            " batch_normalization_10 (BatchN  (None, None, None,   288        ['conv2d_10[0][0]']              \n",
            " ormalization)                  96)                                                               \n",
            "                                                                                                  \n",
            " batch_normalization_11 (BatchN  (None, None, None,   96         ['conv2d_11[0][0]']              \n",
            " ormalization)                  32)                                                               \n",
            "                                                                                                  \n",
            " activation_5 (Activation)      (None, None, None,   0           ['batch_normalization_5[0][0]']  \n",
            "                                64)                                                               \n",
            "                                                                                                  \n",
            " activation_7 (Activation)      (None, None, None,   0           ['batch_normalization_7[0][0]']  \n",
            "                                64)                                                               \n",
            "                                                                                                  \n",
            " activation_10 (Activation)     (None, None, None,   0           ['batch_normalization_10[0][0]'] \n",
            "                                96)                                                               \n",
            "                                                                                                  \n",
            " activation_11 (Activation)     (None, None, None,   0           ['batch_normalization_11[0][0]'] \n",
            "                                32)                                                               \n",
            "                                                                                                  \n",
            " mixed0 (Concatenate)           (None, None, None,   0           ['activation_5[0][0]',           \n",
            "                                256)                              'activation_7[0][0]',           \n",
            "                                                                  'activation_10[0][0]',          \n",
            "                                                                  'activation_11[0][0]']          \n",
            "                                                                                                  \n",
            " conv2d_15 (Conv2D)             (None, None, None,   16384       ['mixed0[0][0]']                 \n",
            "                                64)                                                               \n",
            "                                                                                                  \n",
            " batch_normalization_15 (BatchN  (None, None, None,   192        ['conv2d_15[0][0]']              \n",
            " ormalization)                  64)                                                               \n",
            "                                                                                                  \n",
            " activation_15 (Activation)     (None, None, None,   0           ['batch_normalization_15[0][0]'] \n",
            "                                64)                                                               \n",
            "                                                                                                  \n",
            " conv2d_13 (Conv2D)             (None, None, None,   12288       ['mixed0[0][0]']                 \n",
            "                                48)                                                               \n",
            "                                                                                                  \n",
            " conv2d_16 (Conv2D)             (None, None, None,   55296       ['activation_15[0][0]']          \n",
            "                                96)                                                               \n",
            "                                                                                                  \n",
            " batch_normalization_13 (BatchN  (None, None, None,   144        ['conv2d_13[0][0]']              \n",
            " ormalization)                  48)                                                               \n",
            "                                                                                                  \n",
            " batch_normalization_16 (BatchN  (None, None, None,   288        ['conv2d_16[0][0]']              \n",
            " ormalization)                  96)                                                               \n",
            "                                                                                                  \n",
            " activation_13 (Activation)     (None, None, None,   0           ['batch_normalization_13[0][0]'] \n",
            "                                48)                                                               \n",
            "                                                                                                  \n",
            " activation_16 (Activation)     (None, None, None,   0           ['batch_normalization_16[0][0]'] \n",
            "                                96)                                                               \n",
            "                                                                                                  \n",
            " average_pooling2d_1 (AveragePo  (None, None, None,   0          ['mixed0[0][0]']                 \n",
            " oling2D)                       256)                                                              \n",
            "                                                                                                  \n",
            " conv2d_12 (Conv2D)             (None, None, None,   16384       ['mixed0[0][0]']                 \n",
            "                                64)                                                               \n",
            "                                                                                                  \n",
            " conv2d_14 (Conv2D)             (None, None, None,   76800       ['activation_13[0][0]']          \n",
            "                                64)                                                               \n",
            "                                                                                                  \n",
            " conv2d_17 (Conv2D)             (None, None, None,   82944       ['activation_16[0][0]']          \n",
            "                                96)                                                               \n",
            "                                                                                                  \n",
            " conv2d_18 (Conv2D)             (None, None, None,   16384       ['average_pooling2d_1[0][0]']    \n",
            "                                64)                                                               \n",
            "                                                                                                  \n",
            " batch_normalization_12 (BatchN  (None, None, None,   192        ['conv2d_12[0][0]']              \n",
            " ormalization)                  64)                                                               \n",
            "                                                                                                  \n",
            " batch_normalization_14 (BatchN  (None, None, None,   192        ['conv2d_14[0][0]']              \n",
            " ormalization)                  64)                                                               \n",
            "                                                                                                  \n",
            " batch_normalization_17 (BatchN  (None, None, None,   288        ['conv2d_17[0][0]']              \n",
            " ormalization)                  96)                                                               \n",
            "                                                                                                  \n",
            " batch_normalization_18 (BatchN  (None, None, None,   192        ['conv2d_18[0][0]']              \n",
            " ormalization)                  64)                                                               \n",
            "                                                                                                  \n",
            " activation_12 (Activation)     (None, None, None,   0           ['batch_normalization_12[0][0]'] \n",
            "                                64)                                                               \n",
            "                                                                                                  \n",
            " activation_14 (Activation)     (None, None, None,   0           ['batch_normalization_14[0][0]'] \n",
            "                                64)                                                               \n",
            "                                                                                                  \n",
            " activation_17 (Activation)     (None, None, None,   0           ['batch_normalization_17[0][0]'] \n",
            "                                96)                                                               \n",
            "                                                                                                  \n",
            " activation_18 (Activation)     (None, None, None,   0           ['batch_normalization_18[0][0]'] \n",
            "                                64)                                                               \n",
            "                                                                                                  \n",
            " mixed1 (Concatenate)           (None, None, None,   0           ['activation_12[0][0]',          \n",
            "                                288)                              'activation_14[0][0]',          \n",
            "                                                                  'activation_17[0][0]',          \n",
            "                                                                  'activation_18[0][0]']          \n",
            "                                                                                                  \n",
            " conv2d_22 (Conv2D)             (None, None, None,   18432       ['mixed1[0][0]']                 \n",
            "                                64)                                                               \n",
            "                                                                                                  \n",
            " batch_normalization_22 (BatchN  (None, None, None,   192        ['conv2d_22[0][0]']              \n",
            " ormalization)                  64)                                                               \n",
            "                                                                                                  \n",
            " activation_22 (Activation)     (None, None, None,   0           ['batch_normalization_22[0][0]'] \n",
            "                                64)                                                               \n",
            "                                                                                                  \n",
            " conv2d_20 (Conv2D)             (None, None, None,   13824       ['mixed1[0][0]']                 \n",
            "                                48)                                                               \n",
            "                                                                                                  \n",
            " conv2d_23 (Conv2D)             (None, None, None,   55296       ['activation_22[0][0]']          \n",
            "                                96)                                                               \n",
            "                                                                                                  \n",
            " batch_normalization_20 (BatchN  (None, None, None,   144        ['conv2d_20[0][0]']              \n",
            " ormalization)                  48)                                                               \n",
            "                                                                                                  \n",
            " batch_normalization_23 (BatchN  (None, None, None,   288        ['conv2d_23[0][0]']              \n",
            " ormalization)                  96)                                                               \n",
            "                                                                                                  \n",
            " activation_20 (Activation)     (None, None, None,   0           ['batch_normalization_20[0][0]'] \n",
            "                                48)                                                               \n",
            "                                                                                                  \n",
            " activation_23 (Activation)     (None, None, None,   0           ['batch_normalization_23[0][0]'] \n",
            "                                96)                                                               \n",
            "                                                                                                  \n",
            " average_pooling2d_2 (AveragePo  (None, None, None,   0          ['mixed1[0][0]']                 \n",
            " oling2D)                       288)                                                              \n",
            "                                                                                                  \n",
            " conv2d_19 (Conv2D)             (None, None, None,   18432       ['mixed1[0][0]']                 \n",
            "                                64)                                                               \n",
            "                                                                                                  \n",
            " conv2d_21 (Conv2D)             (None, None, None,   76800       ['activation_20[0][0]']          \n",
            "                                64)                                                               \n",
            "                                                                                                  \n",
            " conv2d_24 (Conv2D)             (None, None, None,   82944       ['activation_23[0][0]']          \n",
            "                                96)                                                               \n",
            "                                                                                                  \n",
            " conv2d_25 (Conv2D)             (None, None, None,   18432       ['average_pooling2d_2[0][0]']    \n",
            "                                64)                                                               \n",
            "                                                                                                  \n",
            " batch_normalization_19 (BatchN  (None, None, None,   192        ['conv2d_19[0][0]']              \n",
            " ormalization)                  64)                                                               \n",
            "                                                                                                  \n",
            " batch_normalization_21 (BatchN  (None, None, None,   192        ['conv2d_21[0][0]']              \n",
            " ormalization)                  64)                                                               \n",
            "                                                                                                  \n",
            " batch_normalization_24 (BatchN  (None, None, None,   288        ['conv2d_24[0][0]']              \n",
            " ormalization)                  96)                                                               \n",
            "                                                                                                  \n",
            " batch_normalization_25 (BatchN  (None, None, None,   192        ['conv2d_25[0][0]']              \n",
            " ormalization)                  64)                                                               \n",
            "                                                                                                  \n",
            " activation_19 (Activation)     (None, None, None,   0           ['batch_normalization_19[0][0]'] \n",
            "                                64)                                                               \n",
            "                                                                                                  \n",
            " activation_21 (Activation)     (None, None, None,   0           ['batch_normalization_21[0][0]'] \n",
            "                                64)                                                               \n",
            "                                                                                                  \n",
            " activation_24 (Activation)     (None, None, None,   0           ['batch_normalization_24[0][0]'] \n",
            "                                96)                                                               \n",
            "                                                                                                  \n",
            " activation_25 (Activation)     (None, None, None,   0           ['batch_normalization_25[0][0]'] \n",
            "                                64)                                                               \n",
            "                                                                                                  \n",
            " mixed2 (Concatenate)           (None, None, None,   0           ['activation_19[0][0]',          \n",
            "                                288)                              'activation_21[0][0]',          \n",
            "                                                                  'activation_24[0][0]',          \n",
            "                                                                  'activation_25[0][0]']          \n",
            "                                                                                                  \n",
            " conv2d_27 (Conv2D)             (None, None, None,   18432       ['mixed2[0][0]']                 \n",
            "                                64)                                                               \n",
            "                                                                                                  \n",
            " batch_normalization_27 (BatchN  (None, None, None,   192        ['conv2d_27[0][0]']              \n",
            " ormalization)                  64)                                                               \n",
            "                                                                                                  \n",
            " activation_27 (Activation)     (None, None, None,   0           ['batch_normalization_27[0][0]'] \n",
            "                                64)                                                               \n",
            "                                                                                                  \n",
            " conv2d_28 (Conv2D)             (None, None, None,   55296       ['activation_27[0][0]']          \n",
            "                                96)                                                               \n",
            "                                                                                                  \n",
            " batch_normalization_28 (BatchN  (None, None, None,   288        ['conv2d_28[0][0]']              \n",
            " ormalization)                  96)                                                               \n",
            "                                                                                                  \n",
            " activation_28 (Activation)     (None, None, None,   0           ['batch_normalization_28[0][0]'] \n",
            "                                96)                                                               \n",
            "                                                                                                  \n",
            " conv2d_26 (Conv2D)             (None, None, None,   995328      ['mixed2[0][0]']                 \n",
            "                                384)                                                              \n",
            "                                                                                                  \n",
            " conv2d_29 (Conv2D)             (None, None, None,   82944       ['activation_28[0][0]']          \n",
            "                                96)                                                               \n",
            "                                                                                                  \n",
            " batch_normalization_26 (BatchN  (None, None, None,   1152       ['conv2d_26[0][0]']              \n",
            " ormalization)                  384)                                                              \n",
            "                                                                                                  \n",
            " batch_normalization_29 (BatchN  (None, None, None,   288        ['conv2d_29[0][0]']              \n",
            " ormalization)                  96)                                                               \n",
            "                                                                                                  \n",
            " activation_26 (Activation)     (None, None, None,   0           ['batch_normalization_26[0][0]'] \n",
            "                                384)                                                              \n",
            "                                                                                                  \n",
            " activation_29 (Activation)     (None, None, None,   0           ['batch_normalization_29[0][0]'] \n",
            "                                96)                                                               \n",
            "                                                                                                  \n",
            " max_pooling2d_2 (MaxPooling2D)  (None, None, None,   0          ['mixed2[0][0]']                 \n",
            "                                288)                                                              \n",
            "                                                                                                  \n",
            " mixed3 (Concatenate)           (None, None, None,   0           ['activation_26[0][0]',          \n",
            "                                768)                              'activation_29[0][0]',          \n",
            "                                                                  'max_pooling2d_2[0][0]']        \n",
            "                                                                                                  \n",
            " conv2d_34 (Conv2D)             (None, None, None,   98304       ['mixed3[0][0]']                 \n",
            "                                128)                                                              \n",
            "                                                                                                  \n",
            " batch_normalization_34 (BatchN  (None, None, None,   384        ['conv2d_34[0][0]']              \n",
            " ormalization)                  128)                                                              \n",
            "                                                                                                  \n",
            " activation_34 (Activation)     (None, None, None,   0           ['batch_normalization_34[0][0]'] \n",
            "                                128)                                                              \n",
            "                                                                                                  \n",
            " conv2d_35 (Conv2D)             (None, None, None,   114688      ['activation_34[0][0]']          \n",
            "                                128)                                                              \n",
            "                                                                                                  \n",
            " batch_normalization_35 (BatchN  (None, None, None,   384        ['conv2d_35[0][0]']              \n",
            " ormalization)                  128)                                                              \n",
            "                                                                                                  \n",
            " activation_35 (Activation)     (None, None, None,   0           ['batch_normalization_35[0][0]'] \n",
            "                                128)                                                              \n",
            "                                                                                                  \n",
            " conv2d_31 (Conv2D)             (None, None, None,   98304       ['mixed3[0][0]']                 \n",
            "                                128)                                                              \n",
            "                                                                                                  \n",
            " conv2d_36 (Conv2D)             (None, None, None,   114688      ['activation_35[0][0]']          \n",
            "                                128)                                                              \n",
            "                                                                                                  \n",
            " batch_normalization_31 (BatchN  (None, None, None,   384        ['conv2d_31[0][0]']              \n",
            " ormalization)                  128)                                                              \n",
            "                                                                                                  \n",
            " batch_normalization_36 (BatchN  (None, None, None,   384        ['conv2d_36[0][0]']              \n",
            " ormalization)                  128)                                                              \n",
            "                                                                                                  \n",
            " activation_31 (Activation)     (None, None, None,   0           ['batch_normalization_31[0][0]'] \n",
            "                                128)                                                              \n",
            "                                                                                                  \n",
            " activation_36 (Activation)     (None, None, None,   0           ['batch_normalization_36[0][0]'] \n",
            "                                128)                                                              \n",
            "                                                                                                  \n",
            " conv2d_32 (Conv2D)             (None, None, None,   114688      ['activation_31[0][0]']          \n",
            "                                128)                                                              \n",
            "                                                                                                  \n",
            " conv2d_37 (Conv2D)             (None, None, None,   114688      ['activation_36[0][0]']          \n",
            "                                128)                                                              \n",
            "                                                                                                  \n",
            " batch_normalization_32 (BatchN  (None, None, None,   384        ['conv2d_32[0][0]']              \n",
            " ormalization)                  128)                                                              \n",
            "                                                                                                  \n",
            " batch_normalization_37 (BatchN  (None, None, None,   384        ['conv2d_37[0][0]']              \n",
            " ormalization)                  128)                                                              \n",
            "                                                                                                  \n",
            " activation_32 (Activation)     (None, None, None,   0           ['batch_normalization_32[0][0]'] \n",
            "                                128)                                                              \n",
            "                                                                                                  \n",
            " activation_37 (Activation)     (None, None, None,   0           ['batch_normalization_37[0][0]'] \n",
            "                                128)                                                              \n",
            "                                                                                                  \n",
            " average_pooling2d_3 (AveragePo  (None, None, None,   0          ['mixed3[0][0]']                 \n",
            " oling2D)                       768)                                                              \n",
            "                                                                                                  \n",
            " conv2d_30 (Conv2D)             (None, None, None,   147456      ['mixed3[0][0]']                 \n",
            "                                192)                                                              \n",
            "                                                                                                  \n",
            " conv2d_33 (Conv2D)             (None, None, None,   172032      ['activation_32[0][0]']          \n",
            "                                192)                                                              \n",
            "                                                                                                  \n",
            " conv2d_38 (Conv2D)             (None, None, None,   172032      ['activation_37[0][0]']          \n",
            "                                192)                                                              \n",
            "                                                                                                  \n",
            " conv2d_39 (Conv2D)             (None, None, None,   147456      ['average_pooling2d_3[0][0]']    \n",
            "                                192)                                                              \n",
            "                                                                                                  \n",
            " batch_normalization_30 (BatchN  (None, None, None,   576        ['conv2d_30[0][0]']              \n",
            " ormalization)                  192)                                                              \n",
            "                                                                                                  \n",
            " batch_normalization_33 (BatchN  (None, None, None,   576        ['conv2d_33[0][0]']              \n",
            " ormalization)                  192)                                                              \n",
            "                                                                                                  \n",
            " batch_normalization_38 (BatchN  (None, None, None,   576        ['conv2d_38[0][0]']              \n",
            " ormalization)                  192)                                                              \n",
            "                                                                                                  \n",
            " batch_normalization_39 (BatchN  (None, None, None,   576        ['conv2d_39[0][0]']              \n",
            " ormalization)                  192)                                                              \n",
            "                                                                                                  \n",
            " activation_30 (Activation)     (None, None, None,   0           ['batch_normalization_30[0][0]'] \n",
            "                                192)                                                              \n",
            "                                                                                                  \n",
            " activation_33 (Activation)     (None, None, None,   0           ['batch_normalization_33[0][0]'] \n",
            "                                192)                                                              \n",
            "                                                                                                  \n",
            " activation_38 (Activation)     (None, None, None,   0           ['batch_normalization_38[0][0]'] \n",
            "                                192)                                                              \n",
            "                                                                                                  \n",
            " activation_39 (Activation)     (None, None, None,   0           ['batch_normalization_39[0][0]'] \n",
            "                                192)                                                              \n",
            "                                                                                                  \n",
            " mixed4 (Concatenate)           (None, None, None,   0           ['activation_30[0][0]',          \n",
            "                                768)                              'activation_33[0][0]',          \n",
            "                                                                  'activation_38[0][0]',          \n",
            "                                                                  'activation_39[0][0]']          \n",
            "                                                                                                  \n",
            " conv2d_44 (Conv2D)             (None, None, None,   122880      ['mixed4[0][0]']                 \n",
            "                                160)                                                              \n",
            "                                                                                                  \n",
            " batch_normalization_44 (BatchN  (None, None, None,   480        ['conv2d_44[0][0]']              \n",
            " ormalization)                  160)                                                              \n",
            "                                                                                                  \n",
            " activation_44 (Activation)     (None, None, None,   0           ['batch_normalization_44[0][0]'] \n",
            "                                160)                                                              \n",
            "                                                                                                  \n",
            " conv2d_45 (Conv2D)             (None, None, None,   179200      ['activation_44[0][0]']          \n",
            "                                160)                                                              \n",
            "                                                                                                  \n",
            " batch_normalization_45 (BatchN  (None, None, None,   480        ['conv2d_45[0][0]']              \n",
            " ormalization)                  160)                                                              \n",
            "                                                                                                  \n",
            " activation_45 (Activation)     (None, None, None,   0           ['batch_normalization_45[0][0]'] \n",
            "                                160)                                                              \n",
            "                                                                                                  \n",
            " conv2d_41 (Conv2D)             (None, None, None,   122880      ['mixed4[0][0]']                 \n",
            "                                160)                                                              \n",
            "                                                                                                  \n",
            " conv2d_46 (Conv2D)             (None, None, None,   179200      ['activation_45[0][0]']          \n",
            "                                160)                                                              \n",
            "                                                                                                  \n",
            " batch_normalization_41 (BatchN  (None, None, None,   480        ['conv2d_41[0][0]']              \n",
            " ormalization)                  160)                                                              \n",
            "                                                                                                  \n",
            " batch_normalization_46 (BatchN  (None, None, None,   480        ['conv2d_46[0][0]']              \n",
            " ormalization)                  160)                                                              \n",
            "                                                                                                  \n",
            " activation_41 (Activation)     (None, None, None,   0           ['batch_normalization_41[0][0]'] \n",
            "                                160)                                                              \n",
            "                                                                                                  \n",
            " activation_46 (Activation)     (None, None, None,   0           ['batch_normalization_46[0][0]'] \n",
            "                                160)                                                              \n",
            "                                                                                                  \n",
            " conv2d_42 (Conv2D)             (None, None, None,   179200      ['activation_41[0][0]']          \n",
            "                                160)                                                              \n",
            "                                                                                                  \n",
            " conv2d_47 (Conv2D)             (None, None, None,   179200      ['activation_46[0][0]']          \n",
            "                                160)                                                              \n",
            "                                                                                                  \n",
            " batch_normalization_42 (BatchN  (None, None, None,   480        ['conv2d_42[0][0]']              \n",
            " ormalization)                  160)                                                              \n",
            "                                                                                                  \n",
            " batch_normalization_47 (BatchN  (None, None, None,   480        ['conv2d_47[0][0]']              \n",
            " ormalization)                  160)                                                              \n",
            "                                                                                                  \n",
            " activation_42 (Activation)     (None, None, None,   0           ['batch_normalization_42[0][0]'] \n",
            "                                160)                                                              \n",
            "                                                                                                  \n",
            " activation_47 (Activation)     (None, None, None,   0           ['batch_normalization_47[0][0]'] \n",
            "                                160)                                                              \n",
            "                                                                                                  \n",
            " average_pooling2d_4 (AveragePo  (None, None, None,   0          ['mixed4[0][0]']                 \n",
            " oling2D)                       768)                                                              \n",
            "                                                                                                  \n",
            " conv2d_40 (Conv2D)             (None, None, None,   147456      ['mixed4[0][0]']                 \n",
            "                                192)                                                              \n",
            "                                                                                                  \n",
            " conv2d_43 (Conv2D)             (None, None, None,   215040      ['activation_42[0][0]']          \n",
            "                                192)                                                              \n",
            "                                                                                                  \n",
            " conv2d_48 (Conv2D)             (None, None, None,   215040      ['activation_47[0][0]']          \n",
            "                                192)                                                              \n",
            "                                                                                                  \n",
            " conv2d_49 (Conv2D)             (None, None, None,   147456      ['average_pooling2d_4[0][0]']    \n",
            "                                192)                                                              \n",
            "                                                                                                  \n",
            " batch_normalization_40 (BatchN  (None, None, None,   576        ['conv2d_40[0][0]']              \n",
            " ormalization)                  192)                                                              \n",
            "                                                                                                  \n",
            " batch_normalization_43 (BatchN  (None, None, None,   576        ['conv2d_43[0][0]']              \n",
            " ormalization)                  192)                                                              \n",
            "                                                                                                  \n",
            " batch_normalization_48 (BatchN  (None, None, None,   576        ['conv2d_48[0][0]']              \n",
            " ormalization)                  192)                                                              \n",
            "                                                                                                  \n",
            " batch_normalization_49 (BatchN  (None, None, None,   576        ['conv2d_49[0][0]']              \n",
            " ormalization)                  192)                                                              \n",
            "                                                                                                  \n",
            " activation_40 (Activation)     (None, None, None,   0           ['batch_normalization_40[0][0]'] \n",
            "                                192)                                                              \n",
            "                                                                                                  \n",
            " activation_43 (Activation)     (None, None, None,   0           ['batch_normalization_43[0][0]'] \n",
            "                                192)                                                              \n",
            "                                                                                                  \n",
            " activation_48 (Activation)     (None, None, None,   0           ['batch_normalization_48[0][0]'] \n",
            "                                192)                                                              \n",
            "                                                                                                  \n",
            " activation_49 (Activation)     (None, None, None,   0           ['batch_normalization_49[0][0]'] \n",
            "                                192)                                                              \n",
            "                                                                                                  \n",
            " mixed5 (Concatenate)           (None, None, None,   0           ['activation_40[0][0]',          \n",
            "                                768)                              'activation_43[0][0]',          \n",
            "                                                                  'activation_48[0][0]',          \n",
            "                                                                  'activation_49[0][0]']          \n",
            "                                                                                                  \n",
            " conv2d_54 (Conv2D)             (None, None, None,   122880      ['mixed5[0][0]']                 \n",
            "                                160)                                                              \n",
            "                                                                                                  \n",
            " batch_normalization_54 (BatchN  (None, None, None,   480        ['conv2d_54[0][0]']              \n",
            " ormalization)                  160)                                                              \n",
            "                                                                                                  \n",
            " activation_54 (Activation)     (None, None, None,   0           ['batch_normalization_54[0][0]'] \n",
            "                                160)                                                              \n",
            "                                                                                                  \n",
            " conv2d_55 (Conv2D)             (None, None, None,   179200      ['activation_54[0][0]']          \n",
            "                                160)                                                              \n",
            "                                                                                                  \n",
            " batch_normalization_55 (BatchN  (None, None, None,   480        ['conv2d_55[0][0]']              \n",
            " ormalization)                  160)                                                              \n",
            "                                                                                                  \n",
            " activation_55 (Activation)     (None, None, None,   0           ['batch_normalization_55[0][0]'] \n",
            "                                160)                                                              \n",
            "                                                                                                  \n",
            " conv2d_51 (Conv2D)             (None, None, None,   122880      ['mixed5[0][0]']                 \n",
            "                                160)                                                              \n",
            "                                                                                                  \n",
            " conv2d_56 (Conv2D)             (None, None, None,   179200      ['activation_55[0][0]']          \n",
            "                                160)                                                              \n",
            "                                                                                                  \n",
            " batch_normalization_51 (BatchN  (None, None, None,   480        ['conv2d_51[0][0]']              \n",
            " ormalization)                  160)                                                              \n",
            "                                                                                                  \n",
            " batch_normalization_56 (BatchN  (None, None, None,   480        ['conv2d_56[0][0]']              \n",
            " ormalization)                  160)                                                              \n",
            "                                                                                                  \n",
            " activation_51 (Activation)     (None, None, None,   0           ['batch_normalization_51[0][0]'] \n",
            "                                160)                                                              \n",
            "                                                                                                  \n",
            " activation_56 (Activation)     (None, None, None,   0           ['batch_normalization_56[0][0]'] \n",
            "                                160)                                                              \n",
            "                                                                                                  \n",
            " conv2d_52 (Conv2D)             (None, None, None,   179200      ['activation_51[0][0]']          \n",
            "                                160)                                                              \n",
            "                                                                                                  \n",
            " conv2d_57 (Conv2D)             (None, None, None,   179200      ['activation_56[0][0]']          \n",
            "                                160)                                                              \n",
            "                                                                                                  \n",
            " batch_normalization_52 (BatchN  (None, None, None,   480        ['conv2d_52[0][0]']              \n",
            " ormalization)                  160)                                                              \n",
            "                                                                                                  \n",
            " batch_normalization_57 (BatchN  (None, None, None,   480        ['conv2d_57[0][0]']              \n",
            " ormalization)                  160)                                                              \n",
            "                                                                                                  \n",
            " activation_52 (Activation)     (None, None, None,   0           ['batch_normalization_52[0][0]'] \n",
            "                                160)                                                              \n",
            "                                                                                                  \n",
            " activation_57 (Activation)     (None, None, None,   0           ['batch_normalization_57[0][0]'] \n",
            "                                160)                                                              \n",
            "                                                                                                  \n",
            " average_pooling2d_5 (AveragePo  (None, None, None,   0          ['mixed5[0][0]']                 \n",
            " oling2D)                       768)                                                              \n",
            "                                                                                                  \n",
            " conv2d_50 (Conv2D)             (None, None, None,   147456      ['mixed5[0][0]']                 \n",
            "                                192)                                                              \n",
            "                                                                                                  \n",
            " conv2d_53 (Conv2D)             (None, None, None,   215040      ['activation_52[0][0]']          \n",
            "                                192)                                                              \n",
            "                                                                                                  \n",
            " conv2d_58 (Conv2D)             (None, None, None,   215040      ['activation_57[0][0]']          \n",
            "                                192)                                                              \n",
            "                                                                                                  \n",
            " conv2d_59 (Conv2D)             (None, None, None,   147456      ['average_pooling2d_5[0][0]']    \n",
            "                                192)                                                              \n",
            "                                                                                                  \n",
            " batch_normalization_50 (BatchN  (None, None, None,   576        ['conv2d_50[0][0]']              \n",
            " ormalization)                  192)                                                              \n",
            "                                                                                                  \n",
            " batch_normalization_53 (BatchN  (None, None, None,   576        ['conv2d_53[0][0]']              \n",
            " ormalization)                  192)                                                              \n",
            "                                                                                                  \n",
            " batch_normalization_58 (BatchN  (None, None, None,   576        ['conv2d_58[0][0]']              \n",
            " ormalization)                  192)                                                              \n",
            "                                                                                                  \n",
            " batch_normalization_59 (BatchN  (None, None, None,   576        ['conv2d_59[0][0]']              \n",
            " ormalization)                  192)                                                              \n",
            "                                                                                                  \n",
            " activation_50 (Activation)     (None, None, None,   0           ['batch_normalization_50[0][0]'] \n",
            "                                192)                                                              \n",
            "                                                                                                  \n",
            " activation_53 (Activation)     (None, None, None,   0           ['batch_normalization_53[0][0]'] \n",
            "                                192)                                                              \n",
            "                                                                                                  \n",
            " activation_58 (Activation)     (None, None, None,   0           ['batch_normalization_58[0][0]'] \n",
            "                                192)                                                              \n",
            "                                                                                                  \n",
            " activation_59 (Activation)     (None, None, None,   0           ['batch_normalization_59[0][0]'] \n",
            "                                192)                                                              \n",
            "                                                                                                  \n",
            " mixed6 (Concatenate)           (None, None, None,   0           ['activation_50[0][0]',          \n",
            "                                768)                              'activation_53[0][0]',          \n",
            "                                                                  'activation_58[0][0]',          \n",
            "                                                                  'activation_59[0][0]']          \n",
            "                                                                                                  \n",
            " conv2d_64 (Conv2D)             (None, None, None,   147456      ['mixed6[0][0]']                 \n",
            "                                192)                                                              \n",
            "                                                                                                  \n",
            " batch_normalization_64 (BatchN  (None, None, None,   576        ['conv2d_64[0][0]']              \n",
            " ormalization)                  192)                                                              \n",
            "                                                                                                  \n",
            " activation_64 (Activation)     (None, None, None,   0           ['batch_normalization_64[0][0]'] \n",
            "                                192)                                                              \n",
            "                                                                                                  \n",
            " conv2d_65 (Conv2D)             (None, None, None,   258048      ['activation_64[0][0]']          \n",
            "                                192)                                                              \n",
            "                                                                                                  \n",
            " batch_normalization_65 (BatchN  (None, None, None,   576        ['conv2d_65[0][0]']              \n",
            " ormalization)                  192)                                                              \n",
            "                                                                                                  \n",
            " activation_65 (Activation)     (None, None, None,   0           ['batch_normalization_65[0][0]'] \n",
            "                                192)                                                              \n",
            "                                                                                                  \n",
            " conv2d_61 (Conv2D)             (None, None, None,   147456      ['mixed6[0][0]']                 \n",
            "                                192)                                                              \n",
            "                                                                                                  \n",
            " conv2d_66 (Conv2D)             (None, None, None,   258048      ['activation_65[0][0]']          \n",
            "                                192)                                                              \n",
            "                                                                                                  \n",
            " batch_normalization_61 (BatchN  (None, None, None,   576        ['conv2d_61[0][0]']              \n",
            " ormalization)                  192)                                                              \n",
            "                                                                                                  \n",
            " batch_normalization_66 (BatchN  (None, None, None,   576        ['conv2d_66[0][0]']              \n",
            " ormalization)                  192)                                                              \n",
            "                                                                                                  \n",
            " activation_61 (Activation)     (None, None, None,   0           ['batch_normalization_61[0][0]'] \n",
            "                                192)                                                              \n",
            "                                                                                                  \n",
            " activation_66 (Activation)     (None, None, None,   0           ['batch_normalization_66[0][0]'] \n",
            "                                192)                                                              \n",
            "                                                                                                  \n",
            " conv2d_62 (Conv2D)             (None, None, None,   258048      ['activation_61[0][0]']          \n",
            "                                192)                                                              \n",
            "                                                                                                  \n",
            " conv2d_67 (Conv2D)             (None, None, None,   258048      ['activation_66[0][0]']          \n",
            "                                192)                                                              \n",
            "                                                                                                  \n",
            " batch_normalization_62 (BatchN  (None, None, None,   576        ['conv2d_62[0][0]']              \n",
            " ormalization)                  192)                                                              \n",
            "                                                                                                  \n",
            " batch_normalization_67 (BatchN  (None, None, None,   576        ['conv2d_67[0][0]']              \n",
            " ormalization)                  192)                                                              \n",
            "                                                                                                  \n",
            " activation_62 (Activation)     (None, None, None,   0           ['batch_normalization_62[0][0]'] \n",
            "                                192)                                                              \n",
            "                                                                                                  \n",
            " activation_67 (Activation)     (None, None, None,   0           ['batch_normalization_67[0][0]'] \n",
            "                                192)                                                              \n",
            "                                                                                                  \n",
            " average_pooling2d_6 (AveragePo  (None, None, None,   0          ['mixed6[0][0]']                 \n",
            " oling2D)                       768)                                                              \n",
            "                                                                                                  \n",
            " conv2d_60 (Conv2D)             (None, None, None,   147456      ['mixed6[0][0]']                 \n",
            "                                192)                                                              \n",
            "                                                                                                  \n",
            " conv2d_63 (Conv2D)             (None, None, None,   258048      ['activation_62[0][0]']          \n",
            "                                192)                                                              \n",
            "                                                                                                  \n",
            " conv2d_68 (Conv2D)             (None, None, None,   258048      ['activation_67[0][0]']          \n",
            "                                192)                                                              \n",
            "                                                                                                  \n",
            " conv2d_69 (Conv2D)             (None, None, None,   147456      ['average_pooling2d_6[0][0]']    \n",
            "                                192)                                                              \n",
            "                                                                                                  \n",
            " batch_normalization_60 (BatchN  (None, None, None,   576        ['conv2d_60[0][0]']              \n",
            " ormalization)                  192)                                                              \n",
            "                                                                                                  \n",
            " batch_normalization_63 (BatchN  (None, None, None,   576        ['conv2d_63[0][0]']              \n",
            " ormalization)                  192)                                                              \n",
            "                                                                                                  \n",
            " batch_normalization_68 (BatchN  (None, None, None,   576        ['conv2d_68[0][0]']              \n",
            " ormalization)                  192)                                                              \n",
            "                                                                                                  \n",
            " batch_normalization_69 (BatchN  (None, None, None,   576        ['conv2d_69[0][0]']              \n",
            " ormalization)                  192)                                                              \n",
            "                                                                                                  \n",
            " activation_60 (Activation)     (None, None, None,   0           ['batch_normalization_60[0][0]'] \n",
            "                                192)                                                              \n",
            "                                                                                                  \n",
            " activation_63 (Activation)     (None, None, None,   0           ['batch_normalization_63[0][0]'] \n",
            "                                192)                                                              \n",
            "                                                                                                  \n",
            " activation_68 (Activation)     (None, None, None,   0           ['batch_normalization_68[0][0]'] \n",
            "                                192)                                                              \n",
            "                                                                                                  \n",
            " activation_69 (Activation)     (None, None, None,   0           ['batch_normalization_69[0][0]'] \n",
            "                                192)                                                              \n",
            "                                                                                                  \n",
            " mixed7 (Concatenate)           (None, None, None,   0           ['activation_60[0][0]',          \n",
            "                                768)                              'activation_63[0][0]',          \n",
            "                                                                  'activation_68[0][0]',          \n",
            "                                                                  'activation_69[0][0]']          \n",
            "                                                                                                  \n",
            " conv2d_72 (Conv2D)             (None, None, None,   147456      ['mixed7[0][0]']                 \n",
            "                                192)                                                              \n",
            "                                                                                                  \n",
            " batch_normalization_72 (BatchN  (None, None, None,   576        ['conv2d_72[0][0]']              \n",
            " ormalization)                  192)                                                              \n",
            "                                                                                                  \n",
            " activation_72 (Activation)     (None, None, None,   0           ['batch_normalization_72[0][0]'] \n",
            "                                192)                                                              \n",
            "                                                                                                  \n",
            " conv2d_73 (Conv2D)             (None, None, None,   258048      ['activation_72[0][0]']          \n",
            "                                192)                                                              \n",
            "                                                                                                  \n",
            " batch_normalization_73 (BatchN  (None, None, None,   576        ['conv2d_73[0][0]']              \n",
            " ormalization)                  192)                                                              \n",
            "                                                                                                  \n",
            " activation_73 (Activation)     (None, None, None,   0           ['batch_normalization_73[0][0]'] \n",
            "                                192)                                                              \n",
            "                                                                                                  \n",
            " conv2d_70 (Conv2D)             (None, None, None,   147456      ['mixed7[0][0]']                 \n",
            "                                192)                                                              \n",
            "                                                                                                  \n",
            " conv2d_74 (Conv2D)             (None, None, None,   258048      ['activation_73[0][0]']          \n",
            "                                192)                                                              \n",
            "                                                                                                  \n",
            " batch_normalization_70 (BatchN  (None, None, None,   576        ['conv2d_70[0][0]']              \n",
            " ormalization)                  192)                                                              \n",
            "                                                                                                  \n",
            " batch_normalization_74 (BatchN  (None, None, None,   576        ['conv2d_74[0][0]']              \n",
            " ormalization)                  192)                                                              \n",
            "                                                                                                  \n",
            " activation_70 (Activation)     (None, None, None,   0           ['batch_normalization_70[0][0]'] \n",
            "                                192)                                                              \n",
            "                                                                                                  \n",
            " activation_74 (Activation)     (None, None, None,   0           ['batch_normalization_74[0][0]'] \n",
            "                                192)                                                              \n",
            "                                                                                                  \n",
            " conv2d_71 (Conv2D)             (None, None, None,   552960      ['activation_70[0][0]']          \n",
            "                                320)                                                              \n",
            "                                                                                                  \n",
            " conv2d_75 (Conv2D)             (None, None, None,   331776      ['activation_74[0][0]']          \n",
            "                                192)                                                              \n",
            "                                                                                                  \n",
            " batch_normalization_71 (BatchN  (None, None, None,   960        ['conv2d_71[0][0]']              \n",
            " ormalization)                  320)                                                              \n",
            "                                                                                                  \n",
            " batch_normalization_75 (BatchN  (None, None, None,   576        ['conv2d_75[0][0]']              \n",
            " ormalization)                  192)                                                              \n",
            "                                                                                                  \n",
            " activation_71 (Activation)     (None, None, None,   0           ['batch_normalization_71[0][0]'] \n",
            "                                320)                                                              \n",
            "                                                                                                  \n",
            " activation_75 (Activation)     (None, None, None,   0           ['batch_normalization_75[0][0]'] \n",
            "                                192)                                                              \n",
            "                                                                                                  \n",
            " max_pooling2d_3 (MaxPooling2D)  (None, None, None,   0          ['mixed7[0][0]']                 \n",
            "                                768)                                                              \n",
            "                                                                                                  \n",
            " mixed8 (Concatenate)           (None, None, None,   0           ['activation_71[0][0]',          \n",
            "                                1280)                             'activation_75[0][0]',          \n",
            "                                                                  'max_pooling2d_3[0][0]']        \n",
            "                                                                                                  \n",
            " conv2d_80 (Conv2D)             (None, None, None,   573440      ['mixed8[0][0]']                 \n",
            "                                448)                                                              \n",
            "                                                                                                  \n",
            " batch_normalization_80 (BatchN  (None, None, None,   1344       ['conv2d_80[0][0]']              \n",
            " ormalization)                  448)                                                              \n",
            "                                                                                                  \n",
            " activation_80 (Activation)     (None, None, None,   0           ['batch_normalization_80[0][0]'] \n",
            "                                448)                                                              \n",
            "                                                                                                  \n",
            " conv2d_77 (Conv2D)             (None, None, None,   491520      ['mixed8[0][0]']                 \n",
            "                                384)                                                              \n",
            "                                                                                                  \n",
            " conv2d_81 (Conv2D)             (None, None, None,   1548288     ['activation_80[0][0]']          \n",
            "                                384)                                                              \n",
            "                                                                                                  \n",
            " batch_normalization_77 (BatchN  (None, None, None,   1152       ['conv2d_77[0][0]']              \n",
            " ormalization)                  384)                                                              \n",
            "                                                                                                  \n",
            " batch_normalization_81 (BatchN  (None, None, None,   1152       ['conv2d_81[0][0]']              \n",
            " ormalization)                  384)                                                              \n",
            "                                                                                                  \n",
            " activation_77 (Activation)     (None, None, None,   0           ['batch_normalization_77[0][0]'] \n",
            "                                384)                                                              \n",
            "                                                                                                  \n",
            " activation_81 (Activation)     (None, None, None,   0           ['batch_normalization_81[0][0]'] \n",
            "                                384)                                                              \n",
            "                                                                                                  \n",
            " conv2d_78 (Conv2D)             (None, None, None,   442368      ['activation_77[0][0]']          \n",
            "                                384)                                                              \n",
            "                                                                                                  \n",
            " conv2d_79 (Conv2D)             (None, None, None,   442368      ['activation_77[0][0]']          \n",
            "                                384)                                                              \n",
            "                                                                                                  \n",
            " conv2d_82 (Conv2D)             (None, None, None,   442368      ['activation_81[0][0]']          \n",
            "                                384)                                                              \n",
            "                                                                                                  \n",
            " conv2d_83 (Conv2D)             (None, None, None,   442368      ['activation_81[0][0]']          \n",
            "                                384)                                                              \n",
            "                                                                                                  \n",
            " average_pooling2d_7 (AveragePo  (None, None, None,   0          ['mixed8[0][0]']                 \n",
            " oling2D)                       1280)                                                             \n",
            "                                                                                                  \n",
            " conv2d_76 (Conv2D)             (None, None, None,   409600      ['mixed8[0][0]']                 \n",
            "                                320)                                                              \n",
            "                                                                                                  \n",
            " batch_normalization_78 (BatchN  (None, None, None,   1152       ['conv2d_78[0][0]']              \n",
            " ormalization)                  384)                                                              \n",
            "                                                                                                  \n",
            " batch_normalization_79 (BatchN  (None, None, None,   1152       ['conv2d_79[0][0]']              \n",
            " ormalization)                  384)                                                              \n",
            "                                                                                                  \n",
            " batch_normalization_82 (BatchN  (None, None, None,   1152       ['conv2d_82[0][0]']              \n",
            " ormalization)                  384)                                                              \n",
            "                                                                                                  \n",
            " batch_normalization_83 (BatchN  (None, None, None,   1152       ['conv2d_83[0][0]']              \n",
            " ormalization)                  384)                                                              \n",
            "                                                                                                  \n",
            " conv2d_84 (Conv2D)             (None, None, None,   245760      ['average_pooling2d_7[0][0]']    \n",
            "                                192)                                                              \n",
            "                                                                                                  \n",
            " batch_normalization_76 (BatchN  (None, None, None,   960        ['conv2d_76[0][0]']              \n",
            " ormalization)                  320)                                                              \n",
            "                                                                                                  \n",
            " activation_78 (Activation)     (None, None, None,   0           ['batch_normalization_78[0][0]'] \n",
            "                                384)                                                              \n",
            "                                                                                                  \n",
            " activation_79 (Activation)     (None, None, None,   0           ['batch_normalization_79[0][0]'] \n",
            "                                384)                                                              \n",
            "                                                                                                  \n",
            " activation_82 (Activation)     (None, None, None,   0           ['batch_normalization_82[0][0]'] \n",
            "                                384)                                                              \n",
            "                                                                                                  \n",
            " activation_83 (Activation)     (None, None, None,   0           ['batch_normalization_83[0][0]'] \n",
            "                                384)                                                              \n",
            "                                                                                                  \n",
            " batch_normalization_84 (BatchN  (None, None, None,   576        ['conv2d_84[0][0]']              \n",
            " ormalization)                  192)                                                              \n",
            "                                                                                                  \n",
            " activation_76 (Activation)     (None, None, None,   0           ['batch_normalization_76[0][0]'] \n",
            "                                320)                                                              \n",
            "                                                                                                  \n",
            " mixed9_0 (Concatenate)         (None, None, None,   0           ['activation_78[0][0]',          \n",
            "                                768)                              'activation_79[0][0]']          \n",
            "                                                                                                  \n",
            " concatenate (Concatenate)      (None, None, None,   0           ['activation_82[0][0]',          \n",
            "                                768)                              'activation_83[0][0]']          \n",
            "                                                                                                  \n",
            " activation_84 (Activation)     (None, None, None,   0           ['batch_normalization_84[0][0]'] \n",
            "                                192)                                                              \n",
            "                                                                                                  \n",
            " mixed9 (Concatenate)           (None, None, None,   0           ['activation_76[0][0]',          \n",
            "                                2048)                             'mixed9_0[0][0]',               \n",
            "                                                                  'concatenate[0][0]',            \n",
            "                                                                  'activation_84[0][0]']          \n",
            "                                                                                                  \n",
            " conv2d_89 (Conv2D)             (None, None, None,   917504      ['mixed9[0][0]']                 \n",
            "                                448)                                                              \n",
            "                                                                                                  \n",
            " batch_normalization_89 (BatchN  (None, None, None,   1344       ['conv2d_89[0][0]']              \n",
            " ormalization)                  448)                                                              \n",
            "                                                                                                  \n",
            " activation_89 (Activation)     (None, None, None,   0           ['batch_normalization_89[0][0]'] \n",
            "                                448)                                                              \n",
            "                                                                                                  \n",
            " conv2d_86 (Conv2D)             (None, None, None,   786432      ['mixed9[0][0]']                 \n",
            "                                384)                                                              \n",
            "                                                                                                  \n",
            " conv2d_90 (Conv2D)             (None, None, None,   1548288     ['activation_89[0][0]']          \n",
            "                                384)                                                              \n",
            "                                                                                                  \n",
            " batch_normalization_86 (BatchN  (None, None, None,   1152       ['conv2d_86[0][0]']              \n",
            " ormalization)                  384)                                                              \n",
            "                                                                                                  \n",
            " batch_normalization_90 (BatchN  (None, None, None,   1152       ['conv2d_90[0][0]']              \n",
            " ormalization)                  384)                                                              \n",
            "                                                                                                  \n",
            " activation_86 (Activation)     (None, None, None,   0           ['batch_normalization_86[0][0]'] \n",
            "                                384)                                                              \n",
            "                                                                                                  \n",
            " activation_90 (Activation)     (None, None, None,   0           ['batch_normalization_90[0][0]'] \n",
            "                                384)                                                              \n",
            "                                                                                                  \n",
            " conv2d_87 (Conv2D)             (None, None, None,   442368      ['activation_86[0][0]']          \n",
            "                                384)                                                              \n",
            "                                                                                                  \n",
            " conv2d_88 (Conv2D)             (None, None, None,   442368      ['activation_86[0][0]']          \n",
            "                                384)                                                              \n",
            "                                                                                                  \n",
            " conv2d_91 (Conv2D)             (None, None, None,   442368      ['activation_90[0][0]']          \n",
            "                                384)                                                              \n",
            "                                                                                                  \n",
            " conv2d_92 (Conv2D)             (None, None, None,   442368      ['activation_90[0][0]']          \n",
            "                                384)                                                              \n",
            "                                                                                                  \n",
            " average_pooling2d_8 (AveragePo  (None, None, None,   0          ['mixed9[0][0]']                 \n",
            " oling2D)                       2048)                                                             \n",
            "                                                                                                  \n",
            " conv2d_85 (Conv2D)             (None, None, None,   655360      ['mixed9[0][0]']                 \n",
            "                                320)                                                              \n",
            "                                                                                                  \n",
            " batch_normalization_87 (BatchN  (None, None, None,   1152       ['conv2d_87[0][0]']              \n",
            " ormalization)                  384)                                                              \n",
            "                                                                                                  \n",
            " batch_normalization_88 (BatchN  (None, None, None,   1152       ['conv2d_88[0][0]']              \n",
            " ormalization)                  384)                                                              \n",
            "                                                                                                  \n",
            " batch_normalization_91 (BatchN  (None, None, None,   1152       ['conv2d_91[0][0]']              \n",
            " ormalization)                  384)                                                              \n",
            "                                                                                                  \n",
            " batch_normalization_92 (BatchN  (None, None, None,   1152       ['conv2d_92[0][0]']              \n",
            " ormalization)                  384)                                                              \n",
            "                                                                                                  \n",
            " conv2d_93 (Conv2D)             (None, None, None,   393216      ['average_pooling2d_8[0][0]']    \n",
            "                                192)                                                              \n",
            "                                                                                                  \n",
            " batch_normalization_85 (BatchN  (None, None, None,   960        ['conv2d_85[0][0]']              \n",
            " ormalization)                  320)                                                              \n",
            "                                                                                                  \n",
            " activation_87 (Activation)     (None, None, None,   0           ['batch_normalization_87[0][0]'] \n",
            "                                384)                                                              \n",
            "                                                                                                  \n",
            " activation_88 (Activation)     (None, None, None,   0           ['batch_normalization_88[0][0]'] \n",
            "                                384)                                                              \n",
            "                                                                                                  \n",
            " activation_91 (Activation)     (None, None, None,   0           ['batch_normalization_91[0][0]'] \n",
            "                                384)                                                              \n",
            "                                                                                                  \n",
            " activation_92 (Activation)     (None, None, None,   0           ['batch_normalization_92[0][0]'] \n",
            "                                384)                                                              \n",
            "                                                                                                  \n",
            " batch_normalization_93 (BatchN  (None, None, None,   576        ['conv2d_93[0][0]']              \n",
            " ormalization)                  192)                                                              \n",
            "                                                                                                  \n",
            " activation_85 (Activation)     (None, None, None,   0           ['batch_normalization_85[0][0]'] \n",
            "                                320)                                                              \n",
            "                                                                                                  \n",
            " mixed9_1 (Concatenate)         (None, None, None,   0           ['activation_87[0][0]',          \n",
            "                                768)                              'activation_88[0][0]']          \n",
            "                                                                                                  \n",
            " concatenate_1 (Concatenate)    (None, None, None,   0           ['activation_91[0][0]',          \n",
            "                                768)                              'activation_92[0][0]']          \n",
            "                                                                                                  \n",
            " activation_93 (Activation)     (None, None, None,   0           ['batch_normalization_93[0][0]'] \n",
            "                                192)                                                              \n",
            "                                                                                                  \n",
            " mixed10 (Concatenate)          (None, None, None,   0           ['activation_85[0][0]',          \n",
            "                                2048)                             'mixed9_1[0][0]',               \n",
            "                                                                  'concatenate_1[0][0]',          \n",
            "                                                                  'activation_93[0][0]']          \n",
            "                                                                                                  \n",
            " global_average_pooling2d_3 (Gl  (None, 2048)        0           ['mixed10[0][0]']                \n",
            " obalAveragePooling2D)                                                                            \n",
            "                                                                                                  \n",
            " dense_12 (Dense)               (None, 1024)         2098176     ['global_average_pooling2d_3[0][0\n",
            "                                                                 ]']                              \n",
            "                                                                                                  \n",
            " dense_13 (Dense)               (None, 1024)         1049600     ['dense_12[0][0]']               \n",
            "                                                                                                  \n",
            " dropout_3 (Dropout)            (None, 1024)         0           ['dense_13[0][0]']               \n",
            "                                                                                                  \n",
            " dense_14 (Dense)               (None, 512)          524800      ['dropout_3[0][0]']              \n",
            "                                                                                                  \n",
            " dense_15 (Dense)               (None, 2)            1026        ['dense_14[0][0]']               \n",
            "                                                                                                  \n",
            "==================================================================================================\n",
            "Total params: 25,476,386\n",
            "Trainable params: 25,441,954\n",
            "Non-trainable params: 34,432\n",
            "__________________________________________________________________________________________________\n"
          ]
        }
      ]
    },
    {
      "cell_type": "code",
      "metadata": {
        "id": "kOPIzI-r8N2b"
      },
      "source": [
        "opt = Adam(learning_rate=0.0001)\n",
        "Interception.compile(loss='categorical_crossentropy', optimizer=opt, metrics = ['accuracy'])"
      ],
      "execution_count": null,
      "outputs": []
    },
    {
      "cell_type": "code",
      "metadata": {
        "id": "q1kWPeGI8ZB7"
      },
      "source": [
        "pred = Interception.predict(test_images_googlent_MB)\n",
        "pred=np.argmax(pred,axis=1)"
      ],
      "execution_count": null,
      "outputs": []
    },
    {
      "cell_type": "code",
      "metadata": {
        "id": "Umq-YEt_8dbK"
      },
      "source": [
        "pred_df=df_teste_400.copy()\n",
        "labels={}\n",
        "for l,v in test_images_googlent_MB.class_indices.items():\n",
        "    labels.update({v:l})\n",
        "pred_df['pred']=pred\n",
        "pred_df['pred']=pred_df['pred'].apply(lambda x: labels[x])"
      ],
      "execution_count": null,
      "outputs": []
    },
    {
      "cell_type": "code",
      "source": [
        "print(f\"Metrics Score: {classification_report(pred_df['Type'],pred_df['pred'])}\")"
      ],
      "metadata": {
        "colab": {
          "base_uri": "https://localhost:8080/"
        },
        "id": "m_1Oi3dGUkuJ",
        "outputId": "19ea4e17-dd43-4f5f-d438-017108267d39"
      },
      "execution_count": null,
      "outputs": [
        {
          "output_type": "stream",
          "name": "stdout",
          "text": [
            "Metrics Score:               precision    recall  f1-score   support\n",
            "\n",
            "           B       1.00      0.96      0.98       560\n",
            "           M       0.94      1.00      0.97       418\n",
            "\n",
            "    accuracy                           0.97       978\n",
            "   macro avg       0.97      0.98      0.97       978\n",
            "weighted avg       0.98      0.97      0.97       978\n",
            "\n"
          ]
        }
      ]
    },
    {
      "cell_type": "code",
      "metadata": {
        "colab": {
          "base_uri": "https://localhost:8080/",
          "height": 282
        },
        "id": "B1C-Mht48lH2",
        "outputId": "782a396a-b98f-438d-f12f-402096015d9f"
      },
      "source": [
        "print(f\"Accuracy Score: {accuracy_score(pred_df['Type'],pred_df['pred'])}\")\n",
        "sns.heatmap(confusion_matrix(pred_df['Type'],pred_df['pred']), annot=True, fmt='2d',   cmap=\"Greens\");"
      ],
      "execution_count": null,
      "outputs": [
        {
          "output_type": "stream",
          "name": "stdout",
          "text": [
            "Accuracy Score: 0.9744376278118609\n"
          ]
        },
        {
          "output_type": "display_data",
          "data": {
            "image/png": "[encoded data removed]",
            "text/plain": [
              "<Figure size 432x288 with 2 Axes>"
            ]
          },
          "metadata": {
            "needs_background": "light"
          }
        }
      ]
    },
    {
      "cell_type": "markdown",
      "metadata": {
        "id": "7Co73QRF92Vy"
      },
      "source": [
        "###  Modelo GoogleNet Para grau de ampliação 200"
      ]
    },
    {
      "cell_type": "code",
      "metadata": {
        "colab": {
          "base_uri": "https://localhost:8080/"
        },
        "id": "lHpbVhit94tK",
        "outputId": "67e38f52-4939-4eac-f776-32ec910cc2a5"
      },
      "source": [
        "train_images_googlent_MB = train_generator_googleNet.flow_from_dataframe(\n",
        "    dataframe=df_treino_200,\n",
        "    x_col='FikePath',\n",
        "    y_col='Type',\n",
        "    target_size=(224, 224),\n",
        "    color_mode='rgb',\n",
        "    class_mode='categorical',\n",
        "    batch_size=BATCH_SIZE,\n",
        "    shuffle=True,\n",
        "    seed=42,\n",
        "    subset='training'\n",
        ")\n",
        "\n",
        "val_images_googlent_MB = train_generator_googleNet.flow_from_dataframe(\n",
        "    dataframe=df_treino_200,\n",
        "    x_col='FikePath',\n",
        "    y_col='Type',\n",
        "    target_size=(224, 224),\n",
        "    color_mode='rgb',\n",
        "    class_mode='categorical',\n",
        "    batch_size=BATCH_SIZE,\n",
        "    shuffle=True,\n",
        "    seed=42,\n",
        "    subset='validation'\n",
        ")\n",
        "\n",
        "test_images_googlent_MB = test_generator_googleNet.flow_from_dataframe(\n",
        "    dataframe=df_teste_200,\n",
        "    x_col='FikePath',\n",
        "    y_col='Type',\n",
        "    target_size=(224, 224),\n",
        "    color_mode='rgb',\n",
        "    class_mode='categorical',\n",
        "    batch_size=BATCH_SIZE,\n",
        "    shuffle=False\n",
        ")"
      ],
      "execution_count": null,
      "outputs": [
        {
          "output_type": "stream",
          "name": "stdout",
          "text": [
            "Found 630 validated image filenames belonging to 2 classes.\n",
            "Found 157 validated image filenames belonging to 2 classes.\n",
            "Found 856 validated image filenames belonging to 2 classes.\n"
          ]
        }
      ]
    },
    {
      "cell_type": "code",
      "metadata": {
        "id": "w4tXubrE98MW"
      },
      "source": [
        "pred = Interception.predict(test_images_googlent_MB)\n",
        "pred=np.argmax(pred,axis=1)"
      ],
      "execution_count": null,
      "outputs": []
    },
    {
      "cell_type": "code",
      "metadata": {
        "id": "6HFOr8UP9_-6"
      },
      "source": [
        "pred_df=df_teste_200.copy()\n",
        "labels={}\n",
        "for l,v in test_images_googlent_MB.class_indices.items():\n",
        "    labels.update({v:l})\n",
        "pred_df['pred']=pred\n",
        "pred_df['pred']=pred_df['pred'].apply(lambda x: labels[x])"
      ],
      "execution_count": null,
      "outputs": []
    },
    {
      "cell_type": "code",
      "source": [
        "print(f\"Metrics Score: {classification_report(pred_df['Type'],pred_df['pred'])}\")"
      ],
      "metadata": {
        "colab": {
          "base_uri": "https://localhost:8080/"
        },
        "id": "eJ2O6zOtUssR",
        "outputId": "d46617fb-79c2-41ac-b814-27ff40f9aca7"
      },
      "execution_count": null,
      "outputs": [
        {
          "output_type": "stream",
          "name": "stdout",
          "text": [
            "Metrics Score:               precision    recall  f1-score   support\n",
            "\n",
            "           B       1.00      0.93      0.97       367\n",
            "           M       0.95      1.00      0.98       489\n",
            "\n",
            "    accuracy                           0.97       856\n",
            "   macro avg       0.98      0.97      0.97       856\n",
            "weighted avg       0.97      0.97      0.97       856\n",
            "\n"
          ]
        }
      ]
    },
    {
      "cell_type": "code",
      "metadata": {
        "colab": {
          "base_uri": "https://localhost:8080/"
        },
        "id": "yDhL90bO-Bu7",
        "outputId": "3d60c07a-5d92-4aa5-d663-1a188ca53f31"
      },
      "source": [
        "print(f\"Accuracy Score: {accuracy_score(pred_df['Type'],pred_df['pred'])}\")\n",
        "sns.heatmap(confusion_matrix(pred_df['Type'],pred_df['pred']), annot=True, fmt='2d',   cmap=\"Greens\");"
      ],
      "execution_count": null,
      "outputs": [
        {
          "output_type": "stream",
          "name": "stdout",
          "text": [
            "Accuracy Score: 0.9719626168224299\n"
          ]
        },
        {
          "output_type": "display_data",
          "data": {
            "image/png": "[encoded data removed]",
            "text/plain": [
              "<Figure size 432x288 with 2 Axes>"
            ]
          },
          "metadata": {
            "needs_background": "light"
          }
        }
      ]
    },
    {
      "cell_type": "code",
      "metadata": {
        "id": "ExxOFNlH-DVq"
      },
      "source": [
        ""
      ],
      "execution_count": null,
      "outputs": []
    },
    {
      "cell_type": "markdown",
      "metadata": {
        "id": "pgAch1pt_gEh"
      },
      "source": [
        "### Modelo GoogleNet validação geral"
      ]
    },
    {
      "cell_type": "code",
      "metadata": {
        "id": "pmtyqjwM_laK"
      },
      "source": [
        "df_geral =  montar_data_frame(r'/content/drive/MyDrive/TCC/Imagens')\n",
        "df_treino = df_geral[df_geral['DataSet'] == 'Tr']\n",
        "df_teste = df_geral[df_geral['DataSet'] == 'Te']"
      ],
      "execution_count": null,
      "outputs": []
    },
    {
      "cell_type": "code",
      "metadata": {
        "colab": {
          "base_uri": "https://localhost:8080/"
        },
        "id": "v5jUhjLcAOAc",
        "outputId": "a504a6c3-488c-4e70-80ca-2a2b2450b8b1"
      },
      "source": [
        "train_images = train_generator_googleNet.flow_from_dataframe(\n",
        "    dataframe=df_treino,\n",
        "    x_col='FikePath',\n",
        "    y_col='Type',\n",
        "    target_size=(224, 224),\n",
        "    color_mode='rgb',\n",
        "    class_mode='categorical',\n",
        "    batch_size=16,\n",
        "    shuffle=True,\n",
        "    seed=42,\n",
        "    subset='training'\n",
        ")\n",
        "\n",
        "val_images = train_generator_googleNet.flow_from_dataframe(\n",
        "    dataframe=df_treino,\n",
        "    x_col='FikePath',\n",
        "    y_col='Type',\n",
        "    target_size=(224, 224),\n",
        "    color_mode='rgb',\n",
        "    class_mode='categorical',\n",
        "    batch_size=16,\n",
        "    shuffle=True,\n",
        "    seed=42,\n",
        "    subset='validation'\n",
        ")\n",
        "\n",
        "test_images = test_generator_googleNet.flow_from_dataframe(\n",
        "    dataframe=df_teste,\n",
        "    x_col='FikePath',\n",
        "    y_col='Type',\n",
        "    target_size=(224, 224),\n",
        "    color_mode='rgb',\n",
        "    class_mode='categorical',\n",
        "    batch_size=16,\n",
        "    shuffle=False\n",
        ")"
      ],
      "execution_count": null,
      "outputs": [
        {
          "output_type": "stream",
          "name": "stdout",
          "text": [
            "Found 1259 validated image filenames belonging to 2 classes.\n",
            "Found 314 validated image filenames belonging to 2 classes.\n",
            "Found 1834 validated image filenames belonging to 2 classes.\n"
          ]
        }
      ]
    },
    {
      "cell_type": "code",
      "metadata": {
        "id": "3Rs7vTLsARJS"
      },
      "source": [
        "pred = Interception.predict(test_images)\n",
        "pred=np.argmax(pred,axis=1)"
      ],
      "execution_count": null,
      "outputs": []
    },
    {
      "cell_type": "code",
      "metadata": {
        "id": "nYJZ2EUEAZrt"
      },
      "source": [
        "pred_df=df_teste.copy()\n",
        "labels={}\n",
        "for l,v in test_images.class_indices.items():\n",
        "    labels.update({v:l})\n",
        "pred_df['pred']=pred\n",
        "pred_df['pred']=pred_df['pred'].apply(lambda x: labels[x])"
      ],
      "execution_count": null,
      "outputs": []
    },
    {
      "cell_type": "code",
      "source": [
        "print(f\"Metrics Score: {classification_report(pred_df['Type'],pred_df['pred'])}\")"
      ],
      "metadata": {
        "colab": {
          "base_uri": "https://localhost:8080/"
        },
        "id": "2D4GNbweUvJ5",
        "outputId": "954f9825-5e4f-45f1-aa53-415ea5599f95"
      },
      "execution_count": null,
      "outputs": [
        {
          "output_type": "stream",
          "name": "stdout",
          "text": [
            "Metrics Score:               precision    recall  f1-score   support\n",
            "\n",
            "           B       1.00      0.95      0.97       927\n",
            "           M       0.95      1.00      0.97       907\n",
            "\n",
            "    accuracy                           0.97      1834\n",
            "   macro avg       0.97      0.97      0.97      1834\n",
            "weighted avg       0.97      0.97      0.97      1834\n",
            "\n"
          ]
        }
      ]
    },
    {
      "cell_type": "code",
      "metadata": {
        "colab": {
          "base_uri": "https://localhost:8080/",
          "height": 282
        },
        "id": "J1IvT6VzAaz9",
        "outputId": "d60fe640-81a8-4dd1-da47-de61ae82f6fb"
      },
      "source": [
        "print(f\"Accuracy Score: {accuracy_score(pred_df['Type'],pred_df['pred'])}\")\n",
        "sns.heatmap(confusion_matrix(pred_df['Type'],pred_df['pred']), annot=True, fmt='2d',  cmap=\"Greens\");"
      ],
      "execution_count": null,
      "outputs": [
        {
          "output_type": "stream",
          "name": "stdout",
          "text": [
            "Accuracy Score: 0.9732824427480916\n"
          ]
        },
        {
          "output_type": "display_data",
          "data": {
            "image/png": "[encoded data removed]",
            "text/plain": [
              "<Figure size 432x288 with 2 Axes>"
            ]
          },
          "metadata": {
            "needs_background": "light"
          }
        }
      ]
    },
    {
      "cell_type": "code",
      "metadata": {
        "id": "Nk6vdCCuAb3y"
      },
      "source": [
        ""
      ],
      "execution_count": null,
      "outputs": []
    },
    {
      "cell_type": "markdown",
      "metadata": {
        "id": "tRR8rt6xoaPi"
      },
      "source": [
        "### Modelo ResNet50 Para grau de ampliação 400"
      ]
    },
    {
      "cell_type": "code",
      "metadata": {
        "id": "0672Rh5Bojs7",
        "colab": {
          "base_uri": "https://localhost:8080/"
        },
        "outputId": "6c447896-bb08-4bb5-93be-526830c55cf1"
      },
      "source": [
        "train_images_ResNet_MB = train_generator_ResNet.flow_from_dataframe(\n",
        "    dataframe=df_treino_400,\n",
        "    x_col='FikePath',\n",
        "    y_col='Type',\n",
        "    target_size=(224, 224),\n",
        "    color_mode='rgb',\n",
        "    class_mode='categorical',\n",
        "    batch_size=BATCH_SIZE,\n",
        "    shuffle=True,\n",
        "    seed=42,\n",
        "    subset='training'\n",
        ")\n",
        "\n",
        "val_images_ResNet_MB = train_generator_ResNet.flow_from_dataframe(\n",
        "    dataframe=df_treino_400,\n",
        "    x_col='FikePath',\n",
        "    y_col='Type',\n",
        "    target_size=(224, 224),\n",
        "    color_mode='rgb',\n",
        "    class_mode='categorical',\n",
        "    batch_size=BATCH_SIZE,\n",
        "    shuffle=True,\n",
        "    seed=42,\n",
        "    subset='validation'\n",
        ")\n",
        "\n",
        "test_images_ResNet_MB = test_generator_ResNet.flow_from_dataframe(\n",
        "    dataframe=df_teste_400,\n",
        "    x_col='FikePath',\n",
        "    y_col='Type',\n",
        "    target_size=(224, 224),\n",
        "    color_mode='rgb',\n",
        "    class_mode='categorical',\n",
        "    batch_size=BATCH_SIZE,\n",
        "    shuffle=False\n",
        ")"
      ],
      "execution_count": null,
      "outputs": [
        {
          "output_type": "stream",
          "name": "stdout",
          "text": [
            "Found 629 validated image filenames belonging to 2 classes.\n",
            "Found 157 validated image filenames belonging to 2 classes.\n",
            "Found 978 validated image filenames belonging to 2 classes.\n"
          ]
        }
      ]
    },
    {
      "cell_type": "code",
      "metadata": {
        "id": "KOLB2Vj8ow5r",
        "colab": {
          "base_uri": "https://localhost:8080/"
        },
        "outputId": "bede7301-c7d3-45bc-fff6-d4e442c0ff2b"
      },
      "source": [
        "ResNet = build_model(\"Resnet\")\n",
        "ResNet.load_weights('/content/drive/MyDrive/TCC/weights/ResNet50/ResNet_MB_com_pesos.h5')"
      ],
      "execution_count": null,
      "outputs": [
        {
          "output_type": "stream",
          "name": "stdout",
          "text": [
            "Downloading data from https://storage.googleapis.com/tensorflow/keras-applications/resnet/resnet50_weights_tf_dim_ordering_tf_kernels_notop.h5\n",
            "94773248/94765736 [==============================] - 1s 0us/step\n",
            "94781440/94765736 [==============================] - 1s 0us/step\n"
          ]
        }
      ]
    },
    {
      "cell_type": "code",
      "metadata": {
        "id": "V9CdA08CpD_L"
      },
      "source": [
        "opt = Adam(learning_rate=0.0001)\n",
        "ResNet.compile(loss='categorical_crossentropy', optimizer=opt, metrics = ['accuracy'])"
      ],
      "execution_count": null,
      "outputs": []
    },
    {
      "cell_type": "code",
      "metadata": {
        "id": "Xm5sE_o1pJya"
      },
      "source": [
        "pred = ResNet.predict(test_images_ResNet_MB)\n",
        "pred=np.argmax(pred,axis=1)"
      ],
      "execution_count": null,
      "outputs": []
    },
    {
      "cell_type": "code",
      "metadata": {
        "id": "ku6S4osspONZ"
      },
      "source": [
        "pred_df=df_teste_400.copy()\n",
        "labels={}\n",
        "for l,v in test_images_ResNet_MB.class_indices.items():\n",
        "    labels.update({v:l})\n",
        "pred_df['pred']=pred\n",
        "pred_df['pred']=pred_df['pred'].apply(lambda x: labels[x])"
      ],
      "execution_count": null,
      "outputs": []
    },
    {
      "cell_type": "code",
      "source": [
        "print(f\"Metrics Score: {classification_report(pred_df['Type'],pred_df['pred'])}\")"
      ],
      "metadata": {
        "id": "MvS9JnvJjx4b",
        "colab": {
          "base_uri": "https://localhost:8080/"
        },
        "outputId": "f5020a96-1030-4751-ea50-3af80db8db52"
      },
      "execution_count": null,
      "outputs": [
        {
          "output_type": "stream",
          "name": "stdout",
          "text": [
            "Metrics Score:               precision    recall  f1-score   support\n",
            "\n",
            "           B       0.98      0.84      0.90       560\n",
            "           M       0.82      0.98      0.89       418\n",
            "\n",
            "    accuracy                           0.90       978\n",
            "   macro avg       0.90      0.91      0.90       978\n",
            "weighted avg       0.91      0.90      0.90       978\n",
            "\n"
          ]
        }
      ]
    },
    {
      "cell_type": "code",
      "metadata": {
        "id": "MM18tH8RpQMC",
        "colab": {
          "base_uri": "https://localhost:8080/",
          "height": 282
        },
        "outputId": "7c895524-7922-4b85-bc01-74944dc347b0"
      },
      "source": [
        "print(f\"Accuracy Score: {accuracy_score(pred_df['Type'],pred_df['pred'])}\")\n",
        "sns.heatmap(confusion_matrix(pred_df['Type'],pred_df['pred']), annot=True, fmt='2d',  cmap=\"Reds\");"
      ],
      "execution_count": null,
      "outputs": [
        {
          "output_type": "stream",
          "name": "stdout",
          "text": [
            "Accuracy Score: 0.8977505112474438\n"
          ]
        },
        {
          "output_type": "display_data",
          "data": {
            "image/png": "[encoded data removed]",
            "text/plain": [
              "<Figure size 432x288 with 2 Axes>"
            ]
          },
          "metadata": {
            "needs_background": "light"
          }
        }
      ]
    },
    {
      "cell_type": "markdown",
      "metadata": {
        "id": "f53qdkjkstTf"
      },
      "source": [
        "### Modelo ResNet50 Para grau de ampliação 200\n"
      ]
    },
    {
      "cell_type": "code",
      "metadata": {
        "id": "LxKeICT2s0JY",
        "colab": {
          "base_uri": "https://localhost:8080/"
        },
        "outputId": "a2610f47-2710-46b9-b3a4-ed724501acf9"
      },
      "source": [
        "\n",
        "\n",
        "test_images_ResNet_MB = test_generator_ResNet.flow_from_dataframe(\n",
        "    dataframe=df_teste_200,\n",
        "    x_col='FikePath',\n",
        "    y_col='Type',\n",
        "    target_size=(224, 224),\n",
        "    color_mode='rgb',\n",
        "    class_mode='categorical',\n",
        "    batch_size=BATCH_SIZE,\n",
        "    shuffle=False\n",
        ")"
      ],
      "execution_count": null,
      "outputs": [
        {
          "output_type": "stream",
          "name": "stdout",
          "text": [
            "Found 856 validated image filenames belonging to 2 classes.\n"
          ]
        }
      ]
    },
    {
      "cell_type": "code",
      "metadata": {
        "id": "sFN8W7ogs0Y-"
      },
      "source": [
        "opt = Adam(learning_rate=0.0001)\n",
        "ResNet.compile(loss='categorical_crossentropy', optimizer=opt, metrics = ['accuracy'])"
      ],
      "execution_count": null,
      "outputs": []
    },
    {
      "cell_type": "code",
      "metadata": {
        "id": "wH677Ulus0jJ"
      },
      "source": [
        "pred = ResNet.predict(test_images_ResNet_MB)\n",
        "pred=np.argmax(pred,axis=1)"
      ],
      "execution_count": null,
      "outputs": []
    },
    {
      "cell_type": "code",
      "metadata": {
        "id": "I4wwqUyWs0yn"
      },
      "source": [
        "pred_df=df_teste_200.copy()\n",
        "labels={}\n",
        "for l,v in test_images_ResNet_MB.class_indices.items():\n",
        "    labels.update({v:l})\n",
        "pred_df['pred']=pred\n",
        "pred_df['pred']=pred_df['pred'].apply(lambda x: labels[x])"
      ],
      "execution_count": null,
      "outputs": []
    },
    {
      "cell_type": "code",
      "source": [
        "print(f\"Metrics Score: {classification_report(pred_df['Type'],pred_df['pred'])}\")"
      ],
      "metadata": {
        "id": "YhbXFMWElHGD",
        "colab": {
          "base_uri": "https://localhost:8080/"
        },
        "outputId": "f70a54b1-d241-4812-ac33-a1a0e03712b1"
      },
      "execution_count": null,
      "outputs": [
        {
          "output_type": "stream",
          "name": "stdout",
          "text": [
            "Metrics Score:               precision    recall  f1-score   support\n",
            "\n",
            "           B       1.00      0.80      0.89       367\n",
            "           M       0.87      1.00      0.93       489\n",
            "\n",
            "    accuracy                           0.92       856\n",
            "   macro avg       0.94      0.90      0.91       856\n",
            "weighted avg       0.93      0.92      0.91       856\n",
            "\n"
          ]
        }
      ]
    },
    {
      "cell_type": "code",
      "metadata": {
        "id": "gW0IqgEJs1Kv",
        "colab": {
          "base_uri": "https://localhost:8080/",
          "height": 282
        },
        "outputId": "c4024b01-2ab6-4619-e062-2d04dc69c10d"
      },
      "source": [
        "print(f\"Accuracy Score: {accuracy_score(pred_df['Type'],pred_df['pred'])}\")\n",
        "sns.heatmap(confusion_matrix(pred_df['Type'],pred_df['pred']), annot=True, fmt='2d',  cmap=\"Reds\");"
      ],
      "execution_count": null,
      "outputs": [
        {
          "output_type": "stream",
          "name": "stdout",
          "text": [
            "Accuracy Score: 0.9158878504672897\n"
          ]
        },
        {
          "output_type": "display_data",
          "data": {
            "image/png": "[encoded data removed]",
            "text/plain": [
              "<Figure size 432x288 with 2 Axes>"
            ]
          },
          "metadata": {
            "needs_background": "light"
          }
        }
      ]
    },
    {
      "cell_type": "markdown",
      "metadata": {
        "id": "RlvQMhH06QzK"
      },
      "source": [
        "### Modelo ResNet50 validação geral"
      ]
    },
    {
      "cell_type": "code",
      "source": [
        "df_geral =  montar_data_frame(r'/content/drive/MyDrive/TCC/Imagens')\n",
        "df_treino = df_geral[df_geral['DataSet'] == 'Tr']\n",
        "df_teste = df_geral[df_geral['DataSet'] == 'Te']"
      ],
      "metadata": {
        "id": "D0ufmOXLp7i8"
      },
      "execution_count": null,
      "outputs": []
    },
    {
      "cell_type": "code",
      "source": [
        "test_images_ResNet_MB = test_generator_ResNet.flow_from_dataframe(\n",
        "    dataframe=df_teste,\n",
        "    x_col='FikePath',\n",
        "    y_col='Type',\n",
        "    target_size=(224, 224),\n",
        "    color_mode='rgb',\n",
        "    class_mode='categorical',\n",
        "    batch_size=BATCH_SIZE,\n",
        "    shuffle=False\n",
        ")"
      ],
      "metadata": {
        "id": "F_tNee-ssCuD",
        "colab": {
          "base_uri": "https://localhost:8080/"
        },
        "outputId": "876c0b30-bfcd-48c7-e57d-8c0d477d0ea7"
      },
      "execution_count": null,
      "outputs": [
        {
          "output_type": "stream",
          "name": "stdout",
          "text": [
            "Found 1834 validated image filenames belonging to 2 classes.\n"
          ]
        }
      ]
    },
    {
      "cell_type": "code",
      "metadata": {
        "id": "8KgcyTYm7r7Z"
      },
      "source": [
        "opt = Adam(learning_rate=0.0001)\n",
        "ResNet.compile(loss='categorical_crossentropy', optimizer=opt, metrics = ['accuracy'])"
      ],
      "execution_count": null,
      "outputs": []
    },
    {
      "cell_type": "code",
      "metadata": {
        "id": "5giKkIln7vuJ"
      },
      "source": [
        "pred = ResNet.predict(test_images_ResNet_MB)\n",
        "pred=np.argmax(pred,axis=1)"
      ],
      "execution_count": null,
      "outputs": []
    },
    {
      "cell_type": "code",
      "source": [
        "pred_df=df_teste.copy()\n",
        "labels={}\n",
        "for l,v in test_images_ResNet_MB.class_indices.items():\n",
        "    labels.update({v:l})\n",
        "pred_df['pred']=pred\n",
        "pred_df['pred']=pred_df['pred'].apply(lambda x: labels[x])"
      ],
      "metadata": {
        "id": "toi9ELQIr27U"
      },
      "execution_count": null,
      "outputs": []
    },
    {
      "cell_type": "code",
      "source": [
        "print(f\"Metrics Score: {classification_report(pred_df['Type'],pred_df['pred'])}\")"
      ],
      "metadata": {
        "id": "Jc6fIHx7e-LD",
        "colab": {
          "base_uri": "https://localhost:8080/"
        },
        "outputId": "5813ad62-f53d-46ce-a54b-3bdc0cac1b9f"
      },
      "execution_count": null,
      "outputs": [
        {
          "output_type": "stream",
          "name": "stdout",
          "text": [
            "Metrics Score:               precision    recall  f1-score   support\n",
            "\n",
            "           B       0.99      0.82      0.90       927\n",
            "           M       0.85      0.99      0.91       907\n",
            "\n",
            "    accuracy                           0.91      1834\n",
            "   macro avg       0.92      0.91      0.91      1834\n",
            "weighted avg       0.92      0.91      0.91      1834\n",
            "\n"
          ]
        }
      ]
    },
    {
      "cell_type": "code",
      "metadata": {
        "id": "prN77nmB70fw",
        "colab": {
          "base_uri": "https://localhost:8080/",
          "height": 282
        },
        "outputId": "939e028b-ee86-4a33-8ac2-f971b45e79b7"
      },
      "source": [
        "print(f\"Accuracy Score: {accuracy_score(pred_df['Type'],pred_df['pred'])}\")\n",
        "sns.heatmap(confusion_matrix(pred_df['Type'],pred_df['pred']), annot=True, fmt='2d', cmap=\"Reds\");"
      ],
      "execution_count": null,
      "outputs": [
        {
          "output_type": "stream",
          "name": "stdout",
          "text": [
            "Accuracy Score: 0.906215921483097\n"
          ]
        },
        {
          "output_type": "display_data",
          "data": {
            "image/png": "[encoded data removed]",
            "text/plain": [
              "<Figure size 432x288 with 2 Axes>"
            ]
          },
          "metadata": {
            "needs_background": "light"
          }
        }
      ]
    },
    {
      "cell_type": "markdown",
      "metadata": {
        "id": "U-AObAkLBur5"
      },
      "source": [
        "## Modelo Classe do Cancer\n",
        "\n",
        "\n",
        "Apos o primeiro processo de treinamento. Será feita a segunda etapa onde classificaremos os canceres. Já tendo realizado a primeira etapade treinamento e validação realizaremos as novas etapas de treino."
      ]
    },
    {
      "cell_type": "code",
      "metadata": {
        "id": "AnuB15mcByzE"
      },
      "source": [
        "def build_model_classe(Tipo_modelo):\n",
        "  if Tipo_modelo == \"VGG19\":\n",
        "    base_VGG19 = tf.keras.applications.VGG19(weights = 'imagenet', include_top = False)\n",
        "    x = base_VGG19.output\n",
        "    x = tf.keras.layers.GlobalAveragePooling2D()(x)\n",
        "    x = tf.keras.layers.Dropout(0.2)(x)\n",
        "    x = tf.keras.layers.Dense(1024, activation='relu')(x)\n",
        "    x = tf.keras.layers.Dense(512, activation='relu')(x)\n",
        "    preds = tf.keras.layers.Dense(4, activation='softmax')(x)\n",
        "    model = tf.keras.models.Model(inputs = base_VGG19.input, outputs = preds)\n",
        "  elif Tipo_modelo == \"GoogleNet\":\n",
        "    base_Interception = InceptionV3(weights = 'imagenet', include_top = False)\n",
        "    x = base_Interception.output\n",
        "    x = tf.keras.layers.GlobalAveragePooling2D()(x)\n",
        "    x = tf.keras.layers.Dense(1024, activation='relu', kernel_initializer='he_normal')(x)\n",
        "    x = tf.keras.layers.Dropout(0.2)(x)\n",
        "    x = tf.keras.layers.Dense(1024, activation='relu')(x)\n",
        "    x = tf.keras.layers.Dense(512, activation='relu')(x)\n",
        "    preds = tf.keras.layers.Dense(4, activation='softmax')(x)\n",
        "    model = tf.keras.models.Model(inputs = base_Interception.input, outputs = preds)\n",
        "  elif Tipo_modelo == \"Resnet\":\n",
        "    base_Interception = ResNet50(weights = 'imagenet', include_top = False)\n",
        "    x = base_Interception.output\n",
        "    x = tf.keras.layers.GlobalAveragePooling2D()(x)\n",
        "    x = tf.keras.layers.Dense(1024, activation='relu', kernel_initializer='he_normal')(x)\n",
        "    x = tf.keras.layers.Dropout(0.2)(x)\n",
        "    x = tf.keras.layers.Dense(1024, activation='relu')(x)\n",
        "    x = tf.keras.layers.Dense(512, activation='relu')(x)\n",
        "    preds = tf.keras.layers.Dense(4, activation='softmax')(x)\n",
        "    model = tf.keras.models.Model(inputs = base_Interception.input, outputs = preds)\n",
        "  \n",
        "  return model "
      ],
      "execution_count": null,
      "outputs": []
    },
    {
      "cell_type": "markdown",
      "metadata": {
        "id": "DW12XtJhH_L6"
      },
      "source": [
        "### Modelo VGG19 Para grau de ampliação 400"
      ]
    },
    {
      "cell_type": "code",
      "metadata": {
        "id": "U1_fduTOH711",
        "colab": {
          "base_uri": "https://localhost:8080/"
        },
        "outputId": "f3bda323-ea38-4ffb-d082-29a4b56f612d"
      },
      "source": [
        "test_images_VGG19_Classes_400 = test_generator_VGG19.flow_from_dataframe(\n",
        "    dataframe=df_teste_400_classe,\n",
        "    x_col='FikePath',\n",
        "    y_col='classes',\n",
        "    target_size=(224, 224),\n",
        "    color_mode='rgb',\n",
        "    class_mode='categorical',\n",
        "    batch_size=16,\n",
        "    shuffle=False\n",
        ")"
      ],
      "execution_count": null,
      "outputs": [
        {
          "output_type": "stream",
          "name": "stdout",
          "text": [
            "Found 418 validated image filenames belonging to 4 classes.\n"
          ]
        }
      ]
    },
    {
      "cell_type": "code",
      "metadata": {
        "id": "H7K26AkeKDFH",
        "colab": {
          "base_uri": "https://localhost:8080/"
        },
        "outputId": "a9ef4f17-99e0-486a-f0fe-cda1aa7664f3"
      },
      "source": [
        "VGG19_classes = build_model_classe(\"VGG19\")\n",
        "VGG19_classes.load_weights('/content/drive/MyDrive/TCC/weights/VGG19/VGG19_class.h5')\n",
        "opt = Adam(learning_rate=0.0001)\n",
        "VGG19_classes.compile(loss='categorical_crossentropy', optimizer=opt, metrics = ['accuracy'])"
      ],
      "execution_count": null,
      "outputs": [
        {
          "output_type": "stream",
          "name": "stdout",
          "text": [
            "Downloading data from https://storage.googleapis.com/tensorflow/keras-applications/vgg19/vgg19_weights_tf_dim_ordering_tf_kernels_notop.h5\n",
            "80142336/80134624 [==============================] - 1s 0us/step\n",
            "80150528/80134624 [==============================] - 1s 0us/step\n"
          ]
        }
      ]
    },
    {
      "cell_type": "code",
      "metadata": {
        "id": "ipm6jGwyzLqk"
      },
      "source": [
        "pred = VGG19_classes.predict(test_images_VGG19_Classes_400)\n",
        "pred=np.argmax(pred,axis=1)"
      ],
      "execution_count": null,
      "outputs": []
    },
    {
      "cell_type": "code",
      "metadata": {
        "id": "ARplLHda0Lxy"
      },
      "source": [
        "pred_df=df_teste_400_classe.copy()\n",
        "labels={}\n",
        "for l,v in test_images_VGG19_Classes_400.class_indices.items():\n",
        "    labels.update({v:l})\n",
        "pred_df['pred']=pred\n",
        "pred_df['pred']=pred_df['pred'].apply(lambda x: labels[x])"
      ],
      "execution_count": null,
      "outputs": []
    },
    {
      "cell_type": "code",
      "source": [
        "from sklearn.metrics import classification_report"
      ],
      "metadata": {
        "id": "8BEwma7pKInw"
      },
      "execution_count": null,
      "outputs": []
    },
    {
      "cell_type": "code",
      "source": [
        "print(f\"Metrics Score: {classification_report(pred_df['classes'],pred_df['pred'])}\")"
      ],
      "metadata": {
        "colab": {
          "base_uri": "https://localhost:8080/"
        },
        "id": "U5q6O9EUKJkO",
        "outputId": "60a162e4-f408-4d50-ce49-06de5f97b0e3"
      },
      "execution_count": null,
      "outputs": [
        {
          "output_type": "stream",
          "name": "stdout",
          "text": [
            "Metrics Score:               precision    recall  f1-score   support\n",
            "\n",
            "          DC       0.87      0.61      0.72       244\n",
            "          LC       0.55      0.94      0.70        67\n",
            "          MC       0.58      0.67      0.62        57\n",
            "          PC       0.77      1.00      0.87        50\n",
            "\n",
            "    accuracy                           0.72       418\n",
            "   macro avg       0.69      0.81      0.73       418\n",
            "weighted avg       0.77      0.72      0.72       418\n",
            "\n"
          ]
        }
      ]
    },
    {
      "cell_type": "code",
      "metadata": {
        "colab": {
          "base_uri": "https://localhost:8080/"
        },
        "id": "XA6oCCwA1ddV",
        "outputId": "48f5f719-5fa8-4259-c483-9034d1310d78"
      },
      "source": [
        "sns.heatmap(confusion_matrix(pred_df['classes'],pred_df['pred']), annot=True, fmt='2d', cmap=\"Blues\");"
      ],
      "execution_count": null,
      "outputs": [
        {
          "output_type": "display_data",
          "data": {
            "image/png": "[encoded data removed]",
            "text/plain": [
              "<Figure size 432x288 with 2 Axes>"
            ]
          },
          "metadata": {
            "needs_background": "light"
          }
        }
      ]
    },
    {
      "cell_type": "markdown",
      "metadata": {
        "id": "lZz6jhfjCzhJ"
      },
      "source": [
        "### Modelo VGG19 Para grau de ampliação 200"
      ]
    },
    {
      "cell_type": "code",
      "metadata": {
        "colab": {
          "base_uri": "https://localhost:8080/"
        },
        "id": "u6_jpT4qC0IO",
        "outputId": "9b49ce13-9f76-4961-bfe2-ac070563d1d7"
      },
      "source": [
        "test_images_VGG19_Classes_200 = test_generator_VGG19.flow_from_dataframe(\n",
        "    dataframe=df_teste_200_classe,\n",
        "    x_col='FikePath',\n",
        "    y_col='classes',\n",
        "    target_size=(224, 224),\n",
        "    color_mode='rgb',\n",
        "    class_mode='categorical',\n",
        "    batch_size=16,\n",
        "    shuffle=False\n",
        ")"
      ],
      "execution_count": null,
      "outputs": [
        {
          "output_type": "stream",
          "name": "stdout",
          "text": [
            "Found 489 validated image filenames belonging to 4 classes.\n"
          ]
        }
      ]
    },
    {
      "cell_type": "code",
      "metadata": {
        "id": "JyPURFaHFu_p"
      },
      "source": [
        "pred = VGG19_classes.predict(test_images_VGG19_Classes_200)\n",
        "pred=np.argmax(pred,axis=1)"
      ],
      "execution_count": null,
      "outputs": []
    },
    {
      "cell_type": "code",
      "metadata": {
        "id": "saW_SO1YF09e"
      },
      "source": [
        "pred_df=df_teste_200_classe.copy()\n",
        "labels={}\n",
        "for l,v in test_images_VGG19_Classes_200.class_indices.items():\n",
        "    labels.update({v:l})\n",
        "pred_df['pred']=pred\n",
        "pred_df['pred']=pred_df['pred'].apply(lambda x: labels[x])"
      ],
      "execution_count": null,
      "outputs": []
    },
    {
      "cell_type": "code",
      "source": [
        "print(f\"Metrics Score: {classification_report(pred_df['classes'],pred_df['pred'])}\")"
      ],
      "metadata": {
        "colab": {
          "base_uri": "https://localhost:8080/"
        },
        "id": "oqHHh1YMLS9k",
        "outputId": "29486829-6758-4702-91b5-03d3de4d61f0"
      },
      "execution_count": null,
      "outputs": [
        {
          "output_type": "stream",
          "name": "stdout",
          "text": [
            "Metrics Score:               precision    recall  f1-score   support\n",
            "\n",
            "          DC       1.00      0.69      0.82       300\n",
            "          LC       0.56      1.00      0.72        87\n",
            "          MC       0.87      0.98      0.92        55\n",
            "          PC       0.72      1.00      0.84        47\n",
            "\n",
            "    accuracy                           0.81       489\n",
            "   macro avg       0.79      0.92      0.82       489\n",
            "weighted avg       0.88      0.81      0.81       489\n",
            "\n"
          ]
        }
      ]
    },
    {
      "cell_type": "code",
      "metadata": {
        "colab": {
          "base_uri": "https://localhost:8080/"
        },
        "id": "WAqZfs2NF74A",
        "outputId": "f6adddc5-20f8-4dae-eabb-2aba6392030f"
      },
      "source": [
        "\n",
        "sns.heatmap(confusion_matrix(pred_df['classes'],pred_df['pred']), annot=True, fmt='2d', cmap=\"Blues\");"
      ],
      "execution_count": null,
      "outputs": [
        {
          "output_type": "display_data",
          "data": {
            "image/png": "[encoded data removed]",
            "text/plain": [
              "<Figure size 432x288 with 2 Axes>"
            ]
          },
          "metadata": {
            "needs_background": "light"
          }
        }
      ]
    },
    {
      "cell_type": "markdown",
      "metadata": {
        "id": "ReGgmuJ_nWyB"
      },
      "source": [
        "### Modelo VGG19 Validação geral"
      ]
    },
    {
      "cell_type": "code",
      "metadata": {
        "id": "4qDhW3V0rW-A"
      },
      "source": [
        "VGG19_classes = build_model_classe(\"VGG19\")\n",
        "VGG19_classes.load_weights('/content/drive/MyDrive/TCC/weights/VGG19/VGG19_class.h5')\n",
        "opt = Adam(learning_rate=0.0001)\n",
        "VGG19_classes.compile(loss='categorical_crossentropy', optimizer=opt, metrics = ['accuracy'])"
      ],
      "execution_count": null,
      "outputs": []
    },
    {
      "cell_type": "code",
      "metadata": {
        "colab": {
          "base_uri": "https://localhost:8080/"
        },
        "id": "5jJTo2S6qw7q",
        "outputId": "5fd8f36b-f32e-48c7-8d58-45fda7985cc4"
      },
      "source": [
        "df_geral =  montar_data_frame(r'/content/drive/MyDrive/TCC/Imagens')\n",
        "df_treino = df_geral[df_geral['DataSet'] == 'Tr']\n",
        "df_teste = df_geral[df_geral['DataSet'] == 'Te'][df_geral['Type'] == 'M']"
      ],
      "execution_count": null,
      "outputs": [
        {
          "output_type": "stream",
          "name": "stderr",
          "text": [
            "/usr/local/lib/python3.7/dist-packages/ipykernel_launcher.py:3: UserWarning: Boolean Series key will be reindexed to match DataFrame index.\n",
            "  This is separate from the ipykernel package so we can avoid doing imports until\n"
          ]
        }
      ]
    },
    {
      "cell_type": "code",
      "metadata": {
        "id": "gsG1xbPLqx3i"
      },
      "source": [
        "test_images_VGG19_Classes = tf.keras.preprocessing.image.ImageDataGenerator(\n",
        "    preprocessing_function=tf.keras.applications.vgg19.preprocess_input\n",
        ")"
      ],
      "execution_count": null,
      "outputs": []
    },
    {
      "cell_type": "code",
      "metadata": {
        "id": "AoV1pmetGKuG",
        "colab": {
          "base_uri": "https://localhost:8080/"
        },
        "outputId": "aecbc3e0-14c8-4674-bf47-b0bd0e5a657d"
      },
      "source": [
        "test_images_VGG19 = test_images_VGG19_Classes.flow_from_dataframe(\n",
        "    dataframe=df_teste,\n",
        "    x_col='FikePath',\n",
        "    y_col='classes',\n",
        "    target_size=(224, 224),\n",
        "    color_mode='rgb',\n",
        "    class_mode='categorical',\n",
        "    batch_size=16,\n",
        "    shuffle=False\n",
        ")"
      ],
      "execution_count": null,
      "outputs": [
        {
          "output_type": "stream",
          "name": "stdout",
          "text": [
            "Found 907 validated image filenames belonging to 4 classes.\n"
          ]
        }
      ]
    },
    {
      "cell_type": "code",
      "metadata": {
        "id": "GAleT9enq3hc"
      },
      "source": [
        "pred = VGG19_classes.predict(test_images_VGG19)\n",
        "pred=np.argmax(pred,axis=1)"
      ],
      "execution_count": null,
      "outputs": []
    },
    {
      "cell_type": "code",
      "metadata": {
        "id": "WfGf-YsgrSOC"
      },
      "source": [
        "pred_df=df_teste.copy()\n",
        "labels={}\n",
        "for l,v in test_images_VGG19.class_indices.items():\n",
        "    labels.update({v:l})\n",
        "pred_df['pred']=pred\n",
        "pred_df['pred']=pred_df['pred'].apply(lambda x: labels[x])"
      ],
      "execution_count": null,
      "outputs": []
    },
    {
      "cell_type": "code",
      "source": [
        "print(f\"Accuracy Score: {classification_report(pred_df['classes'],pred_df['pred'])}\")"
      ],
      "metadata": {
        "colab": {
          "base_uri": "https://localhost:8080/"
        },
        "id": "LS5WhhJ-LarT",
        "outputId": "87165c41-02e7-4966-9159-7610003d8873"
      },
      "execution_count": null,
      "outputs": [
        {
          "output_type": "stream",
          "name": "stdout",
          "text": [
            "Accuracy Score:               precision    recall  f1-score   support\n",
            "\n",
            "          DC       0.94      0.66      0.77       544\n",
            "          LC       0.56      0.97      0.71       154\n",
            "          MC       0.72      0.82      0.77       112\n",
            "          PC       0.75      1.00      0.85        97\n",
            "\n",
            "    accuracy                           0.77       907\n",
            "   macro avg       0.74      0.86      0.78       907\n",
            "weighted avg       0.83      0.77      0.77       907\n",
            "\n"
          ]
        }
      ]
    },
    {
      "cell_type": "code",
      "metadata": {
        "colab": {
          "base_uri": "https://localhost:8080/",
          "height": 282
        },
        "id": "LDkZ0A00rkzw",
        "outputId": "97429c4d-f638-4486-e375-90b110189304"
      },
      "source": [
        "\n",
        "sns.heatmap(confusion_matrix(pred_df['classes'],pred_df['pred']), annot=True, fmt='2d', cmap=\"Blues\")"
      ],
      "execution_count": null,
      "outputs": [
        {
          "output_type": "execute_result",
          "data": {
            "text/plain": [
              "<matplotlib.axes._subplots.AxesSubplot at 0x7faebfcf8110>"
            ]
          },
          "metadata": {},
          "execution_count": 80
        },
        {
          "output_type": "display_data",
          "data": {
            "image/png": "[encoded data removed]",
            "text/plain": [
              "<Figure size 432x288 with 2 Axes>"
            ]
          },
          "metadata": {
            "needs_background": "light"
          }
        }
      ]
    },
    {
      "cell_type": "markdown",
      "metadata": {
        "id": "8BZDutOrvxUV"
      },
      "source": [
        "### Modelo GoogleNet Para grau de ampliação 400"
      ]
    },
    {
      "cell_type": "code",
      "metadata": {
        "colab": {
          "base_uri": "https://localhost:8080/"
        },
        "id": "SzoPJhihvzEW",
        "outputId": "8e0b3320-e3aa-4b31-8135-b84bc5b9739d"
      },
      "source": [
        "test_images_googleNet_Classes_400 = test_generator_googleNet.flow_from_dataframe(\n",
        "    dataframe=df_teste_400_classe,\n",
        "    x_col='FikePath',\n",
        "    y_col='classes',\n",
        "    target_size=(224, 224),\n",
        "    color_mode='rgb',\n",
        "    class_mode='categorical',\n",
        "    batch_size=16,\n",
        "    shuffle=False\n",
        ")"
      ],
      "execution_count": null,
      "outputs": [
        {
          "output_type": "stream",
          "name": "stdout",
          "text": [
            "Found 418 validated image filenames belonging to 4 classes.\n"
          ]
        }
      ]
    },
    {
      "cell_type": "code",
      "metadata": {
        "id": "F856jBObwGG8",
        "colab": {
          "base_uri": "https://localhost:8080/"
        },
        "outputId": "7c48072b-a084-4967-80ea-d153080361f1"
      },
      "source": [
        "interception_classes = build_model_classe(\"GoogleNet\")\n",
        "interception_classes.load_weights('/content/drive/MyDrive/TCC/weights/Interception/Interception_class.h5')\n",
        "opt = Adam(learning_rate=0.0001)\n",
        "interception_classes.compile(loss='categorical_crossentropy', optimizer=opt, metrics = ['accuracy'])"
      ],
      "execution_count": null,
      "outputs": [
        {
          "output_type": "stream",
          "name": "stdout",
          "text": [
            "Downloading data from https://storage.googleapis.com/tensorflow/keras-applications/inception_v3/inception_v3_weights_tf_dim_ordering_tf_kernels_notop.h5\n",
            "87916544/87910968 [==============================] - 1s 0us/step\n",
            "87924736/87910968 [==============================] - 1s 0us/step\n"
          ]
        }
      ]
    },
    {
      "cell_type": "code",
      "metadata": {
        "id": "WjaVlp5YwaBl"
      },
      "source": [
        "pred = interception_classes.predict(test_images_googleNet_Classes_400)\n",
        "pred=np.argmax(pred,axis=1)"
      ],
      "execution_count": null,
      "outputs": []
    },
    {
      "cell_type": "code",
      "metadata": {
        "id": "H66hpvRzwqP1"
      },
      "source": [
        "pred_df=df_teste_400_classe.copy()\n",
        "labels={}\n",
        "for l,v in test_images_googleNet_Classes_400.class_indices.items():\n",
        "    labels.update({v:l})\n",
        "pred_df['pred']=pred\n",
        "pred_df['pred']=pred_df['pred'].apply(lambda x: labels[x])"
      ],
      "execution_count": null,
      "outputs": []
    },
    {
      "cell_type": "code",
      "source": [
        "print(f\"Metrics Score: {classification_report(pred_df['classes'],pred_df['pred'])}\")"
      ],
      "metadata": {
        "colab": {
          "base_uri": "https://localhost:8080/"
        },
        "id": "iun5-QKMJXJh",
        "outputId": "103b44c4-4bb5-48be-9ae2-8e80520ed30b"
      },
      "execution_count": null,
      "outputs": [
        {
          "output_type": "stream",
          "name": "stdout",
          "text": [
            "Metrics Score:               precision    recall  f1-score   support\n",
            "\n",
            "          DC       0.98      0.82      0.89       244\n",
            "          LC       0.91      0.61      0.73        67\n",
            "          MC       0.84      0.98      0.90        57\n",
            "          PC       0.50      1.00      0.66        50\n",
            "\n",
            "    accuracy                           0.83       418\n",
            "   macro avg       0.80      0.85      0.80       418\n",
            "weighted avg       0.89      0.83      0.84       418\n",
            "\n"
          ]
        }
      ]
    },
    {
      "cell_type": "code",
      "metadata": {
        "colab": {
          "base_uri": "https://localhost:8080/",
          "height": 286
        },
        "id": "u4dOWLZwwx6Y",
        "outputId": "9fbccaf2-b11b-409f-88fa-b0991b8a590b"
      },
      "source": [
        "print(f\"Accuracy Score: {accuracy_score(pred_df['classes'],pred_df['pred'])}\")\n",
        "sns.heatmap(confusion_matrix(pred_df['classes'],pred_df['pred']), annot=True, fmt='2d', cmap='Greens');"
      ],
      "execution_count": null,
      "outputs": [
        {
          "output_type": "stream",
          "name": "stdout",
          "text": [
            "Accuracy Score: 0.8301435406698564\n"
          ]
        },
        {
          "output_type": "display_data",
          "data": {
            "image/png": "[encoded data removed]",
            "text/plain": [
              "<Figure size 432x288 with 2 Axes>"
            ]
          },
          "metadata": {
            "needs_background": "light"
          }
        }
      ]
    },
    {
      "cell_type": "code",
      "metadata": {
        "id": "mHrRLbGew708"
      },
      "source": [
        ""
      ],
      "execution_count": null,
      "outputs": []
    },
    {
      "cell_type": "markdown",
      "metadata": {
        "id": "dW84VapiyHo8"
      },
      "source": [
        "### Modelo GoogleNet Para grau de ampliação 200"
      ]
    },
    {
      "cell_type": "code",
      "metadata": {
        "colab": {
          "base_uri": "https://localhost:8080/"
        },
        "id": "LlodXOl-yiDF",
        "outputId": "2e0f7e1a-dc40-4eba-ea14-b2aa2352e9bd"
      },
      "source": [
        "test_images_googleNet_Classes_200 = test_generator_googleNet.flow_from_dataframe(\n",
        "    dataframe=df_teste_200_classe,\n",
        "    x_col='FikePath',\n",
        "    y_col='classes',\n",
        "    target_size=(224, 224),\n",
        "    color_mode='rgb',\n",
        "    class_mode='categorical',\n",
        "    batch_size=16,\n",
        "      shuffle=False\n",
        ")"
      ],
      "execution_count": null,
      "outputs": [
        {
          "output_type": "stream",
          "name": "stdout",
          "text": [
            "Found 489 validated image filenames belonging to 4 classes.\n"
          ]
        }
      ]
    },
    {
      "cell_type": "code",
      "metadata": {
        "id": "3qBJOXRnymNs"
      },
      "source": [
        "pred = interception_classes.predict(test_images_googleNet_Classes_200)\n",
        "pred=np.argmax(pred,axis=1)"
      ],
      "execution_count": null,
      "outputs": []
    },
    {
      "cell_type": "code",
      "metadata": {
        "id": "_BjbGUFvytju"
      },
      "source": [
        "pred_df=df_teste_200_classe.copy()\n",
        "labels={}\n",
        "for l,v in test_images_googleNet_Classes_200.class_indices.items():\n",
        "    labels.update({v:l})\n",
        "pred_df['pred']=pred\n",
        "pred_df['pred']=pred_df['pred'].apply(lambda x: labels[x])"
      ],
      "execution_count": null,
      "outputs": []
    },
    {
      "cell_type": "code",
      "source": [
        "print(f\"Metrics Score: {classification_report(pred_df['classes'],pred_df['pred'])}\")"
      ],
      "metadata": {
        "colab": {
          "base_uri": "https://localhost:8080/"
        },
        "id": "etgd6gM9JoAx",
        "outputId": "aa9c4032-dac4-457f-8a2e-4c23a6d67c6f"
      },
      "execution_count": null,
      "outputs": [
        {
          "output_type": "stream",
          "name": "stdout",
          "text": [
            "Metrics Score:               precision    recall  f1-score   support\n",
            "\n",
            "          DC       1.00      0.90      0.95       300\n",
            "          LC       0.99      0.98      0.98        87\n",
            "          MC       0.90      1.00      0.95        55\n",
            "          PC       0.66      1.00      0.80        47\n",
            "\n",
            "    accuracy                           0.93       489\n",
            "   macro avg       0.89      0.97      0.92       489\n",
            "weighted avg       0.95      0.93      0.94       489\n",
            "\n"
          ]
        }
      ]
    },
    {
      "cell_type": "code",
      "metadata": {
        "colab": {
          "base_uri": "https://localhost:8080/"
        },
        "id": "EP3IEma-yyas",
        "outputId": "ae3d761b-1578-440f-ebca-74c6f3330a92"
      },
      "source": [
        "print(f\"Accuracy Score: {accuracy_score(pred_df['classes'],pred_df['pred'])}\")\n",
        "sns.heatmap(confusion_matrix(pred_df['classes'],pred_df['pred']), annot=True, fmt='2d', cmap='Greens');"
      ],
      "execution_count": null,
      "outputs": [
        {
          "output_type": "stream",
          "name": "stdout",
          "text": [
            "Accuracy Score: 0.934560327198364\n"
          ]
        },
        {
          "output_type": "display_data",
          "data": {
            "image/png": "[encoded data removed]",
            "text/plain": [
              "<Figure size 432x288 with 2 Axes>"
            ]
          },
          "metadata": {
            "needs_background": "light"
          }
        }
      ]
    },
    {
      "cell_type": "code",
      "metadata": {
        "id": "L21TA2L2y0v1"
      },
      "source": [
        ""
      ],
      "execution_count": null,
      "outputs": []
    },
    {
      "cell_type": "markdown",
      "metadata": {
        "id": "WnKqeD0czlck"
      },
      "source": [
        "### Modelo GoogleNet Validação geral"
      ]
    },
    {
      "cell_type": "code",
      "metadata": {
        "colab": {
          "base_uri": "https://localhost:8080/"
        },
        "id": "N8SKh87Yzm_T",
        "outputId": "abd41890-d643-4297-eb60-9d18890e4f24"
      },
      "source": [
        "df_geral =  montar_data_frame(r'/content/drive/MyDrive/TCC/Imagens')\n",
        "df_treino = df_geral[df_geral['DataSet'] == 'Tr']\n",
        "df_teste = df_geral[df_geral['DataSet'] == 'Te'][df_geral['Type'] == 'M']"
      ],
      "execution_count": null,
      "outputs": [
        {
          "output_type": "stream",
          "name": "stderr",
          "text": [
            "/usr/local/lib/python3.7/dist-packages/ipykernel_launcher.py:3: UserWarning: Boolean Series key will be reindexed to match DataFrame index.\n",
            "  This is separate from the ipykernel package so we can avoid doing imports until\n"
          ]
        }
      ]
    },
    {
      "cell_type": "code",
      "metadata": {
        "colab": {
          "base_uri": "https://localhost:8080/"
        },
        "id": "tf_pKGGY0BL1",
        "outputId": "e2596d58-1483-4d13-b73b-4f470bb904e2"
      },
      "source": [
        "test_images_googleNet = test_generator_googleNet.flow_from_dataframe(\n",
        "    dataframe=df_teste,\n",
        "    x_col='FikePath',\n",
        "    y_col='classes',\n",
        "    target_size=(224, 224),\n",
        "    color_mode='rgb',\n",
        "    class_mode='categorical',\n",
        "    batch_size=16,\n",
        "    shuffle=False\n",
        ")"
      ],
      "execution_count": null,
      "outputs": [
        {
          "output_type": "stream",
          "name": "stdout",
          "text": [
            "Found 907 validated image filenames belonging to 4 classes.\n"
          ]
        }
      ]
    },
    {
      "cell_type": "code",
      "metadata": {
        "id": "wCdIU6Ce0fJF"
      },
      "source": [
        "pred = interception_classes.predict(test_images_googleNet)\n",
        "pred=np.argmax(pred,axis=1)"
      ],
      "execution_count": null,
      "outputs": []
    },
    {
      "cell_type": "code",
      "metadata": {
        "id": "H5ntLtEZ0_DN"
      },
      "source": [
        "pred_df=df_teste.copy()\n",
        "labels={}\n",
        "for l,v in test_images_googleNet.class_indices.items():\n",
        "    labels.update({v:l})\n",
        "pred_df['pred']=pred\n",
        "pred_df['pred']=pred_df['pred'].apply(lambda x: labels[x])"
      ],
      "execution_count": null,
      "outputs": []
    },
    {
      "cell_type": "code",
      "source": [
        "print(f\"Metrics Score: {classification_report(pred_df['classes'],pred_df['pred'])}\")"
      ],
      "metadata": {
        "colab": {
          "base_uri": "https://localhost:8080/"
        },
        "id": "L9Qz2p21JknY",
        "outputId": "fdc73eee-4a62-419c-c146-f0123234dab7"
      },
      "execution_count": null,
      "outputs": [
        {
          "output_type": "stream",
          "name": "stdout",
          "text": [
            "Metrics Score:               precision    recall  f1-score   support\n",
            "\n",
            "          DC       0.99      0.86      0.92       544\n",
            "          LC       0.96      0.82      0.88       154\n",
            "          MC       0.87      0.99      0.92       112\n",
            "          PC       0.56      1.00      0.72        97\n",
            "\n",
            "    accuracy                           0.89       907\n",
            "   macro avg       0.85      0.92      0.86       907\n",
            "weighted avg       0.92      0.89      0.89       907\n",
            "\n"
          ]
        }
      ]
    },
    {
      "cell_type": "code",
      "metadata": {
        "colab": {
          "base_uri": "https://localhost:8080/",
          "height": 282
        },
        "id": "Lc1mMalU1DEr",
        "outputId": "6f1df8a0-14f4-4c89-a169-da09af763c46"
      },
      "source": [
        "print(f\"Accuracy Score: {accuracy_score(pred_df['classes'],pred_df['pred'])}\")\n",
        "sns.heatmap(confusion_matrix(pred_df['classes'],pred_df['pred']), annot=True, fmt='2d', cmap='Greens');"
      ],
      "execution_count": null,
      "outputs": [
        {
          "output_type": "stream",
          "name": "stdout",
          "text": [
            "Accuracy Score: 0.886438809261301\n"
          ]
        },
        {
          "output_type": "display_data",
          "data": {
            "image/png": "[encoded data removed]",
            "text/plain": [
              "<Figure size 432x288 with 2 Axes>"
            ]
          },
          "metadata": {
            "needs_background": "light"
          }
        }
      ]
    },
    {
      "cell_type": "code",
      "metadata": {
        "id": "OjwE4xjP1FBN"
      },
      "source": [
        ""
      ],
      "execution_count": null,
      "outputs": []
    },
    {
      "cell_type": "markdown",
      "metadata": {
        "id": "kE0m3W8gy9N2"
      },
      "source": [
        "### Modelo ResNet Para grau de ampliação 400\n",
        "\n",
        "\n"
      ]
    },
    {
      "cell_type": "code",
      "metadata": {
        "colab": {
          "base_uri": "https://localhost:8080/"
        },
        "id": "O7W01gpPzDVV",
        "outputId": "a6bded54-b35e-4036-edd9-10a2b1a3bf03"
      },
      "source": [
        "test_images_Resnet_Classes_400 = test_generator_ResNet.flow_from_dataframe(\n",
        "    dataframe=df_teste_400_classe,\n",
        "    x_col='FikePath',\n",
        "    y_col='classes',\n",
        "    target_size=(224, 224),\n",
        "    color_mode='rgb',\n",
        "    class_mode='categorical',\n",
        "    batch_size=16,\n",
        "    shuffle=False\n",
        ")"
      ],
      "execution_count": null,
      "outputs": [
        {
          "output_type": "stream",
          "name": "stdout",
          "text": [
            "Found 418 validated image filenames belonging to 4 classes.\n"
          ]
        }
      ]
    },
    {
      "cell_type": "code",
      "metadata": {
        "id": "we59694PzrGk",
        "colab": {
          "base_uri": "https://localhost:8080/"
        },
        "outputId": "05679bd7-0594-48c6-cee1-39b4095c52b5"
      },
      "source": [
        "ResNet_classes = build_model_classe(\"Resnet\")\n",
        "ResNet_classes.load_weights('/content/drive/MyDrive/TCC/weights/ResNet50/ResNet_class.h5')\n",
        "opt = Adam(learning_rate=0.0001)\n",
        "ResNet_classes.compile(loss='categorical_crossentropy', optimizer=opt, metrics = ['accuracy'])"
      ],
      "execution_count": null,
      "outputs": [
        {
          "output_type": "stream",
          "name": "stdout",
          "text": [
            "Downloading data from https://storage.googleapis.com/tensorflow/keras-applications/resnet/resnet50_weights_tf_dim_ordering_tf_kernels_notop.h5\n",
            "94773248/94765736 [==============================] - 1s 0us/step\n",
            "94781440/94765736 [==============================] - 1s 0us/step\n"
          ]
        }
      ]
    },
    {
      "cell_type": "code",
      "metadata": {
        "id": "6q1_8QyBz6-d"
      },
      "source": [
        "pred = ResNet_classes.predict(test_images_Resnet_Classes_400)\n",
        "pred=np.argmax(pred,axis=1)"
      ],
      "execution_count": null,
      "outputs": []
    },
    {
      "cell_type": "code",
      "metadata": {
        "id": "8ycQ4JBW0LNl"
      },
      "source": [
        "pred_df=df_teste_400_classe.copy()\n",
        "labels={}\n",
        "for l,v in test_images_Resnet_Classes_400.class_indices.items():\n",
        "    labels.update({v:l})\n",
        "pred_df['pred']=pred\n",
        "pred_df['pred']=pred_df['pred'].apply(lambda x: labels[x])"
      ],
      "execution_count": null,
      "outputs": []
    },
    {
      "cell_type": "code",
      "source": [
        "print(f\"Metrics Score: {classification_report(pred_df['classes'],pred_df['pred'])}\")"
      ],
      "metadata": {
        "colab": {
          "base_uri": "https://localhost:8080/"
        },
        "id": "Am5lafivhreH",
        "outputId": "b973da6f-3949-443c-8127-fdb5dd14fde8"
      },
      "execution_count": null,
      "outputs": [
        {
          "output_type": "stream",
          "name": "stdout",
          "text": [
            "Metrics Score:               precision    recall  f1-score   support\n",
            "\n",
            "          DC       0.91      0.79      0.84       244\n",
            "          LC       0.92      0.66      0.77        67\n",
            "          MC       0.86      1.00      0.93        57\n",
            "          PC       0.55      1.00      0.71        50\n",
            "\n",
            "    accuracy                           0.82       418\n",
            "   macro avg       0.81      0.86      0.81       418\n",
            "weighted avg       0.86      0.82      0.83       418\n",
            "\n"
          ]
        }
      ]
    },
    {
      "cell_type": "code",
      "metadata": {
        "colab": {
          "base_uri": "https://localhost:8080/",
          "height": 282
        },
        "id": "vnf90GMn0d_u",
        "outputId": "634aa3c1-c610-41ad-b356-e912f33b624e"
      },
      "source": [
        "print(f\"Accuracy Score: {accuracy_score(pred_df['classes'],pred_df['pred'])}\")\n",
        "sns.heatmap(confusion_matrix(pred_df['classes'],pred_df['pred']), annot=True, fmt='2d', cmap='Reds');"
      ],
      "execution_count": null,
      "outputs": [
        {
          "output_type": "stream",
          "name": "stdout",
          "text": [
            "Accuracy Score: 0.8229665071770335\n"
          ]
        },
        {
          "output_type": "display_data",
          "data": {
            "image/png": "[encoded data removed]",
            "text/plain": [
              "<Figure size 432x288 with 2 Axes>"
            ]
          },
          "metadata": {
            "needs_background": "light"
          }
        }
      ]
    },
    {
      "cell_type": "code",
      "metadata": {
        "id": "7qchj1M-0fxs"
      },
      "source": [
        ""
      ],
      "execution_count": null,
      "outputs": []
    },
    {
      "cell_type": "markdown",
      "metadata": {
        "id": "FLjp8joRJq6m"
      },
      "source": [
        "### Modelo ResNet Para grau de ampliação 200"
      ]
    },
    {
      "cell_type": "code",
      "metadata": {
        "id": "VmfjqQ3HJu7k",
        "colab": {
          "base_uri": "https://localhost:8080/"
        },
        "outputId": "3bf53cdb-9107-4edf-e5d2-78de522b68a5"
      },
      "source": [
        "test_images_Resnet_Classes_200 = test_generator_ResNet.flow_from_dataframe(\n",
        "    dataframe=df_teste_200_classe,\n",
        "    x_col='FikePath',\n",
        "    y_col='classes',\n",
        "    target_size=(224, 224),\n",
        "    color_mode='rgb',\n",
        "    class_mode='categorical',\n",
        "    batch_size=16,\n",
        "    shuffle=False\n",
        ")"
      ],
      "execution_count": null,
      "outputs": [
        {
          "output_type": "stream",
          "name": "stdout",
          "text": [
            "Found 489 validated image filenames belonging to 4 classes.\n"
          ]
        }
      ]
    },
    {
      "cell_type": "code",
      "metadata": {
        "id": "kW7V1NPHJzwc"
      },
      "source": [
        "ResNet_classes = build_model_classe(\"Resnet\")\n",
        "ResNet_classes.load_weights('/content/drive/MyDrive/TCC/weights/ResNet50/ResNet_class.h5')\n",
        "opt = Adam(learning_rate=0.0001)\n",
        "ResNet_classes.compile(loss='categorical_crossentropy', optimizer=opt, metrics = ['accuracy'])"
      ],
      "execution_count": null,
      "outputs": []
    },
    {
      "cell_type": "code",
      "metadata": {
        "id": "Pmbz4TduJ3u8"
      },
      "source": [
        "pred = ResNet_classes.predict(test_images_Resnet_Classes_200)\n",
        "pred=np.argmax(pred,axis=1)"
      ],
      "execution_count": null,
      "outputs": []
    },
    {
      "cell_type": "code",
      "metadata": {
        "id": "ADti9PG1J7Kr"
      },
      "source": [
        "pred_df=df_teste_200_classe.copy()\n",
        "labels={}\n",
        "for l,v in test_images_Resnet_Classes_200.class_indices.items():\n",
        "    labels.update({v:l})\n",
        "pred_df['pred']=pred\n",
        "pred_df['pred']=pred_df['pred'].apply(lambda x: labels[x])"
      ],
      "execution_count": null,
      "outputs": []
    },
    {
      "cell_type": "code",
      "source": [
        "print(f\"Metrics Score: {classification_report(pred_df['classes'],pred_df['pred'])}\")"
      ],
      "metadata": {
        "colab": {
          "base_uri": "https://localhost:8080/"
        },
        "id": "d79T9YM-atxR",
        "outputId": "6c06c886-4dc9-4e52-8dda-dbd0764df449"
      },
      "execution_count": null,
      "outputs": [
        {
          "output_type": "stream",
          "name": "stdout",
          "text": [
            "Metrics Score:               precision    recall  f1-score   support\n",
            "\n",
            "          DC       1.00      0.81      0.89       300\n",
            "          LC       0.88      0.99      0.93        87\n",
            "          MC       0.95      1.00      0.97        55\n",
            "          PC       0.52      1.00      0.69        47\n",
            "\n",
            "    accuracy                           0.88       489\n",
            "   macro avg       0.84      0.95      0.87       489\n",
            "weighted avg       0.92      0.88      0.89       489\n",
            "\n"
          ]
        }
      ]
    },
    {
      "cell_type": "code",
      "metadata": {
        "id": "DzbiU2pdJ__8",
        "colab": {
          "base_uri": "https://localhost:8080/",
          "height": 282
        },
        "outputId": "aee74aea-84e0-4457-9cf3-e0c5b6ed8f6b"
      },
      "source": [
        "print(f\"Accuracy Score: {accuracy_score(pred_df['classes'],pred_df['pred'])}\")\n",
        "sns.heatmap(confusion_matrix(pred_df['classes'],pred_df['pred']), annot=True, fmt='2d', cmap='Reds');"
      ],
      "execution_count": null,
      "outputs": [
        {
          "output_type": "stream",
          "name": "stdout",
          "text": [
            "Accuracy Score: 0.8793456032719836\n"
          ]
        },
        {
          "output_type": "display_data",
          "data": {
            "image/png": "[encoded data removed]",
            "text/plain": [
              "<Figure size 432x288 with 2 Axes>"
            ]
          },
          "metadata": {
            "needs_background": "light"
          }
        }
      ]
    },
    {
      "cell_type": "code",
      "source": [
        ""
      ],
      "metadata": {
        "id": "B9h2swOgiC2n"
      },
      "execution_count": null,
      "outputs": []
    },
    {
      "cell_type": "markdown",
      "source": [
        "### Modelo ResNet Validação geral\n",
        "\n"
      ],
      "metadata": {
        "id": "ZV0x_eI1Pa-7"
      }
    },
    {
      "cell_type": "code",
      "source": [
        "df_geral =  montar_data_frame(r'/content/drive/MyDrive/TCC/Imagens')\n",
        "df_treino = df_geral[df_geral['DataSet'] == 'Tr']\n",
        "df_teste = df_geral[df_geral['DataSet'] == 'Te'][df_geral['Type'] == 'M']"
      ],
      "metadata": {
        "colab": {
          "base_uri": "https://localhost:8080/"
        },
        "id": "7OZfEfz7Ph9a",
        "outputId": "7c37db08-315e-4152-b903-071377d24650"
      },
      "execution_count": null,
      "outputs": [
        {
          "output_type": "stream",
          "name": "stderr",
          "text": [
            "/usr/local/lib/python3.7/dist-packages/ipykernel_launcher.py:3: UserWarning: Boolean Series key will be reindexed to match DataFrame index.\n",
            "  This is separate from the ipykernel package so we can avoid doing imports until\n"
          ]
        }
      ]
    },
    {
      "cell_type": "code",
      "source": [
        "test_images_ResNet = test_generator_ResNet.flow_from_dataframe(\n",
        "    dataframe=df_teste,\n",
        "    x_col='FikePath',\n",
        "    y_col='classes',\n",
        "    target_size=(224, 224),\n",
        "    color_mode='rgb',\n",
        "    class_mode='categorical',\n",
        "    batch_size=16,\n",
        "    shuffle=False\n",
        ")"
      ],
      "metadata": {
        "colab": {
          "base_uri": "https://localhost:8080/"
        },
        "id": "ALUITOMGPliu",
        "outputId": "46bf9ba3-0563-4085-884e-2fcaacd9bb78"
      },
      "execution_count": null,
      "outputs": [
        {
          "output_type": "stream",
          "name": "stdout",
          "text": [
            "Found 907 validated image filenames belonging to 4 classes.\n"
          ]
        }
      ]
    },
    {
      "cell_type": "code",
      "source": [
        "ResNet_classes = build_model_classe(\"Resnet\")\n",
        "ResNet_classes.load_weights('/content/drive/MyDrive/TCC/weights/ResNet50/ResNet_class.h5')\n",
        "opt = Adam(learning_rate=0.0001)\n",
        "ResNet_classes.compile(loss='categorical_crossentropy', optimizer=opt, metrics = ['accuracy'])"
      ],
      "metadata": {
        "id": "7_enKxhVPr_z"
      },
      "execution_count": null,
      "outputs": []
    },
    {
      "cell_type": "code",
      "source": [
        "pred = ResNet_classes.predict(test_images_ResNet)\n",
        "pred=np.argmax(pred,axis=1)"
      ],
      "metadata": {
        "id": "s0_d9_ahPuoc"
      },
      "execution_count": null,
      "outputs": []
    },
    {
      "cell_type": "code",
      "source": [
        ""
      ],
      "metadata": {
        "id": "wfRxQnEZQZuN"
      },
      "execution_count": null,
      "outputs": []
    },
    {
      "cell_type": "code",
      "source": [
        "pred_df=df_teste.copy()\n",
        "labels={}\n",
        "for l,v in test_images_ResNet.class_indices.items():\n",
        "    labels.update({v:l})\n",
        "pred_df['pred']=pred\n",
        "pred_df['pred']=pred_df['pred'].apply(lambda x: labels[x])"
      ],
      "metadata": {
        "id": "eQ3kifybQc4O"
      },
      "execution_count": null,
      "outputs": []
    },
    {
      "cell_type": "code",
      "source": [
        "print(f\"Metrics Score: {classification_report(pred_df['classes'],pred_df['pred'])}\")"
      ],
      "metadata": {
        "colab": {
          "base_uri": "https://localhost:8080/"
        },
        "id": "Gd6xeYyXQrc1",
        "outputId": "97660c8b-968d-4f1d-9c29-665849f62583"
      },
      "execution_count": null,
      "outputs": [
        {
          "output_type": "stream",
          "name": "stdout",
          "text": [
            "Metrics Score:               precision    recall  f1-score   support\n",
            "\n",
            "          DC       0.95      0.80      0.87       544\n",
            "          LC       0.89      0.84      0.87       154\n",
            "          MC       0.90      1.00      0.95       112\n",
            "          PC       0.54      1.00      0.70        97\n",
            "\n",
            "    accuracy                           0.85       907\n",
            "   macro avg       0.82      0.91      0.85       907\n",
            "weighted avg       0.89      0.85      0.86       907\n",
            "\n"
          ]
        }
      ]
    },
    {
      "cell_type": "code",
      "source": [
        "print(f\"Accuracy Score: {accuracy_score(pred_df['classes'],pred_df['pred'])}\")\n",
        "sns.heatmap(confusion_matrix(pred_df['classes'],pred_df['pred']), annot=True, fmt='2d', cmap='Reds');"
      ],
      "metadata": {
        "colab": {
          "base_uri": "https://localhost:8080/",
          "height": 282
        },
        "id": "asZz-ATxQvPi",
        "outputId": "53054465-097a-4387-da18-363abb75dd79"
      },
      "execution_count": null,
      "outputs": [
        {
          "output_type": "stream",
          "name": "stdout",
          "text": [
            "Accuracy Score: 0.8533627342888643\n"
          ]
        },
        {
          "output_type": "display_data",
          "data": {
            "image/png": "[encoded data removed]",
            "text/plain": [
              "<Figure size 432x288 with 2 Axes>"
            ]
          },
          "metadata": {
            "needs_background": "light"
          }
        }
      ]
    },
    {
      "cell_type": "code",
      "source": [
        ""
      ],
      "metadata": {
        "id": "JssgaUArQzuU"
      },
      "execution_count": null,
      "outputs": []
    },
    {
      "cell_type": "markdown",
      "source": [
        "#Combinação dos modelos\n",
        "\n",
        "Após as execuções dos modelos, e tendo visto separadamente cada avaliação percebemos que os melhores modelos até então são, o GoogleNet(InterceptionV3) para categoria e GoogleNet(InterceptionV3) para classe.\n",
        "\n",
        "Agora realizaremos a combinação dos modelos, para definirmos a conjunção final do Projeto.\n"
      ],
      "metadata": {
        "id": "Ib75i4ehvn34"
      }
    },
    {
      "cell_type": "markdown",
      "source": [
        "### Definição do dataframe e dos modelos"
      ],
      "metadata": {
        "id": "9QHNo_I_0Sif"
      }
    },
    {
      "cell_type": "code",
      "source": [
        "df_geral =  montar_data_frame(r'/content/drive/MyDrive/TCC/Imagens')\n",
        "df_teste_categoria = df_geral[df_geral['DataSet'] == 'Te']"
      ],
      "metadata": {
        "id": "iiyf2zTTyZNN"
      },
      "execution_count": null,
      "outputs": []
    },
    {
      "cell_type": "code",
      "source": [
        "def build_model(Tipo_modelo):\n",
        "  if Tipo_modelo == \"VGG19\":\n",
        "    base_VGG19 = tf.keras.applications.VGG19(weights = 'imagenet', include_top = False)\n",
        "    x = base_VGG19.output\n",
        "    x = tf.keras.layers.GlobalAveragePooling2D()(x)\n",
        "    x = tf.keras.layers.Dense(1024, activation='relu', kernel_initializer='he_normal')(x)\n",
        "    x = tf.keras.layers.Dense(1024, activation='relu')(x)\n",
        "    x = tf.keras.layers.Dropout(0.2)(x)\n",
        "    x = tf.keras.layers.Dense(512, activation='relu')(x)\n",
        "    preds = tf.keras.layers.Dense(2, activation='softmax')(x)\n",
        "    model = tf.keras.models.Model(inputs = base_VGG19.input, outputs = preds)\n",
        "  elif Tipo_modelo == \"GoogleNet\":\n",
        "    base_Interception = InceptionV3(weights = 'imagenet', include_top = False)\n",
        "    x = base_Interception.output\n",
        "    x = tf.keras.layers.GlobalAveragePooling2D()(x)\n",
        "    x = tf.keras.layers.Dense(1024, activation='relu', kernel_initializer='he_normal')(x)\n",
        "    x = tf.keras.layers.Dense(1024, activation='relu')(x)\n",
        "    x = tf.keras.layers.Dropout(0.2)(x)\n",
        "    x = tf.keras.layers.Dense(512, activation='relu')(x)\n",
        "    preds = tf.keras.layers.Dense(2, activation='softmax')(x)\n",
        "    model = tf.keras.models.Model(inputs = base_Interception.input, outputs = preds)\n",
        "  elif Tipo_modelo == \"Resnet\":\n",
        "    base_RESNET = tf.keras.applications.ResNet50(weights = 'imagenet', include_top = False)\n",
        "    x = base_RESNET.output\n",
        "    x = tf.keras.layers.GlobalAveragePooling2D()(x)\n",
        "    x = tf.keras.layers.Dense(1024, activation='relu', kernel_initializer='he_normal')(x)\n",
        "    x = tf.keras.layers.Dense(1024, activation='relu')(x)\n",
        "    x = tf.keras.layers.Dropout(0.2)(x)\n",
        "    x = tf.keras.layers.Dense(512, activation='relu')(x)\n",
        "    preds = tf.keras.layers.Dense(2, activation='softmax')(x)\n",
        "    model = tf.keras.models.Model(inputs = base_RESNET.input, outputs = preds)\n",
        "  \n",
        "  return model"
      ],
      "metadata": {
        "id": "m7OoW1o5yZul"
      },
      "execution_count": null,
      "outputs": []
    },
    {
      "cell_type": "code",
      "source": [
        "def build_model_classe(Tipo_modelo):\n",
        "  if Tipo_modelo == \"VGG19\":\n",
        "    base_VGG19 = tf.keras.applications.VGG19(weights = 'imagenet', include_top = False)\n",
        "    x = base_VGG19.output\n",
        "    x = tf.keras.layers.GlobalAveragePooling2D()(x)\n",
        "    x = tf.keras.layers.Dropout(0.2)(x)\n",
        "    x = tf.keras.layers.Dense(1024, activation='relu')(x)\n",
        "    x = tf.keras.layers.Dense(512, activation='relu')(x)\n",
        "    preds = tf.keras.layers.Dense(4, activation='softmax')(x)\n",
        "    model = tf.keras.models.Model(inputs = base_VGG19.input, outputs = preds)\n",
        "  elif Tipo_modelo == \"GoogleNet\":\n",
        "    base_Interception = InceptionV3(weights = 'imagenet', include_top = False)\n",
        "    x = base_Interception.output\n",
        "    x = tf.keras.layers.GlobalAveragePooling2D()(x)\n",
        "    x = tf.keras.layers.Dense(1024, activation='relu', kernel_initializer='he_normal')(x)\n",
        "    x = tf.keras.layers.Dropout(0.2)(x)\n",
        "    x = tf.keras.layers.Dense(1024, activation='relu')(x)\n",
        "    x = tf.keras.layers.Dense(512, activation='relu')(x)\n",
        "    preds = tf.keras.layers.Dense(4, activation='softmax')(x)\n",
        "    model = tf.keras.models.Model(inputs = base_Interception.input, outputs = preds)\n",
        "  elif Tipo_modelo == \"Resnet\":\n",
        "    base_Interception = ResNet50(weights = 'imagenet', include_top = False)\n",
        "    x = base_Interception.output\n",
        "    x = tf.keras.layers.GlobalAveragePooling2D()(x)\n",
        "    x = tf.keras.layers.Dense(1024, activation='relu', kernel_initializer='he_normal')(x)\n",
        "    x = tf.keras.layers.Dropout(0.2)(x)\n",
        "    x = tf.keras.layers.Dense(1024, activation='relu')(x)\n",
        "    x = tf.keras.layers.Dense(512, activation='relu')(x)\n",
        "    preds = tf.keras.layers.Dense(4, activation='softmax')(x)\n",
        "    model = tf.keras.models.Model(inputs = base_Interception.input, outputs = preds)\n",
        "  \n",
        "  return model "
      ],
      "metadata": {
        "id": "QeyQwDXa0OzP"
      },
      "execution_count": null,
      "outputs": []
    },
    {
      "cell_type": "markdown",
      "source": [
        "### Configuração da VGG19 Categoria"
      ],
      "metadata": {
        "id": "KeIoNUSXxn8e"
      }
    },
    {
      "cell_type": "code",
      "source": [
        "test_generator_VGG19_MB = tf.keras.preprocessing.image.ImageDataGenerator(\n",
        "    preprocessing_function=tf.keras.applications.vgg19.preprocess_input\n",
        ")"
      ],
      "metadata": {
        "id": "ulv9u93rxfa1"
      },
      "execution_count": null,
      "outputs": []
    },
    {
      "cell_type": "code",
      "source": [
        "test_images_VGG19_MB = test_generator_VGG19_MB.flow_from_dataframe(\n",
        "    dataframe=df_teste,\n",
        "    x_col='FikePath',\n",
        "    y_col='Type',\n",
        "    target_size=(224, 224),\n",
        "    color_mode='rgb',\n",
        "    class_mode='categorical',\n",
        "    batch_size=16,\n",
        "    shuffle=False\n",
        ")"
      ],
      "metadata": {
        "colab": {
          "base_uri": "https://localhost:8080/"
        },
        "id": "ea5-E1g7xrqV",
        "outputId": "26b3877f-a5cd-433c-de74-265e2a6d284f"
      },
      "execution_count": null,
      "outputs": [
        {
          "output_type": "stream",
          "name": "stdout",
          "text": [
            "Found 1834 validated image filenames belonging to 2 classes.\n"
          ]
        }
      ]
    },
    {
      "cell_type": "code",
      "source": [
        "opt = Adam(learning_rate=0.0001)\n",
        "VGG19_rede_MB = build_model('VGG19')\n",
        "checkpoint_path = r'/content/drive/MyDrive/TCC/weights/VGG19/VGG_MB_com_pesos.h5'\n",
        "VGG19_rede_MB.load_weights(checkpoint_path)\n",
        "VGG19_rede_MB.compile(loss='categorical_crossentropy', optimizer=opt, metrics = ['accuracy'])"
      ],
      "metadata": {
        "colab": {
          "base_uri": "https://localhost:8080/"
        },
        "id": "gsHX7m65x_UG",
        "outputId": "91b89eef-db5f-4fbd-d710-2c9cdce9948c"
      },
      "execution_count": null,
      "outputs": [
        {
          "output_type": "stream",
          "name": "stdout",
          "text": [
            "Downloading data from https://storage.googleapis.com/tensorflow/keras-applications/vgg19/vgg19_weights_tf_dim_ordering_tf_kernels_notop.h5\n",
            "80142336/80134624 [==============================] - 0s 0us/step\n",
            "80150528/80134624 [==============================] - 0s 0us/step\n"
          ]
        }
      ]
    },
    {
      "cell_type": "markdown",
      "source": [
        "## Combinação 1 \n",
        "\n",
        "### Modelo VGG19 Categoria com Modelo GoogleNet Classes"
      ],
      "metadata": {
        "id": "Nxheefadv3-f"
      }
    },
    {
      "cell_type": "markdown",
      "source": [
        "### Execução modelo VGG19 Categoria"
      ],
      "metadata": {
        "id": "fxFhb0vy0wHu"
      }
    },
    {
      "cell_type": "code",
      "source": [
        "pred_VGG19 = VGG19_rede_MB.predict(test_images_VGG19_MB)\n",
        "pred_VGG19_gmax=np.argmax(pred_VGG19,axis=1)"
      ],
      "metadata": {
        "id": "703rcHM706S2"
      },
      "execution_count": null,
      "outputs": []
    },
    {
      "cell_type": "code",
      "source": [
        "labels={}\n",
        "pred_df_VGG19_MB=df_teste.copy()\n",
        "for l,v in test_images_VGG19_MB.class_indices.items():\n",
        "    labels.update({v:l})\n",
        "pred_df_VGG19_MB['pred']=pred_VGG19_gmax\n",
        "pred_df_VGG19_MB['pred']=pred_df_VGG19_MB['pred'].apply(lambda x: labels[x])\n",
        "pred_df_VGG19_MB =  pred_df_VGG19_MB[pred_df_VGG19_MB[\"pred\"] == \"M\"]"
      ],
      "metadata": {
        "id": "E8yExwJH05-O"
      },
      "execution_count": null,
      "outputs": []
    },
    {
      "cell_type": "code",
      "source": [
        "print(f\"Metrics Score: {classification_report(pred_df_VGG19_MB['Type'],pred_df_VGG19_MB['pred'])}\")"
      ],
      "metadata": {
        "colab": {
          "base_uri": "https://localhost:8080/"
        },
        "id": "yviOzZ3MwYUw",
        "outputId": "f93686a6-43a0-4a50-8d69-22194965ace4"
      },
      "execution_count": null,
      "outputs": [
        {
          "output_type": "stream",
          "name": "stdout",
          "text": [
            "Metrics Score:               precision    recall  f1-score   support\n",
            "\n",
            "           B       0.00      0.00      0.00        79\n",
            "           M       0.92      1.00      0.96       896\n",
            "\n",
            "    accuracy                           0.92       975\n",
            "   macro avg       0.46      0.50      0.48       975\n",
            "weighted avg       0.84      0.92      0.88       975\n",
            "\n"
          ]
        },
        {
          "output_type": "stream",
          "name": "stderr",
          "text": [
            "/usr/local/lib/python3.7/dist-packages/sklearn/metrics/_classification.py:1318: UndefinedMetricWarning: Precision and F-score are ill-defined and being set to 0.0 in labels with no predicted samples. Use `zero_division` parameter to control this behavior.\n",
            "  _warn_prf(average, modifier, msg_start, len(result))\n",
            "/usr/local/lib/python3.7/dist-packages/sklearn/metrics/_classification.py:1318: UndefinedMetricWarning: Precision and F-score are ill-defined and being set to 0.0 in labels with no predicted samples. Use `zero_division` parameter to control this behavior.\n",
            "  _warn_prf(average, modifier, msg_start, len(result))\n",
            "/usr/local/lib/python3.7/dist-packages/sklearn/metrics/_classification.py:1318: UndefinedMetricWarning: Precision and F-score are ill-defined and being set to 0.0 in labels with no predicted samples. Use `zero_division` parameter to control this behavior.\n",
            "  _warn_prf(average, modifier, msg_start, len(result))\n"
          ]
        }
      ]
    },
    {
      "cell_type": "code",
      "source": [
        "pred_df_VGG19_MB[\"classes\"][(pred_df_VGG19_MB['classes'] != 'DC') & (pred_df_VGG19_MB['classes'] != 'LC') & (pred_df_VGG19_MB['classes'] != 'MC') & (pred_df_VGG19_MB['classes'] != 'PC')] = \"Erro\""
      ],
      "metadata": {
        "id": "we1hpmPWeF1u"
      },
      "execution_count": null,
      "outputs": []
    },
    {
      "cell_type": "markdown",
      "source": [
        "### Configuração da GoogleNet Classe"
      ],
      "metadata": {
        "id": "7aaa7zwFz2Cv"
      }
    },
    {
      "cell_type": "code",
      "source": [
        "test_generator_googleNet_classe = tf.keras.preprocessing.image.ImageDataGenerator(\n",
        "    preprocessing_function=tf.keras.applications.inception_v3.preprocess_input,\n",
        ")"
      ],
      "metadata": {
        "id": "VABA7zAbz4MX"
      },
      "execution_count": null,
      "outputs": []
    },
    {
      "cell_type": "code",
      "source": [
        "test_images_googleNet_classe = test_generator_googleNet_classe.flow_from_dataframe(\n",
        "    dataframe=pred_df_VGG19_MB,\n",
        "    x_col='FikePath',\n",
        "    y_col='classes',\n",
        "    classes=['DC','LC','MC','PC'],\n",
        "    target_size=(224, 224),\n",
        "    color_mode='rgb',\n",
        "    class_mode='categorical',\n",
        "    batch_size=16,\n",
        "    shuffle=False\n",
        ")"
      ],
      "metadata": {
        "colab": {
          "base_uri": "https://localhost:8080/"
        },
        "id": "k75Pb6ppz4Dn",
        "outputId": "82321616-203e-4541-ad97-4802e7f036d1"
      },
      "execution_count": null,
      "outputs": [
        {
          "output_type": "stream",
          "name": "stdout",
          "text": [
            "Found 896 validated image filenames belonging to 4 classes.\n"
          ]
        }
      ]
    },
    {
      "cell_type": "code",
      "source": [
        "interception_classes = build_model_classe(\"GoogleNet\")\n",
        "interception_classes.load_weights('/content/drive/MyDrive/TCC/weights/Interception/Interception_class.h5')\n",
        "opt = Adam(learning_rate=0.0001)\n",
        "interception_classes.compile(loss='categorical_crossentropy', optimizer=opt, metrics = ['accuracy'])"
      ],
      "metadata": {
        "id": "fUH-cvNb0k4h",
        "colab": {
          "base_uri": "https://localhost:8080/"
        },
        "outputId": "f8d5a280-aca5-4622-a1c3-0778a50da168"
      },
      "execution_count": null,
      "outputs": [
        {
          "output_type": "stream",
          "name": "stdout",
          "text": [
            "Downloading data from https://storage.googleapis.com/tensorflow/keras-applications/inception_v3/inception_v3_weights_tf_dim_ordering_tf_kernels_notop.h5\n",
            "87916544/87910968 [==============================] - 1s 0us/step\n",
            "87924736/87910968 [==============================] - 1s 0us/step\n"
          ]
        }
      ]
    },
    {
      "cell_type": "code",
      "source": [
        "pred_interception = interception_classes.predict(test_images_googleNet_classe)\n",
        "pred_interception_gmax=np.argmax(pred_interception,axis=1)"
      ],
      "metadata": {
        "id": "saiVb_Jf6hUx"
      },
      "execution_count": null,
      "outputs": []
    },
    {
      "cell_type": "code",
      "source": [
        "\n",
        "pred_df_VGG_GOOGLE =  pred_df_VGG19_MB[pred_df_VGG19_MB['classes'] != \"Erro\"]\n",
        "labels={}\n",
        "for l,v in test_images_googleNet_classe.class_indices.items():\n",
        "    labels.update({v:l})\n",
        "pred_df_VGG_GOOGLE['pred_CLASS']=pred_interception_gmax\n",
        "pred_df_VGG_GOOGLE['pred_CLASS']=pred_df_VGG_GOOGLE['pred_CLASS'].apply(lambda x: labels[x])"
      ],
      "metadata": {
        "colab": {
          "base_uri": "https://localhost:8080/"
        },
        "id": "oWrNGFlV705Q",
        "outputId": "70e8f867-f1aa-45ab-baf0-c57d0d4e1131"
      },
      "execution_count": null,
      "outputs": [
        {
          "output_type": "stream",
          "name": "stderr",
          "text": [
            "/usr/local/lib/python3.7/dist-packages/ipykernel_launcher.py:6: SettingWithCopyWarning: \n",
            "A value is trying to be set on a copy of a slice from a DataFrame.\n",
            "Try using .loc[row_indexer,col_indexer] = value instead\n",
            "\n",
            "See the caveats in the documentation: https://pandas.pydata.org/pandas-docs/stable/user_guide/indexing.html#returning-a-view-versus-a-copy\n",
            "  \n",
            "/usr/local/lib/python3.7/dist-packages/ipykernel_launcher.py:7: SettingWithCopyWarning: \n",
            "A value is trying to be set on a copy of a slice from a DataFrame.\n",
            "Try using .loc[row_indexer,col_indexer] = value instead\n",
            "\n",
            "See the caveats in the documentation: https://pandas.pydata.org/pandas-docs/stable/user_guide/indexing.html#returning-a-view-versus-a-copy\n",
            "  import sys\n"
          ]
        }
      ]
    },
    {
      "cell_type": "code",
      "source": [
        "print(f\"Metrics Score: {classification_report(pred_df_VGG_GOOGLE['classes'],pred_df_VGG_GOOGLE['pred_CLASS'])}\")"
      ],
      "metadata": {
        "colab": {
          "base_uri": "https://localhost:8080/"
        },
        "id": "YUA42AJ7-3C1",
        "outputId": "20703c48-cc53-4d9e-f913-fb9d8048860d"
      },
      "execution_count": null,
      "outputs": [
        {
          "output_type": "stream",
          "name": "stdout",
          "text": [
            "Metrics Score:               precision    recall  f1-score   support\n",
            "\n",
            "          DC       0.99      0.86      0.92       542\n",
            "          LC       0.96      0.82      0.88       154\n",
            "          MC       0.86      0.99      0.92       109\n",
            "          PC       0.55      1.00      0.71        91\n",
            "\n",
            "    accuracy                           0.89       896\n",
            "   macro avg       0.84      0.92      0.86       896\n",
            "weighted avg       0.92      0.89      0.89       896\n",
            "\n"
          ]
        }
      ]
    },
    {
      "cell_type": "code",
      "source": [
        "print(f\"Accuracy Score: {accuracy_score(pred_df_VGG_GOOGLE['classes'],pred_df_VGG_GOOGLE['pred_CLASS'])}\")\n",
        "sns.heatmap(confusion_matrix(pred_df_VGG_GOOGLE['classes'],pred_df_VGG_GOOGLE['pred_CLASS']), annot=True, fmt='2d', cmap='Greens');"
      ],
      "metadata": {
        "colab": {
          "base_uri": "https://localhost:8080/",
          "height": 282
        },
        "id": "NVUbzZqQ-9gF",
        "outputId": "9062f65b-6e0d-41a6-aeb6-493061f9ce19"
      },
      "execution_count": null,
      "outputs": [
        {
          "output_type": "stream",
          "name": "stdout",
          "text": [
            "Accuracy Score: 0.8850446428571429\n"
          ]
        },
        {
          "output_type": "display_data",
          "data": {
            "image/png": "[encoded data removed]",
            "text/plain": [
              "<Figure size 432x288 with 2 Axes>"
            ]
          },
          "metadata": {
            "needs_background": "light"
          }
        }
      ]
    },
    {
      "cell_type": "code",
      "source": [
        ""
      ],
      "metadata": {
        "id": "caLXMHjI_NpE"
      },
      "execution_count": null,
      "outputs": []
    },
    {
      "cell_type": "markdown",
      "source": [
        "## Combinação 2 \n",
        "\n",
        "### Modelo VGG19 Categoria com Modelo ResNet Classes"
      ],
      "metadata": {
        "id": "_-tP-14Zekpk"
      }
    },
    {
      "cell_type": "markdown",
      "source": [
        "### Execução modelo VGG19 Categoria"
      ],
      "metadata": {
        "id": "3NoW_XsOeyuV"
      }
    },
    {
      "cell_type": "code",
      "source": [
        "pred_VGG19 = VGG19_rede_MB.predict(test_images_VGG19_MB)\n",
        "pred_VGG19_gmax=np.argmax(pred_VGG19,axis=1)"
      ],
      "metadata": {
        "id": "cVzRKr8oeyuW"
      },
      "execution_count": null,
      "outputs": []
    },
    {
      "cell_type": "code",
      "source": [
        "labels={}\n",
        "pred_df_VGG19_MB=df_teste.copy()\n",
        "for l,v in test_images_VGG19_MB.class_indices.items():\n",
        "    labels.update({v:l})\n",
        "pred_df_VGG19_MB['pred']=pred_VGG19_gmax\n",
        "pred_df_VGG19_MB['pred']=pred_df_VGG19_MB['pred'].apply(lambda x: labels[x])\n",
        "pred_df_VGG19_MB =  pred_df_VGG19_MB[pred_df_VGG19_MB[\"pred\"] == \"M\"]"
      ],
      "metadata": {
        "id": "zb34birxeyuW"
      },
      "execution_count": null,
      "outputs": []
    },
    {
      "cell_type": "code",
      "source": [
        "print(f\"Metrics Score: {classification_report(pred_df_VGG19_MB['Type'],pred_df_VGG19_MB['pred'])}\")"
      ],
      "metadata": {
        "colab": {
          "base_uri": "https://localhost:8080/"
        },
        "id": "YItsy-lrwMPw",
        "outputId": "9085dc71-43e8-426f-a89b-fadeb0aab968"
      },
      "execution_count": null,
      "outputs": [
        {
          "output_type": "stream",
          "name": "stdout",
          "text": [
            "Metrics Score:               precision    recall  f1-score   support\n",
            "\n",
            "           B       0.00      0.00      0.00        79\n",
            "           M       0.92      1.00      0.96       896\n",
            "\n",
            "    accuracy                           0.92       975\n",
            "   macro avg       0.46      0.50      0.48       975\n",
            "weighted avg       0.84      0.92      0.88       975\n",
            "\n"
          ]
        },
        {
          "output_type": "stream",
          "name": "stderr",
          "text": [
            "/usr/local/lib/python3.7/dist-packages/sklearn/metrics/_classification.py:1318: UndefinedMetricWarning: Precision and F-score are ill-defined and being set to 0.0 in labels with no predicted samples. Use `zero_division` parameter to control this behavior.\n",
            "  _warn_prf(average, modifier, msg_start, len(result))\n",
            "/usr/local/lib/python3.7/dist-packages/sklearn/metrics/_classification.py:1318: UndefinedMetricWarning: Precision and F-score are ill-defined and being set to 0.0 in labels with no predicted samples. Use `zero_division` parameter to control this behavior.\n",
            "  _warn_prf(average, modifier, msg_start, len(result))\n",
            "/usr/local/lib/python3.7/dist-packages/sklearn/metrics/_classification.py:1318: UndefinedMetricWarning: Precision and F-score are ill-defined and being set to 0.0 in labels with no predicted samples. Use `zero_division` parameter to control this behavior.\n",
            "  _warn_prf(average, modifier, msg_start, len(result))\n"
          ]
        }
      ]
    },
    {
      "cell_type": "code",
      "source": [
        "pred_df_VGG19_MB[\"classes\"][(pred_df_VGG19_MB['classes'] != 'DC') & (pred_df_VGG19_MB['classes'] != 'LC') & (pred_df_VGG19_MB['classes'] != 'MC') & (pred_df_VGG19_MB['classes'] != 'PC')] = \"Erro\""
      ],
      "metadata": {
        "id": "tXHU2YSAeyuX"
      },
      "execution_count": null,
      "outputs": []
    },
    {
      "cell_type": "markdown",
      "source": [
        "### Configuração da ResNet Classe"
      ],
      "metadata": {
        "id": "kITXyx5agnWQ"
      }
    },
    {
      "cell_type": "code",
      "source": [
        "test_generator_ResNet_classe = tf.keras.preprocessing.image.ImageDataGenerator(\n",
        "    preprocessing_function=tf.keras.applications.resnet50.preprocess_input,\n",
        ")"
      ],
      "metadata": {
        "id": "hi5LmlhziQC-"
      },
      "execution_count": null,
      "outputs": []
    },
    {
      "cell_type": "code",
      "source": [
        "test_images_ResNet_classe = test_generator_ResNet_classe.flow_from_dataframe(\n",
        "    dataframe=pred_df_VGG19_MB,\n",
        "    x_col='FikePath',\n",
        "    y_col='classes',\n",
        "    classes=['DC','LC','MC','PC'],\n",
        "    target_size=(224, 224),\n",
        "    color_mode='rgb',\n",
        "    class_mode='categorical',\n",
        "    batch_size=16,\n",
        "    shuffle=False\n",
        ")"
      ],
      "metadata": {
        "colab": {
          "base_uri": "https://localhost:8080/"
        },
        "id": "vhayWDEUgrtA",
        "outputId": "616ede76-2071-4688-8165-22b4179b9b16"
      },
      "execution_count": null,
      "outputs": [
        {
          "output_type": "stream",
          "name": "stdout",
          "text": [
            "Found 896 validated image filenames belonging to 4 classes.\n"
          ]
        }
      ]
    },
    {
      "cell_type": "code",
      "source": [
        "resNet_classes = build_model_classe(\"Resnet\")\n",
        "resNet_classes.load_weights('/content/drive/MyDrive/TCC/weights/ResNet50/ResNet_class.h5')\n",
        "opt = Adam(learning_rate=0.0001)\n",
        "resNet_classes.compile(loss='categorical_crossentropy', optimizer=opt, metrics = ['accuracy'])"
      ],
      "metadata": {
        "id": "wCwA5KWPiYen",
        "colab": {
          "base_uri": "https://localhost:8080/"
        },
        "outputId": "1dc33ab3-5d81-403c-b5ce-9771956e9f8f"
      },
      "execution_count": null,
      "outputs": [
        {
          "output_type": "stream",
          "name": "stdout",
          "text": [
            "Downloading data from https://storage.googleapis.com/tensorflow/keras-applications/resnet/resnet50_weights_tf_dim_ordering_tf_kernels_notop.h5\n",
            "94773248/94765736 [==============================] - 0s 0us/step\n",
            "94781440/94765736 [==============================] - 0s 0us/step\n"
          ]
        }
      ]
    },
    {
      "cell_type": "code",
      "source": [
        "pred_ResNet = resNet_classes.predict(test_images_ResNet_classe)\n",
        "pred_ResNet_gmax=np.argmax(pred_ResNet,axis=1)"
      ],
      "metadata": {
        "id": "-glgxttciY1O"
      },
      "execution_count": null,
      "outputs": []
    },
    {
      "cell_type": "code",
      "source": [
        "pred_df_VGG_ResNet =  pred_df_VGG19_MB[pred_df_VGG19_MB['classes'] != \"Erro\"]\n",
        "labels={}\n",
        "for l,v in test_images_ResNet_classe.class_indices.items():\n",
        "    labels.update({v:l})\n",
        "pred_df_VGG_ResNet['pred_CLASS']=pred_ResNet_gmax\n",
        "pred_df_VGG_ResNet['pred_CLASS']=pred_df_VGG_ResNet['pred_CLASS'].apply(lambda x: labels[x])"
      ],
      "metadata": {
        "colab": {
          "base_uri": "https://localhost:8080/"
        },
        "id": "wzLO410Ok_mg",
        "outputId": "d332ee1e-ea23-40b3-e574-84801df21abe"
      },
      "execution_count": null,
      "outputs": [
        {
          "output_type": "stream",
          "name": "stderr",
          "text": [
            "/usr/local/lib/python3.7/dist-packages/ipykernel_launcher.py:5: SettingWithCopyWarning: \n",
            "A value is trying to be set on a copy of a slice from a DataFrame.\n",
            "Try using .loc[row_indexer,col_indexer] = value instead\n",
            "\n",
            "See the caveats in the documentation: https://pandas.pydata.org/pandas-docs/stable/user_guide/indexing.html#returning-a-view-versus-a-copy\n",
            "  \"\"\"\n",
            "/usr/local/lib/python3.7/dist-packages/ipykernel_launcher.py:6: SettingWithCopyWarning: \n",
            "A value is trying to be set on a copy of a slice from a DataFrame.\n",
            "Try using .loc[row_indexer,col_indexer] = value instead\n",
            "\n",
            "See the caveats in the documentation: https://pandas.pydata.org/pandas-docs/stable/user_guide/indexing.html#returning-a-view-versus-a-copy\n",
            "  \n"
          ]
        }
      ]
    },
    {
      "cell_type": "code",
      "source": [
        "print(f\"Metrics Score: {classification_report(pred_df_VGG_ResNet['classes'],pred_df_VGG_ResNet['pred_CLASS'])}\")"
      ],
      "metadata": {
        "colab": {
          "base_uri": "https://localhost:8080/"
        },
        "id": "FzQw6QjNncU-",
        "outputId": "4e226a7d-420e-4e4e-9987-8858092414a4"
      },
      "execution_count": null,
      "outputs": [
        {
          "output_type": "stream",
          "name": "stdout",
          "text": [
            "Metrics Score:               precision    recall  f1-score   support\n",
            "\n",
            "          DC       0.95      0.80      0.87       542\n",
            "          LC       0.89      0.84      0.87       154\n",
            "          MC       0.91      1.00      0.95       109\n",
            "          PC       0.52      1.00      0.68        91\n",
            "\n",
            "    accuracy                           0.85       896\n",
            "   macro avg       0.82      0.91      0.84       896\n",
            "weighted avg       0.89      0.85      0.86       896\n",
            "\n"
          ]
        }
      ]
    },
    {
      "cell_type": "code",
      "source": [
        "sns.heatmap(confusion_matrix(pred_df_VGG_ResNet['classes'],pred_df_VGG_ResNet['pred_CLASS']), annot=True, fmt='2d', cmap='Reds');"
      ],
      "metadata": {
        "colab": {
          "base_uri": "https://localhost:8080/"
        },
        "id": "jnKrckE9ng7l",
        "outputId": "7f882516-15e2-416e-e7df-b32816fe20fa"
      },
      "execution_count": null,
      "outputs": [
        {
          "output_type": "display_data",
          "data": {
            "image/png": "[encoded data removed]",
            "text/plain": [
              "<Figure size 432x288 with 2 Axes>"
            ]
          },
          "metadata": {
            "needs_background": "light"
          }
        }
      ]
    },
    {
      "cell_type": "markdown",
      "source": [
        "## Combinação 3 \n",
        "\n",
        "### Modelo GoogleNet Categoria com Modelo ResNet Classes"
      ],
      "metadata": {
        "id": "t1SKie9coBT-"
      }
    },
    {
      "cell_type": "markdown",
      "source": [
        "### Configuração da GoogleNet Categoria"
      ],
      "metadata": {
        "id": "_IB-FHLFyM0t"
      }
    },
    {
      "cell_type": "code",
      "source": [
        "test_generator_googleNet_MB = tf.keras.preprocessing.image.ImageDataGenerator(\n",
        "    preprocessing_function=tf.keras.applications.inception_v3.preprocess_input,\n",
        ")"
      ],
      "metadata": {
        "id": "9MTO2yHGyPll"
      },
      "execution_count": null,
      "outputs": []
    },
    {
      "cell_type": "code",
      "source": [
        "test_images_googleNet_MB  = test_generator_googleNet_MB.flow_from_dataframe(\n",
        "    dataframe=df_teste,\n",
        "    x_col='FikePath',\n",
        "    y_col='Type',\n",
        "    target_size=(224, 224),\n",
        "    color_mode='rgb',\n",
        "    class_mode='categorical',\n",
        "    batch_size=16,\n",
        "    shuffle=False\n",
        ")"
      ],
      "metadata": {
        "colab": {
          "base_uri": "https://localhost:8080/"
        },
        "id": "574aGVxsyPYH",
        "outputId": "9243c136-111d-4db1-b06f-f27f74084d2f"
      },
      "execution_count": null,
      "outputs": [
        {
          "output_type": "stream",
          "name": "stdout",
          "text": [
            "Found 1834 validated image filenames belonging to 2 classes.\n"
          ]
        }
      ]
    },
    {
      "cell_type": "code",
      "source": [
        "Interception_rede_MB = build_model(\"GoogleNet\")\n",
        "Interception_rede_MB.load_weights(filepath=r'/content/drive/MyDrive/TCC/weights/Interception/Interception_MB_com_pesos.h5')\n",
        "opt = Adam(learning_rate=0.0001)\n",
        "Interception_rede_MB.compile(loss='categorical_crossentropy', optimizer=opt, metrics = ['accuracy'])"
      ],
      "metadata": {
        "id": "-VZrL2aizX5h",
        "colab": {
          "base_uri": "https://localhost:8080/"
        },
        "outputId": "f5da8045-520b-4b57-e322-6fa776e945f4"
      },
      "execution_count": null,
      "outputs": [
        {
          "output_type": "stream",
          "name": "stdout",
          "text": [
            "Downloading data from https://storage.googleapis.com/tensorflow/keras-applications/inception_v3/inception_v3_weights_tf_dim_ordering_tf_kernels_notop.h5\n",
            "87916544/87910968 [==============================] - 0s 0us/step\n",
            "87924736/87910968 [==============================] - 0s 0us/step\n"
          ]
        }
      ]
    },
    {
      "cell_type": "code",
      "source": [
        "pred_Interception_MB = Interception_rede_MB.predict(test_images_googleNet_MB)\n",
        "pred_Interception_MB_gmax=np.argmax(pred_Interception_MB,axis=1)"
      ],
      "metadata": {
        "id": "QUgHWgGdoUBc"
      },
      "execution_count": null,
      "outputs": []
    },
    {
      "cell_type": "code",
      "source": [
        "labels={}\n",
        "pred_df_Interceptio_MB=df_teste.copy()\n",
        "for l,v in test_images_googleNet_MB.class_indices.items():\n",
        "    labels.update({v:l})\n",
        "pred_df_Interceptio_MB['pred']=pred_Interception_MB_gmax\n",
        "pred_df_Interceptio_MB['pred']=pred_df_Interceptio_MB['pred'].apply(lambda x: labels[x])\n",
        "pred_df_Interceptio_MB =  pred_df_Interceptio_MB[pred_df_Interceptio_MB[\"pred\"] == \"M\"]"
      ],
      "metadata": {
        "id": "HQw_OIUBTTUP"
      },
      "execution_count": null,
      "outputs": []
    },
    {
      "cell_type": "code",
      "source": [
        "pred_df_Interceptio_MB[\"classes\"][(pred_df_Interceptio_MB['classes'] != 'DC') & (pred_df_Interceptio_MB['classes'] != 'LC') & (pred_df_Interceptio_MB['classes'] != 'MC') & (pred_df_Interceptio_MB['classes'] != 'PC')] = \"Erro\""
      ],
      "metadata": {
        "id": "My4NqaV4oeNc"
      },
      "execution_count": null,
      "outputs": []
    },
    {
      "cell_type": "code",
      "source": [
        "print(f\"Metrics Score: {classification_report(pred_df_Interceptio_MB['Type'],pred_df_Interceptio_MB['pred'])}\")"
      ],
      "metadata": {
        "colab": {
          "base_uri": "https://localhost:8080/"
        },
        "id": "dYpjIAtBX5lc",
        "outputId": "1331c308-0a4b-4b45-89e0-30c341bda3a3"
      },
      "execution_count": null,
      "outputs": [
        {
          "output_type": "stream",
          "name": "stdout",
          "text": [
            "Metrics Score:               precision    recall  f1-score   support\n",
            "\n",
            "           B       0.00      0.00      0.00        49\n",
            "           M       0.95      1.00      0.97       907\n",
            "\n",
            "    accuracy                           0.95       956\n",
            "   macro avg       0.47      0.50      0.49       956\n",
            "weighted avg       0.90      0.95      0.92       956\n",
            "\n"
          ]
        },
        {
          "output_type": "stream",
          "name": "stderr",
          "text": [
            "/usr/local/lib/python3.7/dist-packages/sklearn/metrics/_classification.py:1318: UndefinedMetricWarning: Precision and F-score are ill-defined and being set to 0.0 in labels with no predicted samples. Use `zero_division` parameter to control this behavior.\n",
            "  _warn_prf(average, modifier, msg_start, len(result))\n",
            "/usr/local/lib/python3.7/dist-packages/sklearn/metrics/_classification.py:1318: UndefinedMetricWarning: Precision and F-score are ill-defined and being set to 0.0 in labels with no predicted samples. Use `zero_division` parameter to control this behavior.\n",
            "  _warn_prf(average, modifier, msg_start, len(result))\n",
            "/usr/local/lib/python3.7/dist-packages/sklearn/metrics/_classification.py:1318: UndefinedMetricWarning: Precision and F-score are ill-defined and being set to 0.0 in labels with no predicted samples. Use `zero_division` parameter to control this behavior.\n",
            "  _warn_prf(average, modifier, msg_start, len(result))\n"
          ]
        }
      ]
    },
    {
      "cell_type": "markdown",
      "source": [
        "### Configuração da ResNet Classe"
      ],
      "metadata": {
        "id": "x7x26Hoqpmnv"
      }
    },
    {
      "cell_type": "code",
      "source": [
        "test_generator_ResNet_classe = tf.keras.preprocessing.image.ImageDataGenerator(\n",
        "    preprocessing_function=tf.keras.applications.resnet50.preprocess_input,\n",
        ")"
      ],
      "metadata": {
        "id": "nrB-sJ4vpmnw"
      },
      "execution_count": null,
      "outputs": []
    },
    {
      "cell_type": "code",
      "source": [
        "test_images_ResNet_classe = test_generator_ResNet_classe.flow_from_dataframe(\n",
        "    dataframe=pred_df_Interceptio_MB,\n",
        "    x_col='FikePath',\n",
        "    y_col='classes',\n",
        "    classes=['DC','LC','MC','PC'],\n",
        "    target_size=(224, 224),\n",
        "    color_mode='rgb',\n",
        "    class_mode='categorical',\n",
        "    batch_size=16,\n",
        "    shuffle=False\n",
        ")"
      ],
      "metadata": {
        "colab": {
          "base_uri": "https://localhost:8080/"
        },
        "outputId": "55f8f3e1-66e6-4929-94e9-6020bc7f6ef8",
        "id": "Y6MBa7Lepmnw"
      },
      "execution_count": null,
      "outputs": [
        {
          "output_type": "stream",
          "name": "stdout",
          "text": [
            "Found 907 validated image filenames belonging to 4 classes.\n"
          ]
        }
      ]
    },
    {
      "cell_type": "code",
      "source": [
        "resNet_classes = build_model_classe(\"Resnet\")\n",
        "resNet_classes.load_weights('/content/drive/MyDrive/TCC/weights/ResNet50/ResNet_class.h5')\n",
        "opt = Adam(learning_rate=0.0001)\n",
        "resNet_classes.compile(loss='categorical_crossentropy', optimizer=opt, metrics = ['accuracy'])"
      ],
      "metadata": {
        "id": "62W5G89lpmnw",
        "colab": {
          "base_uri": "https://localhost:8080/"
        },
        "outputId": "486e5f70-5ef4-4e24-d78e-3de76e4224c6"
      },
      "execution_count": null,
      "outputs": [
        {
          "output_type": "stream",
          "name": "stdout",
          "text": [
            "Downloading data from https://storage.googleapis.com/tensorflow/keras-applications/resnet/resnet50_weights_tf_dim_ordering_tf_kernels_notop.h5\n",
            "94773248/94765736 [==============================] - 1s 0us/step\n",
            "94781440/94765736 [==============================] - 1s 0us/step\n"
          ]
        }
      ]
    },
    {
      "cell_type": "code",
      "source": [
        "pred_ResNet = resNet_classes.predict(test_images_ResNet_classe)\n",
        "pred_ResNet_gmax=np.argmax(pred_ResNet,axis=1)"
      ],
      "metadata": {
        "id": "tmKncSXHpmnw"
      },
      "execution_count": null,
      "outputs": []
    },
    {
      "cell_type": "code",
      "source": [
        "pred_df_VGG_ResNet =  pred_df_Interceptio_MB[pred_df_Interceptio_MB['classes'] != \"Erro\"]\n",
        "labels={}\n",
        "for l,v in test_images_ResNet_classe.class_indices.items():\n",
        "    labels.update({v:l})\n",
        "pred_df_VGG_ResNet['pred_CLASS']=pred_ResNet_gmax\n",
        "pred_df_VGG_ResNet['pred_CLASS']=pred_df_VGG_ResNet['pred_CLASS'].apply(lambda x: labels[x])"
      ],
      "metadata": {
        "colab": {
          "base_uri": "https://localhost:8080/"
        },
        "outputId": "d2e092a9-4115-49c0-becb-be464f335045",
        "id": "dtmjb5gwpmnw"
      },
      "execution_count": null,
      "outputs": [
        {
          "output_type": "stream",
          "name": "stderr",
          "text": [
            "/usr/local/lib/python3.7/dist-packages/ipykernel_launcher.py:5: SettingWithCopyWarning: \n",
            "A value is trying to be set on a copy of a slice from a DataFrame.\n",
            "Try using .loc[row_indexer,col_indexer] = value instead\n",
            "\n",
            "See the caveats in the documentation: https://pandas.pydata.org/pandas-docs/stable/user_guide/indexing.html#returning-a-view-versus-a-copy\n",
            "  \"\"\"\n",
            "/usr/local/lib/python3.7/dist-packages/ipykernel_launcher.py:6: SettingWithCopyWarning: \n",
            "A value is trying to be set on a copy of a slice from a DataFrame.\n",
            "Try using .loc[row_indexer,col_indexer] = value instead\n",
            "\n",
            "See the caveats in the documentation: https://pandas.pydata.org/pandas-docs/stable/user_guide/indexing.html#returning-a-view-versus-a-copy\n",
            "  \n"
          ]
        }
      ]
    },
    {
      "cell_type": "code",
      "source": [
        "print(f\"Metrics Score: {classification_report(pred_df_VGG_ResNet['classes'],pred_df_VGG_ResNet['pred_CLASS'])}\")"
      ],
      "metadata": {
        "colab": {
          "base_uri": "https://localhost:8080/"
        },
        "outputId": "8d0b9da4-f295-4f6b-be1d-b5ead9304016",
        "id": "VaAiHZE9pmnx"
      },
      "execution_count": null,
      "outputs": [
        {
          "output_type": "stream",
          "name": "stdout",
          "text": [
            "Metrics Score:               precision    recall  f1-score   support\n",
            "\n",
            "          DC       0.95      0.80      0.87       544\n",
            "          LC       0.89      0.84      0.87       154\n",
            "          MC       0.90      1.00      0.95       112\n",
            "          PC       0.54      1.00      0.70        97\n",
            "\n",
            "    accuracy                           0.85       907\n",
            "   macro avg       0.82      0.91      0.85       907\n",
            "weighted avg       0.89      0.85      0.86       907\n",
            "\n"
          ]
        }
      ]
    },
    {
      "cell_type": "code",
      "source": [
        "sns.heatmap(confusion_matrix(pred_df_VGG_ResNet['classes'],pred_df_VGG_ResNet['pred_CLASS']), annot=True, fmt='2d', cmap='Reds');"
      ],
      "metadata": {
        "colab": {
          "base_uri": "https://localhost:8080/",
          "height": 265
        },
        "outputId": "9e424d6d-3922-4118-9a09-834687d766f5",
        "id": "fW6RCaHcpmnx"
      },
      "execution_count": null,
      "outputs": [
        {
          "output_type": "display_data",
          "data": {
            "image/png": "[encoded data removed]",
            "text/plain": [
              "<Figure size 432x288 with 2 Axes>"
            ]
          },
          "metadata": {
            "needs_background": "light"
          }
        }
      ]
    },
    {
      "cell_type": "code",
      "source": [
        ""
      ],
      "metadata": {
        "id": "B4GY0lX4WiLX"
      },
      "execution_count": null,
      "outputs": []
    },
    {
      "cell_type": "markdown",
      "source": [
        "## Combinação 4\n",
        "\n",
        "### Modelo GoogleNet Categoria com Modelo GoogleNet Classes"
      ],
      "metadata": {
        "id": "nuCkbqq52hto"
      }
    },
    {
      "cell_type": "markdown",
      "source": [
        "### Configuração da GoogleNet Categoria"
      ],
      "metadata": {
        "id": "nlTB1Rhj2hts"
      }
    },
    {
      "cell_type": "code",
      "source": [
        "test_generator_googleNet_MB = tf.keras.preprocessing.image.ImageDataGenerator(\n",
        "    preprocessing_function=tf.keras.applications.inception_v3.preprocess_input,\n",
        ")"
      ],
      "metadata": {
        "id": "-AL4_H512hts"
      },
      "execution_count": null,
      "outputs": []
    },
    {
      "cell_type": "code",
      "source": [
        "test_images_googleNet_MB  = test_generator_googleNet_MB.flow_from_dataframe(\n",
        "    dataframe=df_teste,\n",
        "    x_col='FikePath',\n",
        "    y_col='Type',\n",
        "    target_size=(224, 224),\n",
        "    color_mode='rgb',\n",
        "    class_mode='categorical',\n",
        "    batch_size=16,\n",
        "    shuffle=False\n",
        ")"
      ],
      "metadata": {
        "colab": {
          "base_uri": "https://localhost:8080/"
        },
        "outputId": "9243c136-111d-4db1-b06f-f27f74084d2f",
        "id": "MBNQdne32htt"
      },
      "execution_count": null,
      "outputs": [
        {
          "output_type": "stream",
          "name": "stdout",
          "text": [
            "Found 1834 validated image filenames belonging to 2 classes.\n"
          ]
        }
      ]
    },
    {
      "cell_type": "code",
      "source": [
        "Interception_rede_MB = build_model(\"GoogleNet\")\n",
        "Interception_rede_MB.load_weights(filepath=r'/content/drive/MyDrive/TCC/weights/Interception/Interception_MB_com_pesos.h5')\n",
        "opt = Adam(learning_rate=0.0001)\n",
        "Interception_rede_MB.compile(loss='categorical_crossentropy', optimizer=opt, metrics = ['accuracy'])"
      ],
      "metadata": {
        "colab": {
          "base_uri": "https://localhost:8080/"
        },
        "outputId": "f5da8045-520b-4b57-e322-6fa776e945f4",
        "id": "oIr0ryqe2htt"
      },
      "execution_count": null,
      "outputs": [
        {
          "output_type": "stream",
          "name": "stdout",
          "text": [
            "Downloading data from https://storage.googleapis.com/tensorflow/keras-applications/inception_v3/inception_v3_weights_tf_dim_ordering_tf_kernels_notop.h5\n",
            "87916544/87910968 [==============================] - 0s 0us/step\n",
            "87924736/87910968 [==============================] - 0s 0us/step\n"
          ]
        }
      ]
    },
    {
      "cell_type": "code",
      "source": [
        "pred_Interception_MB = Interception_rede_MB.predict(test_images_googleNet_MB)\n",
        "pred_Interception_MB_gmax=np.argmax(pred_Interception_MB,axis=1)"
      ],
      "metadata": {
        "id": "Yog1-Ylr2htt"
      },
      "execution_count": null,
      "outputs": []
    },
    {
      "cell_type": "code",
      "source": [
        "labels={}\n",
        "pred_df_Interceptio_MB=df_teste.copy()\n",
        "for l,v in test_images_googleNet_MB.class_indices.items():\n",
        "    labels.update({v:l})\n",
        "pred_df_Interceptio_MB['pred']=pred_Interception_MB_gmax\n",
        "pred_df_Interceptio_MB['pred']=pred_df_Interceptio_MB['pred'].apply(lambda x: labels[x])\n",
        "pred_df_Interceptio_MB =  pred_df_Interceptio_MB[pred_df_Interceptio_MB[\"pred\"] == \"M\"]"
      ],
      "metadata": {
        "id": "uL_uPFP52htu"
      },
      "execution_count": null,
      "outputs": []
    },
    {
      "cell_type": "code",
      "source": [
        "pred_df_Interceptio_MB[\"classes\"][(pred_df_Interceptio_MB['classes'] != 'DC') & (pred_df_Interceptio_MB['classes'] != 'LC') & (pred_df_Interceptio_MB['classes'] != 'MC') & (pred_df_Interceptio_MB['classes'] != 'PC')] = \"Erro\""
      ],
      "metadata": {
        "id": "PgRYbNPq2htu"
      },
      "execution_count": null,
      "outputs": []
    },
    {
      "cell_type": "code",
      "source": [
        "print(f\"Metrics Score: {classification_report(pred_df_Interceptio_MB['Type'],pred_df_Interceptio_MB['pred'])}\")"
      ],
      "metadata": {
        "colab": {
          "base_uri": "https://localhost:8080/"
        },
        "outputId": "1331c308-0a4b-4b45-89e0-30c341bda3a3",
        "id": "VOD4vGH-2htu"
      },
      "execution_count": null,
      "outputs": [
        {
          "output_type": "stream",
          "name": "stdout",
          "text": [
            "Metrics Score:               precision    recall  f1-score   support\n",
            "\n",
            "           B       0.00      0.00      0.00        49\n",
            "           M       0.95      1.00      0.97       907\n",
            "\n",
            "    accuracy                           0.95       956\n",
            "   macro avg       0.47      0.50      0.49       956\n",
            "weighted avg       0.90      0.95      0.92       956\n",
            "\n"
          ]
        },
        {
          "output_type": "stream",
          "name": "stderr",
          "text": [
            "/usr/local/lib/python3.7/dist-packages/sklearn/metrics/_classification.py:1318: UndefinedMetricWarning: Precision and F-score are ill-defined and being set to 0.0 in labels with no predicted samples. Use `zero_division` parameter to control this behavior.\n",
            "  _warn_prf(average, modifier, msg_start, len(result))\n",
            "/usr/local/lib/python3.7/dist-packages/sklearn/metrics/_classification.py:1318: UndefinedMetricWarning: Precision and F-score are ill-defined and being set to 0.0 in labels with no predicted samples. Use `zero_division` parameter to control this behavior.\n",
            "  _warn_prf(average, modifier, msg_start, len(result))\n",
            "/usr/local/lib/python3.7/dist-packages/sklearn/metrics/_classification.py:1318: UndefinedMetricWarning: Precision and F-score are ill-defined and being set to 0.0 in labels with no predicted samples. Use `zero_division` parameter to control this behavior.\n",
            "  _warn_prf(average, modifier, msg_start, len(result))\n"
          ]
        }
      ]
    },
    {
      "cell_type": "markdown",
      "source": [
        "### Configuração da GoogleNet Classe"
      ],
      "metadata": {
        "id": "KNlO0WZm2ssF"
      }
    },
    {
      "cell_type": "code",
      "source": [
        "test_generator_googleNet_classe = tf.keras.preprocessing.image.ImageDataGenerator(\n",
        "    preprocessing_function=tf.keras.applications.inception_v3.preprocess_input,\n",
        ")"
      ],
      "metadata": {
        "id": "z3UIJ0Oh2ssF"
      },
      "execution_count": null,
      "outputs": []
    },
    {
      "cell_type": "code",
      "source": [
        "test_images_googleNet_classe = test_generator_googleNet_classe.flow_from_dataframe(\n",
        "    dataframe=pred_df_Interceptio_MB,\n",
        "    x_col='FikePath',\n",
        "    y_col='classes',\n",
        "    classes=['DC','LC','MC','PC'],\n",
        "    target_size=(224, 224),\n",
        "    color_mode='rgb',\n",
        "    class_mode='categorical',\n",
        "    batch_size=16,\n",
        "    shuffle=False\n",
        ")"
      ],
      "metadata": {
        "colab": {
          "base_uri": "https://localhost:8080/"
        },
        "outputId": "03a00282-de35-468d-dc66-40b16268c070",
        "id": "caShYYrv2ssG"
      },
      "execution_count": null,
      "outputs": [
        {
          "output_type": "stream",
          "name": "stdout",
          "text": [
            "Found 907 validated image filenames belonging to 4 classes.\n"
          ]
        }
      ]
    },
    {
      "cell_type": "code",
      "source": [
        "interception_classes = build_model_classe(\"GoogleNet\")\n",
        "interception_classes.load_weights('/content/drive/MyDrive/TCC/weights/Interception/Interception_class.h5')\n",
        "opt = Adam(learning_rate=0.0001)\n",
        "interception_classes.compile(loss='categorical_crossentropy', optimizer=opt, metrics = ['accuracy'])"
      ],
      "metadata": {
        "id": "mA1Pzksb2ssG"
      },
      "execution_count": null,
      "outputs": []
    },
    {
      "cell_type": "code",
      "source": [
        "pred_interception = interception_classes.predict(test_images_googleNet_classe)\n",
        "pred_interception_gmax=np.argmax(pred_interception,axis=1)"
      ],
      "metadata": {
        "id": "D-Mrk7au2ssG"
      },
      "execution_count": null,
      "outputs": []
    },
    {
      "cell_type": "code",
      "source": [
        "\n",
        "pred_df_Interceptio_GOOGLE =  pred_df_Interceptio_MB[pred_df_Interceptio_MB['classes'] != \"Erro\"]\n",
        "labels={}\n",
        "for l,v in test_images_googleNet_classe.class_indices.items():\n",
        "    labels.update({v:l})\n",
        "pred_df_Interceptio_GOOGLE['pred_CLASS']=pred_interception_gmax\n",
        "pred_df_Interceptio_GOOGLE['pred_CLASS']=pred_df_Interceptio_GOOGLE['pred_CLASS'].apply(lambda x: labels[x])"
      ],
      "metadata": {
        "colab": {
          "base_uri": "https://localhost:8080/"
        },
        "outputId": "ceaae0f7-6774-4fd2-e181-415c0b18b623",
        "id": "ELV4HD7L2ssG"
      },
      "execution_count": null,
      "outputs": [
        {
          "output_type": "stream",
          "name": "stderr",
          "text": [
            "/usr/local/lib/python3.7/dist-packages/ipykernel_launcher.py:6: SettingWithCopyWarning: \n",
            "A value is trying to be set on a copy of a slice from a DataFrame.\n",
            "Try using .loc[row_indexer,col_indexer] = value instead\n",
            "\n",
            "See the caveats in the documentation: https://pandas.pydata.org/pandas-docs/stable/user_guide/indexing.html#returning-a-view-versus-a-copy\n",
            "  \n",
            "/usr/local/lib/python3.7/dist-packages/ipykernel_launcher.py:7: SettingWithCopyWarning: \n",
            "A value is trying to be set on a copy of a slice from a DataFrame.\n",
            "Try using .loc[row_indexer,col_indexer] = value instead\n",
            "\n",
            "See the caveats in the documentation: https://pandas.pydata.org/pandas-docs/stable/user_guide/indexing.html#returning-a-view-versus-a-copy\n",
            "  import sys\n"
          ]
        }
      ]
    },
    {
      "cell_type": "code",
      "source": [
        "print(f\"Metrics Score: {classification_report(pred_df_Interceptio_GOOGLE['classes'],pred_df_Interceptio_GOOGLE['pred_CLASS'])}\")"
      ],
      "metadata": {
        "colab": {
          "base_uri": "https://localhost:8080/"
        },
        "outputId": "71168e84-3ebb-48f6-b06e-c0f232720c78",
        "id": "IT-BRa6t2ssG"
      },
      "execution_count": null,
      "outputs": [
        {
          "output_type": "stream",
          "name": "stdout",
          "text": [
            "Metrics Score:               precision    recall  f1-score   support\n",
            "\n",
            "          DC       0.99      0.86      0.92       544\n",
            "          LC       0.96      0.82      0.88       154\n",
            "          MC       0.87      0.99      0.92       112\n",
            "          PC       0.56      1.00      0.72        97\n",
            "\n",
            "    accuracy                           0.89       907\n",
            "   macro avg       0.85      0.92      0.86       907\n",
            "weighted avg       0.92      0.89      0.89       907\n",
            "\n"
          ]
        }
      ]
    },
    {
      "cell_type": "code",
      "source": [
        "print(f\"Accuracy Score: {accuracy_score(pred_df_Interceptio_GOOGLE['classes'],pred_df_Interceptio_GOOGLE['pred_CLASS'])}\")\n",
        "sns.heatmap(confusion_matrix(pred_df_Interceptio_GOOGLE['classes'],pred_df_Interceptio_GOOGLE['pred_CLASS']), annot=True, fmt='2d', cmap='Greens');"
      ],
      "metadata": {
        "colab": {
          "base_uri": "https://localhost:8080/",
          "height": 282
        },
        "outputId": "5d025d3d-23fa-45ab-ff5d-06daa23045e2",
        "id": "SwPgHHXr2ssH"
      },
      "execution_count": null,
      "outputs": [
        {
          "output_type": "stream",
          "name": "stdout",
          "text": [
            "Accuracy Score: 0.886438809261301\n"
          ]
        },
        {
          "output_type": "display_data",
          "data": {
            "image/png": "[encoded data removed]",
            "text/plain": [
              "<Figure size 432x288 with 2 Axes>"
            ]
          },
          "metadata": {
            "needs_background": "light"
          }
        }
      ]
    },
    {
      "cell_type": "code",
      "source": [
        ""
      ],
      "metadata": {
        "id": "4FBsFlJx2ssH"
      },
      "execution_count": null,
      "outputs": []
    }
  ]
}